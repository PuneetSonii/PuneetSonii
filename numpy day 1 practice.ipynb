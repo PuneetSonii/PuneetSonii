{
 "cells": [
  {
   "cell_type": "code",
   "execution_count": null,
   "metadata": {},
   "outputs": [],
   "source": []
  },
  {
   "cell_type": "code",
   "execution_count": null,
   "metadata": {},
   "outputs": [],
   "source": []
  },
  {
   "attachments": {},
   "cell_type": "markdown",
   "metadata": {},
   "source": [
    "### NumPy"
   ]
  },
  {
   "cell_type": "code",
   "execution_count": null,
   "metadata": {},
   "outputs": [],
   "source": []
  },
  {
   "cell_type": "code",
   "execution_count": null,
   "metadata": {},
   "outputs": [],
   "source": []
  },
  {
   "cell_type": "code",
   "execution_count": null,
   "metadata": {},
   "outputs": [],
   "source": []
  },
  {
   "cell_type": "code",
   "execution_count": null,
   "metadata": {},
   "outputs": [],
   "source": []
  },
  {
   "cell_type": "code",
   "execution_count": null,
   "metadata": {},
   "outputs": [],
   "source": []
  },
  {
   "cell_type": "code",
   "execution_count": null,
   "metadata": {},
   "outputs": [],
   "source": []
  },
  {
   "cell_type": "code",
   "execution_count": null,
   "metadata": {},
   "outputs": [],
   "source": []
  },
  {
   "cell_type": "code",
   "execution_count": null,
   "metadata": {},
   "outputs": [],
   "source": []
  },
  {
   "cell_type": "code",
   "execution_count": null,
   "metadata": {},
   "outputs": [],
   "source": []
  },
  {
   "cell_type": "code",
   "execution_count": null,
   "metadata": {},
   "outputs": [],
   "source": []
  },
  {
   "cell_type": "code",
   "execution_count": null,
   "metadata": {},
   "outputs": [],
   "source": []
  },
  {
   "cell_type": "code",
   "execution_count": null,
   "metadata": {},
   "outputs": [],
   "source": []
  },
  {
   "cell_type": "code",
   "execution_count": null,
   "metadata": {},
   "outputs": [],
   "source": []
  },
  {
   "attachments": {},
   "cell_type": "markdown",
   "metadata": {},
   "source": [
    "* NumPy is a Python library used for working with arrays(An array is a special variable, which can hold more than one value at a time.).\n",
    "\n",
    "It also has functions for working in domain of linear algebra, fourier transform, and matrices.\n",
    "\n",
    "NumPy was created in 2005 by Travis Oliphant. It is an open source project and you can use it freely.\n",
    "\n",
    "NumPy stands for Numerical Python."
   ]
  },
  {
   "cell_type": "code",
   "execution_count": 69,
   "metadata": {},
   "outputs": [],
   "source": [
    "import numpy as np"
   ]
  },
  {
   "cell_type": "code",
   "execution_count": 70,
   "metadata": {},
   "outputs": [
    {
     "name": "stdout",
     "output_type": "stream",
     "text": [
      "Requirement already satisfied: numpy in c:\\users\\admin\\appdata\\local\\programs\\python\\python310\\lib\\site-packages (1.24.1)\n",
      "Note: you may need to restart the kernel to use updated packages.\n"
     ]
    }
   ],
   "source": [
    "pip install numpy"
   ]
  },
  {
   "cell_type": "code",
   "execution_count": 71,
   "metadata": {},
   "outputs": [],
   "source": [
    "l = [1,2,3,4,5,6]"
   ]
  },
  {
   "cell_type": "code",
   "execution_count": 72,
   "metadata": {},
   "outputs": [
    {
     "data": {
      "text/plain": [
       "list"
      ]
     },
     "execution_count": 72,
     "metadata": {},
     "output_type": "execute_result"
    }
   ],
   "source": [
    "type(l)"
   ]
  },
  {
   "cell_type": "code",
   "execution_count": 73,
   "metadata": {},
   "outputs": [],
   "source": [
    "a = np.array(l)"
   ]
  },
  {
   "cell_type": "code",
   "execution_count": 74,
   "metadata": {},
   "outputs": [
    {
     "data": {
      "text/plain": [
       "numpy.ndarray"
      ]
     },
     "execution_count": 74,
     "metadata": {},
     "output_type": "execute_result"
    }
   ],
   "source": [
    "type(a)"
   ]
  },
  {
   "cell_type": "code",
   "execution_count": 75,
   "metadata": {},
   "outputs": [
    {
     "data": {
      "text/plain": [
       "array([1, 2, 3, 4, 5, 6])"
      ]
     },
     "execution_count": 75,
     "metadata": {},
     "output_type": "execute_result"
    }
   ],
   "source": [
    "a"
   ]
  },
  {
   "cell_type": "code",
   "execution_count": 76,
   "metadata": {},
   "outputs": [],
   "source": [
    "a1 = np.array([[1,2,3],[3,4,5]])"
   ]
  },
  {
   "cell_type": "code",
   "execution_count": 77,
   "metadata": {},
   "outputs": [
    {
     "data": {
      "text/plain": [
       "array([[1, 2, 3],\n",
       "       [3, 4, 5]])"
      ]
     },
     "execution_count": 77,
     "metadata": {},
     "output_type": "execute_result"
    }
   ],
   "source": [
    "a1"
   ]
  },
  {
   "cell_type": "code",
   "execution_count": 78,
   "metadata": {},
   "outputs": [],
   "source": [
    "a2 = np.array([[[1,2,3],[4,5,6]]])"
   ]
  },
  {
   "cell_type": "code",
   "execution_count": 79,
   "metadata": {},
   "outputs": [
    {
     "data": {
      "text/plain": [
       "array([1, 2, 3, 4, 5, 6])"
      ]
     },
     "execution_count": 79,
     "metadata": {},
     "output_type": "execute_result"
    }
   ],
   "source": [
    "a"
   ]
  },
  {
   "cell_type": "code",
   "execution_count": 80,
   "metadata": {},
   "outputs": [
    {
     "data": {
      "text/plain": [
       "array([[1, 2, 3],\n",
       "       [3, 4, 5]])"
      ]
     },
     "execution_count": 80,
     "metadata": {},
     "output_type": "execute_result"
    }
   ],
   "source": [
    "a1"
   ]
  },
  {
   "cell_type": "code",
   "execution_count": 81,
   "metadata": {},
   "outputs": [
    {
     "data": {
      "text/plain": [
       "array([[[1, 2, 3],\n",
       "        [4, 5, 6]]])"
      ]
     },
     "execution_count": 81,
     "metadata": {},
     "output_type": "execute_result"
    }
   ],
   "source": [
    "a2 # bracket represent dimension"
   ]
  },
  {
   "cell_type": "code",
   "execution_count": 82,
   "metadata": {},
   "outputs": [
    {
     "data": {
      "text/plain": [
       "1"
      ]
     },
     "execution_count": 82,
     "metadata": {},
     "output_type": "execute_result"
    }
   ],
   "source": [
    "a.ndim"
   ]
  },
  {
   "cell_type": "code",
   "execution_count": 83,
   "metadata": {},
   "outputs": [
    {
     "data": {
      "text/plain": [
       "2"
      ]
     },
     "execution_count": 83,
     "metadata": {},
     "output_type": "execute_result"
    }
   ],
   "source": [
    "a1.ndim"
   ]
  },
  {
   "cell_type": "code",
   "execution_count": 84,
   "metadata": {},
   "outputs": [],
   "source": [
    "l = [1,2,3,4]"
   ]
  },
  {
   "cell_type": "code",
   "execution_count": 85,
   "metadata": {},
   "outputs": [
    {
     "data": {
      "text/plain": [
       "array([1, 2, 3, 4])"
      ]
     },
     "execution_count": 85,
     "metadata": {},
     "output_type": "execute_result"
    }
   ],
   "source": [
    "np.asarray(l) #keep it as it is"
   ]
  },
  {
   "cell_type": "code",
   "execution_count": 86,
   "metadata": {},
   "outputs": [
    {
     "data": {
      "text/plain": [
       "matrix([[1, 2, 3, 4]])"
      ]
     },
     "execution_count": 86,
     "metadata": {},
     "output_type": "execute_result"
    }
   ],
   "source": [
    "np.matrix(l)   #will hold atlest 2 dimensions"
   ]
  },
  {
   "cell_type": "code",
   "execution_count": 87,
   "metadata": {},
   "outputs": [],
   "source": [
    "a = np.asarray(l)"
   ]
  },
  {
   "cell_type": "code",
   "execution_count": 88,
   "metadata": {},
   "outputs": [],
   "source": [
    "m = np.matrix(l)  #matrix is a tpye of arry"
   ]
  },
  {
   "cell_type": "code",
   "execution_count": 89,
   "metadata": {},
   "outputs": [
    {
     "data": {
      "text/plain": [
       "array([1, 2, 3, 4])"
      ]
     },
     "execution_count": 89,
     "metadata": {},
     "output_type": "execute_result"
    }
   ],
   "source": [
    "np.asanyarray(a) #"
   ]
  },
  {
   "attachments": {},
   "cell_type": "markdown",
   "metadata": {},
   "source": [
    "## copy in Python (Deep Copy and Shallow Copy)"
   ]
  },
  {
   "attachments": {},
   "cell_type": "markdown",
   "metadata": {},
   "source": [
    "#### In Python, Assignment statements do not copy objects, they create bindings between a target and an object. When we use the = operator, It only creates a new variable that shares the reference of the original object. In order to create “real copies” or “clones” of these objects, we can use the copy module in Python."
   ]
  },
  {
   "attachments": {},
   "cell_type": "markdown",
   "metadata": {},
   "source": [
    "> https://practice.geeksforgeeks.org/courses/Python-Foundation?utm_source=geeksforgeeks&utm_medium=rightbar_python&utm_campaign=inbound_promotions"
   ]
  },
  {
   "attachments": {},
   "cell_type": "markdown",
   "metadata": {},
   "source": [
    "#### In order to make these copies, we use the copy module. The copy() returns a shallow copy of the list, and deepcopy() returns a deep copy of the list. As you can see that both have the same value but have different IDs."
   ]
  },
  {
   "attachments": {},
   "cell_type": "markdown",
   "metadata": {},
   "source": [
    "* Syntax of Deep copy -- Syntax: copy.deepcopy(x)\n",
    "\n",
    "\n",
    "* Syntax of Shallow copy -- Syntax: copy.copy(x)\n",
    "\n"
   ]
  },
  {
   "attachments": {},
   "cell_type": "markdown",
   "metadata": {},
   "source": [
    "#### What is Deep copy in Python?\n",
    "* A deep copy creates a new compound object before inserting copies of the items found in the original into it in a recursive manner. It means first constructing a new collection object and then recursively populating it with copies of the child objects found in the original. In the case of deep copy, a copy of the object is copied into another object. It means that any changes made to a copy of the object do not reflect in the original object. "
   ]
  },
  {
   "attachments": {},
   "cell_type": "markdown",
   "metadata": {},
   "source": [
    "#### What is Shallow copy in Python?\n",
    "*  A shallow copy creates a new compound object and then references the objects contained in the original within it, which means it constructs a new collection object and then populates it with references to the child objects found in the original. The copying process does not recurse and therefore won’t create copies of the child objects themselves. In the case of shallow copy, a reference of an object is copied into another object. \n",
    "> It means that any changes made to a copy of an object do reflect in the original object. In python, this is implemented using the “copy()” function. "
   ]
  },
  {
   "cell_type": "code",
   "execution_count": 90,
   "metadata": {},
   "outputs": [
    {
     "data": {
      "text/plain": [
       "array([1, 2, 3, 4])"
      ]
     },
     "execution_count": 90,
     "metadata": {},
     "output_type": "execute_result"
    }
   ],
   "source": [
    "a"
   ]
  },
  {
   "cell_type": "code",
   "execution_count": 91,
   "metadata": {},
   "outputs": [],
   "source": [
    "a1 = a  # solo copy"
   ]
  },
  {
   "cell_type": "code",
   "execution_count": 92,
   "metadata": {},
   "outputs": [
    {
     "data": {
      "text/plain": [
       "array([1, 2, 3, 4])"
      ]
     },
     "execution_count": 92,
     "metadata": {},
     "output_type": "execute_result"
    }
   ],
   "source": [
    "a1"
   ]
  },
  {
   "cell_type": "code",
   "execution_count": 93,
   "metadata": {},
   "outputs": [
    {
     "data": {
      "text/plain": [
       "1"
      ]
     },
     "execution_count": 93,
     "metadata": {},
     "output_type": "execute_result"
    }
   ],
   "source": [
    "a[0]"
   ]
  },
  {
   "cell_type": "code",
   "execution_count": 94,
   "metadata": {},
   "outputs": [],
   "source": [
    "a[0] = 10"
   ]
  },
  {
   "cell_type": "code",
   "execution_count": 95,
   "metadata": {},
   "outputs": [],
   "source": [
    "a[3] = 50"
   ]
  },
  {
   "cell_type": "code",
   "execution_count": 96,
   "metadata": {},
   "outputs": [
    {
     "data": {
      "text/plain": [
       "array([10,  2,  3, 50])"
      ]
     },
     "execution_count": 96,
     "metadata": {},
     "output_type": "execute_result"
    }
   ],
   "source": [
    "a"
   ]
  },
  {
   "cell_type": "code",
   "execution_count": 97,
   "metadata": {},
   "outputs": [
    {
     "data": {
      "text/plain": [
       "array([10,  2,  3, 50])"
      ]
     },
     "execution_count": 97,
     "metadata": {},
     "output_type": "execute_result"
    }
   ],
   "source": [
    "a1"
   ]
  },
  {
   "cell_type": "code",
   "execution_count": 98,
   "metadata": {},
   "outputs": [],
   "source": [
    "a2 = np.copy(a) #deep copy\n",
    " "
   ]
  },
  {
   "cell_type": "code",
   "execution_count": 99,
   "metadata": {},
   "outputs": [
    {
     "data": {
      "text/plain": [
       "array([10,  2,  3, 50])"
      ]
     },
     "execution_count": 99,
     "metadata": {},
     "output_type": "execute_result"
    }
   ],
   "source": [
    "a2"
   ]
  },
  {
   "cell_type": "code",
   "execution_count": 100,
   "metadata": {},
   "outputs": [],
   "source": [
    "a2[2] =30"
   ]
  },
  {
   "cell_type": "code",
   "execution_count": 101,
   "metadata": {},
   "outputs": [
    {
     "data": {
      "text/plain": [
       "array([10,  2, 30, 50])"
      ]
     },
     "execution_count": 101,
     "metadata": {},
     "output_type": "execute_result"
    }
   ],
   "source": [
    "a2 #"
   ]
  },
  {
   "cell_type": "code",
   "execution_count": 102,
   "metadata": {},
   "outputs": [
    {
     "data": {
      "text/plain": [
       "array([10,  2,  3, 50])"
      ]
     },
     "execution_count": 102,
     "metadata": {},
     "output_type": "execute_result"
    }
   ],
   "source": [
    "a"
   ]
  },
  {
   "cell_type": "code",
   "execution_count": 103,
   "metadata": {},
   "outputs": [
    {
     "data": {
      "text/plain": [
       "array([[ True, False, False, False],\n",
       "       [False,  True, False, False],\n",
       "       [False, False,  True, False]])"
      ]
     },
     "execution_count": 103,
     "metadata": {},
     "output_type": "execute_result"
    }
   ],
   "source": [
    "np.fromfunction(lambda i,j : i==j, (3,4)) # genrate data set # 2D array"
   ]
  },
  {
   "attachments": {},
   "cell_type": "markdown",
   "metadata": {},
   "source": [
    "#### Python Random module is an in-built module of Python which is used to generate random numbers. These are pseudo-random numbers means these are not truly random. This module can be used to perform random actions such as generating random numbers, print random a value for a list or string, etc."
   ]
  },
  {
   "cell_type": "code",
   "execution_count": 104,
   "metadata": {},
   "outputs": [
    {
     "data": {
      "text/plain": [
       "array([[0.28422525, 0.19009409, 0.28219121],\n",
       "       [0.36913785, 0.80108934, 0.87214875]])"
      ]
     },
     "execution_count": 104,
     "metadata": {},
     "output_type": "execute_result"
    }
   ],
   "source": [
    "np.random.rand(2,3)"
   ]
  },
  {
   "cell_type": "code",
   "execution_count": 105,
   "metadata": {},
   "outputs": [
    {
     "data": {
      "text/plain": [
       "array([[[4.98768297e-01, 8.81004148e-04],\n",
       "        [4.99319193e-01, 1.73800993e-01],\n",
       "        [1.67286517e-01, 2.08183928e-01]],\n",
       "\n",
       "       [[7.96847719e-01, 9.49374606e-01],\n",
       "        [7.92062531e-01, 3.80089590e-01],\n",
       "        [3.20254786e-01, 8.56915618e-01]]])"
      ]
     },
     "execution_count": 105,
     "metadata": {},
     "output_type": "execute_result"
    }
   ],
   "source": [
    "np.random.rand(2,3,2) # it will arway try to generate 2*2  3 such array generate"
   ]
  },
  {
   "cell_type": "code",
   "execution_count": 106,
   "metadata": {},
   "outputs": [
    {
     "data": {
      "text/plain": [
       "array([[[[0.18053915, 0.03409435],\n",
       "         [0.3093938 , 0.70250514]],\n",
       "\n",
       "        [[0.76532677, 0.19051537],\n",
       "         [0.00278644, 0.67068829]],\n",
       "\n",
       "        [[0.06197765, 0.96053973],\n",
       "         [0.38591965, 0.26731476]]],\n",
       "\n",
       "\n",
       "       [[[0.53684975, 0.37813473],\n",
       "         [0.36224961, 0.4640474 ]],\n",
       "\n",
       "        [[0.497674  , 0.61864484],\n",
       "         [0.73809349, 0.1364608 ]],\n",
       "\n",
       "        [[0.00294839, 0.77750616],\n",
       "         [0.15126963, 0.11545143]]]])"
      ]
     },
     "execution_count": 106,
     "metadata": {},
     "output_type": "execute_result"
    }
   ],
   "source": [
    "np.random.rand(2,3,2,2) #it try to generate 2*2*2  3 such array generate"
   ]
  },
  {
   "cell_type": "code",
   "execution_count": 107,
   "metadata": {},
   "outputs": [
    {
     "data": {
      "text/plain": [
       "array([[[1.66487191e-01, 2.78569902e-01, 1.54792381e-01, 5.62639458e-01],\n",
       "        [4.81418710e-01, 2.57504879e-01, 3.14969991e-01, 1.50678768e-01],\n",
       "        [5.49900054e-01, 7.22725511e-01, 1.75894246e-01, 1.83259510e-01],\n",
       "        [1.62081984e-02, 2.82362113e-01, 3.74112778e-01, 8.87020930e-01]],\n",
       "\n",
       "       [[4.32978420e-01, 8.81247557e-01, 7.49542534e-01, 2.44722840e-05],\n",
       "        [5.66513497e-01, 7.82163149e-01, 9.74635863e-01, 1.23211016e-01],\n",
       "        [8.03383455e-01, 4.16617236e-01, 3.34436181e-01, 7.44527850e-01],\n",
       "        [7.37355460e-01, 1.06114146e-01, 3.05893526e-01, 1.06742884e-01]],\n",
       "\n",
       "       [[5.68419216e-02, 9.58962891e-01, 9.18882509e-01, 3.50949846e-01],\n",
       "        [2.53972435e-01, 2.84429484e-01, 7.70928691e-01, 2.55055265e-01],\n",
       "        [7.48398040e-01, 1.02184970e-01, 7.03288274e-01, 8.05520423e-01],\n",
       "        [4.09449827e-01, 2.38919983e-02, 7.52597546e-01, 6.75778646e-01]]])"
      ]
     },
     "execution_count": 107,
     "metadata": {},
     "output_type": "execute_result"
    }
   ],
   "source": [
    "np.random.rand(3,4,4)"
   ]
  },
  {
   "cell_type": "code",
   "execution_count": 108,
   "metadata": {},
   "outputs": [
    {
     "data": {
      "text/plain": [
       "array([[[0.68491832, 0.20133124, 0.14663536, 0.35816905, 0.49343222],\n",
       "        [0.56793926, 0.63410498, 0.25081236, 0.91907523, 0.96203224],\n",
       "        [0.85198504, 0.8948996 , 0.92820554, 0.25700616, 0.6497512 ],\n",
       "        [0.70256527, 0.44025266, 0.1877459 , 0.64422278, 0.44371154]],\n",
       "\n",
       "       [[0.5065701 , 0.84861719, 0.32733246, 0.57894389, 0.41757032],\n",
       "        [0.13126982, 0.31651833, 0.89188785, 0.5783591 , 0.83165113],\n",
       "        [0.05262829, 0.91855828, 0.92738149, 0.54622417, 0.10490477],\n",
       "        [0.19920239, 0.95488134, 0.03760412, 0.35310343, 0.51542936]],\n",
       "\n",
       "       [[0.9204563 , 0.21604052, 0.45996216, 0.1748653 , 0.30134661],\n",
       "        [0.17237278, 0.5224443 , 0.28540452, 0.12236785, 0.46733313],\n",
       "        [0.16428199, 0.56154795, 0.41663266, 0.10216555, 0.7331299 ],\n",
       "        [0.10864113, 0.26903177, 0.29114849, 0.67559546, 0.74283565]]])"
      ]
     },
     "execution_count": 108,
     "metadata": {},
     "output_type": "execute_result"
    }
   ],
   "source": [
    "np.random.rand(3,4,5) #  4*5 means 4rows and 5 columns"
   ]
  },
  {
   "attachments": {},
   "cell_type": "markdown",
   "metadata": {},
   "source": [
    "> randn-- always genaete a data where mean is going to be zero and standard deviation equals to 1"
   ]
  },
  {
   "cell_type": "code",
   "execution_count": 109,
   "metadata": {},
   "outputs": [
    {
     "data": {
      "text/plain": [
       "array([[[-7.37470158e-01,  1.46445641e+00,  1.76911021e+00,\n",
       "         -6.38034112e-01],\n",
       "        [ 1.86233727e+00,  2.04268525e+00,  2.14262238e+00,\n",
       "          4.18722905e-01],\n",
       "        [-2.35600516e-01,  1.74731000e+00, -2.60734839e-01,\n",
       "          6.96991120e-01],\n",
       "        [ 1.00198330e-03,  4.55386492e-01,  1.88411428e+00,\n",
       "          5.55966162e-01]],\n",
       "\n",
       "       [[-3.42807523e-01,  1.60949782e-01, -8.87620436e-02,\n",
       "          1.35390649e-01],\n",
       "        [-2.57305983e-01,  7.60242250e-01,  8.49463722e-01,\n",
       "         -1.28402458e+00],\n",
       "        [ 1.08914806e+00, -2.09912627e+00, -1.18260248e-01,\n",
       "          1.68464602e+00],\n",
       "        [ 4.73581048e-01, -1.32601941e+00, -4.81000459e-01,\n",
       "         -7.69938845e-01]],\n",
       "\n",
       "       [[-4.03035685e-01, -1.38216943e+00,  2.14946387e-01,\n",
       "          1.98649791e-03],\n",
       "        [-1.35155159e-01,  2.71854113e-01, -1.15063091e+00,\n",
       "          6.02742824e-01],\n",
       "        [-3.26381283e-01,  5.07385520e-01, -1.19303133e+00,\n",
       "         -1.23501641e-01],\n",
       "        [-1.91371765e-01, -1.19269846e+00,  4.10625227e-01,\n",
       "          4.62236624e-01]]])"
      ]
     },
     "execution_count": 109,
     "metadata": {},
     "output_type": "execute_result"
    }
   ],
   "source": [
    "np.random.randn(3,4,4)"
   ]
  },
  {
   "attachments": {},
   "cell_type": "markdown",
   "metadata": {},
   "source": [
    "### very important for practice-- https://www.geeksforgeeks.org/python-keywords/?ref=lbp"
   ]
  },
  {
   "cell_type": "code",
   "execution_count": 110,
   "metadata": {},
   "outputs": [
    {
     "data": {
      "text/plain": [
       "array([[[7, 4],\n",
       "        [2, 0],\n",
       "        [1, 5],\n",
       "        [9, 2]],\n",
       "\n",
       "       [[5, 7],\n",
       "        [3, 7],\n",
       "        [4, 2],\n",
       "        [8, 4]],\n",
       "\n",
       "       [[5, 2],\n",
       "        [3, 7],\n",
       "        [7, 3],\n",
       "        [9, 8]],\n",
       "\n",
       "       [[7, 5],\n",
       "        [8, 6],\n",
       "        [1, 3],\n",
       "        [7, 8]]])"
      ]
     },
     "execution_count": 110,
     "metadata": {},
     "output_type": "execute_result"
    }
   ],
   "source": [
    "np.random.randint(0,10,(4,4,2))"
   ]
  },
  {
   "cell_type": "code",
   "execution_count": 111,
   "metadata": {},
   "outputs": [],
   "source": [
    "d = np.random.randn(3,4)"
   ]
  },
  {
   "cell_type": "code",
   "execution_count": 112,
   "metadata": {},
   "outputs": [
    {
     "data": {
      "text/html": [
       "<div>\n",
       "<style scoped>\n",
       "    .dataframe tbody tr th:only-of-type {\n",
       "        vertical-align: middle;\n",
       "    }\n",
       "\n",
       "    .dataframe tbody tr th {\n",
       "        vertical-align: top;\n",
       "    }\n",
       "\n",
       "    .dataframe thead th {\n",
       "        text-align: right;\n",
       "    }\n",
       "</style>\n",
       "<table border=\"1\" class=\"dataframe\">\n",
       "  <thead>\n",
       "    <tr style=\"text-align: right;\">\n",
       "      <th></th>\n",
       "      <th>0</th>\n",
       "      <th>1</th>\n",
       "      <th>2</th>\n",
       "      <th>3</th>\n",
       "    </tr>\n",
       "  </thead>\n",
       "  <tbody>\n",
       "    <tr>\n",
       "      <th>0</th>\n",
       "      <td>-0.005286</td>\n",
       "      <td>1.040553</td>\n",
       "      <td>-0.990730</td>\n",
       "      <td>-1.117719</td>\n",
       "    </tr>\n",
       "    <tr>\n",
       "      <th>1</th>\n",
       "      <td>-0.821879</td>\n",
       "      <td>0.282500</td>\n",
       "      <td>-0.105830</td>\n",
       "      <td>-1.124088</td>\n",
       "    </tr>\n",
       "    <tr>\n",
       "      <th>2</th>\n",
       "      <td>-0.783955</td>\n",
       "      <td>0.424741</td>\n",
       "      <td>-0.759949</td>\n",
       "      <td>-0.124117</td>\n",
       "    </tr>\n",
       "  </tbody>\n",
       "</table>\n",
       "</div>"
      ],
      "text/plain": [
       "          0         1         2         3\n",
       "0 -0.005286  1.040553 -0.990730 -1.117719\n",
       "1 -0.821879  0.282500 -0.105830 -1.124088\n",
       "2 -0.783955  0.424741 -0.759949 -0.124117"
      ]
     },
     "execution_count": 112,
     "metadata": {},
     "output_type": "execute_result"
    }
   ],
   "source": [
    "pd.DataFrame(d)"
   ]
  },
  {
   "cell_type": "code",
   "execution_count": 113,
   "metadata": {},
   "outputs": [],
   "source": [
    "d1 = np.random.randint(0,10,(4,4,2))"
   ]
  },
  {
   "cell_type": "code",
   "execution_count": 114,
   "metadata": {},
   "outputs": [
    {
     "data": {
      "text/plain": [
       "array([[[4, 0],\n",
       "        [1, 7],\n",
       "        [3, 4],\n",
       "        [7, 5]],\n",
       "\n",
       "       [[3, 4],\n",
       "        [0, 1],\n",
       "        [9, 4],\n",
       "        [3, 5]],\n",
       "\n",
       "       [[9, 3],\n",
       "        [6, 9],\n",
       "        [7, 6],\n",
       "        [3, 0]],\n",
       "\n",
       "       [[0, 0],\n",
       "        [8, 8],\n",
       "        [0, 0],\n",
       "        [1, 4]]])"
      ]
     },
     "execution_count": 114,
     "metadata": {},
     "output_type": "execute_result"
    }
   ],
   "source": [
    "d1"
   ]
  },
  {
   "cell_type": "code",
   "execution_count": 115,
   "metadata": {},
   "outputs": [
    {
     "data": {
      "text/plain": [
       "array([[4, 0],\n",
       "       [1, 7],\n",
       "       [3, 4],\n",
       "       [7, 5],\n",
       "       [3, 4],\n",
       "       [0, 1],\n",
       "       [9, 4],\n",
       "       [3, 5],\n",
       "       [9, 3],\n",
       "       [6, 9],\n",
       "       [7, 6],\n",
       "       [3, 0],\n",
       "       [0, 0],\n",
       "       [8, 8],\n",
       "       [0, 0],\n",
       "       [1, 4]])"
      ]
     },
     "execution_count": 115,
     "metadata": {},
     "output_type": "execute_result"
    }
   ],
   "source": [
    "d1.reshape(16,2)"
   ]
  },
  {
   "cell_type": "code",
   "execution_count": 116,
   "metadata": {},
   "outputs": [
    {
     "data": {
      "text/plain": [
       "array([[4, 0, 1, 7],\n",
       "       [3, 4, 7, 5],\n",
       "       [3, 4, 0, 1],\n",
       "       [9, 4, 3, 5],\n",
       "       [9, 3, 6, 9],\n",
       "       [7, 6, 3, 0],\n",
       "       [0, 0, 8, 8],\n",
       "       [0, 0, 1, 4]])"
      ]
     },
     "execution_count": 116,
     "metadata": {},
     "output_type": "execute_result"
    }
   ],
   "source": [
    "d1.reshape(8,4) # reshape operation"
   ]
  },
  {
   "cell_type": "code",
   "execution_count": 117,
   "metadata": {},
   "outputs": [
    {
     "data": {
      "text/plain": [
       "array([[4, 0, 1, 7],\n",
       "       [3, 4, 7, 5],\n",
       "       [3, 4, 0, 1],\n",
       "       [9, 4, 3, 5],\n",
       "       [9, 3, 6, 9],\n",
       "       [7, 6, 3, 0],\n",
       "       [0, 0, 8, 8],\n",
       "       [0, 0, 1, 4]])"
      ]
     },
     "execution_count": 117,
     "metadata": {},
     "output_type": "execute_result"
    }
   ],
   "source": [
    "d1.reshape(8,-1)"
   ]
  },
  {
   "cell_type": "code",
   "execution_count": 118,
   "metadata": {},
   "outputs": [
    {
     "data": {
      "text/html": [
       "<div>\n",
       "<style scoped>\n",
       "    .dataframe tbody tr th:only-of-type {\n",
       "        vertical-align: middle;\n",
       "    }\n",
       "\n",
       "    .dataframe tbody tr th {\n",
       "        vertical-align: top;\n",
       "    }\n",
       "\n",
       "    .dataframe thead th {\n",
       "        text-align: right;\n",
       "    }\n",
       "</style>\n",
       "<table border=\"1\" class=\"dataframe\">\n",
       "  <thead>\n",
       "    <tr style=\"text-align: right;\">\n",
       "      <th></th>\n",
       "      <th>0</th>\n",
       "      <th>1</th>\n",
       "      <th>2</th>\n",
       "      <th>3</th>\n",
       "      <th>4</th>\n",
       "      <th>5</th>\n",
       "      <th>6</th>\n",
       "      <th>7</th>\n",
       "      <th>8</th>\n",
       "      <th>9</th>\n",
       "      <th>10</th>\n",
       "      <th>11</th>\n",
       "      <th>12</th>\n",
       "      <th>13</th>\n",
       "      <th>14</th>\n",
       "      <th>15</th>\n",
       "    </tr>\n",
       "  </thead>\n",
       "  <tbody>\n",
       "    <tr>\n",
       "      <th>0</th>\n",
       "      <td>4</td>\n",
       "      <td>0</td>\n",
       "      <td>1</td>\n",
       "      <td>7</td>\n",
       "      <td>3</td>\n",
       "      <td>4</td>\n",
       "      <td>7</td>\n",
       "      <td>5</td>\n",
       "      <td>3</td>\n",
       "      <td>4</td>\n",
       "      <td>0</td>\n",
       "      <td>1</td>\n",
       "      <td>9</td>\n",
       "      <td>4</td>\n",
       "      <td>3</td>\n",
       "      <td>5</td>\n",
       "    </tr>\n",
       "    <tr>\n",
       "      <th>1</th>\n",
       "      <td>9</td>\n",
       "      <td>3</td>\n",
       "      <td>6</td>\n",
       "      <td>9</td>\n",
       "      <td>7</td>\n",
       "      <td>6</td>\n",
       "      <td>3</td>\n",
       "      <td>0</td>\n",
       "      <td>0</td>\n",
       "      <td>0</td>\n",
       "      <td>8</td>\n",
       "      <td>8</td>\n",
       "      <td>0</td>\n",
       "      <td>0</td>\n",
       "      <td>1</td>\n",
       "      <td>4</td>\n",
       "    </tr>\n",
       "  </tbody>\n",
       "</table>\n",
       "</div>"
      ],
      "text/plain": [
       "   0   1   2   3   4   5   6   7   8   9   10  11  12  13  14  15\n",
       "0   4   0   1   7   3   4   7   5   3   4   0   1   9   4   3   5\n",
       "1   9   3   6   9   7   6   3   0   0   0   8   8   0   0   1   4"
      ]
     },
     "execution_count": 118,
     "metadata": {},
     "output_type": "execute_result"
    }
   ],
   "source": [
    "pd.DataFrame(d1.reshape(2,-1)) "
   ]
  },
  {
   "cell_type": "code",
   "execution_count": 119,
   "metadata": {},
   "outputs": [
    {
     "ename": "ValueError",
     "evalue": "Must pass 2-d input. shape=(4, 4, 2)",
     "output_type": "error",
     "traceback": [
      "\u001b[1;31m---------------------------------------------------------------------------\u001b[0m",
      "\u001b[1;31mValueError\u001b[0m                                Traceback (most recent call last)",
      "Cell \u001b[1;32mIn [119], line 1\u001b[0m\n\u001b[1;32m----> 1\u001b[0m pd\u001b[39m.\u001b[39;49mDataFrame(d1)\n",
      "File \u001b[1;32mc:\\Users\\Admin\\AppData\\Local\\Programs\\Python\\Python310\\lib\\site-packages\\pandas\\core\\frame.py:722\u001b[0m, in \u001b[0;36mDataFrame.__init__\u001b[1;34m(self, data, index, columns, dtype, copy)\u001b[0m\n\u001b[0;32m    712\u001b[0m         mgr \u001b[39m=\u001b[39m dict_to_mgr(\n\u001b[0;32m    713\u001b[0m             \u001b[39m# error: Item \"ndarray\" of \"Union[ndarray, Series, Index]\" has no\u001b[39;00m\n\u001b[0;32m    714\u001b[0m             \u001b[39m# attribute \"name\"\u001b[39;00m\n\u001b[1;32m   (...)\u001b[0m\n\u001b[0;32m    719\u001b[0m             typ\u001b[39m=\u001b[39mmanager,\n\u001b[0;32m    720\u001b[0m         )\n\u001b[0;32m    721\u001b[0m     \u001b[39melse\u001b[39;00m:\n\u001b[1;32m--> 722\u001b[0m         mgr \u001b[39m=\u001b[39m ndarray_to_mgr(\n\u001b[0;32m    723\u001b[0m             data,\n\u001b[0;32m    724\u001b[0m             index,\n\u001b[0;32m    725\u001b[0m             columns,\n\u001b[0;32m    726\u001b[0m             dtype\u001b[39m=\u001b[39;49mdtype,\n\u001b[0;32m    727\u001b[0m             copy\u001b[39m=\u001b[39;49mcopy,\n\u001b[0;32m    728\u001b[0m             typ\u001b[39m=\u001b[39;49mmanager,\n\u001b[0;32m    729\u001b[0m         )\n\u001b[0;32m    731\u001b[0m \u001b[39m# For data is list-like, or Iterable (will consume into list)\u001b[39;00m\n\u001b[0;32m    732\u001b[0m \u001b[39melif\u001b[39;00m is_list_like(data):\n",
      "File \u001b[1;32mc:\\Users\\Admin\\AppData\\Local\\Programs\\Python\\Python310\\lib\\site-packages\\pandas\\core\\internals\\construction.py:329\u001b[0m, in \u001b[0;36mndarray_to_mgr\u001b[1;34m(values, index, columns, dtype, copy, typ)\u001b[0m\n\u001b[0;32m    324\u001b[0m         values \u001b[39m=\u001b[39m values\u001b[39m.\u001b[39mreshape(\u001b[39m-\u001b[39m\u001b[39m1\u001b[39m, \u001b[39m1\u001b[39m)\n\u001b[0;32m    326\u001b[0m \u001b[39melse\u001b[39;00m:\n\u001b[0;32m    327\u001b[0m     \u001b[39m# by definition an array here\u001b[39;00m\n\u001b[0;32m    328\u001b[0m     \u001b[39m# the dtypes will be coerced to a single dtype\u001b[39;00m\n\u001b[1;32m--> 329\u001b[0m     values \u001b[39m=\u001b[39m _prep_ndarraylike(values, copy\u001b[39m=\u001b[39;49mcopy_on_sanitize)\n\u001b[0;32m    331\u001b[0m \u001b[39mif\u001b[39;00m dtype \u001b[39mis\u001b[39;00m \u001b[39mnot\u001b[39;00m \u001b[39mNone\u001b[39;00m \u001b[39mand\u001b[39;00m \u001b[39mnot\u001b[39;00m is_dtype_equal(values\u001b[39m.\u001b[39mdtype, dtype):\n\u001b[0;32m    332\u001b[0m     \u001b[39m# GH#40110 see similar check inside sanitize_array\u001b[39;00m\n\u001b[0;32m    333\u001b[0m     rcf \u001b[39m=\u001b[39m \u001b[39mnot\u001b[39;00m (is_integer_dtype(dtype) \u001b[39mand\u001b[39;00m values\u001b[39m.\u001b[39mdtype\u001b[39m.\u001b[39mkind \u001b[39m==\u001b[39m \u001b[39m\"\u001b[39m\u001b[39mf\u001b[39m\u001b[39m\"\u001b[39m)\n",
      "File \u001b[1;32mc:\\Users\\Admin\\AppData\\Local\\Programs\\Python\\Python310\\lib\\site-packages\\pandas\\core\\internals\\construction.py:583\u001b[0m, in \u001b[0;36m_prep_ndarraylike\u001b[1;34m(values, copy)\u001b[0m\n\u001b[0;32m    581\u001b[0m     values \u001b[39m=\u001b[39m values\u001b[39m.\u001b[39mreshape((values\u001b[39m.\u001b[39mshape[\u001b[39m0\u001b[39m], \u001b[39m1\u001b[39m))\n\u001b[0;32m    582\u001b[0m \u001b[39melif\u001b[39;00m values\u001b[39m.\u001b[39mndim \u001b[39m!=\u001b[39m \u001b[39m2\u001b[39m:\n\u001b[1;32m--> 583\u001b[0m     \u001b[39mraise\u001b[39;00m \u001b[39mValueError\u001b[39;00m(\u001b[39mf\u001b[39m\u001b[39m\"\u001b[39m\u001b[39mMust pass 2-d input. shape=\u001b[39m\u001b[39m{\u001b[39;00mvalues\u001b[39m.\u001b[39mshape\u001b[39m}\u001b[39;00m\u001b[39m\"\u001b[39m)\n\u001b[0;32m    585\u001b[0m \u001b[39mreturn\u001b[39;00m values\n",
      "\u001b[1;31mValueError\u001b[0m: Must pass 2-d input. shape=(4, 4, 2)"
     ]
    }
   ],
   "source": [
    "pd.DataFrame(d1)"
   ]
  },
  {
   "attachments": {},
   "cell_type": "markdown",
   "metadata": {},
   "source": [
    "# Day 2"
   ]
  },
  {
   "cell_type": "code",
   "execution_count": null,
   "metadata": {},
   "outputs": [],
   "source": [
    "import numpy as np"
   ]
  },
  {
   "cell_type": "code",
   "execution_count": null,
   "metadata": {},
   "outputs": [
    {
     "data": {
      "text/plain": [
       "array([0, 1, 2, 3, 4, 5, 6, 7, 8, 9])"
      ]
     },
     "execution_count": 3,
     "metadata": {},
     "output_type": "execute_result"
    }
   ],
   "source": [
    "np.arange(10)"
   ]
  },
  {
   "cell_type": "code",
   "execution_count": null,
   "metadata": {},
   "outputs": [
    {
     "data": {
      "text/plain": [
       "array([0.5, 1.5, 2.5, 3.5, 4.5, 5.5, 6.5, 7.5, 8.5, 9.5])"
      ]
     },
     "execution_count": 2,
     "metadata": {},
     "output_type": "execute_result"
    }
   ],
   "source": [
    "np.arange(.5,10)"
   ]
  },
  {
   "cell_type": "code",
   "execution_count": null,
   "metadata": {},
   "outputs": [
    {
     "data": {
      "text/plain": [
       "array([ 5,  4,  3,  2,  1,  0, -1, -2, -3])"
      ]
     },
     "execution_count": 4,
     "metadata": {},
     "output_type": "execute_result"
    }
   ],
   "source": [
    "np.arange(5,-4,-1)"
   ]
  },
  {
   "cell_type": "code",
   "execution_count": null,
   "metadata": {},
   "outputs": [
    {
     "data": {
      "text/plain": [
       "array([5, 0])"
      ]
     },
     "execution_count": 5,
     "metadata": {},
     "output_type": "execute_result"
    }
   ],
   "source": [
    "np.arange(5,-4,-5)"
   ]
  },
  {
   "attachments": {},
   "cell_type": "markdown",
   "metadata": {},
   "source": [
    "#### line space function"
   ]
  },
  {
   "cell_type": "code",
   "execution_count": null,
   "metadata": {},
   "outputs": [
    {
     "data": {
      "text/plain": [
       "array([1.        , 1.21052632, 1.42105263, 1.63157895, 1.84210526,\n",
       "       2.05263158, 2.26315789, 2.47368421, 2.68421053, 2.89473684,\n",
       "       3.10526316, 3.31578947, 3.52631579, 3.73684211, 3.94736842,\n",
       "       4.15789474, 4.36842105, 4.57894737, 4.78947368, 5.        ])"
      ]
     },
     "execution_count": 6,
     "metadata": {},
     "output_type": "execute_result"
    }
   ],
   "source": [
    "np.linspace(1,5,20)"
   ]
  },
  {
   "cell_type": "code",
   "execution_count": null,
   "metadata": {},
   "outputs": [
    {
     "data": {
      "text/plain": [
       "[1.0,\n",
       " 1.2105263157894737,\n",
       " 1.4210526315789473,\n",
       " 1.631578947368421,\n",
       " 1.8421052631578947,\n",
       " 2.052631578947368,\n",
       " 2.263157894736842,\n",
       " 2.473684210526316,\n",
       " 2.6842105263157894,\n",
       " 2.894736842105263,\n",
       " 3.1052631578947367,\n",
       " 3.3157894736842106,\n",
       " 3.526315789473684,\n",
       " 3.7368421052631575,\n",
       " 3.9473684210526314,\n",
       " 4.157894736842105,\n",
       " 4.368421052631579,\n",
       " 4.578947368421052,\n",
       " 4.789473684210526,\n",
       " 5.0]"
      ]
     },
     "execution_count": 7,
     "metadata": {},
     "output_type": "execute_result"
    }
   ],
   "source": [
    "list(np.linspace(1,5,20))"
   ]
  },
  {
   "cell_type": "code",
   "execution_count": null,
   "metadata": {},
   "outputs": [
    {
     "data": {
      "text/plain": [
       "[array([1.        , 1.21052632, 1.42105263, 1.63157895, 1.84210526,\n",
       "        2.05263158, 2.26315789, 2.47368421, 2.68421053, 2.89473684,\n",
       "        3.10526316, 3.31578947, 3.52631579, 3.73684211, 3.94736842,\n",
       "        4.15789474, 4.36842105, 4.57894737, 4.78947368, 5.        ]),\n",
       " 0.21052631578947367]"
      ]
     },
     "execution_count": 8,
     "metadata": {},
     "output_type": "execute_result"
    }
   ],
   "source": [
    "list(np.linspace(1,5,20,retstep=True))"
   ]
  },
  {
   "cell_type": "code",
   "execution_count": null,
   "metadata": {},
   "outputs": [
    {
     "data": {
      "text/plain": [
       "array([ 1.        ,  6.44444444, 11.88888889, 17.33333333, 22.77777778,\n",
       "       28.22222222, 33.66666667, 39.11111111, 44.55555556, 50.        ])"
      ]
     },
     "execution_count": 9,
     "metadata": {},
     "output_type": "execute_result"
    }
   ],
   "source": [
    "np.linspace(1,50,10)"
   ]
  },
  {
   "cell_type": "code",
   "execution_count": null,
   "metadata": {},
   "outputs": [
    {
     "data": {
      "text/plain": [
       "array([0., 0., 0., 0., 0.])"
      ]
     },
     "execution_count": 10,
     "metadata": {},
     "output_type": "execute_result"
    }
   ],
   "source": [
    "np.zeros(5)"
   ]
  },
  {
   "cell_type": "code",
   "execution_count": null,
   "metadata": {},
   "outputs": [
    {
     "data": {
      "text/plain": [
       "array([[0., 0., 0., 0., 0.],\n",
       "       [0., 0., 0., 0., 0.],\n",
       "       [0., 0., 0., 0., 0.]])"
      ]
     },
     "execution_count": 11,
     "metadata": {},
     "output_type": "execute_result"
    }
   ],
   "source": [
    "np.zeros((3,5))"
   ]
  },
  {
   "cell_type": "code",
   "execution_count": null,
   "metadata": {},
   "outputs": [
    {
     "data": {
      "text/plain": [
       "array([[[0., 0.],\n",
       "        [0., 0.],\n",
       "        [0., 0.],\n",
       "        [0., 0.],\n",
       "        [0., 0.]],\n",
       "\n",
       "       [[0., 0.],\n",
       "        [0., 0.],\n",
       "        [0., 0.],\n",
       "        [0., 0.],\n",
       "        [0., 0.]],\n",
       "\n",
       "       [[0., 0.],\n",
       "        [0., 0.],\n",
       "        [0., 0.],\n",
       "        [0., 0.],\n",
       "        [0., 0.]]])"
      ]
     },
     "execution_count": 12,
     "metadata": {},
     "output_type": "execute_result"
    }
   ],
   "source": [
    "np.zeros((3,5,2))"
   ]
  },
  {
   "cell_type": "code",
   "execution_count": null,
   "metadata": {},
   "outputs": [
    {
     "data": {
      "text/plain": [
       "array([1., 1., 1., 1., 1.])"
      ]
     },
     "execution_count": 13,
     "metadata": {},
     "output_type": "execute_result"
    }
   ],
   "source": [
    "np.ones(5)"
   ]
  },
  {
   "cell_type": "code",
   "execution_count": null,
   "metadata": {},
   "outputs": [
    {
     "data": {
      "text/plain": [
       "array([[[5., 5.],\n",
       "        [5., 5.],\n",
       "        [5., 5.],\n",
       "        [5., 5.],\n",
       "        [5., 5.]],\n",
       "\n",
       "       [[5., 5.],\n",
       "        [5., 5.],\n",
       "        [5., 5.],\n",
       "        [5., 5.],\n",
       "        [5., 5.]],\n",
       "\n",
       "       [[5., 5.],\n",
       "        [5., 5.],\n",
       "        [5., 5.],\n",
       "        [5., 5.],\n",
       "        [5., 5.]]])"
      ]
     },
     "execution_count": 46,
     "metadata": {},
     "output_type": "execute_result"
    }
   ],
   "source": [
    "np.ones((3,5,2))*5"
   ]
  },
  {
   "cell_type": "code",
   "execution_count": null,
   "metadata": {},
   "outputs": [
    {
     "data": {
      "text/plain": [
       "array([[ 0.        , -4.16666667,  0.        ],\n",
       "       [-4.16666667,  2.94627825, -2.94627825]])"
      ]
     },
     "execution_count": 47,
     "metadata": {},
     "output_type": "execute_result"
    }
   ],
   "source": [
    "np.empty((2,3))"
   ]
  },
  {
   "cell_type": "code",
   "execution_count": null,
   "metadata": {},
   "outputs": [],
   "source": [
    "a = np.eye(4)"
   ]
  },
  {
   "cell_type": "code",
   "execution_count": null,
   "metadata": {},
   "outputs": [
    {
     "data": {
      "text/plain": [
       "(4, 4)"
      ]
     },
     "execution_count": 49,
     "metadata": {},
     "output_type": "execute_result"
    }
   ],
   "source": [
    "a.shape"
   ]
  },
  {
   "cell_type": "code",
   "execution_count": null,
   "metadata": {},
   "outputs": [
    {
     "data": {
      "text/plain": [
       "16"
      ]
     },
     "execution_count": 50,
     "metadata": {},
     "output_type": "execute_result"
    }
   ],
   "source": [
    "a.size"
   ]
  },
  {
   "cell_type": "code",
   "execution_count": null,
   "metadata": {},
   "outputs": [
    {
     "data": {
      "text/plain": [
       "2"
      ]
     },
     "execution_count": 51,
     "metadata": {},
     "output_type": "execute_result"
    }
   ],
   "source": [
    "a.ndim"
   ]
  },
  {
   "cell_type": "code",
   "execution_count": null,
   "metadata": {},
   "outputs": [],
   "source": [
    "a1 = np.random.randn(3,4)"
   ]
  },
  {
   "cell_type": "code",
   "execution_count": null,
   "metadata": {},
   "outputs": [],
   "source": [
    "import pandas as pd "
   ]
  },
  {
   "cell_type": "code",
   "execution_count": null,
   "metadata": {},
   "outputs": [
    {
     "data": {
      "text/html": [
       "<div>\n",
       "<style scoped>\n",
       "    .dataframe tbody tr th:only-of-type {\n",
       "        vertical-align: middle;\n",
       "    }\n",
       "\n",
       "    .dataframe tbody tr th {\n",
       "        vertical-align: top;\n",
       "    }\n",
       "\n",
       "    .dataframe thead th {\n",
       "        text-align: right;\n",
       "    }\n",
       "</style>\n",
       "<table border=\"1\" class=\"dataframe\">\n",
       "  <thead>\n",
       "    <tr style=\"text-align: right;\">\n",
       "      <th></th>\n",
       "      <th>0</th>\n",
       "      <th>1</th>\n",
       "      <th>2</th>\n",
       "      <th>3</th>\n",
       "    </tr>\n",
       "  </thead>\n",
       "  <tbody>\n",
       "    <tr>\n",
       "      <th>0</th>\n",
       "      <td>0.788571</td>\n",
       "      <td>-0.253791</td>\n",
       "      <td>-0.863962</td>\n",
       "      <td>-0.559929</td>\n",
       "    </tr>\n",
       "    <tr>\n",
       "      <th>1</th>\n",
       "      <td>0.878821</td>\n",
       "      <td>-0.676576</td>\n",
       "      <td>-1.059346</td>\n",
       "      <td>0.928128</td>\n",
       "    </tr>\n",
       "    <tr>\n",
       "      <th>2</th>\n",
       "      <td>-0.534864</td>\n",
       "      <td>-0.817456</td>\n",
       "      <td>0.289186</td>\n",
       "      <td>0.256747</td>\n",
       "    </tr>\n",
       "  </tbody>\n",
       "</table>\n",
       "</div>"
      ],
      "text/plain": [
       "          0         1         2         3\n",
       "0  0.788571 -0.253791 -0.863962 -0.559929\n",
       "1  0.878821 -0.676576 -1.059346  0.928128\n",
       "2 -0.534864 -0.817456  0.289186  0.256747"
      ]
     },
     "execution_count": 54,
     "metadata": {},
     "output_type": "execute_result"
    }
   ],
   "source": [
    "pd.DataFrame(a1)"
   ]
  },
  {
   "cell_type": "code",
   "execution_count": null,
   "metadata": {},
   "outputs": [
    {
     "data": {
      "text/plain": [
       "array([[ 0.78857122, -0.2537914 , -0.86396181, -0.55992928],\n",
       "       [ 0.87882137, -0.67657601, -1.05934645,  0.92812829],\n",
       "       [-0.53486362, -0.81745625,  0.28918576,  0.25674745]])"
      ]
     },
     "execution_count": 55,
     "metadata": {},
     "output_type": "execute_result"
    }
   ],
   "source": [
    "a1"
   ]
  },
  {
   "cell_type": "code",
   "execution_count": null,
   "metadata": {},
   "outputs": [
    {
     "data": {
      "text/plain": [
       "-0.6765760087488247"
      ]
     },
     "execution_count": 56,
     "metadata": {},
     "output_type": "execute_result"
    }
   ],
   "source": [
    "a1[1][1]"
   ]
  },
  {
   "cell_type": "code",
   "execution_count": null,
   "metadata": {},
   "outputs": [
    {
     "data": {
      "text/plain": [
       "array([[ 0.78857122, -0.2537914 ],\n",
       "       [ 0.87882137, -0.67657601]])"
      ]
     },
     "execution_count": 57,
     "metadata": {},
     "output_type": "execute_result"
    }
   ],
   "source": [
    "a1[0:2 , 0:2]"
   ]
  },
  {
   "cell_type": "code",
   "execution_count": null,
   "metadata": {},
   "outputs": [
    {
     "data": {
      "text/plain": [
       "array([[ 0.78857122, -0.2537914 ],\n",
       "       [ 0.87882137, -0.67657601]])"
      ]
     },
     "execution_count": 58,
     "metadata": {},
     "output_type": "execute_result"
    }
   ],
   "source": [
    "a1[[0,1] , 0:2]"
   ]
  },
  {
   "cell_type": "code",
   "execution_count": null,
   "metadata": {},
   "outputs": [
    {
     "data": {
      "text/plain": [
       "array([[ 0.78857122, -0.2537914 ],\n",
       "       [ 0.87882137, -0.67657601]])"
      ]
     },
     "execution_count": 59,
     "metadata": {},
     "output_type": "execute_result"
    }
   ],
   "source": [
    "a1[[0,1] ,0:2]"
   ]
  },
  {
   "cell_type": "code",
   "execution_count": null,
   "metadata": {},
   "outputs": [
    {
     "data": {
      "text/plain": [
       "array([[ 0.78857122, -0.2537914 , -0.86396181, -0.55992928],\n",
       "       [ 0.87882137, -0.67657601, -1.05934645,  0.92812829],\n",
       "       [-0.53486362, -0.81745625,  0.28918576,  0.25674745]])"
      ]
     },
     "execution_count": 60,
     "metadata": {},
     "output_type": "execute_result"
    }
   ],
   "source": [
    "a1"
   ]
  },
  {
   "cell_type": "code",
   "execution_count": null,
   "metadata": {},
   "outputs": [
    {
     "data": {
      "text/plain": [
       "array([0.92812829, 0.25674745])"
      ]
     },
     "execution_count": 61,
     "metadata": {},
     "output_type": "execute_result"
    }
   ],
   "source": [
    "a1[[1,2],3]"
   ]
  },
  {
   "cell_type": "code",
   "execution_count": 125,
   "metadata": {},
   "outputs": [],
   "source": [
    "m1 = np.random.randint(1,3 , (3,3))"
   ]
  },
  {
   "cell_type": "code",
   "execution_count": 126,
   "metadata": {},
   "outputs": [
    {
     "data": {
      "text/plain": [
       "array([[1, 2, 1],\n",
       "       [2, 1, 2],\n",
       "       [1, 2, 2]])"
      ]
     },
     "execution_count": 126,
     "metadata": {},
     "output_type": "execute_result"
    }
   ],
   "source": [
    "m1"
   ]
  },
  {
   "cell_type": "code",
   "execution_count": 127,
   "metadata": {},
   "outputs": [],
   "source": [
    "m2 = np.random.randint(2,4 , (3,3))"
   ]
  },
  {
   "cell_type": "code",
   "execution_count": 128,
   "metadata": {},
   "outputs": [
    {
     "data": {
      "text/plain": [
       "array([[2, 2, 3],\n",
       "       [2, 3, 3],\n",
       "       [3, 3, 2]])"
      ]
     },
     "execution_count": 128,
     "metadata": {},
     "output_type": "execute_result"
    }
   ],
   "source": [
    "m2"
   ]
  },
  {
   "cell_type": "code",
   "execution_count": 129,
   "metadata": {},
   "outputs": [
    {
     "data": {
      "text/plain": [
       "array([[2, 4, 3],\n",
       "       [4, 3, 6],\n",
       "       [3, 6, 4]])"
      ]
     },
     "execution_count": 129,
     "metadata": {},
     "output_type": "execute_result"
    }
   ],
   "source": [
    "m1*m2"
   ]
  },
  {
   "cell_type": "code",
   "execution_count": 130,
   "metadata": {},
   "outputs": [
    {
     "data": {
      "text/plain": [
       "array([[ 9, 11, 11],\n",
       "       [12, 13, 13],\n",
       "       [12, 14, 13]])"
      ]
     },
     "execution_count": 130,
     "metadata": {},
     "output_type": "execute_result"
    }
   ],
   "source": [
    "m1@m2"
   ]
  },
  {
   "cell_type": "code",
   "execution_count": 121,
   "metadata": {},
   "outputs": [
    {
     "data": {
      "text/plain": [
       "([3, 2, 1], [])"
      ]
     },
     "execution_count": 121,
     "metadata": {},
     "output_type": "execute_result"
    }
   ],
   "source": [
    "m1"
   ]
  },
  {
   "cell_type": "code",
   "execution_count": 120,
   "metadata": {},
   "outputs": [
    {
     "data": {
      "text/plain": [
       "array([[3, 2, 2],\n",
       "       [3, 2, 2],\n",
       "       [2, 2, 3]])"
      ]
     },
     "execution_count": 120,
     "metadata": {},
     "output_type": "execute_result"
    }
   ],
   "source": [
    "m2\n"
   ]
  },
  {
   "cell_type": "code",
   "execution_count": 131,
   "metadata": {},
   "outputs": [
    {
     "data": {
      "text/plain": [
       "array([[ 1, 16,  1],\n",
       "       [16,  1, 16],\n",
       "       [ 1, 16, 16]], dtype=int32)"
      ]
     },
     "execution_count": 131,
     "metadata": {},
     "output_type": "execute_result"
    }
   ],
   "source": [
    "pow(m1 , 4)"
   ]
  },
  {
   "cell_type": "code",
   "execution_count": 132,
   "metadata": {},
   "outputs": [
    {
     "data": {
      "text/plain": [
       "array([[1.        , 1.41421356, 1.        ],\n",
       "       [1.41421356, 1.        , 1.41421356],\n",
       "       [1.        , 1.41421356, 1.41421356]])"
      ]
     },
     "execution_count": 132,
     "metadata": {},
     "output_type": "execute_result"
    }
   ],
   "source": [
    "np.sqrt(m1)"
   ]
  },
  {
   "cell_type": "code",
   "execution_count": 133,
   "metadata": {},
   "outputs": [
    {
     "data": {
      "text/plain": [
       "array([[0.     , 0.30103, 0.     ],\n",
       "       [0.30103, 0.     , 0.30103],\n",
       "       [0.     , 0.30103, 0.30103]])"
      ]
     },
     "execution_count": 133,
     "metadata": {},
     "output_type": "execute_result"
    }
   ],
   "source": [
    "np.log10(m1)"
   ]
  },
  {
   "cell_type": "code",
   "execution_count": 134,
   "metadata": {},
   "outputs": [
    {
     "data": {
      "text/plain": [
       "array([[2.71828183, 7.3890561 , 2.71828183],\n",
       "       [7.3890561 , 2.71828183, 7.3890561 ],\n",
       "       [2.71828183, 7.3890561 , 7.3890561 ]])"
      ]
     },
     "execution_count": 134,
     "metadata": {},
     "output_type": "execute_result"
    }
   ],
   "source": [
    "np.exp(m1)"
   ]
  },
  {
   "cell_type": "code",
   "execution_count": 135,
   "metadata": {},
   "outputs": [
    {
     "data": {
      "text/plain": [
       "array([[1, 4, 1],\n",
       "       [4, 1, 4],\n",
       "       [1, 4, 4]])"
      ]
     },
     "execution_count": 135,
     "metadata": {},
     "output_type": "execute_result"
    }
   ],
   "source": [
    "m1**2\n"
   ]
  },
  {
   "attachments": {},
   "cell_type": "markdown",
   "metadata": {},
   "source": [
    "# Numpy Graph"
   ]
  },
  {
   "cell_type": "code",
   "execution_count": null,
   "metadata": {},
   "outputs": [
    {
     "name": "stdout",
     "output_type": "stream",
     "text": [
      "Collecting cufflinks\n",
      "  Using cached cufflinks-0.17.3.tar.gz (81 kB)\n",
      "  Preparing metadata (setup.py): started\n",
      "  Preparing metadata (setup.py): finished with status 'done'\n",
      "Requirement already satisfied: numpy>=1.9.2 in c:\\users\\admin\\appdata\\local\\programs\\python\\python310\\lib\\site-packages (from cufflinks) (1.24.1)\n",
      "Requirement already satisfied: pandas>=0.19.2 in c:\\users\\admin\\appdata\\local\\programs\\python\\python310\\lib\\site-packages (from cufflinks) (1.5.3)\n",
      "Requirement already satisfied: plotly>=4.1.1 in c:\\users\\admin\\appdata\\local\\programs\\python\\python310\\lib\\site-packages (from cufflinks) (5.13.0)\n",
      "Requirement already satisfied: six>=1.9.0 in c:\\users\\admin\\appdata\\local\\programs\\python\\python310\\lib\\site-packages (from cufflinks) (1.16.0)\n",
      "Requirement already satisfied: colorlover>=0.2.1 in c:\\users\\admin\\appdata\\local\\programs\\python\\python310\\lib\\site-packages (from cufflinks) (0.3.0)\n",
      "Requirement already satisfied: setuptools>=34.4.1 in c:\\users\\admin\\appdata\\local\\programs\\python\\python310\\lib\\site-packages (from cufflinks) (63.2.0)\n",
      "Requirement already satisfied: ipython>=5.3.0 in c:\\users\\admin\\appdata\\local\\programs\\python\\python310\\lib\\site-packages (from cufflinks) (8.5.0)\n",
      "Collecting ipywidgets>=7.0.0\n",
      "  Using cached ipywidgets-8.0.4-py3-none-any.whl (137 kB)\n",
      "Requirement already satisfied: decorator in c:\\users\\admin\\appdata\\local\\programs\\python\\python310\\lib\\site-packages (from ipython>=5.3.0->cufflinks) (5.1.1)\n",
      "Requirement already satisfied: pickleshare in c:\\users\\admin\\appdata\\local\\programs\\python\\python310\\lib\\site-packages (from ipython>=5.3.0->cufflinks) (0.7.5)\n",
      "Requirement already satisfied: traitlets>=5 in c:\\users\\admin\\appdata\\local\\programs\\python\\python310\\lib\\site-packages (from ipython>=5.3.0->cufflinks) (5.8.1)\n",
      "Requirement already satisfied: prompt-toolkit<3.1.0,>3.0.1 in c:\\users\\admin\\appdata\\local\\programs\\python\\python310\\lib\\site-packages (from ipython>=5.3.0->cufflinks) (3.0.31)\n",
      "Requirement already satisfied: colorama in c:\\users\\admin\\appdata\\local\\programs\\python\\python310\\lib\\site-packages (from ipython>=5.3.0->cufflinks) (0.4.5)\n",
      "Requirement already satisfied: pygments>=2.4.0 in c:\\users\\admin\\appdata\\local\\programs\\python\\python310\\lib\\site-packages (from ipython>=5.3.0->cufflinks) (2.13.0)\n",
      "Requirement already satisfied: stack-data in c:\\users\\admin\\appdata\\local\\programs\\python\\python310\\lib\\site-packages (from ipython>=5.3.0->cufflinks) (0.5.0)\n",
      "Requirement already satisfied: backcall in c:\\users\\admin\\appdata\\local\\programs\\python\\python310\\lib\\site-packages (from ipython>=5.3.0->cufflinks) (0.2.0)\n",
      "Requirement already satisfied: jedi>=0.16 in c:\\users\\admin\\appdata\\local\\programs\\python\\python310\\lib\\site-packages (from ipython>=5.3.0->cufflinks) (0.18.1)\n",
      "Requirement already satisfied: matplotlib-inline in c:\\users\\admin\\appdata\\local\\programs\\python\\python310\\lib\\site-packages (from ipython>=5.3.0->cufflinks) (0.1.6)\n",
      "Requirement already satisfied: jupyterlab-widgets~=3.0 in c:\\users\\admin\\appdata\\local\\programs\\python\\python310\\lib\\site-packages (from ipywidgets>=7.0.0->cufflinks) (3.0.5)\n",
      "Requirement already satisfied: widgetsnbextension~=4.0 in c:\\users\\admin\\appdata\\local\\programs\\python\\python310\\lib\\site-packages (from ipywidgets>=7.0.0->cufflinks) (4.0.5)\n",
      "Requirement already satisfied: ipykernel>=4.5.1 in c:\\users\\admin\\appdata\\local\\programs\\python\\python310\\lib\\site-packages (from ipywidgets>=7.0.0->cufflinks) (6.15.3)\n",
      "Requirement already satisfied: python-dateutil>=2.8.1 in c:\\users\\admin\\appdata\\local\\programs\\python\\python310\\lib\\site-packages (from pandas>=0.19.2->cufflinks) (2.8.2)\n",
      "Requirement already satisfied: pytz>=2020.1 in c:\\users\\admin\\appdata\\local\\programs\\python\\python310\\lib\\site-packages (from pandas>=0.19.2->cufflinks) (2022.7.1)\n",
      "Requirement already satisfied: tenacity>=6.2.0 in c:\\users\\admin\\appdata\\local\\programs\\python\\python310\\lib\\site-packages (from plotly>=4.1.1->cufflinks) (8.1.0)\n",
      "Requirement already satisfied: tornado>=6.1 in c:\\users\\admin\\appdata\\local\\programs\\python\\python310\\lib\\site-packages (from ipykernel>=4.5.1->ipywidgets>=7.0.0->cufflinks) (6.2)\n",
      "Requirement already satisfied: jupyter-client>=6.1.12 in c:\\users\\admin\\appdata\\local\\programs\\python\\python310\\lib\\site-packages (from ipykernel>=4.5.1->ipywidgets>=7.0.0->cufflinks) (8.0.1)\n",
      "Requirement already satisfied: packaging in c:\\users\\admin\\appdata\\local\\programs\\python\\python310\\lib\\site-packages (from ipykernel>=4.5.1->ipywidgets>=7.0.0->cufflinks) (21.3)\n",
      "Requirement already satisfied: debugpy>=1.0 in c:\\users\\admin\\appdata\\local\\programs\\python\\python310\\lib\\site-packages (from ipykernel>=4.5.1->ipywidgets>=7.0.0->cufflinks) (1.6.3)\n",
      "Requirement already satisfied: psutil in c:\\users\\admin\\appdata\\local\\programs\\python\\python310\\lib\\site-packages (from ipykernel>=4.5.1->ipywidgets>=7.0.0->cufflinks) (5.9.2)\n",
      "Requirement already satisfied: nest-asyncio in c:\\users\\admin\\appdata\\local\\programs\\python\\python310\\lib\\site-packages (from ipykernel>=4.5.1->ipywidgets>=7.0.0->cufflinks) (1.5.5)\n",
      "Requirement already satisfied: pyzmq>=17 in c:\\users\\admin\\appdata\\local\\programs\\python\\python310\\lib\\site-packages (from ipykernel>=4.5.1->ipywidgets>=7.0.0->cufflinks) (24.0.1)\n",
      "Requirement already satisfied: parso<0.9.0,>=0.8.0 in c:\\users\\admin\\appdata\\local\\programs\\python\\python310\\lib\\site-packages (from jedi>=0.16->ipython>=5.3.0->cufflinks) (0.8.3)\n",
      "Requirement already satisfied: wcwidth in c:\\users\\admin\\appdata\\local\\programs\\python\\python310\\lib\\site-packages (from prompt-toolkit<3.1.0,>3.0.1->ipython>=5.3.0->cufflinks) (0.2.5)\n",
      "Requirement already satisfied: asttokens in c:\\users\\admin\\appdata\\local\\programs\\python\\python310\\lib\\site-packages (from stack-data->ipython>=5.3.0->cufflinks) (2.0.8)\n",
      "Requirement already satisfied: pure-eval in c:\\users\\admin\\appdata\\local\\programs\\python\\python310\\lib\\site-packages (from stack-data->ipython>=5.3.0->cufflinks) (0.2.2)\n",
      "Requirement already satisfied: executing in c:\\users\\admin\\appdata\\local\\programs\\python\\python310\\lib\\site-packages (from stack-data->ipython>=5.3.0->cufflinks) (1.0.0)\n",
      "Requirement already satisfied: jupyter-core!=5.0.*,>=4.12 in c:\\users\\admin\\appdata\\local\\programs\\python\\python310\\lib\\site-packages (from jupyter-client>=6.1.12->ipykernel>=4.5.1->ipywidgets>=7.0.0->cufflinks) (5.1.5)\n",
      "Requirement already satisfied: pyparsing!=3.0.5,>=2.0.2 in c:\\users\\admin\\appdata\\local\\programs\\python\\python310\\lib\\site-packages (from packaging->ipykernel>=4.5.1->ipywidgets>=7.0.0->cufflinks) (3.0.9)\n",
      "Requirement already satisfied: pywin32>=1.0 in c:\\users\\admin\\appdata\\local\\programs\\python\\python310\\lib\\site-packages (from jupyter-core!=5.0.*,>=4.12->jupyter-client>=6.1.12->ipykernel>=4.5.1->ipywidgets>=7.0.0->cufflinks) (304)\n",
      "Requirement already satisfied: platformdirs>=2.5 in c:\\users\\admin\\appdata\\local\\programs\\python\\python310\\lib\\site-packages (from jupyter-core!=5.0.*,>=4.12->jupyter-client>=6.1.12->ipykernel>=4.5.1->ipywidgets>=7.0.0->cufflinks) (2.6.2)\n",
      "Installing collected packages: ipywidgets, cufflinks\n",
      "  Running setup.py install for cufflinks: started\n",
      "  Running setup.py install for cufflinks: finished with status 'done'\n",
      "Successfully installed cufflinks-0.17.3 ipywidgets-8.0.4\n",
      "Note: you may need to restart the kernel to use updated packages.\n"
     ]
    },
    {
     "name": "stderr",
     "output_type": "stream",
     "text": [
      "  DEPRECATION: cufflinks is being installed using the legacy 'setup.py install' method, because it does not have a 'pyproject.toml' and the 'wheel' package is not installed. pip 23.1 will enforce this behaviour change. A possible replacement is to enable the '--use-pep517' option. Discussion can be found at https://github.com/pypa/pip/issues/8559\n"
     ]
    }
   ],
   "source": [
    "pip install cufflinks"
   ]
  },
  {
   "cell_type": "code",
   "execution_count": null,
   "metadata": {},
   "outputs": [
    {
     "name": "stdout",
     "output_type": "stream",
     "text": [
      "Collecting seaborn\n",
      "  Downloading seaborn-0.12.2-py3-none-any.whl (293 kB)\n",
      "     -------------------------------------- 293.3/293.3 kB 1.1 MB/s eta 0:00:00\n",
      "Requirement already satisfied: pandas>=0.25 in c:\\users\\admin\\appdata\\local\\programs\\python\\python310\\lib\\site-packages (from seaborn) (1.5.3)\n",
      "Collecting matplotlib!=3.6.1,>=3.1\n",
      "  Downloading matplotlib-3.6.3-cp310-cp310-win_amd64.whl (7.2 MB)\n",
      "     ---------------------------------------- 7.2/7.2 MB 2.4 MB/s eta 0:00:00\n",
      "Requirement already satisfied: numpy!=1.24.0,>=1.17 in c:\\users\\admin\\appdata\\local\\programs\\python\\python310\\lib\\site-packages (from seaborn) (1.24.1)\n",
      "Collecting pillow>=6.2.0\n",
      "  Downloading Pillow-9.4.0-cp310-cp310-win_amd64.whl (2.5 MB)\n",
      "     ---------------------------------------- 2.5/2.5 MB 4.0 MB/s eta 0:00:00\n",
      "Requirement already satisfied: packaging>=20.0 in c:\\users\\admin\\appdata\\local\\programs\\python\\python310\\lib\\site-packages (from matplotlib!=3.6.1,>=3.1->seaborn) (21.3)\n",
      "Collecting fonttools>=4.22.0\n",
      "  Downloading fonttools-4.38.0-py3-none-any.whl (965 kB)\n",
      "     -------------------------------------- 965.4/965.4 kB 4.4 MB/s eta 0:00:00\n",
      "Requirement already satisfied: pyparsing>=2.2.1 in c:\\users\\admin\\appdata\\local\\programs\\python\\python310\\lib\\site-packages (from matplotlib!=3.6.1,>=3.1->seaborn) (3.0.9)\n",
      "Requirement already satisfied: python-dateutil>=2.7 in c:\\users\\admin\\appdata\\local\\programs\\python\\python310\\lib\\site-packages (from matplotlib!=3.6.1,>=3.1->seaborn) (2.8.2)\n",
      "Collecting contourpy>=1.0.1\n",
      "  Downloading contourpy-1.0.7-cp310-cp310-win_amd64.whl (162 kB)\n",
      "     -------------------------------------- 163.0/163.0 kB 2.4 MB/s eta 0:00:00\n",
      "Collecting kiwisolver>=1.0.1\n",
      "  Downloading kiwisolver-1.4.4-cp310-cp310-win_amd64.whl (55 kB)\n",
      "     -------------------------------------- 55.3/55.3 kB 321.6 kB/s eta 0:00:00\n",
      "Collecting cycler>=0.10\n",
      "  Downloading cycler-0.11.0-py3-none-any.whl (6.4 kB)\n",
      "Requirement already satisfied: pytz>=2020.1 in c:\\users\\admin\\appdata\\local\\programs\\python\\python310\\lib\\site-packages (from pandas>=0.25->seaborn) (2022.7.1)\n",
      "Requirement already satisfied: six>=1.5 in c:\\users\\admin\\appdata\\local\\programs\\python\\python310\\lib\\site-packages (from python-dateutil>=2.7->matplotlib!=3.6.1,>=3.1->seaborn) (1.16.0)\n",
      "Installing collected packages: pillow, kiwisolver, fonttools, cycler, contourpy, matplotlib, seaborn\n",
      "Successfully installed contourpy-1.0.7 cycler-0.11.0 fonttools-4.38.0 kiwisolver-1.4.4 matplotlib-3.6.3 pillow-9.4.0 seaborn-0.12.2\n",
      "Note: you may need to restart the kernel to use updated packages.\n"
     ]
    },
    {
     "name": "stderr",
     "output_type": "stream",
     "text": [
      "  WARNING: The scripts fonttools.exe, pyftmerge.exe, pyftsubset.exe and ttx.exe are installed in 'c:\\Users\\Admin\\AppData\\Local\\Programs\\Python\\Python310\\Scripts' which is not on PATH.\n",
      "  Consider adding this directory to PATH or, if you prefer to suppress this warning, use --no-warn-script-location.\n"
     ]
    }
   ],
   "source": [
    "pip install seaborn"
   ]
  },
  {
   "cell_type": "code",
   "execution_count": null,
   "metadata": {},
   "outputs": [],
   "source": [
    "import cufflinks as cf\n",
    "import numpy as np\n",
    "import pandas as pd\n",
    "import seaborn as sns"
   ]
  },
  {
   "cell_type": "code",
   "execution_count": null,
   "metadata": {},
   "outputs": [
    {
     "name": "stdout",
     "output_type": "stream",
     "text": [
      "Collecting chart-studioNote: you may need to restart the kernel to use updated packages.\n",
      "\n",
      "  Downloading chart_studio-1.1.0-py3-none-any.whl (64 kB)\n",
      "     ---------------------------------------- 64.4/64.4 kB 1.2 MB/s eta 0:00:00\n",
      "Collecting retrying>=1.3.3\n",
      "  Downloading retrying-1.3.4-py3-none-any.whl (11 kB)\n",
      "Requirement already satisfied: six in c:\\users\\admin\\appdata\\local\\programs\\python\\python310\\lib\\site-packages (from chart-studio) (1.16.0)\n",
      "Requirement already satisfied: plotly in c:\\users\\admin\\appdata\\local\\programs\\python\\python310\\lib\\site-packages (from chart-studio) (5.13.0)\n",
      "Requirement already satisfied: requests in c:\\users\\admin\\appdata\\local\\programs\\python\\python310\\lib\\site-packages (from chart-studio) (2.28.2)\n",
      "Requirement already satisfied: tenacity>=6.2.0 in c:\\users\\admin\\appdata\\local\\programs\\python\\python310\\lib\\site-packages (from plotly->chart-studio) (8.1.0)\n",
      "Requirement already satisfied: charset-normalizer<4,>=2 in c:\\users\\admin\\appdata\\local\\programs\\python\\python310\\lib\\site-packages (from requests->chart-studio) (3.0.1)\n",
      "Requirement already satisfied: urllib3<1.27,>=1.21.1 in c:\\users\\admin\\appdata\\local\\programs\\python\\python310\\lib\\site-packages (from requests->chart-studio) (1.26.14)\n",
      "Requirement already satisfied: certifi>=2017.4.17 in c:\\users\\admin\\appdata\\local\\programs\\python\\python310\\lib\\site-packages (from requests->chart-studio) (2022.12.7)\n",
      "Requirement already satisfied: idna<4,>=2.5 in c:\\users\\admin\\appdata\\local\\programs\\python\\python310\\lib\\site-packages (from requests->chart-studio) (3.4)\n",
      "Installing collected packages: retrying, chart-studio\n",
      "Successfully installed chart-studio-1.1.0 retrying-1.3.4\n"
     ]
    }
   ],
   "source": [
    "pip install chart-studio"
   ]
  },
  {
   "cell_type": "code",
   "execution_count": null,
   "metadata": {},
   "outputs": [],
   "source": [
    "df = pd.DataFrame(np.random.randn(100,3), columns=[\"A\",\"B\",\"C\"])"
   ]
  },
  {
   "cell_type": "code",
   "execution_count": null,
   "metadata": {},
   "outputs": [
    {
     "data": {
      "text/html": [
       "<div>\n",
       "<style scoped>\n",
       "    .dataframe tbody tr th:only-of-type {\n",
       "        vertical-align: middle;\n",
       "    }\n",
       "\n",
       "    .dataframe tbody tr th {\n",
       "        vertical-align: top;\n",
       "    }\n",
       "\n",
       "    .dataframe thead th {\n",
       "        text-align: right;\n",
       "    }\n",
       "</style>\n",
       "<table border=\"1\" class=\"dataframe\">\n",
       "  <thead>\n",
       "    <tr style=\"text-align: right;\">\n",
       "      <th></th>\n",
       "      <th>A</th>\n",
       "      <th>B</th>\n",
       "      <th>C</th>\n",
       "    </tr>\n",
       "  </thead>\n",
       "  <tbody>\n",
       "    <tr>\n",
       "      <th>0</th>\n",
       "      <td>0.719020</td>\n",
       "      <td>0.260417</td>\n",
       "      <td>-2.130460</td>\n",
       "    </tr>\n",
       "    <tr>\n",
       "      <th>1</th>\n",
       "      <td>1.039579</td>\n",
       "      <td>0.485236</td>\n",
       "      <td>0.113546</td>\n",
       "    </tr>\n",
       "    <tr>\n",
       "      <th>2</th>\n",
       "      <td>-1.924599</td>\n",
       "      <td>-0.204418</td>\n",
       "      <td>-1.016020</td>\n",
       "    </tr>\n",
       "    <tr>\n",
       "      <th>3</th>\n",
       "      <td>0.162013</td>\n",
       "      <td>0.415637</td>\n",
       "      <td>-0.347436</td>\n",
       "    </tr>\n",
       "    <tr>\n",
       "      <th>4</th>\n",
       "      <td>-1.613818</td>\n",
       "      <td>0.829515</td>\n",
       "      <td>-0.105367</td>\n",
       "    </tr>\n",
       "    <tr>\n",
       "      <th>...</th>\n",
       "      <td>...</td>\n",
       "      <td>...</td>\n",
       "      <td>...</td>\n",
       "    </tr>\n",
       "    <tr>\n",
       "      <th>95</th>\n",
       "      <td>0.762759</td>\n",
       "      <td>1.473448</td>\n",
       "      <td>1.065522</td>\n",
       "    </tr>\n",
       "    <tr>\n",
       "      <th>96</th>\n",
       "      <td>1.748716</td>\n",
       "      <td>0.419580</td>\n",
       "      <td>-1.328715</td>\n",
       "    </tr>\n",
       "    <tr>\n",
       "      <th>97</th>\n",
       "      <td>-0.393093</td>\n",
       "      <td>-0.514692</td>\n",
       "      <td>1.126845</td>\n",
       "    </tr>\n",
       "    <tr>\n",
       "      <th>98</th>\n",
       "      <td>0.499655</td>\n",
       "      <td>1.641669</td>\n",
       "      <td>-0.696615</td>\n",
       "    </tr>\n",
       "    <tr>\n",
       "      <th>99</th>\n",
       "      <td>0.949542</td>\n",
       "      <td>-0.910633</td>\n",
       "      <td>0.574627</td>\n",
       "    </tr>\n",
       "  </tbody>\n",
       "</table>\n",
       "<p>100 rows × 3 columns</p>\n",
       "</div>"
      ],
      "text/plain": [
       "           A         B         C\n",
       "0   0.719020  0.260417 -2.130460\n",
       "1   1.039579  0.485236  0.113546\n",
       "2  -1.924599 -0.204418 -1.016020\n",
       "3   0.162013  0.415637 -0.347436\n",
       "4  -1.613818  0.829515 -0.105367\n",
       "..       ...       ...       ...\n",
       "95  0.762759  1.473448  1.065522\n",
       "96  1.748716  0.419580 -1.328715\n",
       "97 -0.393093 -0.514692  1.126845\n",
       "98  0.499655  1.641669 -0.696615\n",
       "99  0.949542 -0.910633  0.574627\n",
       "\n",
       "[100 rows x 3 columns]"
      ]
     },
     "execution_count": 4,
     "metadata": {},
     "output_type": "execute_result"
    }
   ],
   "source": [
    "df"
   ]
  },
  {
   "cell_type": "code",
   "execution_count": null,
   "metadata": {},
   "outputs": [
    {
     "name": "stdout",
     "output_type": "stream",
     "text": [
      "Requirement already satisfied: plotly in c:\\users\\admin\\appdata\\local\\programs\\python\\python310\\lib\\site-packages (5.13.0)\n",
      "Requirement already satisfied: tenacity>=6.2.0 in c:\\users\\admin\\appdata\\local\\programs\\python\\python310\\lib\\site-packages (from plotly) (8.1.0)\n",
      "Note: you may need to restart the kernel to use updated packages.\n"
     ]
    }
   ],
   "source": [
    "pip install plotly"
   ]
  },
  {
   "cell_type": "code",
   "execution_count": null,
   "metadata": {},
   "outputs": [
    {
     "data": {
      "text/html": [
       "        <script type=\"text/javascript\">\n",
       "        window.PlotlyConfig = {MathJaxConfig: 'local'};\n",
       "        if (window.MathJax && window.MathJax.Hub && window.MathJax.Hub.Config) {window.MathJax.Hub.Config({SVG: {font: \"STIX-Web\"}});}\n",
       "        if (typeof require !== 'undefined') {\n",
       "        require.undef(\"plotly\");\n",
       "        requirejs.config({\n",
       "            paths: {\n",
       "                'plotly': ['https://cdn.plot.ly/plotly-2.18.0.min']\n",
       "            }\n",
       "        });\n",
       "        require(['plotly'], function(Plotly) {\n",
       "            window._Plotly = Plotly;\n",
       "        });\n",
       "        }\n",
       "        </script>\n",
       "        "
      ]
     },
     "metadata": {},
     "output_type": "display_data"
    }
   ],
   "source": [
    "cf.go_offline()"
   ]
  },
  {
   "cell_type": "code",
   "execution_count": null,
   "metadata": {},
   "outputs": [
    {
     "data": {
      "application/vnd.plotly.v1+json": {
       "config": {
        "linkText": "Export to plot.ly",
        "plotlyServerURL": "https://plot.ly",
        "showLink": true
       },
       "data": [
        {
         "line": {
          "color": "rgba(255, 153, 51, 1.0)",
          "dash": "solid",
          "shape": "linear",
          "width": 1.3
         },
         "mode": "lines",
         "name": "A",
         "text": "",
         "type": "scatter",
         "x": [
          0,
          1,
          2,
          3,
          4,
          5,
          6,
          7,
          8,
          9,
          10,
          11,
          12,
          13,
          14,
          15,
          16,
          17,
          18,
          19,
          20,
          21,
          22,
          23,
          24,
          25,
          26,
          27,
          28,
          29,
          30,
          31,
          32,
          33,
          34,
          35,
          36,
          37,
          38,
          39,
          40,
          41,
          42,
          43,
          44,
          45,
          46,
          47,
          48,
          49,
          50,
          51,
          52,
          53,
          54,
          55,
          56,
          57,
          58,
          59,
          60,
          61,
          62,
          63,
          64,
          65,
          66,
          67,
          68,
          69,
          70,
          71,
          72,
          73,
          74,
          75,
          76,
          77,
          78,
          79,
          80,
          81,
          82,
          83,
          84,
          85,
          86,
          87,
          88,
          89,
          90,
          91,
          92,
          93,
          94,
          95,
          96,
          97,
          98,
          99
         ],
         "y": [
          0.719020188560488,
          1.0395787924096667,
          -1.924599081647354,
          0.1620125421714415,
          -1.6138181491741923,
          0.08463759493895782,
          -0.31883254027817587,
          -0.3363422611787129,
          -1.041069051631033,
          -0.07221515859039229,
          -0.27063111188824074,
          -0.7624398845097848,
          -1.4845246308701543,
          -0.23989017707883664,
          -0.5781629602737218,
          0.2934055932760626,
          -0.2165537895216697,
          -1.7404454067333877,
          0.05756991291794581,
          1.1562790820521711,
          -0.14719415284072773,
          -0.23935793174569867,
          -1.7916840945909198,
          -1.2536849035151936,
          0.7813601495043739,
          -0.5219276287643156,
          0.8371777057024352,
          0.7202609864977699,
          1.8625411871037447,
          -0.4654043134717295,
          0.21078806066453784,
          -0.8132011651427288,
          -0.8404855433029241,
          1.6582735392813595,
          0.2684346254669556,
          1.513832844783593,
          -1.355800904644444,
          -0.20943560351497303,
          1.0146971777212066,
          -0.5685200421420943,
          1.5189026223882425,
          0.3033665295634289,
          -1.3433203859206568,
          1.5723283645843638,
          0.05118297713505339,
          -0.09803851515734333,
          -0.7778090210732546,
          -1.109559753537179,
          2.223372131694284,
          -0.8476444755849565,
          -0.30189465995043097,
          -0.8457081678055,
          0.11561028045271893,
          -2.347563791907429,
          -1.9692797109292641,
          -0.6414091517567236,
          -0.8632843303900418,
          0.5059668001500867,
          0.7743460696158662,
          0.9845705869664665,
          -1.0280249573305034,
          -0.9922377066544636,
          0.2990680240287931,
          0.6275813810691222,
          -1.069078336954399,
          -0.34661682890306694,
          -1.2835516733734889,
          0.4578852591285197,
          -0.3477568905946247,
          -0.824751271441432,
          0.8260001061290053,
          -1.3846137274216102,
          0.5788019102337522,
          -0.5484583864434106,
          0.1594441999914099,
          -1.041213898585818,
          -1.5254213787793942,
          -0.8020818453516422,
          -0.3549157959815899,
          -0.3165361152891628,
          0.28290594988957163,
          0.4823585754346701,
          -2.0245804606665705,
          -0.24696528195410555,
          0.9818611227670764,
          1.477150101842571,
          0.4403680123619945,
          0.3422404582718749,
          0.5919494916611322,
          -1.3544815643522023,
          -0.5550617706258056,
          0.5967640445602802,
          0.49450729676203264,
          3.067592185610425,
          -1.518798448281656,
          0.7627588265900882,
          1.7487164601998126,
          -0.39309294420107505,
          0.4996553682612165,
          0.9495423997932441
         ]
        }
       ],
       "layout": {
        "legend": {
         "bgcolor": "#F5F6F9",
         "font": {
          "color": "#4D5663"
         }
        },
        "paper_bgcolor": "#F5F6F9",
        "plot_bgcolor": "#F5F6F9",
        "template": {
         "data": {
          "bar": [
           {
            "error_x": {
             "color": "#2a3f5f"
            },
            "error_y": {
             "color": "#2a3f5f"
            },
            "marker": {
             "line": {
              "color": "#E5ECF6",
              "width": 0.5
             },
             "pattern": {
              "fillmode": "overlay",
              "size": 10,
              "solidity": 0.2
             }
            },
            "type": "bar"
           }
          ],
          "barpolar": [
           {
            "marker": {
             "line": {
              "color": "#E5ECF6",
              "width": 0.5
             },
             "pattern": {
              "fillmode": "overlay",
              "size": 10,
              "solidity": 0.2
             }
            },
            "type": "barpolar"
           }
          ],
          "carpet": [
           {
            "aaxis": {
             "endlinecolor": "#2a3f5f",
             "gridcolor": "white",
             "linecolor": "white",
             "minorgridcolor": "white",
             "startlinecolor": "#2a3f5f"
            },
            "baxis": {
             "endlinecolor": "#2a3f5f",
             "gridcolor": "white",
             "linecolor": "white",
             "minorgridcolor": "white",
             "startlinecolor": "#2a3f5f"
            },
            "type": "carpet"
           }
          ],
          "choropleth": [
           {
            "colorbar": {
             "outlinewidth": 0,
             "ticks": ""
            },
            "type": "choropleth"
           }
          ],
          "contour": [
           {
            "colorbar": {
             "outlinewidth": 0,
             "ticks": ""
            },
            "colorscale": [
             [
              0,
              "#0d0887"
             ],
             [
              0.1111111111111111,
              "#46039f"
             ],
             [
              0.2222222222222222,
              "#7201a8"
             ],
             [
              0.3333333333333333,
              "#9c179e"
             ],
             [
              0.4444444444444444,
              "#bd3786"
             ],
             [
              0.5555555555555556,
              "#d8576b"
             ],
             [
              0.6666666666666666,
              "#ed7953"
             ],
             [
              0.7777777777777778,
              "#fb9f3a"
             ],
             [
              0.8888888888888888,
              "#fdca26"
             ],
             [
              1,
              "#f0f921"
             ]
            ],
            "type": "contour"
           }
          ],
          "contourcarpet": [
           {
            "colorbar": {
             "outlinewidth": 0,
             "ticks": ""
            },
            "type": "contourcarpet"
           }
          ],
          "heatmap": [
           {
            "colorbar": {
             "outlinewidth": 0,
             "ticks": ""
            },
            "colorscale": [
             [
              0,
              "#0d0887"
             ],
             [
              0.1111111111111111,
              "#46039f"
             ],
             [
              0.2222222222222222,
              "#7201a8"
             ],
             [
              0.3333333333333333,
              "#9c179e"
             ],
             [
              0.4444444444444444,
              "#bd3786"
             ],
             [
              0.5555555555555556,
              "#d8576b"
             ],
             [
              0.6666666666666666,
              "#ed7953"
             ],
             [
              0.7777777777777778,
              "#fb9f3a"
             ],
             [
              0.8888888888888888,
              "#fdca26"
             ],
             [
              1,
              "#f0f921"
             ]
            ],
            "type": "heatmap"
           }
          ],
          "heatmapgl": [
           {
            "colorbar": {
             "outlinewidth": 0,
             "ticks": ""
            },
            "colorscale": [
             [
              0,
              "#0d0887"
             ],
             [
              0.1111111111111111,
              "#46039f"
             ],
             [
              0.2222222222222222,
              "#7201a8"
             ],
             [
              0.3333333333333333,
              "#9c179e"
             ],
             [
              0.4444444444444444,
              "#bd3786"
             ],
             [
              0.5555555555555556,
              "#d8576b"
             ],
             [
              0.6666666666666666,
              "#ed7953"
             ],
             [
              0.7777777777777778,
              "#fb9f3a"
             ],
             [
              0.8888888888888888,
              "#fdca26"
             ],
             [
              1,
              "#f0f921"
             ]
            ],
            "type": "heatmapgl"
           }
          ],
          "histogram": [
           {
            "marker": {
             "pattern": {
              "fillmode": "overlay",
              "size": 10,
              "solidity": 0.2
             }
            },
            "type": "histogram"
           }
          ],
          "histogram2d": [
           {
            "colorbar": {
             "outlinewidth": 0,
             "ticks": ""
            },
            "colorscale": [
             [
              0,
              "#0d0887"
             ],
             [
              0.1111111111111111,
              "#46039f"
             ],
             [
              0.2222222222222222,
              "#7201a8"
             ],
             [
              0.3333333333333333,
              "#9c179e"
             ],
             [
              0.4444444444444444,
              "#bd3786"
             ],
             [
              0.5555555555555556,
              "#d8576b"
             ],
             [
              0.6666666666666666,
              "#ed7953"
             ],
             [
              0.7777777777777778,
              "#fb9f3a"
             ],
             [
              0.8888888888888888,
              "#fdca26"
             ],
             [
              1,
              "#f0f921"
             ]
            ],
            "type": "histogram2d"
           }
          ],
          "histogram2dcontour": [
           {
            "colorbar": {
             "outlinewidth": 0,
             "ticks": ""
            },
            "colorscale": [
             [
              0,
              "#0d0887"
             ],
             [
              0.1111111111111111,
              "#46039f"
             ],
             [
              0.2222222222222222,
              "#7201a8"
             ],
             [
              0.3333333333333333,
              "#9c179e"
             ],
             [
              0.4444444444444444,
              "#bd3786"
             ],
             [
              0.5555555555555556,
              "#d8576b"
             ],
             [
              0.6666666666666666,
              "#ed7953"
             ],
             [
              0.7777777777777778,
              "#fb9f3a"
             ],
             [
              0.8888888888888888,
              "#fdca26"
             ],
             [
              1,
              "#f0f921"
             ]
            ],
            "type": "histogram2dcontour"
           }
          ],
          "mesh3d": [
           {
            "colorbar": {
             "outlinewidth": 0,
             "ticks": ""
            },
            "type": "mesh3d"
           }
          ],
          "parcoords": [
           {
            "line": {
             "colorbar": {
              "outlinewidth": 0,
              "ticks": ""
             }
            },
            "type": "parcoords"
           }
          ],
          "pie": [
           {
            "automargin": true,
            "type": "pie"
           }
          ],
          "scatter": [
           {
            "fillpattern": {
             "fillmode": "overlay",
             "size": 10,
             "solidity": 0.2
            },
            "type": "scatter"
           }
          ],
          "scatter3d": [
           {
            "line": {
             "colorbar": {
              "outlinewidth": 0,
              "ticks": ""
             }
            },
            "marker": {
             "colorbar": {
              "outlinewidth": 0,
              "ticks": ""
             }
            },
            "type": "scatter3d"
           }
          ],
          "scattercarpet": [
           {
            "marker": {
             "colorbar": {
              "outlinewidth": 0,
              "ticks": ""
             }
            },
            "type": "scattercarpet"
           }
          ],
          "scattergeo": [
           {
            "marker": {
             "colorbar": {
              "outlinewidth": 0,
              "ticks": ""
             }
            },
            "type": "scattergeo"
           }
          ],
          "scattergl": [
           {
            "marker": {
             "colorbar": {
              "outlinewidth": 0,
              "ticks": ""
             }
            },
            "type": "scattergl"
           }
          ],
          "scattermapbox": [
           {
            "marker": {
             "colorbar": {
              "outlinewidth": 0,
              "ticks": ""
             }
            },
            "type": "scattermapbox"
           }
          ],
          "scatterpolar": [
           {
            "marker": {
             "colorbar": {
              "outlinewidth": 0,
              "ticks": ""
             }
            },
            "type": "scatterpolar"
           }
          ],
          "scatterpolargl": [
           {
            "marker": {
             "colorbar": {
              "outlinewidth": 0,
              "ticks": ""
             }
            },
            "type": "scatterpolargl"
           }
          ],
          "scatterternary": [
           {
            "marker": {
             "colorbar": {
              "outlinewidth": 0,
              "ticks": ""
             }
            },
            "type": "scatterternary"
           }
          ],
          "surface": [
           {
            "colorbar": {
             "outlinewidth": 0,
             "ticks": ""
            },
            "colorscale": [
             [
              0,
              "#0d0887"
             ],
             [
              0.1111111111111111,
              "#46039f"
             ],
             [
              0.2222222222222222,
              "#7201a8"
             ],
             [
              0.3333333333333333,
              "#9c179e"
             ],
             [
              0.4444444444444444,
              "#bd3786"
             ],
             [
              0.5555555555555556,
              "#d8576b"
             ],
             [
              0.6666666666666666,
              "#ed7953"
             ],
             [
              0.7777777777777778,
              "#fb9f3a"
             ],
             [
              0.8888888888888888,
              "#fdca26"
             ],
             [
              1,
              "#f0f921"
             ]
            ],
            "type": "surface"
           }
          ],
          "table": [
           {
            "cells": {
             "fill": {
              "color": "#EBF0F8"
             },
             "line": {
              "color": "white"
             }
            },
            "header": {
             "fill": {
              "color": "#C8D4E3"
             },
             "line": {
              "color": "white"
             }
            },
            "type": "table"
           }
          ]
         },
         "layout": {
          "annotationdefaults": {
           "arrowcolor": "#2a3f5f",
           "arrowhead": 0,
           "arrowwidth": 1
          },
          "autotypenumbers": "strict",
          "coloraxis": {
           "colorbar": {
            "outlinewidth": 0,
            "ticks": ""
           }
          },
          "colorscale": {
           "diverging": [
            [
             0,
             "#8e0152"
            ],
            [
             0.1,
             "#c51b7d"
            ],
            [
             0.2,
             "#de77ae"
            ],
            [
             0.3,
             "#f1b6da"
            ],
            [
             0.4,
             "#fde0ef"
            ],
            [
             0.5,
             "#f7f7f7"
            ],
            [
             0.6,
             "#e6f5d0"
            ],
            [
             0.7,
             "#b8e186"
            ],
            [
             0.8,
             "#7fbc41"
            ],
            [
             0.9,
             "#4d9221"
            ],
            [
             1,
             "#276419"
            ]
           ],
           "sequential": [
            [
             0,
             "#0d0887"
            ],
            [
             0.1111111111111111,
             "#46039f"
            ],
            [
             0.2222222222222222,
             "#7201a8"
            ],
            [
             0.3333333333333333,
             "#9c179e"
            ],
            [
             0.4444444444444444,
             "#bd3786"
            ],
            [
             0.5555555555555556,
             "#d8576b"
            ],
            [
             0.6666666666666666,
             "#ed7953"
            ],
            [
             0.7777777777777778,
             "#fb9f3a"
            ],
            [
             0.8888888888888888,
             "#fdca26"
            ],
            [
             1,
             "#f0f921"
            ]
           ],
           "sequentialminus": [
            [
             0,
             "#0d0887"
            ],
            [
             0.1111111111111111,
             "#46039f"
            ],
            [
             0.2222222222222222,
             "#7201a8"
            ],
            [
             0.3333333333333333,
             "#9c179e"
            ],
            [
             0.4444444444444444,
             "#bd3786"
            ],
            [
             0.5555555555555556,
             "#d8576b"
            ],
            [
             0.6666666666666666,
             "#ed7953"
            ],
            [
             0.7777777777777778,
             "#fb9f3a"
            ],
            [
             0.8888888888888888,
             "#fdca26"
            ],
            [
             1,
             "#f0f921"
            ]
           ]
          },
          "colorway": [
           "#636efa",
           "#EF553B",
           "#00cc96",
           "#ab63fa",
           "#FFA15A",
           "#19d3f3",
           "#FF6692",
           "#B6E880",
           "#FF97FF",
           "#FECB52"
          ],
          "font": {
           "color": "#2a3f5f"
          },
          "geo": {
           "bgcolor": "white",
           "lakecolor": "white",
           "landcolor": "#E5ECF6",
           "showlakes": true,
           "showland": true,
           "subunitcolor": "white"
          },
          "hoverlabel": {
           "align": "left"
          },
          "hovermode": "closest",
          "mapbox": {
           "style": "light"
          },
          "paper_bgcolor": "white",
          "plot_bgcolor": "#E5ECF6",
          "polar": {
           "angularaxis": {
            "gridcolor": "white",
            "linecolor": "white",
            "ticks": ""
           },
           "bgcolor": "#E5ECF6",
           "radialaxis": {
            "gridcolor": "white",
            "linecolor": "white",
            "ticks": ""
           }
          },
          "scene": {
           "xaxis": {
            "backgroundcolor": "#E5ECF6",
            "gridcolor": "white",
            "gridwidth": 2,
            "linecolor": "white",
            "showbackground": true,
            "ticks": "",
            "zerolinecolor": "white"
           },
           "yaxis": {
            "backgroundcolor": "#E5ECF6",
            "gridcolor": "white",
            "gridwidth": 2,
            "linecolor": "white",
            "showbackground": true,
            "ticks": "",
            "zerolinecolor": "white"
           },
           "zaxis": {
            "backgroundcolor": "#E5ECF6",
            "gridcolor": "white",
            "gridwidth": 2,
            "linecolor": "white",
            "showbackground": true,
            "ticks": "",
            "zerolinecolor": "white"
           }
          },
          "shapedefaults": {
           "line": {
            "color": "#2a3f5f"
           }
          },
          "ternary": {
           "aaxis": {
            "gridcolor": "white",
            "linecolor": "white",
            "ticks": ""
           },
           "baxis": {
            "gridcolor": "white",
            "linecolor": "white",
            "ticks": ""
           },
           "bgcolor": "#E5ECF6",
           "caxis": {
            "gridcolor": "white",
            "linecolor": "white",
            "ticks": ""
           }
          },
          "title": {
           "x": 0.05
          },
          "xaxis": {
           "automargin": true,
           "gridcolor": "white",
           "linecolor": "white",
           "ticks": "",
           "title": {
            "standoff": 15
           },
           "zerolinecolor": "white",
           "zerolinewidth": 2
          },
          "yaxis": {
           "automargin": true,
           "gridcolor": "white",
           "linecolor": "white",
           "ticks": "",
           "title": {
            "standoff": 15
           },
           "zerolinecolor": "white",
           "zerolinewidth": 2
          }
         }
        },
        "title": {
         "font": {
          "color": "#4D5663"
         }
        },
        "xaxis": {
         "gridcolor": "#E1E5ED",
         "showgrid": true,
         "tickfont": {
          "color": "#4D5663"
         },
         "title": {
          "font": {
           "color": "#4D5663"
          },
          "text": ""
         },
         "zerolinecolor": "#E1E5ED"
        },
        "yaxis": {
         "gridcolor": "#E1E5ED",
         "showgrid": true,
         "tickfont": {
          "color": "#4D5663"
         },
         "title": {
          "font": {
           "color": "#4D5663"
          },
          "text": ""
         },
         "zerolinecolor": "#E1E5ED"
        }
       }
      },
      "text/html": [
       "<div>                            <div id=\"a0f05cd4-9003-48a6-b804-899fbf859318\" class=\"plotly-graph-div\" style=\"height:525px; width:100%;\"></div>            <script type=\"text/javascript\">                require([\"plotly\"], function(Plotly) {                    window.PLOTLYENV=window.PLOTLYENV || {};\n",
       "                    window.PLOTLYENV.BASE_URL='https://plot.ly';                                    if (document.getElementById(\"a0f05cd4-9003-48a6-b804-899fbf859318\")) {                    Plotly.newPlot(                        \"a0f05cd4-9003-48a6-b804-899fbf859318\",                        [{\"line\":{\"color\":\"rgba(255, 153, 51, 1.0)\",\"dash\":\"solid\",\"shape\":\"linear\",\"width\":1.3},\"mode\":\"lines\",\"name\":\"A\",\"text\":\"\",\"x\":[0,1,2,3,4,5,6,7,8,9,10,11,12,13,14,15,16,17,18,19,20,21,22,23,24,25,26,27,28,29,30,31,32,33,34,35,36,37,38,39,40,41,42,43,44,45,46,47,48,49,50,51,52,53,54,55,56,57,58,59,60,61,62,63,64,65,66,67,68,69,70,71,72,73,74,75,76,77,78,79,80,81,82,83,84,85,86,87,88,89,90,91,92,93,94,95,96,97,98,99],\"y\":[0.719020188560488,1.0395787924096667,-1.924599081647354,0.1620125421714415,-1.6138181491741923,0.08463759493895782,-0.31883254027817587,-0.3363422611787129,-1.041069051631033,-0.07221515859039229,-0.27063111188824074,-0.7624398845097848,-1.4845246308701543,-0.23989017707883664,-0.5781629602737218,0.2934055932760626,-0.2165537895216697,-1.7404454067333877,0.05756991291794581,1.1562790820521711,-0.14719415284072773,-0.23935793174569867,-1.7916840945909198,-1.2536849035151936,0.7813601495043739,-0.5219276287643156,0.8371777057024352,0.7202609864977699,1.8625411871037447,-0.4654043134717295,0.21078806066453784,-0.8132011651427288,-0.8404855433029241,1.6582735392813595,0.2684346254669556,1.513832844783593,-1.355800904644444,-0.20943560351497303,1.0146971777212066,-0.5685200421420943,1.5189026223882425,0.3033665295634289,-1.3433203859206568,1.5723283645843638,0.05118297713505339,-0.09803851515734333,-0.7778090210732546,-1.109559753537179,2.223372131694284,-0.8476444755849565,-0.30189465995043097,-0.8457081678055,0.11561028045271893,-2.347563791907429,-1.9692797109292641,-0.6414091517567236,-0.8632843303900418,0.5059668001500867,0.7743460696158662,0.9845705869664665,-1.0280249573305034,-0.9922377066544636,0.2990680240287931,0.6275813810691222,-1.069078336954399,-0.34661682890306694,-1.2835516733734889,0.4578852591285197,-0.3477568905946247,-0.824751271441432,0.8260001061290053,-1.3846137274216102,0.5788019102337522,-0.5484583864434106,0.1594441999914099,-1.041213898585818,-1.5254213787793942,-0.8020818453516422,-0.3549157959815899,-0.3165361152891628,0.28290594988957163,0.4823585754346701,-2.0245804606665705,-0.24696528195410555,0.9818611227670764,1.477150101842571,0.4403680123619945,0.3422404582718749,0.5919494916611322,-1.3544815643522023,-0.5550617706258056,0.5967640445602802,0.49450729676203264,3.067592185610425,-1.518798448281656,0.7627588265900882,1.7487164601998126,-0.39309294420107505,0.4996553682612165,0.9495423997932441],\"type\":\"scatter\"}],                        {\"legend\":{\"bgcolor\":\"#F5F6F9\",\"font\":{\"color\":\"#4D5663\"}},\"paper_bgcolor\":\"#F5F6F9\",\"plot_bgcolor\":\"#F5F6F9\",\"template\":{\"data\":{\"barpolar\":[{\"marker\":{\"line\":{\"color\":\"#E5ECF6\",\"width\":0.5},\"pattern\":{\"fillmode\":\"overlay\",\"size\":10,\"solidity\":0.2}},\"type\":\"barpolar\"}],\"bar\":[{\"error_x\":{\"color\":\"#2a3f5f\"},\"error_y\":{\"color\":\"#2a3f5f\"},\"marker\":{\"line\":{\"color\":\"#E5ECF6\",\"width\":0.5},\"pattern\":{\"fillmode\":\"overlay\",\"size\":10,\"solidity\":0.2}},\"type\":\"bar\"}],\"carpet\":[{\"aaxis\":{\"endlinecolor\":\"#2a3f5f\",\"gridcolor\":\"white\",\"linecolor\":\"white\",\"minorgridcolor\":\"white\",\"startlinecolor\":\"#2a3f5f\"},\"baxis\":{\"endlinecolor\":\"#2a3f5f\",\"gridcolor\":\"white\",\"linecolor\":\"white\",\"minorgridcolor\":\"white\",\"startlinecolor\":\"#2a3f5f\"},\"type\":\"carpet\"}],\"choropleth\":[{\"colorbar\":{\"outlinewidth\":0,\"ticks\":\"\"},\"type\":\"choropleth\"}],\"contourcarpet\":[{\"colorbar\":{\"outlinewidth\":0,\"ticks\":\"\"},\"type\":\"contourcarpet\"}],\"contour\":[{\"colorbar\":{\"outlinewidth\":0,\"ticks\":\"\"},\"colorscale\":[[0.0,\"#0d0887\"],[0.1111111111111111,\"#46039f\"],[0.2222222222222222,\"#7201a8\"],[0.3333333333333333,\"#9c179e\"],[0.4444444444444444,\"#bd3786\"],[0.5555555555555556,\"#d8576b\"],[0.6666666666666666,\"#ed7953\"],[0.7777777777777778,\"#fb9f3a\"],[0.8888888888888888,\"#fdca26\"],[1.0,\"#f0f921\"]],\"type\":\"contour\"}],\"heatmapgl\":[{\"colorbar\":{\"outlinewidth\":0,\"ticks\":\"\"},\"colorscale\":[[0.0,\"#0d0887\"],[0.1111111111111111,\"#46039f\"],[0.2222222222222222,\"#7201a8\"],[0.3333333333333333,\"#9c179e\"],[0.4444444444444444,\"#bd3786\"],[0.5555555555555556,\"#d8576b\"],[0.6666666666666666,\"#ed7953\"],[0.7777777777777778,\"#fb9f3a\"],[0.8888888888888888,\"#fdca26\"],[1.0,\"#f0f921\"]],\"type\":\"heatmapgl\"}],\"heatmap\":[{\"colorbar\":{\"outlinewidth\":0,\"ticks\":\"\"},\"colorscale\":[[0.0,\"#0d0887\"],[0.1111111111111111,\"#46039f\"],[0.2222222222222222,\"#7201a8\"],[0.3333333333333333,\"#9c179e\"],[0.4444444444444444,\"#bd3786\"],[0.5555555555555556,\"#d8576b\"],[0.6666666666666666,\"#ed7953\"],[0.7777777777777778,\"#fb9f3a\"],[0.8888888888888888,\"#fdca26\"],[1.0,\"#f0f921\"]],\"type\":\"heatmap\"}],\"histogram2dcontour\":[{\"colorbar\":{\"outlinewidth\":0,\"ticks\":\"\"},\"colorscale\":[[0.0,\"#0d0887\"],[0.1111111111111111,\"#46039f\"],[0.2222222222222222,\"#7201a8\"],[0.3333333333333333,\"#9c179e\"],[0.4444444444444444,\"#bd3786\"],[0.5555555555555556,\"#d8576b\"],[0.6666666666666666,\"#ed7953\"],[0.7777777777777778,\"#fb9f3a\"],[0.8888888888888888,\"#fdca26\"],[1.0,\"#f0f921\"]],\"type\":\"histogram2dcontour\"}],\"histogram2d\":[{\"colorbar\":{\"outlinewidth\":0,\"ticks\":\"\"},\"colorscale\":[[0.0,\"#0d0887\"],[0.1111111111111111,\"#46039f\"],[0.2222222222222222,\"#7201a8\"],[0.3333333333333333,\"#9c179e\"],[0.4444444444444444,\"#bd3786\"],[0.5555555555555556,\"#d8576b\"],[0.6666666666666666,\"#ed7953\"],[0.7777777777777778,\"#fb9f3a\"],[0.8888888888888888,\"#fdca26\"],[1.0,\"#f0f921\"]],\"type\":\"histogram2d\"}],\"histogram\":[{\"marker\":{\"pattern\":{\"fillmode\":\"overlay\",\"size\":10,\"solidity\":0.2}},\"type\":\"histogram\"}],\"mesh3d\":[{\"colorbar\":{\"outlinewidth\":0,\"ticks\":\"\"},\"type\":\"mesh3d\"}],\"parcoords\":[{\"line\":{\"colorbar\":{\"outlinewidth\":0,\"ticks\":\"\"}},\"type\":\"parcoords\"}],\"pie\":[{\"automargin\":true,\"type\":\"pie\"}],\"scatter3d\":[{\"line\":{\"colorbar\":{\"outlinewidth\":0,\"ticks\":\"\"}},\"marker\":{\"colorbar\":{\"outlinewidth\":0,\"ticks\":\"\"}},\"type\":\"scatter3d\"}],\"scattercarpet\":[{\"marker\":{\"colorbar\":{\"outlinewidth\":0,\"ticks\":\"\"}},\"type\":\"scattercarpet\"}],\"scattergeo\":[{\"marker\":{\"colorbar\":{\"outlinewidth\":0,\"ticks\":\"\"}},\"type\":\"scattergeo\"}],\"scattergl\":[{\"marker\":{\"colorbar\":{\"outlinewidth\":0,\"ticks\":\"\"}},\"type\":\"scattergl\"}],\"scattermapbox\":[{\"marker\":{\"colorbar\":{\"outlinewidth\":0,\"ticks\":\"\"}},\"type\":\"scattermapbox\"}],\"scatterpolargl\":[{\"marker\":{\"colorbar\":{\"outlinewidth\":0,\"ticks\":\"\"}},\"type\":\"scatterpolargl\"}],\"scatterpolar\":[{\"marker\":{\"colorbar\":{\"outlinewidth\":0,\"ticks\":\"\"}},\"type\":\"scatterpolar\"}],\"scatter\":[{\"fillpattern\":{\"fillmode\":\"overlay\",\"size\":10,\"solidity\":0.2},\"type\":\"scatter\"}],\"scatterternary\":[{\"marker\":{\"colorbar\":{\"outlinewidth\":0,\"ticks\":\"\"}},\"type\":\"scatterternary\"}],\"surface\":[{\"colorbar\":{\"outlinewidth\":0,\"ticks\":\"\"},\"colorscale\":[[0.0,\"#0d0887\"],[0.1111111111111111,\"#46039f\"],[0.2222222222222222,\"#7201a8\"],[0.3333333333333333,\"#9c179e\"],[0.4444444444444444,\"#bd3786\"],[0.5555555555555556,\"#d8576b\"],[0.6666666666666666,\"#ed7953\"],[0.7777777777777778,\"#fb9f3a\"],[0.8888888888888888,\"#fdca26\"],[1.0,\"#f0f921\"]],\"type\":\"surface\"}],\"table\":[{\"cells\":{\"fill\":{\"color\":\"#EBF0F8\"},\"line\":{\"color\":\"white\"}},\"header\":{\"fill\":{\"color\":\"#C8D4E3\"},\"line\":{\"color\":\"white\"}},\"type\":\"table\"}]},\"layout\":{\"annotationdefaults\":{\"arrowcolor\":\"#2a3f5f\",\"arrowhead\":0,\"arrowwidth\":1},\"autotypenumbers\":\"strict\",\"coloraxis\":{\"colorbar\":{\"outlinewidth\":0,\"ticks\":\"\"}},\"colorscale\":{\"diverging\":[[0,\"#8e0152\"],[0.1,\"#c51b7d\"],[0.2,\"#de77ae\"],[0.3,\"#f1b6da\"],[0.4,\"#fde0ef\"],[0.5,\"#f7f7f7\"],[0.6,\"#e6f5d0\"],[0.7,\"#b8e186\"],[0.8,\"#7fbc41\"],[0.9,\"#4d9221\"],[1,\"#276419\"]],\"sequential\":[[0.0,\"#0d0887\"],[0.1111111111111111,\"#46039f\"],[0.2222222222222222,\"#7201a8\"],[0.3333333333333333,\"#9c179e\"],[0.4444444444444444,\"#bd3786\"],[0.5555555555555556,\"#d8576b\"],[0.6666666666666666,\"#ed7953\"],[0.7777777777777778,\"#fb9f3a\"],[0.8888888888888888,\"#fdca26\"],[1.0,\"#f0f921\"]],\"sequentialminus\":[[0.0,\"#0d0887\"],[0.1111111111111111,\"#46039f\"],[0.2222222222222222,\"#7201a8\"],[0.3333333333333333,\"#9c179e\"],[0.4444444444444444,\"#bd3786\"],[0.5555555555555556,\"#d8576b\"],[0.6666666666666666,\"#ed7953\"],[0.7777777777777778,\"#fb9f3a\"],[0.8888888888888888,\"#fdca26\"],[1.0,\"#f0f921\"]]},\"colorway\":[\"#636efa\",\"#EF553B\",\"#00cc96\",\"#ab63fa\",\"#FFA15A\",\"#19d3f3\",\"#FF6692\",\"#B6E880\",\"#FF97FF\",\"#FECB52\"],\"font\":{\"color\":\"#2a3f5f\"},\"geo\":{\"bgcolor\":\"white\",\"lakecolor\":\"white\",\"landcolor\":\"#E5ECF6\",\"showlakes\":true,\"showland\":true,\"subunitcolor\":\"white\"},\"hoverlabel\":{\"align\":\"left\"},\"hovermode\":\"closest\",\"mapbox\":{\"style\":\"light\"},\"paper_bgcolor\":\"white\",\"plot_bgcolor\":\"#E5ECF6\",\"polar\":{\"angularaxis\":{\"gridcolor\":\"white\",\"linecolor\":\"white\",\"ticks\":\"\"},\"bgcolor\":\"#E5ECF6\",\"radialaxis\":{\"gridcolor\":\"white\",\"linecolor\":\"white\",\"ticks\":\"\"}},\"scene\":{\"xaxis\":{\"backgroundcolor\":\"#E5ECF6\",\"gridcolor\":\"white\",\"gridwidth\":2,\"linecolor\":\"white\",\"showbackground\":true,\"ticks\":\"\",\"zerolinecolor\":\"white\"},\"yaxis\":{\"backgroundcolor\":\"#E5ECF6\",\"gridcolor\":\"white\",\"gridwidth\":2,\"linecolor\":\"white\",\"showbackground\":true,\"ticks\":\"\",\"zerolinecolor\":\"white\"},\"zaxis\":{\"backgroundcolor\":\"#E5ECF6\",\"gridcolor\":\"white\",\"gridwidth\":2,\"linecolor\":\"white\",\"showbackground\":true,\"ticks\":\"\",\"zerolinecolor\":\"white\"}},\"shapedefaults\":{\"line\":{\"color\":\"#2a3f5f\"}},\"ternary\":{\"aaxis\":{\"gridcolor\":\"white\",\"linecolor\":\"white\",\"ticks\":\"\"},\"baxis\":{\"gridcolor\":\"white\",\"linecolor\":\"white\",\"ticks\":\"\"},\"bgcolor\":\"#E5ECF6\",\"caxis\":{\"gridcolor\":\"white\",\"linecolor\":\"white\",\"ticks\":\"\"}},\"title\":{\"x\":0.05},\"xaxis\":{\"automargin\":true,\"gridcolor\":\"white\",\"linecolor\":\"white\",\"ticks\":\"\",\"title\":{\"standoff\":15},\"zerolinecolor\":\"white\",\"zerolinewidth\":2},\"yaxis\":{\"automargin\":true,\"gridcolor\":\"white\",\"linecolor\":\"white\",\"ticks\":\"\",\"title\":{\"standoff\":15},\"zerolinecolor\":\"white\",\"zerolinewidth\":2}}},\"title\":{\"font\":{\"color\":\"#4D5663\"}},\"xaxis\":{\"gridcolor\":\"#E1E5ED\",\"showgrid\":true,\"tickfont\":{\"color\":\"#4D5663\"},\"title\":{\"font\":{\"color\":\"#4D5663\"},\"text\":\"\"},\"zerolinecolor\":\"#E1E5ED\"},\"yaxis\":{\"gridcolor\":\"#E1E5ED\",\"showgrid\":true,\"tickfont\":{\"color\":\"#4D5663\"},\"title\":{\"font\":{\"color\":\"#4D5663\"},\"text\":\"\"},\"zerolinecolor\":\"#E1E5ED\"}},                        {\"showLink\": true, \"linkText\": \"Export to plot.ly\", \"plotlyServerURL\": \"https://plot.ly\", \"responsive\": true}                    ).then(function(){\n",
       "                            \n",
       "var gd = document.getElementById('a0f05cd4-9003-48a6-b804-899fbf859318');\n",
       "var x = new MutationObserver(function (mutations, observer) {{\n",
       "        var display = window.getComputedStyle(gd).display;\n",
       "        if (!display || display === 'none') {{\n",
       "            console.log([gd, 'removed!']);\n",
       "            Plotly.purge(gd);\n",
       "            observer.disconnect();\n",
       "        }}\n",
       "}});\n",
       "\n",
       "// Listen for the removal of the full notebook cells\n",
       "var notebookContainer = gd.closest('#notebook-container');\n",
       "if (notebookContainer) {{\n",
       "    x.observe(notebookContainer, {childList: true});\n",
       "}}\n",
       "\n",
       "// Listen for the clearing of the current output cell\n",
       "var outputEl = gd.closest('.output');\n",
       "if (outputEl) {{\n",
       "    x.observe(outputEl, {childList: true});\n",
       "}}\n",
       "\n",
       "                        })                };                });            </script>        </div>"
      ]
     },
     "metadata": {},
     "output_type": "display_data"
    }
   ],
   "source": [
    "df[[\"A\"]].iplot()"
   ]
  },
  {
   "cell_type": "code",
   "execution_count": null,
   "metadata": {},
   "outputs": [
    {
     "data": {
      "application/vnd.plotly.v1+json": {
       "config": {
        "linkText": "Export to plot.ly",
        "plotlyServerURL": "https://plot.ly",
        "showLink": true
       },
       "data": [
        {
         "line": {
          "color": "rgba(255, 153, 51, 1.0)",
          "dash": "solid",
          "shape": "linear",
          "width": 1.3
         },
         "marker": {
          "size": 12,
          "symbol": "circle"
         },
         "mode": "markers",
         "name": "B",
         "text": "",
         "type": "scatter",
         "x": [
          0.719020188560488,
          1.0395787924096667,
          -1.924599081647354,
          0.1620125421714415,
          -1.6138181491741923,
          0.08463759493895782,
          -0.31883254027817587,
          -0.3363422611787129,
          -1.041069051631033,
          -0.07221515859039229,
          -0.27063111188824074,
          -0.7624398845097848,
          -1.4845246308701543,
          -0.23989017707883664,
          -0.5781629602737218,
          0.2934055932760626,
          -0.2165537895216697,
          -1.7404454067333877,
          0.05756991291794581,
          1.1562790820521711,
          -0.14719415284072773,
          -0.23935793174569867,
          -1.7916840945909198,
          -1.2536849035151936,
          0.7813601495043739,
          -0.5219276287643156,
          0.8371777057024352,
          0.7202609864977699,
          1.8625411871037447,
          -0.4654043134717295,
          0.21078806066453784,
          -0.8132011651427288,
          -0.8404855433029241,
          1.6582735392813595,
          0.2684346254669556,
          1.513832844783593,
          -1.355800904644444,
          -0.20943560351497303,
          1.0146971777212066,
          -0.5685200421420943,
          1.5189026223882425,
          0.3033665295634289,
          -1.3433203859206568,
          1.5723283645843638,
          0.05118297713505339,
          -0.09803851515734333,
          -0.7778090210732546,
          -1.109559753537179,
          2.223372131694284,
          -0.8476444755849565,
          -0.30189465995043097,
          -0.8457081678055,
          0.11561028045271893,
          -2.347563791907429,
          -1.9692797109292641,
          -0.6414091517567236,
          -0.8632843303900418,
          0.5059668001500867,
          0.7743460696158662,
          0.9845705869664665,
          -1.0280249573305034,
          -0.9922377066544636,
          0.2990680240287931,
          0.6275813810691222,
          -1.069078336954399,
          -0.34661682890306694,
          -1.2835516733734889,
          0.4578852591285197,
          -0.3477568905946247,
          -0.824751271441432,
          0.8260001061290053,
          -1.3846137274216102,
          0.5788019102337522,
          -0.5484583864434106,
          0.1594441999914099,
          -1.041213898585818,
          -1.5254213787793942,
          -0.8020818453516422,
          -0.3549157959815899,
          -0.3165361152891628,
          0.28290594988957163,
          0.4823585754346701,
          -2.0245804606665705,
          -0.24696528195410555,
          0.9818611227670764,
          1.477150101842571,
          0.4403680123619945,
          0.3422404582718749,
          0.5919494916611322,
          -1.3544815643522023,
          -0.5550617706258056,
          0.5967640445602802,
          0.49450729676203264,
          3.067592185610425,
          -1.518798448281656,
          0.7627588265900882,
          1.7487164601998126,
          -0.39309294420107505,
          0.4996553682612165,
          0.9495423997932441
         ],
         "y": [
          0.2604165513140011,
          0.4852364493127925,
          -0.2044184203039341,
          0.4156372894579875,
          0.8295146923515911,
          -0.19628421472953117,
          -1.4539629034226782,
          0.9291212327334637,
          0.6158855158100787,
          -0.9277467380603658,
          -0.44043664701446544,
          -0.8795626075337252,
          -0.8984701450626276,
          -1.7856979704628229,
          0.12605214618649976,
          1.1190909608554267,
          0.42595876318469783,
          1.2719235541448322,
          -1.3067523540107062,
          -0.03912486627152612,
          -0.08939850121255832,
          0.383608664393412,
          2.387745076911331,
          -1.2150591477441444,
          -0.7499996992170347,
          -1.970430737853407,
          -0.018616535822461675,
          0.04609636008142459,
          -0.8820720258405289,
          -1.0072885954685078,
          -0.22956692868421205,
          0.8837824804864266,
          -0.47242044048875276,
          0.8331117996179396,
          -1.1815702264377332,
          0.1617448679193756,
          0.557004501667712,
          -0.31863097848610117,
          0.04220889729285758,
          0.3808162253891689,
          0.1518933957034215,
          0.6507173039881243,
          -0.5606671868966631,
          0.3487391656456803,
          -1.4066735628083724,
          1.546502025745574,
          -1.008878107633167,
          -0.0517536673908362,
          -0.3736006656241392,
          -1.3300726833499084,
          0.049204284788049286,
          0.014932799514403306,
          -0.36624499073274147,
          0.21071870192120573,
          -0.6871016519628524,
          -0.4092371097607238,
          0.5883372353944589,
          -0.44034388274568254,
          2.0305281153205197,
          -1.6343006195281131,
          1.0834959297489488,
          0.2391620420415983,
          -1.4265836460864092,
          1.4053302099927711,
          -0.5445493564180599,
          1.9336087013555299,
          1.1260334815173585,
          0.31719130713866284,
          -1.5164430798332091,
          -0.7065587783616771,
          0.31695356211974235,
          -0.868714642486725,
          -1.5295558236846198,
          0.6861696740837685,
          -1.3957215095545,
          -0.6919048306964437,
          -1.0323448762252359,
          -0.8068202491704185,
          0.789539307604332,
          -0.5080882013468303,
          -1.3177737194121522,
          -0.4852670515382418,
          -0.42213901632420814,
          0.16659251621436622,
          1.844942266664247,
          -0.6952211304077517,
          1.2581196051711159,
          -1.8609936885789535,
          -1.189478820203662,
          -0.7942228417802591,
          -1.3697852755146167,
          0.4635779490708644,
          -2.0626300906868686,
          0.6527725861550451,
          0.9954879340242014,
          1.4734478733544374,
          0.4195800542700545,
          -0.514691810868201,
          1.6416689714729173,
          -0.9106334611977962
         ]
        }
       ],
       "layout": {
        "legend": {
         "bgcolor": "#F5F6F9",
         "font": {
          "color": "#4D5663"
         }
        },
        "paper_bgcolor": "#F5F6F9",
        "plot_bgcolor": "#F5F6F9",
        "template": {
         "data": {
          "bar": [
           {
            "error_x": {
             "color": "#2a3f5f"
            },
            "error_y": {
             "color": "#2a3f5f"
            },
            "marker": {
             "line": {
              "color": "#E5ECF6",
              "width": 0.5
             },
             "pattern": {
              "fillmode": "overlay",
              "size": 10,
              "solidity": 0.2
             }
            },
            "type": "bar"
           }
          ],
          "barpolar": [
           {
            "marker": {
             "line": {
              "color": "#E5ECF6",
              "width": 0.5
             },
             "pattern": {
              "fillmode": "overlay",
              "size": 10,
              "solidity": 0.2
             }
            },
            "type": "barpolar"
           }
          ],
          "carpet": [
           {
            "aaxis": {
             "endlinecolor": "#2a3f5f",
             "gridcolor": "white",
             "linecolor": "white",
             "minorgridcolor": "white",
             "startlinecolor": "#2a3f5f"
            },
            "baxis": {
             "endlinecolor": "#2a3f5f",
             "gridcolor": "white",
             "linecolor": "white",
             "minorgridcolor": "white",
             "startlinecolor": "#2a3f5f"
            },
            "type": "carpet"
           }
          ],
          "choropleth": [
           {
            "colorbar": {
             "outlinewidth": 0,
             "ticks": ""
            },
            "type": "choropleth"
           }
          ],
          "contour": [
           {
            "colorbar": {
             "outlinewidth": 0,
             "ticks": ""
            },
            "colorscale": [
             [
              0,
              "#0d0887"
             ],
             [
              0.1111111111111111,
              "#46039f"
             ],
             [
              0.2222222222222222,
              "#7201a8"
             ],
             [
              0.3333333333333333,
              "#9c179e"
             ],
             [
              0.4444444444444444,
              "#bd3786"
             ],
             [
              0.5555555555555556,
              "#d8576b"
             ],
             [
              0.6666666666666666,
              "#ed7953"
             ],
             [
              0.7777777777777778,
              "#fb9f3a"
             ],
             [
              0.8888888888888888,
              "#fdca26"
             ],
             [
              1,
              "#f0f921"
             ]
            ],
            "type": "contour"
           }
          ],
          "contourcarpet": [
           {
            "colorbar": {
             "outlinewidth": 0,
             "ticks": ""
            },
            "type": "contourcarpet"
           }
          ],
          "heatmap": [
           {
            "colorbar": {
             "outlinewidth": 0,
             "ticks": ""
            },
            "colorscale": [
             [
              0,
              "#0d0887"
             ],
             [
              0.1111111111111111,
              "#46039f"
             ],
             [
              0.2222222222222222,
              "#7201a8"
             ],
             [
              0.3333333333333333,
              "#9c179e"
             ],
             [
              0.4444444444444444,
              "#bd3786"
             ],
             [
              0.5555555555555556,
              "#d8576b"
             ],
             [
              0.6666666666666666,
              "#ed7953"
             ],
             [
              0.7777777777777778,
              "#fb9f3a"
             ],
             [
              0.8888888888888888,
              "#fdca26"
             ],
             [
              1,
              "#f0f921"
             ]
            ],
            "type": "heatmap"
           }
          ],
          "heatmapgl": [
           {
            "colorbar": {
             "outlinewidth": 0,
             "ticks": ""
            },
            "colorscale": [
             [
              0,
              "#0d0887"
             ],
             [
              0.1111111111111111,
              "#46039f"
             ],
             [
              0.2222222222222222,
              "#7201a8"
             ],
             [
              0.3333333333333333,
              "#9c179e"
             ],
             [
              0.4444444444444444,
              "#bd3786"
             ],
             [
              0.5555555555555556,
              "#d8576b"
             ],
             [
              0.6666666666666666,
              "#ed7953"
             ],
             [
              0.7777777777777778,
              "#fb9f3a"
             ],
             [
              0.8888888888888888,
              "#fdca26"
             ],
             [
              1,
              "#f0f921"
             ]
            ],
            "type": "heatmapgl"
           }
          ],
          "histogram": [
           {
            "marker": {
             "pattern": {
              "fillmode": "overlay",
              "size": 10,
              "solidity": 0.2
             }
            },
            "type": "histogram"
           }
          ],
          "histogram2d": [
           {
            "colorbar": {
             "outlinewidth": 0,
             "ticks": ""
            },
            "colorscale": [
             [
              0,
              "#0d0887"
             ],
             [
              0.1111111111111111,
              "#46039f"
             ],
             [
              0.2222222222222222,
              "#7201a8"
             ],
             [
              0.3333333333333333,
              "#9c179e"
             ],
             [
              0.4444444444444444,
              "#bd3786"
             ],
             [
              0.5555555555555556,
              "#d8576b"
             ],
             [
              0.6666666666666666,
              "#ed7953"
             ],
             [
              0.7777777777777778,
              "#fb9f3a"
             ],
             [
              0.8888888888888888,
              "#fdca26"
             ],
             [
              1,
              "#f0f921"
             ]
            ],
            "type": "histogram2d"
           }
          ],
          "histogram2dcontour": [
           {
            "colorbar": {
             "outlinewidth": 0,
             "ticks": ""
            },
            "colorscale": [
             [
              0,
              "#0d0887"
             ],
             [
              0.1111111111111111,
              "#46039f"
             ],
             [
              0.2222222222222222,
              "#7201a8"
             ],
             [
              0.3333333333333333,
              "#9c179e"
             ],
             [
              0.4444444444444444,
              "#bd3786"
             ],
             [
              0.5555555555555556,
              "#d8576b"
             ],
             [
              0.6666666666666666,
              "#ed7953"
             ],
             [
              0.7777777777777778,
              "#fb9f3a"
             ],
             [
              0.8888888888888888,
              "#fdca26"
             ],
             [
              1,
              "#f0f921"
             ]
            ],
            "type": "histogram2dcontour"
           }
          ],
          "mesh3d": [
           {
            "colorbar": {
             "outlinewidth": 0,
             "ticks": ""
            },
            "type": "mesh3d"
           }
          ],
          "parcoords": [
           {
            "line": {
             "colorbar": {
              "outlinewidth": 0,
              "ticks": ""
             }
            },
            "type": "parcoords"
           }
          ],
          "pie": [
           {
            "automargin": true,
            "type": "pie"
           }
          ],
          "scatter": [
           {
            "fillpattern": {
             "fillmode": "overlay",
             "size": 10,
             "solidity": 0.2
            },
            "type": "scatter"
           }
          ],
          "scatter3d": [
           {
            "line": {
             "colorbar": {
              "outlinewidth": 0,
              "ticks": ""
             }
            },
            "marker": {
             "colorbar": {
              "outlinewidth": 0,
              "ticks": ""
             }
            },
            "type": "scatter3d"
           }
          ],
          "scattercarpet": [
           {
            "marker": {
             "colorbar": {
              "outlinewidth": 0,
              "ticks": ""
             }
            },
            "type": "scattercarpet"
           }
          ],
          "scattergeo": [
           {
            "marker": {
             "colorbar": {
              "outlinewidth": 0,
              "ticks": ""
             }
            },
            "type": "scattergeo"
           }
          ],
          "scattergl": [
           {
            "marker": {
             "colorbar": {
              "outlinewidth": 0,
              "ticks": ""
             }
            },
            "type": "scattergl"
           }
          ],
          "scattermapbox": [
           {
            "marker": {
             "colorbar": {
              "outlinewidth": 0,
              "ticks": ""
             }
            },
            "type": "scattermapbox"
           }
          ],
          "scatterpolar": [
           {
            "marker": {
             "colorbar": {
              "outlinewidth": 0,
              "ticks": ""
             }
            },
            "type": "scatterpolar"
           }
          ],
          "scatterpolargl": [
           {
            "marker": {
             "colorbar": {
              "outlinewidth": 0,
              "ticks": ""
             }
            },
            "type": "scatterpolargl"
           }
          ],
          "scatterternary": [
           {
            "marker": {
             "colorbar": {
              "outlinewidth": 0,
              "ticks": ""
             }
            },
            "type": "scatterternary"
           }
          ],
          "surface": [
           {
            "colorbar": {
             "outlinewidth": 0,
             "ticks": ""
            },
            "colorscale": [
             [
              0,
              "#0d0887"
             ],
             [
              0.1111111111111111,
              "#46039f"
             ],
             [
              0.2222222222222222,
              "#7201a8"
             ],
             [
              0.3333333333333333,
              "#9c179e"
             ],
             [
              0.4444444444444444,
              "#bd3786"
             ],
             [
              0.5555555555555556,
              "#d8576b"
             ],
             [
              0.6666666666666666,
              "#ed7953"
             ],
             [
              0.7777777777777778,
              "#fb9f3a"
             ],
             [
              0.8888888888888888,
              "#fdca26"
             ],
             [
              1,
              "#f0f921"
             ]
            ],
            "type": "surface"
           }
          ],
          "table": [
           {
            "cells": {
             "fill": {
              "color": "#EBF0F8"
             },
             "line": {
              "color": "white"
             }
            },
            "header": {
             "fill": {
              "color": "#C8D4E3"
             },
             "line": {
              "color": "white"
             }
            },
            "type": "table"
           }
          ]
         },
         "layout": {
          "annotationdefaults": {
           "arrowcolor": "#2a3f5f",
           "arrowhead": 0,
           "arrowwidth": 1
          },
          "autotypenumbers": "strict",
          "coloraxis": {
           "colorbar": {
            "outlinewidth": 0,
            "ticks": ""
           }
          },
          "colorscale": {
           "diverging": [
            [
             0,
             "#8e0152"
            ],
            [
             0.1,
             "#c51b7d"
            ],
            [
             0.2,
             "#de77ae"
            ],
            [
             0.3,
             "#f1b6da"
            ],
            [
             0.4,
             "#fde0ef"
            ],
            [
             0.5,
             "#f7f7f7"
            ],
            [
             0.6,
             "#e6f5d0"
            ],
            [
             0.7,
             "#b8e186"
            ],
            [
             0.8,
             "#7fbc41"
            ],
            [
             0.9,
             "#4d9221"
            ],
            [
             1,
             "#276419"
            ]
           ],
           "sequential": [
            [
             0,
             "#0d0887"
            ],
            [
             0.1111111111111111,
             "#46039f"
            ],
            [
             0.2222222222222222,
             "#7201a8"
            ],
            [
             0.3333333333333333,
             "#9c179e"
            ],
            [
             0.4444444444444444,
             "#bd3786"
            ],
            [
             0.5555555555555556,
             "#d8576b"
            ],
            [
             0.6666666666666666,
             "#ed7953"
            ],
            [
             0.7777777777777778,
             "#fb9f3a"
            ],
            [
             0.8888888888888888,
             "#fdca26"
            ],
            [
             1,
             "#f0f921"
            ]
           ],
           "sequentialminus": [
            [
             0,
             "#0d0887"
            ],
            [
             0.1111111111111111,
             "#46039f"
            ],
            [
             0.2222222222222222,
             "#7201a8"
            ],
            [
             0.3333333333333333,
             "#9c179e"
            ],
            [
             0.4444444444444444,
             "#bd3786"
            ],
            [
             0.5555555555555556,
             "#d8576b"
            ],
            [
             0.6666666666666666,
             "#ed7953"
            ],
            [
             0.7777777777777778,
             "#fb9f3a"
            ],
            [
             0.8888888888888888,
             "#fdca26"
            ],
            [
             1,
             "#f0f921"
            ]
           ]
          },
          "colorway": [
           "#636efa",
           "#EF553B",
           "#00cc96",
           "#ab63fa",
           "#FFA15A",
           "#19d3f3",
           "#FF6692",
           "#B6E880",
           "#FF97FF",
           "#FECB52"
          ],
          "font": {
           "color": "#2a3f5f"
          },
          "geo": {
           "bgcolor": "white",
           "lakecolor": "white",
           "landcolor": "#E5ECF6",
           "showlakes": true,
           "showland": true,
           "subunitcolor": "white"
          },
          "hoverlabel": {
           "align": "left"
          },
          "hovermode": "closest",
          "mapbox": {
           "style": "light"
          },
          "paper_bgcolor": "white",
          "plot_bgcolor": "#E5ECF6",
          "polar": {
           "angularaxis": {
            "gridcolor": "white",
            "linecolor": "white",
            "ticks": ""
           },
           "bgcolor": "#E5ECF6",
           "radialaxis": {
            "gridcolor": "white",
            "linecolor": "white",
            "ticks": ""
           }
          },
          "scene": {
           "xaxis": {
            "backgroundcolor": "#E5ECF6",
            "gridcolor": "white",
            "gridwidth": 2,
            "linecolor": "white",
            "showbackground": true,
            "ticks": "",
            "zerolinecolor": "white"
           },
           "yaxis": {
            "backgroundcolor": "#E5ECF6",
            "gridcolor": "white",
            "gridwidth": 2,
            "linecolor": "white",
            "showbackground": true,
            "ticks": "",
            "zerolinecolor": "white"
           },
           "zaxis": {
            "backgroundcolor": "#E5ECF6",
            "gridcolor": "white",
            "gridwidth": 2,
            "linecolor": "white",
            "showbackground": true,
            "ticks": "",
            "zerolinecolor": "white"
           }
          },
          "shapedefaults": {
           "line": {
            "color": "#2a3f5f"
           }
          },
          "ternary": {
           "aaxis": {
            "gridcolor": "white",
            "linecolor": "white",
            "ticks": ""
           },
           "baxis": {
            "gridcolor": "white",
            "linecolor": "white",
            "ticks": ""
           },
           "bgcolor": "#E5ECF6",
           "caxis": {
            "gridcolor": "white",
            "linecolor": "white",
            "ticks": ""
           }
          },
          "title": {
           "x": 0.05
          },
          "xaxis": {
           "automargin": true,
           "gridcolor": "white",
           "linecolor": "white",
           "ticks": "",
           "title": {
            "standoff": 15
           },
           "zerolinecolor": "white",
           "zerolinewidth": 2
          },
          "yaxis": {
           "automargin": true,
           "gridcolor": "white",
           "linecolor": "white",
           "ticks": "",
           "title": {
            "standoff": 15
           },
           "zerolinecolor": "white",
           "zerolinewidth": 2
          }
         }
        },
        "title": {
         "font": {
          "color": "#4D5663"
         }
        },
        "xaxis": {
         "gridcolor": "#E1E5ED",
         "showgrid": true,
         "tickfont": {
          "color": "#4D5663"
         },
         "title": {
          "font": {
           "color": "#4D5663"
          },
          "text": ""
         },
         "zerolinecolor": "#E1E5ED"
        },
        "yaxis": {
         "gridcolor": "#E1E5ED",
         "showgrid": true,
         "tickfont": {
          "color": "#4D5663"
         },
         "title": {
          "font": {
           "color": "#4D5663"
          },
          "text": ""
         },
         "zerolinecolor": "#E1E5ED"
        }
       }
      },
      "text/html": [
       "<div>                            <div id=\"3918effb-6c59-41ad-b9da-5855284e3f2d\" class=\"plotly-graph-div\" style=\"height:525px; width:100%;\"></div>            <script type=\"text/javascript\">                require([\"plotly\"], function(Plotly) {                    window.PLOTLYENV=window.PLOTLYENV || {};\n",
       "                    window.PLOTLYENV.BASE_URL='https://plot.ly';                                    if (document.getElementById(\"3918effb-6c59-41ad-b9da-5855284e3f2d\")) {                    Plotly.newPlot(                        \"3918effb-6c59-41ad-b9da-5855284e3f2d\",                        [{\"line\":{\"color\":\"rgba(255, 153, 51, 1.0)\",\"dash\":\"solid\",\"shape\":\"linear\",\"width\":1.3},\"marker\":{\"size\":12,\"symbol\":\"circle\"},\"mode\":\"markers\",\"name\":\"B\",\"text\":\"\",\"x\":[0.719020188560488,1.0395787924096667,-1.924599081647354,0.1620125421714415,-1.6138181491741923,0.08463759493895782,-0.31883254027817587,-0.3363422611787129,-1.041069051631033,-0.07221515859039229,-0.27063111188824074,-0.7624398845097848,-1.4845246308701543,-0.23989017707883664,-0.5781629602737218,0.2934055932760626,-0.2165537895216697,-1.7404454067333877,0.05756991291794581,1.1562790820521711,-0.14719415284072773,-0.23935793174569867,-1.7916840945909198,-1.2536849035151936,0.7813601495043739,-0.5219276287643156,0.8371777057024352,0.7202609864977699,1.8625411871037447,-0.4654043134717295,0.21078806066453784,-0.8132011651427288,-0.8404855433029241,1.6582735392813595,0.2684346254669556,1.513832844783593,-1.355800904644444,-0.20943560351497303,1.0146971777212066,-0.5685200421420943,1.5189026223882425,0.3033665295634289,-1.3433203859206568,1.5723283645843638,0.05118297713505339,-0.09803851515734333,-0.7778090210732546,-1.109559753537179,2.223372131694284,-0.8476444755849565,-0.30189465995043097,-0.8457081678055,0.11561028045271893,-2.347563791907429,-1.9692797109292641,-0.6414091517567236,-0.8632843303900418,0.5059668001500867,0.7743460696158662,0.9845705869664665,-1.0280249573305034,-0.9922377066544636,0.2990680240287931,0.6275813810691222,-1.069078336954399,-0.34661682890306694,-1.2835516733734889,0.4578852591285197,-0.3477568905946247,-0.824751271441432,0.8260001061290053,-1.3846137274216102,0.5788019102337522,-0.5484583864434106,0.1594441999914099,-1.041213898585818,-1.5254213787793942,-0.8020818453516422,-0.3549157959815899,-0.3165361152891628,0.28290594988957163,0.4823585754346701,-2.0245804606665705,-0.24696528195410555,0.9818611227670764,1.477150101842571,0.4403680123619945,0.3422404582718749,0.5919494916611322,-1.3544815643522023,-0.5550617706258056,0.5967640445602802,0.49450729676203264,3.067592185610425,-1.518798448281656,0.7627588265900882,1.7487164601998126,-0.39309294420107505,0.4996553682612165,0.9495423997932441],\"y\":[0.2604165513140011,0.4852364493127925,-0.2044184203039341,0.4156372894579875,0.8295146923515911,-0.19628421472953117,-1.4539629034226782,0.9291212327334637,0.6158855158100787,-0.9277467380603658,-0.44043664701446544,-0.8795626075337252,-0.8984701450626276,-1.7856979704628229,0.12605214618649976,1.1190909608554267,0.42595876318469783,1.2719235541448322,-1.3067523540107062,-0.03912486627152612,-0.08939850121255832,0.383608664393412,2.387745076911331,-1.2150591477441444,-0.7499996992170347,-1.970430737853407,-0.018616535822461675,0.04609636008142459,-0.8820720258405289,-1.0072885954685078,-0.22956692868421205,0.8837824804864266,-0.47242044048875276,0.8331117996179396,-1.1815702264377332,0.1617448679193756,0.557004501667712,-0.31863097848610117,0.04220889729285758,0.3808162253891689,0.1518933957034215,0.6507173039881243,-0.5606671868966631,0.3487391656456803,-1.4066735628083724,1.546502025745574,-1.008878107633167,-0.0517536673908362,-0.3736006656241392,-1.3300726833499084,0.049204284788049286,0.014932799514403306,-0.36624499073274147,0.21071870192120573,-0.6871016519628524,-0.4092371097607238,0.5883372353944589,-0.44034388274568254,2.0305281153205197,-1.6343006195281131,1.0834959297489488,0.2391620420415983,-1.4265836460864092,1.4053302099927711,-0.5445493564180599,1.9336087013555299,1.1260334815173585,0.31719130713866284,-1.5164430798332091,-0.7065587783616771,0.31695356211974235,-0.868714642486725,-1.5295558236846198,0.6861696740837685,-1.3957215095545,-0.6919048306964437,-1.0323448762252359,-0.8068202491704185,0.789539307604332,-0.5080882013468303,-1.3177737194121522,-0.4852670515382418,-0.42213901632420814,0.16659251621436622,1.844942266664247,-0.6952211304077517,1.2581196051711159,-1.8609936885789535,-1.189478820203662,-0.7942228417802591,-1.3697852755146167,0.4635779490708644,-2.0626300906868686,0.6527725861550451,0.9954879340242014,1.4734478733544374,0.4195800542700545,-0.514691810868201,1.6416689714729173,-0.9106334611977962],\"type\":\"scatter\"}],                        {\"legend\":{\"bgcolor\":\"#F5F6F9\",\"font\":{\"color\":\"#4D5663\"}},\"paper_bgcolor\":\"#F5F6F9\",\"plot_bgcolor\":\"#F5F6F9\",\"template\":{\"data\":{\"barpolar\":[{\"marker\":{\"line\":{\"color\":\"#E5ECF6\",\"width\":0.5},\"pattern\":{\"fillmode\":\"overlay\",\"size\":10,\"solidity\":0.2}},\"type\":\"barpolar\"}],\"bar\":[{\"error_x\":{\"color\":\"#2a3f5f\"},\"error_y\":{\"color\":\"#2a3f5f\"},\"marker\":{\"line\":{\"color\":\"#E5ECF6\",\"width\":0.5},\"pattern\":{\"fillmode\":\"overlay\",\"size\":10,\"solidity\":0.2}},\"type\":\"bar\"}],\"carpet\":[{\"aaxis\":{\"endlinecolor\":\"#2a3f5f\",\"gridcolor\":\"white\",\"linecolor\":\"white\",\"minorgridcolor\":\"white\",\"startlinecolor\":\"#2a3f5f\"},\"baxis\":{\"endlinecolor\":\"#2a3f5f\",\"gridcolor\":\"white\",\"linecolor\":\"white\",\"minorgridcolor\":\"white\",\"startlinecolor\":\"#2a3f5f\"},\"type\":\"carpet\"}],\"choropleth\":[{\"colorbar\":{\"outlinewidth\":0,\"ticks\":\"\"},\"type\":\"choropleth\"}],\"contourcarpet\":[{\"colorbar\":{\"outlinewidth\":0,\"ticks\":\"\"},\"type\":\"contourcarpet\"}],\"contour\":[{\"colorbar\":{\"outlinewidth\":0,\"ticks\":\"\"},\"colorscale\":[[0.0,\"#0d0887\"],[0.1111111111111111,\"#46039f\"],[0.2222222222222222,\"#7201a8\"],[0.3333333333333333,\"#9c179e\"],[0.4444444444444444,\"#bd3786\"],[0.5555555555555556,\"#d8576b\"],[0.6666666666666666,\"#ed7953\"],[0.7777777777777778,\"#fb9f3a\"],[0.8888888888888888,\"#fdca26\"],[1.0,\"#f0f921\"]],\"type\":\"contour\"}],\"heatmapgl\":[{\"colorbar\":{\"outlinewidth\":0,\"ticks\":\"\"},\"colorscale\":[[0.0,\"#0d0887\"],[0.1111111111111111,\"#46039f\"],[0.2222222222222222,\"#7201a8\"],[0.3333333333333333,\"#9c179e\"],[0.4444444444444444,\"#bd3786\"],[0.5555555555555556,\"#d8576b\"],[0.6666666666666666,\"#ed7953\"],[0.7777777777777778,\"#fb9f3a\"],[0.8888888888888888,\"#fdca26\"],[1.0,\"#f0f921\"]],\"type\":\"heatmapgl\"}],\"heatmap\":[{\"colorbar\":{\"outlinewidth\":0,\"ticks\":\"\"},\"colorscale\":[[0.0,\"#0d0887\"],[0.1111111111111111,\"#46039f\"],[0.2222222222222222,\"#7201a8\"],[0.3333333333333333,\"#9c179e\"],[0.4444444444444444,\"#bd3786\"],[0.5555555555555556,\"#d8576b\"],[0.6666666666666666,\"#ed7953\"],[0.7777777777777778,\"#fb9f3a\"],[0.8888888888888888,\"#fdca26\"],[1.0,\"#f0f921\"]],\"type\":\"heatmap\"}],\"histogram2dcontour\":[{\"colorbar\":{\"outlinewidth\":0,\"ticks\":\"\"},\"colorscale\":[[0.0,\"#0d0887\"],[0.1111111111111111,\"#46039f\"],[0.2222222222222222,\"#7201a8\"],[0.3333333333333333,\"#9c179e\"],[0.4444444444444444,\"#bd3786\"],[0.5555555555555556,\"#d8576b\"],[0.6666666666666666,\"#ed7953\"],[0.7777777777777778,\"#fb9f3a\"],[0.8888888888888888,\"#fdca26\"],[1.0,\"#f0f921\"]],\"type\":\"histogram2dcontour\"}],\"histogram2d\":[{\"colorbar\":{\"outlinewidth\":0,\"ticks\":\"\"},\"colorscale\":[[0.0,\"#0d0887\"],[0.1111111111111111,\"#46039f\"],[0.2222222222222222,\"#7201a8\"],[0.3333333333333333,\"#9c179e\"],[0.4444444444444444,\"#bd3786\"],[0.5555555555555556,\"#d8576b\"],[0.6666666666666666,\"#ed7953\"],[0.7777777777777778,\"#fb9f3a\"],[0.8888888888888888,\"#fdca26\"],[1.0,\"#f0f921\"]],\"type\":\"histogram2d\"}],\"histogram\":[{\"marker\":{\"pattern\":{\"fillmode\":\"overlay\",\"size\":10,\"solidity\":0.2}},\"type\":\"histogram\"}],\"mesh3d\":[{\"colorbar\":{\"outlinewidth\":0,\"ticks\":\"\"},\"type\":\"mesh3d\"}],\"parcoords\":[{\"line\":{\"colorbar\":{\"outlinewidth\":0,\"ticks\":\"\"}},\"type\":\"parcoords\"}],\"pie\":[{\"automargin\":true,\"type\":\"pie\"}],\"scatter3d\":[{\"line\":{\"colorbar\":{\"outlinewidth\":0,\"ticks\":\"\"}},\"marker\":{\"colorbar\":{\"outlinewidth\":0,\"ticks\":\"\"}},\"type\":\"scatter3d\"}],\"scattercarpet\":[{\"marker\":{\"colorbar\":{\"outlinewidth\":0,\"ticks\":\"\"}},\"type\":\"scattercarpet\"}],\"scattergeo\":[{\"marker\":{\"colorbar\":{\"outlinewidth\":0,\"ticks\":\"\"}},\"type\":\"scattergeo\"}],\"scattergl\":[{\"marker\":{\"colorbar\":{\"outlinewidth\":0,\"ticks\":\"\"}},\"type\":\"scattergl\"}],\"scattermapbox\":[{\"marker\":{\"colorbar\":{\"outlinewidth\":0,\"ticks\":\"\"}},\"type\":\"scattermapbox\"}],\"scatterpolargl\":[{\"marker\":{\"colorbar\":{\"outlinewidth\":0,\"ticks\":\"\"}},\"type\":\"scatterpolargl\"}],\"scatterpolar\":[{\"marker\":{\"colorbar\":{\"outlinewidth\":0,\"ticks\":\"\"}},\"type\":\"scatterpolar\"}],\"scatter\":[{\"fillpattern\":{\"fillmode\":\"overlay\",\"size\":10,\"solidity\":0.2},\"type\":\"scatter\"}],\"scatterternary\":[{\"marker\":{\"colorbar\":{\"outlinewidth\":0,\"ticks\":\"\"}},\"type\":\"scatterternary\"}],\"surface\":[{\"colorbar\":{\"outlinewidth\":0,\"ticks\":\"\"},\"colorscale\":[[0.0,\"#0d0887\"],[0.1111111111111111,\"#46039f\"],[0.2222222222222222,\"#7201a8\"],[0.3333333333333333,\"#9c179e\"],[0.4444444444444444,\"#bd3786\"],[0.5555555555555556,\"#d8576b\"],[0.6666666666666666,\"#ed7953\"],[0.7777777777777778,\"#fb9f3a\"],[0.8888888888888888,\"#fdca26\"],[1.0,\"#f0f921\"]],\"type\":\"surface\"}],\"table\":[{\"cells\":{\"fill\":{\"color\":\"#EBF0F8\"},\"line\":{\"color\":\"white\"}},\"header\":{\"fill\":{\"color\":\"#C8D4E3\"},\"line\":{\"color\":\"white\"}},\"type\":\"table\"}]},\"layout\":{\"annotationdefaults\":{\"arrowcolor\":\"#2a3f5f\",\"arrowhead\":0,\"arrowwidth\":1},\"autotypenumbers\":\"strict\",\"coloraxis\":{\"colorbar\":{\"outlinewidth\":0,\"ticks\":\"\"}},\"colorscale\":{\"diverging\":[[0,\"#8e0152\"],[0.1,\"#c51b7d\"],[0.2,\"#de77ae\"],[0.3,\"#f1b6da\"],[0.4,\"#fde0ef\"],[0.5,\"#f7f7f7\"],[0.6,\"#e6f5d0\"],[0.7,\"#b8e186\"],[0.8,\"#7fbc41\"],[0.9,\"#4d9221\"],[1,\"#276419\"]],\"sequential\":[[0.0,\"#0d0887\"],[0.1111111111111111,\"#46039f\"],[0.2222222222222222,\"#7201a8\"],[0.3333333333333333,\"#9c179e\"],[0.4444444444444444,\"#bd3786\"],[0.5555555555555556,\"#d8576b\"],[0.6666666666666666,\"#ed7953\"],[0.7777777777777778,\"#fb9f3a\"],[0.8888888888888888,\"#fdca26\"],[1.0,\"#f0f921\"]],\"sequentialminus\":[[0.0,\"#0d0887\"],[0.1111111111111111,\"#46039f\"],[0.2222222222222222,\"#7201a8\"],[0.3333333333333333,\"#9c179e\"],[0.4444444444444444,\"#bd3786\"],[0.5555555555555556,\"#d8576b\"],[0.6666666666666666,\"#ed7953\"],[0.7777777777777778,\"#fb9f3a\"],[0.8888888888888888,\"#fdca26\"],[1.0,\"#f0f921\"]]},\"colorway\":[\"#636efa\",\"#EF553B\",\"#00cc96\",\"#ab63fa\",\"#FFA15A\",\"#19d3f3\",\"#FF6692\",\"#B6E880\",\"#FF97FF\",\"#FECB52\"],\"font\":{\"color\":\"#2a3f5f\"},\"geo\":{\"bgcolor\":\"white\",\"lakecolor\":\"white\",\"landcolor\":\"#E5ECF6\",\"showlakes\":true,\"showland\":true,\"subunitcolor\":\"white\"},\"hoverlabel\":{\"align\":\"left\"},\"hovermode\":\"closest\",\"mapbox\":{\"style\":\"light\"},\"paper_bgcolor\":\"white\",\"plot_bgcolor\":\"#E5ECF6\",\"polar\":{\"angularaxis\":{\"gridcolor\":\"white\",\"linecolor\":\"white\",\"ticks\":\"\"},\"bgcolor\":\"#E5ECF6\",\"radialaxis\":{\"gridcolor\":\"white\",\"linecolor\":\"white\",\"ticks\":\"\"}},\"scene\":{\"xaxis\":{\"backgroundcolor\":\"#E5ECF6\",\"gridcolor\":\"white\",\"gridwidth\":2,\"linecolor\":\"white\",\"showbackground\":true,\"ticks\":\"\",\"zerolinecolor\":\"white\"},\"yaxis\":{\"backgroundcolor\":\"#E5ECF6\",\"gridcolor\":\"white\",\"gridwidth\":2,\"linecolor\":\"white\",\"showbackground\":true,\"ticks\":\"\",\"zerolinecolor\":\"white\"},\"zaxis\":{\"backgroundcolor\":\"#E5ECF6\",\"gridcolor\":\"white\",\"gridwidth\":2,\"linecolor\":\"white\",\"showbackground\":true,\"ticks\":\"\",\"zerolinecolor\":\"white\"}},\"shapedefaults\":{\"line\":{\"color\":\"#2a3f5f\"}},\"ternary\":{\"aaxis\":{\"gridcolor\":\"white\",\"linecolor\":\"white\",\"ticks\":\"\"},\"baxis\":{\"gridcolor\":\"white\",\"linecolor\":\"white\",\"ticks\":\"\"},\"bgcolor\":\"#E5ECF6\",\"caxis\":{\"gridcolor\":\"white\",\"linecolor\":\"white\",\"ticks\":\"\"}},\"title\":{\"x\":0.05},\"xaxis\":{\"automargin\":true,\"gridcolor\":\"white\",\"linecolor\":\"white\",\"ticks\":\"\",\"title\":{\"standoff\":15},\"zerolinecolor\":\"white\",\"zerolinewidth\":2},\"yaxis\":{\"automargin\":true,\"gridcolor\":\"white\",\"linecolor\":\"white\",\"ticks\":\"\",\"title\":{\"standoff\":15},\"zerolinecolor\":\"white\",\"zerolinewidth\":2}}},\"title\":{\"font\":{\"color\":\"#4D5663\"}},\"xaxis\":{\"gridcolor\":\"#E1E5ED\",\"showgrid\":true,\"tickfont\":{\"color\":\"#4D5663\"},\"title\":{\"font\":{\"color\":\"#4D5663\"},\"text\":\"\"},\"zerolinecolor\":\"#E1E5ED\"},\"yaxis\":{\"gridcolor\":\"#E1E5ED\",\"showgrid\":true,\"tickfont\":{\"color\":\"#4D5663\"},\"title\":{\"font\":{\"color\":\"#4D5663\"},\"text\":\"\"},\"zerolinecolor\":\"#E1E5ED\"}},                        {\"showLink\": true, \"linkText\": \"Export to plot.ly\", \"plotlyServerURL\": \"https://plot.ly\", \"responsive\": true}                    ).then(function(){\n",
       "                            \n",
       "var gd = document.getElementById('3918effb-6c59-41ad-b9da-5855284e3f2d');\n",
       "var x = new MutationObserver(function (mutations, observer) {{\n",
       "        var display = window.getComputedStyle(gd).display;\n",
       "        if (!display || display === 'none') {{\n",
       "            console.log([gd, 'removed!']);\n",
       "            Plotly.purge(gd);\n",
       "            observer.disconnect();\n",
       "        }}\n",
       "}});\n",
       "\n",
       "// Listen for the removal of the full notebook cells\n",
       "var notebookContainer = gd.closest('#notebook-container');\n",
       "if (notebookContainer) {{\n",
       "    x.observe(notebookContainer, {childList: true});\n",
       "}}\n",
       "\n",
       "// Listen for the clearing of the current output cell\n",
       "var outputEl = gd.closest('.output');\n",
       "if (outputEl) {{\n",
       "    x.observe(outputEl, {childList: true});\n",
       "}}\n",
       "\n",
       "                        })                };                });            </script>        </div>"
      ]
     },
     "metadata": {},
     "output_type": "display_data"
    }
   ],
   "source": [
    "df.iplot(x = \"A\",y = \"B\",mode = \"markers\")"
   ]
  },
  {
   "cell_type": "code",
   "execution_count": null,
   "metadata": {},
   "outputs": [
    {
     "data": {
      "text/html": [
       "<div>\n",
       "<style scoped>\n",
       "    .dataframe tbody tr th:only-of-type {\n",
       "        vertical-align: middle;\n",
       "    }\n",
       "\n",
       "    .dataframe tbody tr th {\n",
       "        vertical-align: top;\n",
       "    }\n",
       "\n",
       "    .dataframe thead th {\n",
       "        text-align: right;\n",
       "    }\n",
       "</style>\n",
       "<table border=\"1\" class=\"dataframe\">\n",
       "  <thead>\n",
       "    <tr style=\"text-align: right;\">\n",
       "      <th></th>\n",
       "      <th>A</th>\n",
       "      <th>B</th>\n",
       "      <th>C</th>\n",
       "    </tr>\n",
       "  </thead>\n",
       "  <tbody>\n",
       "    <tr>\n",
       "      <th>0</th>\n",
       "      <td>0.719020</td>\n",
       "      <td>0.260417</td>\n",
       "      <td>-2.130460</td>\n",
       "    </tr>\n",
       "    <tr>\n",
       "      <th>1</th>\n",
       "      <td>1.039579</td>\n",
       "      <td>0.485236</td>\n",
       "      <td>0.113546</td>\n",
       "    </tr>\n",
       "    <tr>\n",
       "      <th>2</th>\n",
       "      <td>-1.924599</td>\n",
       "      <td>-0.204418</td>\n",
       "      <td>-1.016020</td>\n",
       "    </tr>\n",
       "    <tr>\n",
       "      <th>3</th>\n",
       "      <td>0.162013</td>\n",
       "      <td>0.415637</td>\n",
       "      <td>-0.347436</td>\n",
       "    </tr>\n",
       "    <tr>\n",
       "      <th>4</th>\n",
       "      <td>-1.613818</td>\n",
       "      <td>0.829515</td>\n",
       "      <td>-0.105367</td>\n",
       "    </tr>\n",
       "    <tr>\n",
       "      <th>...</th>\n",
       "      <td>...</td>\n",
       "      <td>...</td>\n",
       "      <td>...</td>\n",
       "    </tr>\n",
       "    <tr>\n",
       "      <th>95</th>\n",
       "      <td>0.762759</td>\n",
       "      <td>1.473448</td>\n",
       "      <td>1.065522</td>\n",
       "    </tr>\n",
       "    <tr>\n",
       "      <th>96</th>\n",
       "      <td>1.748716</td>\n",
       "      <td>0.419580</td>\n",
       "      <td>-1.328715</td>\n",
       "    </tr>\n",
       "    <tr>\n",
       "      <th>97</th>\n",
       "      <td>-0.393093</td>\n",
       "      <td>-0.514692</td>\n",
       "      <td>1.126845</td>\n",
       "    </tr>\n",
       "    <tr>\n",
       "      <th>98</th>\n",
       "      <td>0.499655</td>\n",
       "      <td>1.641669</td>\n",
       "      <td>-0.696615</td>\n",
       "    </tr>\n",
       "    <tr>\n",
       "      <th>99</th>\n",
       "      <td>0.949542</td>\n",
       "      <td>-0.910633</td>\n",
       "      <td>0.574627</td>\n",
       "    </tr>\n",
       "  </tbody>\n",
       "</table>\n",
       "<p>100 rows × 3 columns</p>\n",
       "</div>"
      ],
      "text/plain": [
       "           A         B         C\n",
       "0   0.719020  0.260417 -2.130460\n",
       "1   1.039579  0.485236  0.113546\n",
       "2  -1.924599 -0.204418 -1.016020\n",
       "3   0.162013  0.415637 -0.347436\n",
       "4  -1.613818  0.829515 -0.105367\n",
       "..       ...       ...       ...\n",
       "95  0.762759  1.473448  1.065522\n",
       "96  1.748716  0.419580 -1.328715\n",
       "97 -0.393093 -0.514692  1.126845\n",
       "98  0.499655  1.641669 -0.696615\n",
       "99  0.949542 -0.910633  0.574627\n",
       "\n",
       "[100 rows x 3 columns]"
      ]
     },
     "execution_count": 10,
     "metadata": {},
     "output_type": "execute_result"
    }
   ],
   "source": [
    "df"
   ]
  },
  {
   "cell_type": "code",
   "execution_count": null,
   "metadata": {},
   "outputs": [],
   "source": [
    "df1 = sns.load_dataset('titanic')"
   ]
  },
  {
   "cell_type": "code",
   "execution_count": null,
   "metadata": {},
   "outputs": [
    {
     "data": {
      "text/html": [
       "<div>\n",
       "<style scoped>\n",
       "    .dataframe tbody tr th:only-of-type {\n",
       "        vertical-align: middle;\n",
       "    }\n",
       "\n",
       "    .dataframe tbody tr th {\n",
       "        vertical-align: top;\n",
       "    }\n",
       "\n",
       "    .dataframe thead th {\n",
       "        text-align: right;\n",
       "    }\n",
       "</style>\n",
       "<table border=\"1\" class=\"dataframe\">\n",
       "  <thead>\n",
       "    <tr style=\"text-align: right;\">\n",
       "      <th></th>\n",
       "      <th>survived</th>\n",
       "      <th>pclass</th>\n",
       "      <th>sex</th>\n",
       "      <th>age</th>\n",
       "      <th>sibsp</th>\n",
       "      <th>parch</th>\n",
       "      <th>fare</th>\n",
       "      <th>embarked</th>\n",
       "      <th>class</th>\n",
       "      <th>who</th>\n",
       "      <th>adult_male</th>\n",
       "      <th>deck</th>\n",
       "      <th>embark_town</th>\n",
       "      <th>alive</th>\n",
       "      <th>alone</th>\n",
       "    </tr>\n",
       "  </thead>\n",
       "  <tbody>\n",
       "    <tr>\n",
       "      <th>0</th>\n",
       "      <td>0</td>\n",
       "      <td>3</td>\n",
       "      <td>male</td>\n",
       "      <td>22.0</td>\n",
       "      <td>1</td>\n",
       "      <td>0</td>\n",
       "      <td>7.2500</td>\n",
       "      <td>S</td>\n",
       "      <td>Third</td>\n",
       "      <td>man</td>\n",
       "      <td>True</td>\n",
       "      <td>NaN</td>\n",
       "      <td>Southampton</td>\n",
       "      <td>no</td>\n",
       "      <td>False</td>\n",
       "    </tr>\n",
       "    <tr>\n",
       "      <th>1</th>\n",
       "      <td>1</td>\n",
       "      <td>1</td>\n",
       "      <td>female</td>\n",
       "      <td>38.0</td>\n",
       "      <td>1</td>\n",
       "      <td>0</td>\n",
       "      <td>71.2833</td>\n",
       "      <td>C</td>\n",
       "      <td>First</td>\n",
       "      <td>woman</td>\n",
       "      <td>False</td>\n",
       "      <td>C</td>\n",
       "      <td>Cherbourg</td>\n",
       "      <td>yes</td>\n",
       "      <td>False</td>\n",
       "    </tr>\n",
       "    <tr>\n",
       "      <th>2</th>\n",
       "      <td>1</td>\n",
       "      <td>3</td>\n",
       "      <td>female</td>\n",
       "      <td>26.0</td>\n",
       "      <td>0</td>\n",
       "      <td>0</td>\n",
       "      <td>7.9250</td>\n",
       "      <td>S</td>\n",
       "      <td>Third</td>\n",
       "      <td>woman</td>\n",
       "      <td>False</td>\n",
       "      <td>NaN</td>\n",
       "      <td>Southampton</td>\n",
       "      <td>yes</td>\n",
       "      <td>True</td>\n",
       "    </tr>\n",
       "    <tr>\n",
       "      <th>3</th>\n",
       "      <td>1</td>\n",
       "      <td>1</td>\n",
       "      <td>female</td>\n",
       "      <td>35.0</td>\n",
       "      <td>1</td>\n",
       "      <td>0</td>\n",
       "      <td>53.1000</td>\n",
       "      <td>S</td>\n",
       "      <td>First</td>\n",
       "      <td>woman</td>\n",
       "      <td>False</td>\n",
       "      <td>C</td>\n",
       "      <td>Southampton</td>\n",
       "      <td>yes</td>\n",
       "      <td>False</td>\n",
       "    </tr>\n",
       "    <tr>\n",
       "      <th>4</th>\n",
       "      <td>0</td>\n",
       "      <td>3</td>\n",
       "      <td>male</td>\n",
       "      <td>35.0</td>\n",
       "      <td>0</td>\n",
       "      <td>0</td>\n",
       "      <td>8.0500</td>\n",
       "      <td>S</td>\n",
       "      <td>Third</td>\n",
       "      <td>man</td>\n",
       "      <td>True</td>\n",
       "      <td>NaN</td>\n",
       "      <td>Southampton</td>\n",
       "      <td>no</td>\n",
       "      <td>True</td>\n",
       "    </tr>\n",
       "  </tbody>\n",
       "</table>\n",
       "</div>"
      ],
      "text/plain": [
       "   survived  pclass     sex   age  sibsp  parch     fare embarked  class  \\\n",
       "0         0       3    male  22.0      1      0   7.2500        S  Third   \n",
       "1         1       1  female  38.0      1      0  71.2833        C  First   \n",
       "2         1       3  female  26.0      0      0   7.9250        S  Third   \n",
       "3         1       1  female  35.0      1      0  53.1000        S  First   \n",
       "4         0       3    male  35.0      0      0   8.0500        S  Third   \n",
       "\n",
       "     who  adult_male deck  embark_town alive  alone  \n",
       "0    man        True  NaN  Southampton    no  False  \n",
       "1  woman       False    C    Cherbourg   yes  False  \n",
       "2  woman       False  NaN  Southampton   yes   True  \n",
       "3  woman       False    C  Southampton   yes  False  \n",
       "4    man        True  NaN  Southampton    no   True  "
      ]
     },
     "execution_count": 12,
     "metadata": {},
     "output_type": "execute_result"
    }
   ],
   "source": [
    "df1.head()"
   ]
  },
  {
   "cell_type": "code",
   "execution_count": null,
   "metadata": {},
   "outputs": [
    {
     "data": {
      "application/vnd.plotly.v1+json": {
       "config": {
        "linkText": "Export to plot.ly",
        "plotlyServerURL": "https://plot.ly",
        "showLink": true
       },
       "data": [
        {
         "marker": {
          "color": "rgba(255, 153, 51, 0.6)",
          "line": {
           "color": "rgba(255, 153, 51, 1.0)",
           "width": 1
          }
         },
         "name": "survived",
         "orientation": "v",
         "text": "",
         "type": "bar",
         "x": [
          "male",
          "female",
          "female",
          "female",
          "male",
          "male",
          "male",
          "male",
          "female",
          "female",
          "female",
          "female",
          "male",
          "male",
          "female",
          "female",
          "male",
          "male",
          "female",
          "female",
          "male",
          "male",
          "female",
          "male",
          "female",
          "female",
          "male",
          "male",
          "female",
          "male",
          "male",
          "female",
          "female",
          "male",
          "male",
          "male",
          "male",
          "male",
          "female",
          "female",
          "female",
          "female",
          "male",
          "female",
          "female",
          "male",
          "male",
          "female",
          "male",
          "female",
          "male",
          "male",
          "female",
          "female",
          "male",
          "male",
          "female",
          "male",
          "female",
          "male",
          "male",
          "female",
          "male",
          "male",
          "male",
          "male",
          "female",
          "male",
          "female",
          "male",
          "male",
          "female",
          "male",
          "male",
          "male",
          "male",
          "male",
          "male",
          "male",
          "female",
          "male",
          "male",
          "female",
          "male",
          "female",
          "female",
          "male",
          "male",
          "female",
          "male",
          "male",
          "male",
          "male",
          "male",
          "male",
          "male",
          "male",
          "male",
          "female",
          "male",
          "female",
          "male",
          "male",
          "male",
          "male",
          "male",
          "female",
          "male",
          "male",
          "female",
          "male",
          "female",
          "male",
          "female",
          "female",
          "male",
          "male",
          "male",
          "male",
          "female",
          "male",
          "male",
          "male",
          "female",
          "male",
          "male",
          "male",
          "male",
          "female",
          "male",
          "male",
          "male",
          "female",
          "female",
          "male",
          "male",
          "female",
          "male",
          "male",
          "male",
          "female",
          "female",
          "female",
          "male",
          "male",
          "male",
          "male",
          "female",
          "male",
          "male",
          "male",
          "female",
          "male",
          "male",
          "male",
          "male",
          "female",
          "male",
          "male",
          "male",
          "male",
          "female",
          "male",
          "male",
          "male",
          "male",
          "female",
          "female",
          "male",
          "male",
          "male",
          "male",
          "female",
          "male",
          "male",
          "male",
          "male",
          "female",
          "male",
          "male",
          "female",
          "male",
          "male",
          "male",
          "female",
          "male",
          "female",
          "male",
          "male",
          "male",
          "female",
          "male",
          "female",
          "male",
          "female",
          "female",
          "male",
          "male",
          "female",
          "female",
          "male",
          "male",
          "male",
          "male",
          "male",
          "female",
          "male",
          "male",
          "female",
          "male",
          "male",
          "female",
          "male",
          "male",
          "male",
          "female",
          "female",
          "male",
          "female",
          "male",
          "male",
          "male",
          "male",
          "male",
          "male",
          "male",
          "male",
          "male",
          "male",
          "female",
          "female",
          "male",
          "male",
          "female",
          "male",
          "female",
          "male",
          "female",
          "male",
          "male",
          "female",
          "female",
          "male",
          "male",
          "male",
          "male",
          "female",
          "female",
          "male",
          "male",
          "male",
          "female",
          "male",
          "male",
          "female",
          "female",
          "female",
          "female",
          "female",
          "female",
          "male",
          "male",
          "male",
          "male",
          "female",
          "male",
          "male",
          "male",
          "female",
          "female",
          "male",
          "male",
          "female",
          "male",
          "female",
          "female",
          "female",
          "male",
          "male",
          "female",
          "male",
          "male",
          "male",
          "male",
          "male",
          "male",
          "male",
          "male",
          "male",
          "female",
          "female",
          "female",
          "male",
          "female",
          "male",
          "male",
          "male",
          "female",
          "male",
          "female",
          "female",
          "male",
          "male",
          "female",
          "male",
          "male",
          "female",
          "female",
          "male",
          "female",
          "female",
          "female",
          "female",
          "male",
          "male",
          "female",
          "female",
          "male",
          "female",
          "female",
          "male",
          "male",
          "female",
          "female",
          "male",
          "female",
          "male",
          "female",
          "female",
          "female",
          "female",
          "male",
          "male",
          "male",
          "female",
          "male",
          "male",
          "female",
          "male",
          "male",
          "male",
          "female",
          "male",
          "male",
          "male",
          "female",
          "female",
          "female",
          "male",
          "male",
          "male",
          "male",
          "male",
          "male",
          "male",
          "male",
          "female",
          "female",
          "female",
          "female",
          "male",
          "male",
          "female",
          "male",
          "male",
          "male",
          "female",
          "female",
          "female",
          "female",
          "male",
          "male",
          "male",
          "male",
          "female",
          "female",
          "female",
          "male",
          "male",
          "male",
          "female",
          "female",
          "male",
          "female",
          "male",
          "male",
          "male",
          "female",
          "male",
          "female",
          "male",
          "male",
          "male",
          "female",
          "female",
          "male",
          "female",
          "male",
          "male",
          "female",
          "male",
          "male",
          "female",
          "male",
          "female",
          "male",
          "male",
          "male",
          "male",
          "female",
          "male",
          "male",
          "female",
          "male",
          "male",
          "female",
          "female",
          "female",
          "male",
          "female",
          "male",
          "male",
          "male",
          "female",
          "male",
          "male",
          "female",
          "female",
          "male",
          "male",
          "male",
          "female",
          "female",
          "male",
          "male",
          "female",
          "female",
          "female",
          "male",
          "male",
          "female",
          "male",
          "male",
          "female",
          "male",
          "male",
          "female",
          "male",
          "female",
          "male",
          "male",
          "male",
          "male",
          "male",
          "male",
          "male",
          "male",
          "female",
          "female",
          "male",
          "male",
          "male",
          "male",
          "male",
          "male",
          "male",
          "male",
          "male",
          "male",
          "female",
          "male",
          "male",
          "female",
          "female",
          "female",
          "male",
          "male",
          "male",
          "male",
          "female",
          "male",
          "male",
          "male",
          "female",
          "male",
          "female",
          "female",
          "male",
          "male",
          "male",
          "male",
          "male",
          "male",
          "male",
          "male",
          "male",
          "female",
          "male",
          "female",
          "male",
          "male",
          "female",
          "female",
          "female",
          "female",
          "male",
          "female",
          "male",
          "male",
          "male",
          "male",
          "male",
          "male",
          "female",
          "male",
          "male",
          "female",
          "male",
          "female",
          "male",
          "female",
          "male",
          "male",
          "female",
          "male",
          "male",
          "female",
          "male",
          "male",
          "male",
          "female",
          "male",
          "male",
          "female",
          "female",
          "female",
          "male",
          "female",
          "male",
          "female",
          "female",
          "female",
          "female",
          "male",
          "male",
          "male",
          "female",
          "male",
          "male",
          "male",
          "male",
          "male",
          "male",
          "male",
          "female",
          "male",
          "female",
          "male",
          "female",
          "female",
          "male",
          "male",
          "male",
          "male",
          "female",
          "male",
          "male",
          "female",
          "male",
          "male",
          "male",
          "female",
          "male",
          "female",
          "male",
          "male",
          "female",
          "female",
          "female",
          "male",
          "female",
          "female",
          "male",
          "male",
          "male",
          "female",
          "male",
          "male",
          "male",
          "male",
          "male",
          "female",
          "male",
          "female",
          "male",
          "male",
          "female",
          "male",
          "male",
          "male",
          "female",
          "male",
          "male",
          "male",
          "male",
          "male",
          "male",
          "male",
          "female",
          "female",
          "female",
          "male",
          "female",
          "male",
          "male",
          "female",
          "male",
          "female",
          "female",
          "male",
          "male",
          "male",
          "male",
          "male",
          "male",
          "male",
          "male",
          "female",
          "male",
          "male",
          "male",
          "male",
          "male",
          "male",
          "female",
          "female",
          "male",
          "male",
          "female",
          "male",
          "male",
          "female",
          "female",
          "male",
          "female",
          "male",
          "male",
          "male",
          "male",
          "female",
          "male",
          "female",
          "male",
          "female",
          "female",
          "male",
          "male",
          "female",
          "male",
          "male",
          "male",
          "male",
          "male",
          "male",
          "male",
          "male",
          "male",
          "male",
          "male",
          "female",
          "female",
          "male",
          "male",
          "male",
          "male",
          "male",
          "male",
          "female",
          "female",
          "male",
          "female",
          "male",
          "male",
          "male",
          "male",
          "male",
          "male",
          "male",
          "male",
          "female",
          "male",
          "female",
          "male",
          "male",
          "male",
          "male",
          "male",
          "female",
          "male",
          "male",
          "female",
          "male",
          "female",
          "male",
          "male",
          "male",
          "female",
          "male",
          "female",
          "male",
          "female",
          "male",
          "male",
          "male",
          "male",
          "male",
          "female",
          "female",
          "male",
          "male",
          "female",
          "male",
          "male",
          "male",
          "male",
          "male",
          "female",
          "female",
          "male",
          "female",
          "female",
          "male",
          "male",
          "male",
          "male",
          "male",
          "female",
          "male",
          "male",
          "male",
          "male",
          "male",
          "female",
          "male",
          "male",
          "male",
          "male",
          "female",
          "male",
          "male",
          "female",
          "male",
          "male",
          "male",
          "female",
          "male",
          "male",
          "male",
          "male",
          "female",
          "male",
          "male",
          "male",
          "female",
          "male",
          "female",
          "male",
          "female",
          "male",
          "male",
          "male",
          "male",
          "female",
          "male",
          "female",
          "male",
          "male",
          "female",
          "male",
          "female",
          "female",
          "female",
          "male",
          "male",
          "male",
          "male",
          "female",
          "male",
          "male",
          "male",
          "male",
          "male",
          "female",
          "male",
          "male",
          "male",
          "female",
          "female",
          "male",
          "female",
          "male",
          "female",
          "male",
          "male",
          "male",
          "male",
          "male",
          "female",
          "male",
          "female",
          "male",
          "male",
          "male",
          "female",
          "male",
          "male",
          "female",
          "male",
          "male",
          "male",
          "female",
          "male",
          "male",
          "female",
          "male",
          "male",
          "male",
          "male",
          "male",
          "female",
          "female",
          "male",
          "male",
          "male",
          "male",
          "female",
          "male",
          "male",
          "male",
          "male",
          "male",
          "male",
          "female",
          "male",
          "male",
          "male",
          "male",
          "male",
          "male",
          "female",
          "male",
          "male",
          "female",
          "female",
          "female",
          "female",
          "female",
          "male",
          "female",
          "male",
          "male",
          "male",
          "female",
          "female",
          "male",
          "female",
          "female",
          "male",
          "male",
          "male",
          "male",
          "female",
          "male",
          "male",
          "female",
          "female",
          "male",
          "male",
          "male",
          "female",
          "female",
          "male",
          "female",
          "male",
          "male",
          "female",
          "male",
          "female",
          "female",
          "male",
          "male"
         ],
         "y": [
          0,
          1,
          1,
          1,
          0,
          0,
          0,
          0,
          1,
          1,
          1,
          1,
          0,
          0,
          0,
          1,
          0,
          1,
          0,
          1,
          0,
          1,
          1,
          1,
          0,
          1,
          0,
          0,
          1,
          0,
          0,
          1,
          1,
          0,
          0,
          0,
          1,
          0,
          0,
          1,
          0,
          0,
          0,
          1,
          1,
          0,
          0,
          1,
          0,
          0,
          0,
          0,
          1,
          1,
          0,
          1,
          1,
          0,
          1,
          0,
          0,
          1,
          0,
          0,
          0,
          1,
          1,
          0,
          1,
          0,
          0,
          0,
          0,
          0,
          1,
          0,
          0,
          0,
          1,
          1,
          0,
          1,
          1,
          0,
          1,
          1,
          0,
          0,
          1,
          0,
          0,
          0,
          0,
          0,
          0,
          0,
          0,
          1,
          1,
          0,
          0,
          0,
          0,
          0,
          0,
          0,
          1,
          1,
          0,
          1,
          0,
          0,
          0,
          0,
          0,
          0,
          0,
          0,
          0,
          0,
          0,
          0,
          0,
          1,
          0,
          1,
          0,
          1,
          1,
          0,
          0,
          0,
          0,
          1,
          0,
          0,
          1,
          0,
          0,
          0,
          0,
          1,
          1,
          0,
          0,
          0,
          1,
          0,
          0,
          0,
          0,
          1,
          0,
          0,
          0,
          0,
          1,
          0,
          0,
          0,
          0,
          1,
          0,
          0,
          0,
          1,
          1,
          0,
          0,
          0,
          0,
          0,
          1,
          0,
          0,
          0,
          0,
          0,
          0,
          0,
          0,
          0,
          0,
          1,
          1,
          0,
          1,
          1,
          0,
          0,
          1,
          0,
          1,
          1,
          1,
          1,
          0,
          0,
          1,
          0,
          0,
          0,
          0,
          0,
          1,
          0,
          0,
          1,
          1,
          1,
          0,
          1,
          0,
          0,
          0,
          1,
          1,
          0,
          1,
          0,
          1,
          0,
          0,
          0,
          1,
          0,
          1,
          0,
          0,
          0,
          1,
          0,
          0,
          1,
          0,
          0,
          0,
          1,
          0,
          0,
          0,
          1,
          0,
          0,
          0,
          0,
          0,
          1,
          1,
          0,
          0,
          0,
          0,
          0,
          0,
          1,
          1,
          1,
          1,
          1,
          0,
          1,
          0,
          0,
          0,
          0,
          0,
          1,
          1,
          1,
          0,
          1,
          1,
          0,
          1,
          1,
          0,
          0,
          0,
          1,
          0,
          0,
          0,
          1,
          0,
          0,
          1,
          0,
          1,
          1,
          1,
          1,
          0,
          0,
          0,
          0,
          0,
          0,
          1,
          1,
          1,
          1,
          0,
          1,
          0,
          1,
          1,
          1,
          0,
          1,
          1,
          1,
          0,
          0,
          0,
          1,
          1,
          0,
          1,
          1,
          0,
          0,
          1,
          1,
          0,
          1,
          0,
          1,
          1,
          1,
          1,
          0,
          0,
          0,
          1,
          0,
          0,
          1,
          1,
          0,
          1,
          1,
          0,
          0,
          0,
          1,
          1,
          1,
          1,
          0,
          0,
          0,
          0,
          0,
          0,
          0,
          1,
          0,
          1,
          1,
          0,
          0,
          0,
          0,
          0,
          0,
          1,
          1,
          1,
          1,
          1,
          0,
          0,
          0,
          0,
          1,
          1,
          0,
          0,
          0,
          1,
          1,
          0,
          1,
          0,
          0,
          0,
          1,
          0,
          1,
          1,
          1,
          0,
          1,
          1,
          0,
          0,
          0,
          0,
          1,
          1,
          0,
          0,
          0,
          0,
          0,
          0,
          1,
          0,
          0,
          0,
          0,
          1,
          0,
          1,
          0,
          1,
          1,
          0,
          0,
          0,
          0,
          0,
          0,
          0,
          0,
          1,
          1,
          0,
          1,
          1,
          1,
          1,
          0,
          0,
          1,
          0,
          1,
          0,
          0,
          1,
          0,
          0,
          1,
          1,
          1,
          1,
          1,
          1,
          1,
          0,
          0,
          0,
          1,
          0,
          1,
          0,
          1,
          1,
          0,
          1,
          0,
          0,
          0,
          0,
          0,
          0,
          0,
          0,
          1,
          0,
          0,
          1,
          1,
          0,
          0,
          0,
          0,
          0,
          1,
          0,
          0,
          0,
          1,
          1,
          0,
          1,
          0,
          0,
          1,
          0,
          0,
          0,
          0,
          0,
          0,
          1,
          0,
          0,
          0,
          0,
          0,
          0,
          0,
          1,
          0,
          1,
          1,
          0,
          1,
          1,
          0,
          1,
          1,
          0,
          0,
          1,
          0,
          1,
          0,
          1,
          0,
          0,
          1,
          0,
          0,
          1,
          0,
          0,
          0,
          1,
          0,
          0,
          1,
          0,
          1,
          0,
          1,
          0,
          1,
          1,
          0,
          0,
          1,
          0,
          0,
          1,
          1,
          0,
          1,
          1,
          0,
          0,
          1,
          1,
          0,
          1,
          0,
          1,
          1,
          0,
          0,
          0,
          0,
          0,
          0,
          0,
          0,
          0,
          1,
          1,
          1,
          1,
          1,
          0,
          0,
          1,
          1,
          0,
          1,
          1,
          1,
          0,
          0,
          0,
          1,
          0,
          1,
          0,
          0,
          0,
          1,
          0,
          0,
          0,
          0,
          1,
          0,
          0,
          1,
          1,
          0,
          0,
          0,
          1,
          0,
          0,
          1,
          1,
          1,
          0,
          0,
          1,
          0,
          0,
          1,
          0,
          0,
          1,
          0,
          0,
          1,
          1,
          0,
          0,
          0,
          0,
          1,
          0,
          0,
          1,
          0,
          1,
          0,
          0,
          1,
          0,
          0,
          0,
          0,
          0,
          1,
          0,
          1,
          1,
          1,
          0,
          1,
          0,
          1,
          0,
          1,
          0,
          1,
          0,
          0,
          0,
          0,
          0,
          0,
          1,
          0,
          0,
          0,
          1,
          0,
          0,
          0,
          0,
          1,
          1,
          0,
          0,
          1,
          0,
          0,
          0,
          1,
          0,
          1,
          0,
          1,
          0,
          0,
          0,
          0,
          0,
          0,
          0,
          1,
          1,
          1,
          1,
          0,
          0,
          0,
          0,
          1,
          0,
          0,
          1,
          1,
          0,
          0,
          0,
          0,
          1,
          1,
          1,
          1,
          1,
          0,
          1,
          0,
          0,
          0,
          1,
          1,
          0,
          0,
          1,
          0,
          0,
          0,
          1,
          0,
          1,
          1,
          0,
          0,
          1,
          0,
          0,
          0,
          0,
          0,
          0,
          1,
          0,
          0,
          1,
          0,
          1,
          0,
          1,
          0,
          0,
          1,
          0,
          0,
          1,
          1,
          0,
          0,
          1,
          1,
          0,
          0,
          0,
          1,
          0,
          0,
          1,
          1,
          0,
          1,
          0,
          0,
          0,
          0,
          0,
          0,
          0,
          0,
          1,
          0,
          0,
          1,
          0,
          1,
          1,
          1,
          0,
          0,
          0,
          0,
          1,
          0,
          1,
          0,
          0,
          0,
          0,
          0,
          0,
          0,
          1,
          1,
          0,
          0,
          0,
          1,
          1,
          1,
          1,
          0,
          0,
          0,
          0,
          1,
          0,
          0,
          0,
          0,
          0,
          0,
          0,
          0,
          0,
          0,
          1,
          1,
          0,
          1,
          0,
          0,
          0,
          1,
          1,
          1,
          1,
          1,
          0,
          0,
          0,
          1,
          0,
          0,
          1,
          1,
          0,
          0,
          1,
          0,
          0,
          0,
          0,
          0,
          0,
          1,
          0,
          0,
          0,
          1,
          0,
          1,
          1,
          1,
          1,
          0,
          0,
          0,
          1,
          0,
          0,
          1,
          1,
          0,
          0,
          1,
          0,
          1,
          0,
          0,
          1,
          1,
          0,
          0,
          0,
          1,
          1,
          0,
          0,
          0,
          0,
          0,
          0,
          1,
          0,
          1,
          0
         ]
        }
       ],
       "layout": {
        "legend": {
         "bgcolor": "#F5F6F9",
         "font": {
          "color": "#4D5663"
         }
        },
        "paper_bgcolor": "#F5F6F9",
        "plot_bgcolor": "#F5F6F9",
        "template": {
         "data": {
          "bar": [
           {
            "error_x": {
             "color": "#2a3f5f"
            },
            "error_y": {
             "color": "#2a3f5f"
            },
            "marker": {
             "line": {
              "color": "#E5ECF6",
              "width": 0.5
             },
             "pattern": {
              "fillmode": "overlay",
              "size": 10,
              "solidity": 0.2
             }
            },
            "type": "bar"
           }
          ],
          "barpolar": [
           {
            "marker": {
             "line": {
              "color": "#E5ECF6",
              "width": 0.5
             },
             "pattern": {
              "fillmode": "overlay",
              "size": 10,
              "solidity": 0.2
             }
            },
            "type": "barpolar"
           }
          ],
          "carpet": [
           {
            "aaxis": {
             "endlinecolor": "#2a3f5f",
             "gridcolor": "white",
             "linecolor": "white",
             "minorgridcolor": "white",
             "startlinecolor": "#2a3f5f"
            },
            "baxis": {
             "endlinecolor": "#2a3f5f",
             "gridcolor": "white",
             "linecolor": "white",
             "minorgridcolor": "white",
             "startlinecolor": "#2a3f5f"
            },
            "type": "carpet"
           }
          ],
          "choropleth": [
           {
            "colorbar": {
             "outlinewidth": 0,
             "ticks": ""
            },
            "type": "choropleth"
           }
          ],
          "contour": [
           {
            "colorbar": {
             "outlinewidth": 0,
             "ticks": ""
            },
            "colorscale": [
             [
              0,
              "#0d0887"
             ],
             [
              0.1111111111111111,
              "#46039f"
             ],
             [
              0.2222222222222222,
              "#7201a8"
             ],
             [
              0.3333333333333333,
              "#9c179e"
             ],
             [
              0.4444444444444444,
              "#bd3786"
             ],
             [
              0.5555555555555556,
              "#d8576b"
             ],
             [
              0.6666666666666666,
              "#ed7953"
             ],
             [
              0.7777777777777778,
              "#fb9f3a"
             ],
             [
              0.8888888888888888,
              "#fdca26"
             ],
             [
              1,
              "#f0f921"
             ]
            ],
            "type": "contour"
           }
          ],
          "contourcarpet": [
           {
            "colorbar": {
             "outlinewidth": 0,
             "ticks": ""
            },
            "type": "contourcarpet"
           }
          ],
          "heatmap": [
           {
            "colorbar": {
             "outlinewidth": 0,
             "ticks": ""
            },
            "colorscale": [
             [
              0,
              "#0d0887"
             ],
             [
              0.1111111111111111,
              "#46039f"
             ],
             [
              0.2222222222222222,
              "#7201a8"
             ],
             [
              0.3333333333333333,
              "#9c179e"
             ],
             [
              0.4444444444444444,
              "#bd3786"
             ],
             [
              0.5555555555555556,
              "#d8576b"
             ],
             [
              0.6666666666666666,
              "#ed7953"
             ],
             [
              0.7777777777777778,
              "#fb9f3a"
             ],
             [
              0.8888888888888888,
              "#fdca26"
             ],
             [
              1,
              "#f0f921"
             ]
            ],
            "type": "heatmap"
           }
          ],
          "heatmapgl": [
           {
            "colorbar": {
             "outlinewidth": 0,
             "ticks": ""
            },
            "colorscale": [
             [
              0,
              "#0d0887"
             ],
             [
              0.1111111111111111,
              "#46039f"
             ],
             [
              0.2222222222222222,
              "#7201a8"
             ],
             [
              0.3333333333333333,
              "#9c179e"
             ],
             [
              0.4444444444444444,
              "#bd3786"
             ],
             [
              0.5555555555555556,
              "#d8576b"
             ],
             [
              0.6666666666666666,
              "#ed7953"
             ],
             [
              0.7777777777777778,
              "#fb9f3a"
             ],
             [
              0.8888888888888888,
              "#fdca26"
             ],
             [
              1,
              "#f0f921"
             ]
            ],
            "type": "heatmapgl"
           }
          ],
          "histogram": [
           {
            "marker": {
             "pattern": {
              "fillmode": "overlay",
              "size": 10,
              "solidity": 0.2
             }
            },
            "type": "histogram"
           }
          ],
          "histogram2d": [
           {
            "colorbar": {
             "outlinewidth": 0,
             "ticks": ""
            },
            "colorscale": [
             [
              0,
              "#0d0887"
             ],
             [
              0.1111111111111111,
              "#46039f"
             ],
             [
              0.2222222222222222,
              "#7201a8"
             ],
             [
              0.3333333333333333,
              "#9c179e"
             ],
             [
              0.4444444444444444,
              "#bd3786"
             ],
             [
              0.5555555555555556,
              "#d8576b"
             ],
             [
              0.6666666666666666,
              "#ed7953"
             ],
             [
              0.7777777777777778,
              "#fb9f3a"
             ],
             [
              0.8888888888888888,
              "#fdca26"
             ],
             [
              1,
              "#f0f921"
             ]
            ],
            "type": "histogram2d"
           }
          ],
          "histogram2dcontour": [
           {
            "colorbar": {
             "outlinewidth": 0,
             "ticks": ""
            },
            "colorscale": [
             [
              0,
              "#0d0887"
             ],
             [
              0.1111111111111111,
              "#46039f"
             ],
             [
              0.2222222222222222,
              "#7201a8"
             ],
             [
              0.3333333333333333,
              "#9c179e"
             ],
             [
              0.4444444444444444,
              "#bd3786"
             ],
             [
              0.5555555555555556,
              "#d8576b"
             ],
             [
              0.6666666666666666,
              "#ed7953"
             ],
             [
              0.7777777777777778,
              "#fb9f3a"
             ],
             [
              0.8888888888888888,
              "#fdca26"
             ],
             [
              1,
              "#f0f921"
             ]
            ],
            "type": "histogram2dcontour"
           }
          ],
          "mesh3d": [
           {
            "colorbar": {
             "outlinewidth": 0,
             "ticks": ""
            },
            "type": "mesh3d"
           }
          ],
          "parcoords": [
           {
            "line": {
             "colorbar": {
              "outlinewidth": 0,
              "ticks": ""
             }
            },
            "type": "parcoords"
           }
          ],
          "pie": [
           {
            "automargin": true,
            "type": "pie"
           }
          ],
          "scatter": [
           {
            "fillpattern": {
             "fillmode": "overlay",
             "size": 10,
             "solidity": 0.2
            },
            "type": "scatter"
           }
          ],
          "scatter3d": [
           {
            "line": {
             "colorbar": {
              "outlinewidth": 0,
              "ticks": ""
             }
            },
            "marker": {
             "colorbar": {
              "outlinewidth": 0,
              "ticks": ""
             }
            },
            "type": "scatter3d"
           }
          ],
          "scattercarpet": [
           {
            "marker": {
             "colorbar": {
              "outlinewidth": 0,
              "ticks": ""
             }
            },
            "type": "scattercarpet"
           }
          ],
          "scattergeo": [
           {
            "marker": {
             "colorbar": {
              "outlinewidth": 0,
              "ticks": ""
             }
            },
            "type": "scattergeo"
           }
          ],
          "scattergl": [
           {
            "marker": {
             "colorbar": {
              "outlinewidth": 0,
              "ticks": ""
             }
            },
            "type": "scattergl"
           }
          ],
          "scattermapbox": [
           {
            "marker": {
             "colorbar": {
              "outlinewidth": 0,
              "ticks": ""
             }
            },
            "type": "scattermapbox"
           }
          ],
          "scatterpolar": [
           {
            "marker": {
             "colorbar": {
              "outlinewidth": 0,
              "ticks": ""
             }
            },
            "type": "scatterpolar"
           }
          ],
          "scatterpolargl": [
           {
            "marker": {
             "colorbar": {
              "outlinewidth": 0,
              "ticks": ""
             }
            },
            "type": "scatterpolargl"
           }
          ],
          "scatterternary": [
           {
            "marker": {
             "colorbar": {
              "outlinewidth": 0,
              "ticks": ""
             }
            },
            "type": "scatterternary"
           }
          ],
          "surface": [
           {
            "colorbar": {
             "outlinewidth": 0,
             "ticks": ""
            },
            "colorscale": [
             [
              0,
              "#0d0887"
             ],
             [
              0.1111111111111111,
              "#46039f"
             ],
             [
              0.2222222222222222,
              "#7201a8"
             ],
             [
              0.3333333333333333,
              "#9c179e"
             ],
             [
              0.4444444444444444,
              "#bd3786"
             ],
             [
              0.5555555555555556,
              "#d8576b"
             ],
             [
              0.6666666666666666,
              "#ed7953"
             ],
             [
              0.7777777777777778,
              "#fb9f3a"
             ],
             [
              0.8888888888888888,
              "#fdca26"
             ],
             [
              1,
              "#f0f921"
             ]
            ],
            "type": "surface"
           }
          ],
          "table": [
           {
            "cells": {
             "fill": {
              "color": "#EBF0F8"
             },
             "line": {
              "color": "white"
             }
            },
            "header": {
             "fill": {
              "color": "#C8D4E3"
             },
             "line": {
              "color": "white"
             }
            },
            "type": "table"
           }
          ]
         },
         "layout": {
          "annotationdefaults": {
           "arrowcolor": "#2a3f5f",
           "arrowhead": 0,
           "arrowwidth": 1
          },
          "autotypenumbers": "strict",
          "coloraxis": {
           "colorbar": {
            "outlinewidth": 0,
            "ticks": ""
           }
          },
          "colorscale": {
           "diverging": [
            [
             0,
             "#8e0152"
            ],
            [
             0.1,
             "#c51b7d"
            ],
            [
             0.2,
             "#de77ae"
            ],
            [
             0.3,
             "#f1b6da"
            ],
            [
             0.4,
             "#fde0ef"
            ],
            [
             0.5,
             "#f7f7f7"
            ],
            [
             0.6,
             "#e6f5d0"
            ],
            [
             0.7,
             "#b8e186"
            ],
            [
             0.8,
             "#7fbc41"
            ],
            [
             0.9,
             "#4d9221"
            ],
            [
             1,
             "#276419"
            ]
           ],
           "sequential": [
            [
             0,
             "#0d0887"
            ],
            [
             0.1111111111111111,
             "#46039f"
            ],
            [
             0.2222222222222222,
             "#7201a8"
            ],
            [
             0.3333333333333333,
             "#9c179e"
            ],
            [
             0.4444444444444444,
             "#bd3786"
            ],
            [
             0.5555555555555556,
             "#d8576b"
            ],
            [
             0.6666666666666666,
             "#ed7953"
            ],
            [
             0.7777777777777778,
             "#fb9f3a"
            ],
            [
             0.8888888888888888,
             "#fdca26"
            ],
            [
             1,
             "#f0f921"
            ]
           ],
           "sequentialminus": [
            [
             0,
             "#0d0887"
            ],
            [
             0.1111111111111111,
             "#46039f"
            ],
            [
             0.2222222222222222,
             "#7201a8"
            ],
            [
             0.3333333333333333,
             "#9c179e"
            ],
            [
             0.4444444444444444,
             "#bd3786"
            ],
            [
             0.5555555555555556,
             "#d8576b"
            ],
            [
             0.6666666666666666,
             "#ed7953"
            ],
            [
             0.7777777777777778,
             "#fb9f3a"
            ],
            [
             0.8888888888888888,
             "#fdca26"
            ],
            [
             1,
             "#f0f921"
            ]
           ]
          },
          "colorway": [
           "#636efa",
           "#EF553B",
           "#00cc96",
           "#ab63fa",
           "#FFA15A",
           "#19d3f3",
           "#FF6692",
           "#B6E880",
           "#FF97FF",
           "#FECB52"
          ],
          "font": {
           "color": "#2a3f5f"
          },
          "geo": {
           "bgcolor": "white",
           "lakecolor": "white",
           "landcolor": "#E5ECF6",
           "showlakes": true,
           "showland": true,
           "subunitcolor": "white"
          },
          "hoverlabel": {
           "align": "left"
          },
          "hovermode": "closest",
          "mapbox": {
           "style": "light"
          },
          "paper_bgcolor": "white",
          "plot_bgcolor": "#E5ECF6",
          "polar": {
           "angularaxis": {
            "gridcolor": "white",
            "linecolor": "white",
            "ticks": ""
           },
           "bgcolor": "#E5ECF6",
           "radialaxis": {
            "gridcolor": "white",
            "linecolor": "white",
            "ticks": ""
           }
          },
          "scene": {
           "xaxis": {
            "backgroundcolor": "#E5ECF6",
            "gridcolor": "white",
            "gridwidth": 2,
            "linecolor": "white",
            "showbackground": true,
            "ticks": "",
            "zerolinecolor": "white"
           },
           "yaxis": {
            "backgroundcolor": "#E5ECF6",
            "gridcolor": "white",
            "gridwidth": 2,
            "linecolor": "white",
            "showbackground": true,
            "ticks": "",
            "zerolinecolor": "white"
           },
           "zaxis": {
            "backgroundcolor": "#E5ECF6",
            "gridcolor": "white",
            "gridwidth": 2,
            "linecolor": "white",
            "showbackground": true,
            "ticks": "",
            "zerolinecolor": "white"
           }
          },
          "shapedefaults": {
           "line": {
            "color": "#2a3f5f"
           }
          },
          "ternary": {
           "aaxis": {
            "gridcolor": "white",
            "linecolor": "white",
            "ticks": ""
           },
           "baxis": {
            "gridcolor": "white",
            "linecolor": "white",
            "ticks": ""
           },
           "bgcolor": "#E5ECF6",
           "caxis": {
            "gridcolor": "white",
            "linecolor": "white",
            "ticks": ""
           }
          },
          "title": {
           "x": 0.05
          },
          "xaxis": {
           "automargin": true,
           "gridcolor": "white",
           "linecolor": "white",
           "ticks": "",
           "title": {
            "standoff": 15
           },
           "zerolinecolor": "white",
           "zerolinewidth": 2
          },
          "yaxis": {
           "automargin": true,
           "gridcolor": "white",
           "linecolor": "white",
           "ticks": "",
           "title": {
            "standoff": 15
           },
           "zerolinecolor": "white",
           "zerolinewidth": 2
          }
         }
        },
        "title": {
         "font": {
          "color": "#4D5663"
         }
        },
        "xaxis": {
         "gridcolor": "#E1E5ED",
         "showgrid": true,
         "tickfont": {
          "color": "#4D5663"
         },
         "title": {
          "font": {
           "color": "#4D5663"
          },
          "text": "sex"
         },
         "zerolinecolor": "#E1E5ED"
        },
        "yaxis": {
         "gridcolor": "#E1E5ED",
         "showgrid": true,
         "tickfont": {
          "color": "#4D5663"
         },
         "title": {
          "font": {
           "color": "#4D5663"
          },
          "text": "survived"
         },
         "zerolinecolor": "#E1E5ED"
        }
       }
      },
      "text/html": [
       "<div>                            <div id=\"8110e263-7dec-44e4-a8bf-c5058d3f934b\" class=\"plotly-graph-div\" style=\"height:525px; width:100%;\"></div>            <script type=\"text/javascript\">                require([\"plotly\"], function(Plotly) {                    window.PLOTLYENV=window.PLOTLYENV || {};\n",
       "                    window.PLOTLYENV.BASE_URL='https://plot.ly';                                    if (document.getElementById(\"8110e263-7dec-44e4-a8bf-c5058d3f934b\")) {                    Plotly.newPlot(                        \"8110e263-7dec-44e4-a8bf-c5058d3f934b\",                        [{\"marker\":{\"color\":\"rgba(255, 153, 51, 0.6)\",\"line\":{\"color\":\"rgba(255, 153, 51, 1.0)\",\"width\":1}},\"name\":\"survived\",\"orientation\":\"v\",\"text\":\"\",\"x\":[\"male\",\"female\",\"female\",\"female\",\"male\",\"male\",\"male\",\"male\",\"female\",\"female\",\"female\",\"female\",\"male\",\"male\",\"female\",\"female\",\"male\",\"male\",\"female\",\"female\",\"male\",\"male\",\"female\",\"male\",\"female\",\"female\",\"male\",\"male\",\"female\",\"male\",\"male\",\"female\",\"female\",\"male\",\"male\",\"male\",\"male\",\"male\",\"female\",\"female\",\"female\",\"female\",\"male\",\"female\",\"female\",\"male\",\"male\",\"female\",\"male\",\"female\",\"male\",\"male\",\"female\",\"female\",\"male\",\"male\",\"female\",\"male\",\"female\",\"male\",\"male\",\"female\",\"male\",\"male\",\"male\",\"male\",\"female\",\"male\",\"female\",\"male\",\"male\",\"female\",\"male\",\"male\",\"male\",\"male\",\"male\",\"male\",\"male\",\"female\",\"male\",\"male\",\"female\",\"male\",\"female\",\"female\",\"male\",\"male\",\"female\",\"male\",\"male\",\"male\",\"male\",\"male\",\"male\",\"male\",\"male\",\"male\",\"female\",\"male\",\"female\",\"male\",\"male\",\"male\",\"male\",\"male\",\"female\",\"male\",\"male\",\"female\",\"male\",\"female\",\"male\",\"female\",\"female\",\"male\",\"male\",\"male\",\"male\",\"female\",\"male\",\"male\",\"male\",\"female\",\"male\",\"male\",\"male\",\"male\",\"female\",\"male\",\"male\",\"male\",\"female\",\"female\",\"male\",\"male\",\"female\",\"male\",\"male\",\"male\",\"female\",\"female\",\"female\",\"male\",\"male\",\"male\",\"male\",\"female\",\"male\",\"male\",\"male\",\"female\",\"male\",\"male\",\"male\",\"male\",\"female\",\"male\",\"male\",\"male\",\"male\",\"female\",\"male\",\"male\",\"male\",\"male\",\"female\",\"female\",\"male\",\"male\",\"male\",\"male\",\"female\",\"male\",\"male\",\"male\",\"male\",\"female\",\"male\",\"male\",\"female\",\"male\",\"male\",\"male\",\"female\",\"male\",\"female\",\"male\",\"male\",\"male\",\"female\",\"male\",\"female\",\"male\",\"female\",\"female\",\"male\",\"male\",\"female\",\"female\",\"male\",\"male\",\"male\",\"male\",\"male\",\"female\",\"male\",\"male\",\"female\",\"male\",\"male\",\"female\",\"male\",\"male\",\"male\",\"female\",\"female\",\"male\",\"female\",\"male\",\"male\",\"male\",\"male\",\"male\",\"male\",\"male\",\"male\",\"male\",\"male\",\"female\",\"female\",\"male\",\"male\",\"female\",\"male\",\"female\",\"male\",\"female\",\"male\",\"male\",\"female\",\"female\",\"male\",\"male\",\"male\",\"male\",\"female\",\"female\",\"male\",\"male\",\"male\",\"female\",\"male\",\"male\",\"female\",\"female\",\"female\",\"female\",\"female\",\"female\",\"male\",\"male\",\"male\",\"male\",\"female\",\"male\",\"male\",\"male\",\"female\",\"female\",\"male\",\"male\",\"female\",\"male\",\"female\",\"female\",\"female\",\"male\",\"male\",\"female\",\"male\",\"male\",\"male\",\"male\",\"male\",\"male\",\"male\",\"male\",\"male\",\"female\",\"female\",\"female\",\"male\",\"female\",\"male\",\"male\",\"male\",\"female\",\"male\",\"female\",\"female\",\"male\",\"male\",\"female\",\"male\",\"male\",\"female\",\"female\",\"male\",\"female\",\"female\",\"female\",\"female\",\"male\",\"male\",\"female\",\"female\",\"male\",\"female\",\"female\",\"male\",\"male\",\"female\",\"female\",\"male\",\"female\",\"male\",\"female\",\"female\",\"female\",\"female\",\"male\",\"male\",\"male\",\"female\",\"male\",\"male\",\"female\",\"male\",\"male\",\"male\",\"female\",\"male\",\"male\",\"male\",\"female\",\"female\",\"female\",\"male\",\"male\",\"male\",\"male\",\"male\",\"male\",\"male\",\"male\",\"female\",\"female\",\"female\",\"female\",\"male\",\"male\",\"female\",\"male\",\"male\",\"male\",\"female\",\"female\",\"female\",\"female\",\"male\",\"male\",\"male\",\"male\",\"female\",\"female\",\"female\",\"male\",\"male\",\"male\",\"female\",\"female\",\"male\",\"female\",\"male\",\"male\",\"male\",\"female\",\"male\",\"female\",\"male\",\"male\",\"male\",\"female\",\"female\",\"male\",\"female\",\"male\",\"male\",\"female\",\"male\",\"male\",\"female\",\"male\",\"female\",\"male\",\"male\",\"male\",\"male\",\"female\",\"male\",\"male\",\"female\",\"male\",\"male\",\"female\",\"female\",\"female\",\"male\",\"female\",\"male\",\"male\",\"male\",\"female\",\"male\",\"male\",\"female\",\"female\",\"male\",\"male\",\"male\",\"female\",\"female\",\"male\",\"male\",\"female\",\"female\",\"female\",\"male\",\"male\",\"female\",\"male\",\"male\",\"female\",\"male\",\"male\",\"female\",\"male\",\"female\",\"male\",\"male\",\"male\",\"male\",\"male\",\"male\",\"male\",\"male\",\"female\",\"female\",\"male\",\"male\",\"male\",\"male\",\"male\",\"male\",\"male\",\"male\",\"male\",\"male\",\"female\",\"male\",\"male\",\"female\",\"female\",\"female\",\"male\",\"male\",\"male\",\"male\",\"female\",\"male\",\"male\",\"male\",\"female\",\"male\",\"female\",\"female\",\"male\",\"male\",\"male\",\"male\",\"male\",\"male\",\"male\",\"male\",\"male\",\"female\",\"male\",\"female\",\"male\",\"male\",\"female\",\"female\",\"female\",\"female\",\"male\",\"female\",\"male\",\"male\",\"male\",\"male\",\"male\",\"male\",\"female\",\"male\",\"male\",\"female\",\"male\",\"female\",\"male\",\"female\",\"male\",\"male\",\"female\",\"male\",\"male\",\"female\",\"male\",\"male\",\"male\",\"female\",\"male\",\"male\",\"female\",\"female\",\"female\",\"male\",\"female\",\"male\",\"female\",\"female\",\"female\",\"female\",\"male\",\"male\",\"male\",\"female\",\"male\",\"male\",\"male\",\"male\",\"male\",\"male\",\"male\",\"female\",\"male\",\"female\",\"male\",\"female\",\"female\",\"male\",\"male\",\"male\",\"male\",\"female\",\"male\",\"male\",\"female\",\"male\",\"male\",\"male\",\"female\",\"male\",\"female\",\"male\",\"male\",\"female\",\"female\",\"female\",\"male\",\"female\",\"female\",\"male\",\"male\",\"male\",\"female\",\"male\",\"male\",\"male\",\"male\",\"male\",\"female\",\"male\",\"female\",\"male\",\"male\",\"female\",\"male\",\"male\",\"male\",\"female\",\"male\",\"male\",\"male\",\"male\",\"male\",\"male\",\"male\",\"female\",\"female\",\"female\",\"male\",\"female\",\"male\",\"male\",\"female\",\"male\",\"female\",\"female\",\"male\",\"male\",\"male\",\"male\",\"male\",\"male\",\"male\",\"male\",\"female\",\"male\",\"male\",\"male\",\"male\",\"male\",\"male\",\"female\",\"female\",\"male\",\"male\",\"female\",\"male\",\"male\",\"female\",\"female\",\"male\",\"female\",\"male\",\"male\",\"male\",\"male\",\"female\",\"male\",\"female\",\"male\",\"female\",\"female\",\"male\",\"male\",\"female\",\"male\",\"male\",\"male\",\"male\",\"male\",\"male\",\"male\",\"male\",\"male\",\"male\",\"male\",\"female\",\"female\",\"male\",\"male\",\"male\",\"male\",\"male\",\"male\",\"female\",\"female\",\"male\",\"female\",\"male\",\"male\",\"male\",\"male\",\"male\",\"male\",\"male\",\"male\",\"female\",\"male\",\"female\",\"male\",\"male\",\"male\",\"male\",\"male\",\"female\",\"male\",\"male\",\"female\",\"male\",\"female\",\"male\",\"male\",\"male\",\"female\",\"male\",\"female\",\"male\",\"female\",\"male\",\"male\",\"male\",\"male\",\"male\",\"female\",\"female\",\"male\",\"male\",\"female\",\"male\",\"male\",\"male\",\"male\",\"male\",\"female\",\"female\",\"male\",\"female\",\"female\",\"male\",\"male\",\"male\",\"male\",\"male\",\"female\",\"male\",\"male\",\"male\",\"male\",\"male\",\"female\",\"male\",\"male\",\"male\",\"male\",\"female\",\"male\",\"male\",\"female\",\"male\",\"male\",\"male\",\"female\",\"male\",\"male\",\"male\",\"male\",\"female\",\"male\",\"male\",\"male\",\"female\",\"male\",\"female\",\"male\",\"female\",\"male\",\"male\",\"male\",\"male\",\"female\",\"male\",\"female\",\"male\",\"male\",\"female\",\"male\",\"female\",\"female\",\"female\",\"male\",\"male\",\"male\",\"male\",\"female\",\"male\",\"male\",\"male\",\"male\",\"male\",\"female\",\"male\",\"male\",\"male\",\"female\",\"female\",\"male\",\"female\",\"male\",\"female\",\"male\",\"male\",\"male\",\"male\",\"male\",\"female\",\"male\",\"female\",\"male\",\"male\",\"male\",\"female\",\"male\",\"male\",\"female\",\"male\",\"male\",\"male\",\"female\",\"male\",\"male\",\"female\",\"male\",\"male\",\"male\",\"male\",\"male\",\"female\",\"female\",\"male\",\"male\",\"male\",\"male\",\"female\",\"male\",\"male\",\"male\",\"male\",\"male\",\"male\",\"female\",\"male\",\"male\",\"male\",\"male\",\"male\",\"male\",\"female\",\"male\",\"male\",\"female\",\"female\",\"female\",\"female\",\"female\",\"male\",\"female\",\"male\",\"male\",\"male\",\"female\",\"female\",\"male\",\"female\",\"female\",\"male\",\"male\",\"male\",\"male\",\"female\",\"male\",\"male\",\"female\",\"female\",\"male\",\"male\",\"male\",\"female\",\"female\",\"male\",\"female\",\"male\",\"male\",\"female\",\"male\",\"female\",\"female\",\"male\",\"male\"],\"y\":[0,1,1,1,0,0,0,0,1,1,1,1,0,0,0,1,0,1,0,1,0,1,1,1,0,1,0,0,1,0,0,1,1,0,0,0,1,0,0,1,0,0,0,1,1,0,0,1,0,0,0,0,1,1,0,1,1,0,1,0,0,1,0,0,0,1,1,0,1,0,0,0,0,0,1,0,0,0,1,1,0,1,1,0,1,1,0,0,1,0,0,0,0,0,0,0,0,1,1,0,0,0,0,0,0,0,1,1,0,1,0,0,0,0,0,0,0,0,0,0,0,0,0,1,0,1,0,1,1,0,0,0,0,1,0,0,1,0,0,0,0,1,1,0,0,0,1,0,0,0,0,1,0,0,0,0,1,0,0,0,0,1,0,0,0,1,1,0,0,0,0,0,1,0,0,0,0,0,0,0,0,0,0,1,1,0,1,1,0,0,1,0,1,1,1,1,0,0,1,0,0,0,0,0,1,0,0,1,1,1,0,1,0,0,0,1,1,0,1,0,1,0,0,0,1,0,1,0,0,0,1,0,0,1,0,0,0,1,0,0,0,1,0,0,0,0,0,1,1,0,0,0,0,0,0,1,1,1,1,1,0,1,0,0,0,0,0,1,1,1,0,1,1,0,1,1,0,0,0,1,0,0,0,1,0,0,1,0,1,1,1,1,0,0,0,0,0,0,1,1,1,1,0,1,0,1,1,1,0,1,1,1,0,0,0,1,1,0,1,1,0,0,1,1,0,1,0,1,1,1,1,0,0,0,1,0,0,1,1,0,1,1,0,0,0,1,1,1,1,0,0,0,0,0,0,0,1,0,1,1,0,0,0,0,0,0,1,1,1,1,1,0,0,0,0,1,1,0,0,0,1,1,0,1,0,0,0,1,0,1,1,1,0,1,1,0,0,0,0,1,1,0,0,0,0,0,0,1,0,0,0,0,1,0,1,0,1,1,0,0,0,0,0,0,0,0,1,1,0,1,1,1,1,0,0,1,0,1,0,0,1,0,0,1,1,1,1,1,1,1,0,0,0,1,0,1,0,1,1,0,1,0,0,0,0,0,0,0,0,1,0,0,1,1,0,0,0,0,0,1,0,0,0,1,1,0,1,0,0,1,0,0,0,0,0,0,1,0,0,0,0,0,0,0,1,0,1,1,0,1,1,0,1,1,0,0,1,0,1,0,1,0,0,1,0,0,1,0,0,0,1,0,0,1,0,1,0,1,0,1,1,0,0,1,0,0,1,1,0,1,1,0,0,1,1,0,1,0,1,1,0,0,0,0,0,0,0,0,0,1,1,1,1,1,0,0,1,1,0,1,1,1,0,0,0,1,0,1,0,0,0,1,0,0,0,0,1,0,0,1,1,0,0,0,1,0,0,1,1,1,0,0,1,0,0,1,0,0,1,0,0,1,1,0,0,0,0,1,0,0,1,0,1,0,0,1,0,0,0,0,0,1,0,1,1,1,0,1,0,1,0,1,0,1,0,0,0,0,0,0,1,0,0,0,1,0,0,0,0,1,1,0,0,1,0,0,0,1,0,1,0,1,0,0,0,0,0,0,0,1,1,1,1,0,0,0,0,1,0,0,1,1,0,0,0,0,1,1,1,1,1,0,1,0,0,0,1,1,0,0,1,0,0,0,1,0,1,1,0,0,1,0,0,0,0,0,0,1,0,0,1,0,1,0,1,0,0,1,0,0,1,1,0,0,1,1,0,0,0,1,0,0,1,1,0,1,0,0,0,0,0,0,0,0,1,0,0,1,0,1,1,1,0,0,0,0,1,0,1,0,0,0,0,0,0,0,1,1,0,0,0,1,1,1,1,0,0,0,0,1,0,0,0,0,0,0,0,0,0,0,1,1,0,1,0,0,0,1,1,1,1,1,0,0,0,1,0,0,1,1,0,0,1,0,0,0,0,0,0,1,0,0,0,1,0,1,1,1,1,0,0,0,1,0,0,1,1,0,0,1,0,1,0,0,1,1,0,0,0,1,1,0,0,0,0,0,0,1,0,1,0],\"type\":\"bar\"}],                        {\"legend\":{\"bgcolor\":\"#F5F6F9\",\"font\":{\"color\":\"#4D5663\"}},\"paper_bgcolor\":\"#F5F6F9\",\"plot_bgcolor\":\"#F5F6F9\",\"template\":{\"data\":{\"barpolar\":[{\"marker\":{\"line\":{\"color\":\"#E5ECF6\",\"width\":0.5},\"pattern\":{\"fillmode\":\"overlay\",\"size\":10,\"solidity\":0.2}},\"type\":\"barpolar\"}],\"bar\":[{\"error_x\":{\"color\":\"#2a3f5f\"},\"error_y\":{\"color\":\"#2a3f5f\"},\"marker\":{\"line\":{\"color\":\"#E5ECF6\",\"width\":0.5},\"pattern\":{\"fillmode\":\"overlay\",\"size\":10,\"solidity\":0.2}},\"type\":\"bar\"}],\"carpet\":[{\"aaxis\":{\"endlinecolor\":\"#2a3f5f\",\"gridcolor\":\"white\",\"linecolor\":\"white\",\"minorgridcolor\":\"white\",\"startlinecolor\":\"#2a3f5f\"},\"baxis\":{\"endlinecolor\":\"#2a3f5f\",\"gridcolor\":\"white\",\"linecolor\":\"white\",\"minorgridcolor\":\"white\",\"startlinecolor\":\"#2a3f5f\"},\"type\":\"carpet\"}],\"choropleth\":[{\"colorbar\":{\"outlinewidth\":0,\"ticks\":\"\"},\"type\":\"choropleth\"}],\"contourcarpet\":[{\"colorbar\":{\"outlinewidth\":0,\"ticks\":\"\"},\"type\":\"contourcarpet\"}],\"contour\":[{\"colorbar\":{\"outlinewidth\":0,\"ticks\":\"\"},\"colorscale\":[[0.0,\"#0d0887\"],[0.1111111111111111,\"#46039f\"],[0.2222222222222222,\"#7201a8\"],[0.3333333333333333,\"#9c179e\"],[0.4444444444444444,\"#bd3786\"],[0.5555555555555556,\"#d8576b\"],[0.6666666666666666,\"#ed7953\"],[0.7777777777777778,\"#fb9f3a\"],[0.8888888888888888,\"#fdca26\"],[1.0,\"#f0f921\"]],\"type\":\"contour\"}],\"heatmapgl\":[{\"colorbar\":{\"outlinewidth\":0,\"ticks\":\"\"},\"colorscale\":[[0.0,\"#0d0887\"],[0.1111111111111111,\"#46039f\"],[0.2222222222222222,\"#7201a8\"],[0.3333333333333333,\"#9c179e\"],[0.4444444444444444,\"#bd3786\"],[0.5555555555555556,\"#d8576b\"],[0.6666666666666666,\"#ed7953\"],[0.7777777777777778,\"#fb9f3a\"],[0.8888888888888888,\"#fdca26\"],[1.0,\"#f0f921\"]],\"type\":\"heatmapgl\"}],\"heatmap\":[{\"colorbar\":{\"outlinewidth\":0,\"ticks\":\"\"},\"colorscale\":[[0.0,\"#0d0887\"],[0.1111111111111111,\"#46039f\"],[0.2222222222222222,\"#7201a8\"],[0.3333333333333333,\"#9c179e\"],[0.4444444444444444,\"#bd3786\"],[0.5555555555555556,\"#d8576b\"],[0.6666666666666666,\"#ed7953\"],[0.7777777777777778,\"#fb9f3a\"],[0.8888888888888888,\"#fdca26\"],[1.0,\"#f0f921\"]],\"type\":\"heatmap\"}],\"histogram2dcontour\":[{\"colorbar\":{\"outlinewidth\":0,\"ticks\":\"\"},\"colorscale\":[[0.0,\"#0d0887\"],[0.1111111111111111,\"#46039f\"],[0.2222222222222222,\"#7201a8\"],[0.3333333333333333,\"#9c179e\"],[0.4444444444444444,\"#bd3786\"],[0.5555555555555556,\"#d8576b\"],[0.6666666666666666,\"#ed7953\"],[0.7777777777777778,\"#fb9f3a\"],[0.8888888888888888,\"#fdca26\"],[1.0,\"#f0f921\"]],\"type\":\"histogram2dcontour\"}],\"histogram2d\":[{\"colorbar\":{\"outlinewidth\":0,\"ticks\":\"\"},\"colorscale\":[[0.0,\"#0d0887\"],[0.1111111111111111,\"#46039f\"],[0.2222222222222222,\"#7201a8\"],[0.3333333333333333,\"#9c179e\"],[0.4444444444444444,\"#bd3786\"],[0.5555555555555556,\"#d8576b\"],[0.6666666666666666,\"#ed7953\"],[0.7777777777777778,\"#fb9f3a\"],[0.8888888888888888,\"#fdca26\"],[1.0,\"#f0f921\"]],\"type\":\"histogram2d\"}],\"histogram\":[{\"marker\":{\"pattern\":{\"fillmode\":\"overlay\",\"size\":10,\"solidity\":0.2}},\"type\":\"histogram\"}],\"mesh3d\":[{\"colorbar\":{\"outlinewidth\":0,\"ticks\":\"\"},\"type\":\"mesh3d\"}],\"parcoords\":[{\"line\":{\"colorbar\":{\"outlinewidth\":0,\"ticks\":\"\"}},\"type\":\"parcoords\"}],\"pie\":[{\"automargin\":true,\"type\":\"pie\"}],\"scatter3d\":[{\"line\":{\"colorbar\":{\"outlinewidth\":0,\"ticks\":\"\"}},\"marker\":{\"colorbar\":{\"outlinewidth\":0,\"ticks\":\"\"}},\"type\":\"scatter3d\"}],\"scattercarpet\":[{\"marker\":{\"colorbar\":{\"outlinewidth\":0,\"ticks\":\"\"}},\"type\":\"scattercarpet\"}],\"scattergeo\":[{\"marker\":{\"colorbar\":{\"outlinewidth\":0,\"ticks\":\"\"}},\"type\":\"scattergeo\"}],\"scattergl\":[{\"marker\":{\"colorbar\":{\"outlinewidth\":0,\"ticks\":\"\"}},\"type\":\"scattergl\"}],\"scattermapbox\":[{\"marker\":{\"colorbar\":{\"outlinewidth\":0,\"ticks\":\"\"}},\"type\":\"scattermapbox\"}],\"scatterpolargl\":[{\"marker\":{\"colorbar\":{\"outlinewidth\":0,\"ticks\":\"\"}},\"type\":\"scatterpolargl\"}],\"scatterpolar\":[{\"marker\":{\"colorbar\":{\"outlinewidth\":0,\"ticks\":\"\"}},\"type\":\"scatterpolar\"}],\"scatter\":[{\"fillpattern\":{\"fillmode\":\"overlay\",\"size\":10,\"solidity\":0.2},\"type\":\"scatter\"}],\"scatterternary\":[{\"marker\":{\"colorbar\":{\"outlinewidth\":0,\"ticks\":\"\"}},\"type\":\"scatterternary\"}],\"surface\":[{\"colorbar\":{\"outlinewidth\":0,\"ticks\":\"\"},\"colorscale\":[[0.0,\"#0d0887\"],[0.1111111111111111,\"#46039f\"],[0.2222222222222222,\"#7201a8\"],[0.3333333333333333,\"#9c179e\"],[0.4444444444444444,\"#bd3786\"],[0.5555555555555556,\"#d8576b\"],[0.6666666666666666,\"#ed7953\"],[0.7777777777777778,\"#fb9f3a\"],[0.8888888888888888,\"#fdca26\"],[1.0,\"#f0f921\"]],\"type\":\"surface\"}],\"table\":[{\"cells\":{\"fill\":{\"color\":\"#EBF0F8\"},\"line\":{\"color\":\"white\"}},\"header\":{\"fill\":{\"color\":\"#C8D4E3\"},\"line\":{\"color\":\"white\"}},\"type\":\"table\"}]},\"layout\":{\"annotationdefaults\":{\"arrowcolor\":\"#2a3f5f\",\"arrowhead\":0,\"arrowwidth\":1},\"autotypenumbers\":\"strict\",\"coloraxis\":{\"colorbar\":{\"outlinewidth\":0,\"ticks\":\"\"}},\"colorscale\":{\"diverging\":[[0,\"#8e0152\"],[0.1,\"#c51b7d\"],[0.2,\"#de77ae\"],[0.3,\"#f1b6da\"],[0.4,\"#fde0ef\"],[0.5,\"#f7f7f7\"],[0.6,\"#e6f5d0\"],[0.7,\"#b8e186\"],[0.8,\"#7fbc41\"],[0.9,\"#4d9221\"],[1,\"#276419\"]],\"sequential\":[[0.0,\"#0d0887\"],[0.1111111111111111,\"#46039f\"],[0.2222222222222222,\"#7201a8\"],[0.3333333333333333,\"#9c179e\"],[0.4444444444444444,\"#bd3786\"],[0.5555555555555556,\"#d8576b\"],[0.6666666666666666,\"#ed7953\"],[0.7777777777777778,\"#fb9f3a\"],[0.8888888888888888,\"#fdca26\"],[1.0,\"#f0f921\"]],\"sequentialminus\":[[0.0,\"#0d0887\"],[0.1111111111111111,\"#46039f\"],[0.2222222222222222,\"#7201a8\"],[0.3333333333333333,\"#9c179e\"],[0.4444444444444444,\"#bd3786\"],[0.5555555555555556,\"#d8576b\"],[0.6666666666666666,\"#ed7953\"],[0.7777777777777778,\"#fb9f3a\"],[0.8888888888888888,\"#fdca26\"],[1.0,\"#f0f921\"]]},\"colorway\":[\"#636efa\",\"#EF553B\",\"#00cc96\",\"#ab63fa\",\"#FFA15A\",\"#19d3f3\",\"#FF6692\",\"#B6E880\",\"#FF97FF\",\"#FECB52\"],\"font\":{\"color\":\"#2a3f5f\"},\"geo\":{\"bgcolor\":\"white\",\"lakecolor\":\"white\",\"landcolor\":\"#E5ECF6\",\"showlakes\":true,\"showland\":true,\"subunitcolor\":\"white\"},\"hoverlabel\":{\"align\":\"left\"},\"hovermode\":\"closest\",\"mapbox\":{\"style\":\"light\"},\"paper_bgcolor\":\"white\",\"plot_bgcolor\":\"#E5ECF6\",\"polar\":{\"angularaxis\":{\"gridcolor\":\"white\",\"linecolor\":\"white\",\"ticks\":\"\"},\"bgcolor\":\"#E5ECF6\",\"radialaxis\":{\"gridcolor\":\"white\",\"linecolor\":\"white\",\"ticks\":\"\"}},\"scene\":{\"xaxis\":{\"backgroundcolor\":\"#E5ECF6\",\"gridcolor\":\"white\",\"gridwidth\":2,\"linecolor\":\"white\",\"showbackground\":true,\"ticks\":\"\",\"zerolinecolor\":\"white\"},\"yaxis\":{\"backgroundcolor\":\"#E5ECF6\",\"gridcolor\":\"white\",\"gridwidth\":2,\"linecolor\":\"white\",\"showbackground\":true,\"ticks\":\"\",\"zerolinecolor\":\"white\"},\"zaxis\":{\"backgroundcolor\":\"#E5ECF6\",\"gridcolor\":\"white\",\"gridwidth\":2,\"linecolor\":\"white\",\"showbackground\":true,\"ticks\":\"\",\"zerolinecolor\":\"white\"}},\"shapedefaults\":{\"line\":{\"color\":\"#2a3f5f\"}},\"ternary\":{\"aaxis\":{\"gridcolor\":\"white\",\"linecolor\":\"white\",\"ticks\":\"\"},\"baxis\":{\"gridcolor\":\"white\",\"linecolor\":\"white\",\"ticks\":\"\"},\"bgcolor\":\"#E5ECF6\",\"caxis\":{\"gridcolor\":\"white\",\"linecolor\":\"white\",\"ticks\":\"\"}},\"title\":{\"x\":0.05},\"xaxis\":{\"automargin\":true,\"gridcolor\":\"white\",\"linecolor\":\"white\",\"ticks\":\"\",\"title\":{\"standoff\":15},\"zerolinecolor\":\"white\",\"zerolinewidth\":2},\"yaxis\":{\"automargin\":true,\"gridcolor\":\"white\",\"linecolor\":\"white\",\"ticks\":\"\",\"title\":{\"standoff\":15},\"zerolinecolor\":\"white\",\"zerolinewidth\":2}}},\"title\":{\"font\":{\"color\":\"#4D5663\"}},\"xaxis\":{\"gridcolor\":\"#E1E5ED\",\"showgrid\":true,\"tickfont\":{\"color\":\"#4D5663\"},\"title\":{\"font\":{\"color\":\"#4D5663\"},\"text\":\"sex\"},\"zerolinecolor\":\"#E1E5ED\"},\"yaxis\":{\"gridcolor\":\"#E1E5ED\",\"showgrid\":true,\"tickfont\":{\"color\":\"#4D5663\"},\"title\":{\"font\":{\"color\":\"#4D5663\"},\"text\":\"survived\"},\"zerolinecolor\":\"#E1E5ED\"}},                        {\"showLink\": true, \"linkText\": \"Export to plot.ly\", \"plotlyServerURL\": \"https://plot.ly\", \"responsive\": true}                    ).then(function(){\n",
       "                            \n",
       "var gd = document.getElementById('8110e263-7dec-44e4-a8bf-c5058d3f934b');\n",
       "var x = new MutationObserver(function (mutations, observer) {{\n",
       "        var display = window.getComputedStyle(gd).display;\n",
       "        if (!display || display === 'none') {{\n",
       "            console.log([gd, 'removed!']);\n",
       "            Plotly.purge(gd);\n",
       "            observer.disconnect();\n",
       "        }}\n",
       "}});\n",
       "\n",
       "// Listen for the removal of the full notebook cells\n",
       "var notebookContainer = gd.closest('#notebook-container');\n",
       "if (notebookContainer) {{\n",
       "    x.observe(notebookContainer, {childList: true});\n",
       "}}\n",
       "\n",
       "// Listen for the clearing of the current output cell\n",
       "var outputEl = gd.closest('.output');\n",
       "if (outputEl) {{\n",
       "    x.observe(outputEl, {childList: true});\n",
       "}}\n",
       "\n",
       "                        })                };                });            </script>        </div>"
      ]
     },
     "metadata": {},
     "output_type": "display_data"
    }
   ],
   "source": [
    "df1.iplot(x = 'sex',y = 'survived',kind = \"bar\",xTitle= 'sex',yTitle= 'survived')"
   ]
  },
  {
   "cell_type": "code",
   "execution_count": null,
   "metadata": {},
   "outputs": [
    {
     "data": {
      "application/vnd.plotly.v1+json": {
       "config": {
        "linkText": "Export to plot.ly",
        "plotlyServerURL": "https://plot.ly",
        "showLink": true
       },
       "data": [
        {
         "line": {
          "color": "rgba(255, 153, 51, 1.0)",
          "dash": "solid",
          "shape": "linear",
          "width": 1.3
         },
         "mode": "lines",
         "name": "age",
         "text": "",
         "type": "scatter",
         "x": [
          0,
          1,
          2,
          3,
          4,
          5,
          6,
          7,
          8,
          9,
          10,
          11,
          12,
          13,
          14,
          15,
          16,
          17,
          18,
          19,
          20,
          21,
          22,
          23,
          24,
          25,
          26,
          27,
          28,
          29,
          30,
          31,
          32,
          33,
          34,
          35,
          36,
          37,
          38,
          39,
          40,
          41,
          42,
          43,
          44,
          45,
          46,
          47,
          48,
          49,
          50,
          51,
          52,
          53,
          54,
          55,
          56,
          57,
          58,
          59,
          60,
          61,
          62,
          63,
          64,
          65,
          66,
          67,
          68,
          69,
          70,
          71,
          72,
          73,
          74,
          75,
          76,
          77,
          78,
          79,
          80,
          81,
          82,
          83,
          84,
          85,
          86,
          87,
          88,
          89,
          90,
          91,
          92,
          93,
          94,
          95,
          96,
          97,
          98,
          99,
          100,
          101,
          102,
          103,
          104,
          105,
          106,
          107,
          108,
          109,
          110,
          111,
          112,
          113,
          114,
          115,
          116,
          117,
          118,
          119,
          120,
          121,
          122,
          123,
          124,
          125,
          126,
          127,
          128,
          129,
          130,
          131,
          132,
          133,
          134,
          135,
          136,
          137,
          138,
          139,
          140,
          141,
          142,
          143,
          144,
          145,
          146,
          147,
          148,
          149,
          150,
          151,
          152,
          153,
          154,
          155,
          156,
          157,
          158,
          159,
          160,
          161,
          162,
          163,
          164,
          165,
          166,
          167,
          168,
          169,
          170,
          171,
          172,
          173,
          174,
          175,
          176,
          177,
          178,
          179,
          180,
          181,
          182,
          183,
          184,
          185,
          186,
          187,
          188,
          189,
          190,
          191,
          192,
          193,
          194,
          195,
          196,
          197,
          198,
          199,
          200,
          201,
          202,
          203,
          204,
          205,
          206,
          207,
          208,
          209,
          210,
          211,
          212,
          213,
          214,
          215,
          216,
          217,
          218,
          219,
          220,
          221,
          222,
          223,
          224,
          225,
          226,
          227,
          228,
          229,
          230,
          231,
          232,
          233,
          234,
          235,
          236,
          237,
          238,
          239,
          240,
          241,
          242,
          243,
          244,
          245,
          246,
          247,
          248,
          249,
          250,
          251,
          252,
          253,
          254,
          255,
          256,
          257,
          258,
          259,
          260,
          261,
          262,
          263,
          264,
          265,
          266,
          267,
          268,
          269,
          270,
          271,
          272,
          273,
          274,
          275,
          276,
          277,
          278,
          279,
          280,
          281,
          282,
          283,
          284,
          285,
          286,
          287,
          288,
          289,
          290,
          291,
          292,
          293,
          294,
          295,
          296,
          297,
          298,
          299,
          300,
          301,
          302,
          303,
          304,
          305,
          306,
          307,
          308,
          309,
          310,
          311,
          312,
          313,
          314,
          315,
          316,
          317,
          318,
          319,
          320,
          321,
          322,
          323,
          324,
          325,
          326,
          327,
          328,
          329,
          330,
          331,
          332,
          333,
          334,
          335,
          336,
          337,
          338,
          339,
          340,
          341,
          342,
          343,
          344,
          345,
          346,
          347,
          348,
          349,
          350,
          351,
          352,
          353,
          354,
          355,
          356,
          357,
          358,
          359,
          360,
          361,
          362,
          363,
          364,
          365,
          366,
          367,
          368,
          369,
          370,
          371,
          372,
          373,
          374,
          375,
          376,
          377,
          378,
          379,
          380,
          381,
          382,
          383,
          384,
          385,
          386,
          387,
          388,
          389,
          390,
          391,
          392,
          393,
          394,
          395,
          396,
          397,
          398,
          399,
          400,
          401,
          402,
          403,
          404,
          405,
          406,
          407,
          408,
          409,
          410,
          411,
          412,
          413,
          414,
          415,
          416,
          417,
          418,
          419,
          420,
          421,
          422,
          423,
          424,
          425,
          426,
          427,
          428,
          429,
          430,
          431,
          432,
          433,
          434,
          435,
          436,
          437,
          438,
          439,
          440,
          441,
          442,
          443,
          444,
          445,
          446,
          447,
          448,
          449,
          450,
          451,
          452,
          453,
          454,
          455,
          456,
          457,
          458,
          459,
          460,
          461,
          462,
          463,
          464,
          465,
          466,
          467,
          468,
          469,
          470,
          471,
          472,
          473,
          474,
          475,
          476,
          477,
          478,
          479,
          480,
          481,
          482,
          483,
          484,
          485,
          486,
          487,
          488,
          489,
          490,
          491,
          492,
          493,
          494,
          495,
          496,
          497,
          498,
          499,
          500,
          501,
          502,
          503,
          504,
          505,
          506,
          507,
          508,
          509,
          510,
          511,
          512,
          513,
          514,
          515,
          516,
          517,
          518,
          519,
          520,
          521,
          522,
          523,
          524,
          525,
          526,
          527,
          528,
          529,
          530,
          531,
          532,
          533,
          534,
          535,
          536,
          537,
          538,
          539,
          540,
          541,
          542,
          543,
          544,
          545,
          546,
          547,
          548,
          549,
          550,
          551,
          552,
          553,
          554,
          555,
          556,
          557,
          558,
          559,
          560,
          561,
          562,
          563,
          564,
          565,
          566,
          567,
          568,
          569,
          570,
          571,
          572,
          573,
          574,
          575,
          576,
          577,
          578,
          579,
          580,
          581,
          582,
          583,
          584,
          585,
          586,
          587,
          588,
          589,
          590,
          591,
          592,
          593,
          594,
          595,
          596,
          597,
          598,
          599,
          600,
          601,
          602,
          603,
          604,
          605,
          606,
          607,
          608,
          609,
          610,
          611,
          612,
          613,
          614,
          615,
          616,
          617,
          618,
          619,
          620,
          621,
          622,
          623,
          624,
          625,
          626,
          627,
          628,
          629,
          630,
          631,
          632,
          633,
          634,
          635,
          636,
          637,
          638,
          639,
          640,
          641,
          642,
          643,
          644,
          645,
          646,
          647,
          648,
          649,
          650,
          651,
          652,
          653,
          654,
          655,
          656,
          657,
          658,
          659,
          660,
          661,
          662,
          663,
          664,
          665,
          666,
          667,
          668,
          669,
          670,
          671,
          672,
          673,
          674,
          675,
          676,
          677,
          678,
          679,
          680,
          681,
          682,
          683,
          684,
          685,
          686,
          687,
          688,
          689,
          690,
          691,
          692,
          693,
          694,
          695,
          696,
          697,
          698,
          699,
          700,
          701,
          702,
          703,
          704,
          705,
          706,
          707,
          708,
          709,
          710,
          711,
          712,
          713,
          714,
          715,
          716,
          717,
          718,
          719,
          720,
          721,
          722,
          723,
          724,
          725,
          726,
          727,
          728,
          729,
          730,
          731,
          732,
          733,
          734,
          735,
          736,
          737,
          738,
          739,
          740,
          741,
          742,
          743,
          744,
          745,
          746,
          747,
          748,
          749,
          750,
          751,
          752,
          753,
          754,
          755,
          756,
          757,
          758,
          759,
          760,
          761,
          762,
          763,
          764,
          765,
          766,
          767,
          768,
          769,
          770,
          771,
          772,
          773,
          774,
          775,
          776,
          777,
          778,
          779,
          780,
          781,
          782,
          783,
          784,
          785,
          786,
          787,
          788,
          789,
          790,
          791,
          792,
          793,
          794,
          795,
          796,
          797,
          798,
          799,
          800,
          801,
          802,
          803,
          804,
          805,
          806,
          807,
          808,
          809,
          810,
          811,
          812,
          813,
          814,
          815,
          816,
          817,
          818,
          819,
          820,
          821,
          822,
          823,
          824,
          825,
          826,
          827,
          828,
          829,
          830,
          831,
          832,
          833,
          834,
          835,
          836,
          837,
          838,
          839,
          840,
          841,
          842,
          843,
          844,
          845,
          846,
          847,
          848,
          849,
          850,
          851,
          852,
          853,
          854,
          855,
          856,
          857,
          858,
          859,
          860,
          861,
          862,
          863,
          864,
          865,
          866,
          867,
          868,
          869,
          870,
          871,
          872,
          873,
          874,
          875,
          876,
          877,
          878,
          879,
          880,
          881,
          882,
          883,
          884,
          885,
          886,
          887,
          888,
          889,
          890
         ],
         "y": [
          22,
          38,
          26,
          35,
          35,
          "",
          54,
          2,
          27,
          14,
          4,
          58,
          20,
          39,
          14,
          55,
          2,
          "",
          31,
          "",
          35,
          34,
          15,
          28,
          8,
          38,
          "",
          19,
          "",
          "",
          40,
          "",
          "",
          66,
          28,
          42,
          "",
          21,
          18,
          14,
          40,
          27,
          "",
          3,
          19,
          "",
          "",
          "",
          "",
          18,
          7,
          21,
          49,
          29,
          65,
          "",
          21,
          28.5,
          5,
          11,
          22,
          38,
          45,
          4,
          "",
          "",
          29,
          19,
          17,
          26,
          32,
          16,
          21,
          26,
          32,
          25,
          "",
          "",
          0.83,
          30,
          22,
          29,
          "",
          28,
          17,
          33,
          16,
          "",
          23,
          24,
          29,
          20,
          46,
          26,
          59,
          "",
          71,
          23,
          34,
          34,
          28,
          "",
          21,
          33,
          37,
          28,
          21,
          "",
          38,
          "",
          47,
          14.5,
          22,
          20,
          17,
          21,
          70.5,
          29,
          24,
          2,
          21,
          "",
          32.5,
          32.5,
          54,
          12,
          "",
          24,
          "",
          45,
          33,
          20,
          47,
          29,
          25,
          23,
          19,
          37,
          16,
          24,
          "",
          22,
          24,
          19,
          18,
          19,
          27,
          9,
          36.5,
          42,
          51,
          22,
          55.5,
          40.5,
          "",
          51,
          16,
          30,
          "",
          "",
          44,
          40,
          26,
          17,
          1,
          9,
          "",
          45,
          "",
          28,
          61,
          4,
          1,
          21,
          56,
          18,
          "",
          50,
          30,
          36,
          "",
          "",
          9,
          1,
          4,
          "",
          "",
          45,
          40,
          36,
          32,
          19,
          19,
          3,
          44,
          58,
          "",
          42,
          "",
          24,
          28,
          "",
          34,
          45.5,
          18,
          2,
          32,
          26,
          16,
          40,
          24,
          35,
          22,
          30,
          "",
          31,
          27,
          42,
          32,
          30,
          16,
          27,
          51,
          "",
          38,
          22,
          19,
          20.5,
          18,
          "",
          35,
          29,
          59,
          5,
          24,
          "",
          44,
          8,
          19,
          33,
          "",
          "",
          29,
          22,
          30,
          44,
          25,
          24,
          37,
          54,
          "",
          29,
          62,
          30,
          41,
          29,
          "",
          30,
          35,
          50,
          "",
          3,
          52,
          40,
          "",
          36,
          16,
          25,
          58,
          35,
          "",
          25,
          41,
          37,
          "",
          63,
          45,
          "",
          7,
          35,
          65,
          28,
          16,
          19,
          "",
          33,
          30,
          22,
          42,
          22,
          26,
          19,
          36,
          24,
          24,
          "",
          23.5,
          2,
          "",
          50,
          "",
          "",
          19,
          "",
          "",
          0.92,
          "",
          17,
          30,
          30,
          24,
          18,
          26,
          28,
          43,
          26,
          24,
          54,
          31,
          40,
          22,
          27,
          30,
          22,
          "",
          36,
          61,
          36,
          31,
          16,
          "",
          45.5,
          38,
          16,
          "",
          "",
          29,
          41,
          45,
          45,
          2,
          24,
          28,
          25,
          36,
          24,
          40,
          "",
          3,
          42,
          23,
          "",
          15,
          25,
          "",
          28,
          22,
          38,
          "",
          "",
          40,
          29,
          45,
          35,
          "",
          30,
          60,
          "",
          "",
          24,
          25,
          18,
          19,
          22,
          3,
          "",
          22,
          27,
          20,
          19,
          42,
          1,
          32,
          35,
          "",
          18,
          1,
          36,
          "",
          17,
          36,
          21,
          28,
          23,
          24,
          22,
          31,
          46,
          23,
          28,
          39,
          26,
          21,
          28,
          20,
          34,
          51,
          3,
          21,
          "",
          "",
          "",
          33,
          "",
          44,
          "",
          34,
          18,
          30,
          10,
          "",
          21,
          29,
          28,
          18,
          "",
          28,
          19,
          "",
          32,
          28,
          "",
          42,
          17,
          50,
          14,
          21,
          24,
          64,
          31,
          45,
          20,
          25,
          28,
          "",
          4,
          13,
          34,
          5,
          52,
          36,
          "",
          30,
          49,
          "",
          29,
          65,
          "",
          50,
          "",
          48,
          34,
          47,
          48,
          "",
          38,
          "",
          56,
          "",
          0.75,
          "",
          38,
          33,
          23,
          22,
          "",
          34,
          29,
          22,
          2,
          9,
          "",
          50,
          63,
          25,
          "",
          35,
          58,
          30,
          9,
          "",
          21,
          55,
          71,
          21,
          "",
          54,
          "",
          25,
          24,
          17,
          21,
          "",
          37,
          16,
          18,
          33,
          "",
          28,
          26,
          29,
          "",
          36,
          54,
          24,
          47,
          34,
          "",
          36,
          32,
          30,
          22,
          "",
          44,
          "",
          40.5,
          50,
          "",
          39,
          23,
          2,
          "",
          17,
          "",
          30,
          7,
          45,
          30,
          "",
          22,
          36,
          9,
          11,
          32,
          50,
          64,
          19,
          "",
          33,
          8,
          17,
          27,
          "",
          22,
          22,
          62,
          48,
          "",
          39,
          36,
          "",
          40,
          28,
          "",
          "",
          24,
          19,
          29,
          "",
          32,
          62,
          53,
          36,
          "",
          16,
          19,
          34,
          39,
          "",
          32,
          25,
          39,
          54,
          36,
          "",
          18,
          47,
          60,
          22,
          "",
          35,
          52,
          47,
          "",
          37,
          36,
          "",
          49,
          "",
          49,
          24,
          "",
          "",
          44,
          35,
          36,
          30,
          27,
          22,
          40,
          39,
          "",
          "",
          "",
          35,
          24,
          34,
          26,
          4,
          26,
          27,
          42,
          20,
          21,
          21,
          61,
          57,
          21,
          26,
          "",
          80,
          51,
          32,
          "",
          9,
          28,
          32,
          31,
          41,
          "",
          20,
          24,
          2,
          "",
          0.75,
          48,
          19,
          56,
          "",
          23,
          "",
          18,
          21,
          "",
          18,
          24,
          "",
          32,
          23,
          58,
          50,
          40,
          47,
          36,
          20,
          32,
          25,
          "",
          43,
          "",
          40,
          31,
          70,
          31,
          "",
          18,
          24.5,
          18,
          43,
          36,
          "",
          27,
          20,
          14,
          60,
          25,
          14,
          19,
          18,
          15,
          31,
          4,
          "",
          25,
          60,
          52,
          44,
          "",
          49,
          42,
          18,
          35,
          18,
          25,
          26,
          39,
          45,
          42,
          22,
          "",
          24,
          "",
          48,
          29,
          52,
          19,
          38,
          27,
          "",
          33,
          6,
          17,
          34,
          50,
          27,
          20,
          30,
          "",
          25,
          25,
          29,
          11,
          "",
          23,
          23,
          28.5,
          48,
          35,
          "",
          "",
          "",
          36,
          21,
          24,
          31,
          70,
          16,
          30,
          19,
          31,
          4,
          6,
          33,
          23,
          48,
          0.67,
          28,
          18,
          34,
          33,
          "",
          41,
          20,
          36,
          16,
          51,
          "",
          30.5,
          "",
          32,
          24,
          48,
          57,
          "",
          54,
          18,
          "",
          5,
          "",
          43,
          13,
          17,
          29,
          "",
          25,
          25,
          18,
          8,
          1,
          46,
          "",
          16,
          "",
          "",
          25,
          39,
          49,
          31,
          30,
          30,
          34,
          31,
          11,
          0.42,
          27,
          31,
          39,
          18,
          39,
          33,
          26,
          39,
          35,
          6,
          30.5,
          "",
          23,
          31,
          43,
          10,
          52,
          27,
          38,
          27,
          2,
          "",
          "",
          1,
          "",
          62,
          15,
          0.83,
          "",
          23,
          18,
          39,
          21,
          "",
          32,
          "",
          20,
          16,
          30,
          34.5,
          17,
          42,
          "",
          35,
          28,
          "",
          4,
          74,
          9,
          16,
          44,
          18,
          45,
          51,
          24,
          "",
          41,
          21,
          48,
          "",
          24,
          42,
          27,
          31,
          "",
          4,
          26,
          47,
          33,
          47,
          28,
          15,
          20,
          19,
          "",
          56,
          25,
          33,
          22,
          28,
          25,
          39,
          27,
          19,
          "",
          26,
          32
         ]
        },
        {
         "line": {
          "color": "rgba(55, 128, 191, 1.0)",
          "dash": "solid",
          "shape": "linear",
          "width": 1.3
         },
         "mode": "lines",
         "name": "fare",
         "text": "",
         "type": "scatter",
         "x": [
          0,
          1,
          2,
          3,
          4,
          5,
          6,
          7,
          8,
          9,
          10,
          11,
          12,
          13,
          14,
          15,
          16,
          17,
          18,
          19,
          20,
          21,
          22,
          23,
          24,
          25,
          26,
          27,
          28,
          29,
          30,
          31,
          32,
          33,
          34,
          35,
          36,
          37,
          38,
          39,
          40,
          41,
          42,
          43,
          44,
          45,
          46,
          47,
          48,
          49,
          50,
          51,
          52,
          53,
          54,
          55,
          56,
          57,
          58,
          59,
          60,
          61,
          62,
          63,
          64,
          65,
          66,
          67,
          68,
          69,
          70,
          71,
          72,
          73,
          74,
          75,
          76,
          77,
          78,
          79,
          80,
          81,
          82,
          83,
          84,
          85,
          86,
          87,
          88,
          89,
          90,
          91,
          92,
          93,
          94,
          95,
          96,
          97,
          98,
          99,
          100,
          101,
          102,
          103,
          104,
          105,
          106,
          107,
          108,
          109,
          110,
          111,
          112,
          113,
          114,
          115,
          116,
          117,
          118,
          119,
          120,
          121,
          122,
          123,
          124,
          125,
          126,
          127,
          128,
          129,
          130,
          131,
          132,
          133,
          134,
          135,
          136,
          137,
          138,
          139,
          140,
          141,
          142,
          143,
          144,
          145,
          146,
          147,
          148,
          149,
          150,
          151,
          152,
          153,
          154,
          155,
          156,
          157,
          158,
          159,
          160,
          161,
          162,
          163,
          164,
          165,
          166,
          167,
          168,
          169,
          170,
          171,
          172,
          173,
          174,
          175,
          176,
          177,
          178,
          179,
          180,
          181,
          182,
          183,
          184,
          185,
          186,
          187,
          188,
          189,
          190,
          191,
          192,
          193,
          194,
          195,
          196,
          197,
          198,
          199,
          200,
          201,
          202,
          203,
          204,
          205,
          206,
          207,
          208,
          209,
          210,
          211,
          212,
          213,
          214,
          215,
          216,
          217,
          218,
          219,
          220,
          221,
          222,
          223,
          224,
          225,
          226,
          227,
          228,
          229,
          230,
          231,
          232,
          233,
          234,
          235,
          236,
          237,
          238,
          239,
          240,
          241,
          242,
          243,
          244,
          245,
          246,
          247,
          248,
          249,
          250,
          251,
          252,
          253,
          254,
          255,
          256,
          257,
          258,
          259,
          260,
          261,
          262,
          263,
          264,
          265,
          266,
          267,
          268,
          269,
          270,
          271,
          272,
          273,
          274,
          275,
          276,
          277,
          278,
          279,
          280,
          281,
          282,
          283,
          284,
          285,
          286,
          287,
          288,
          289,
          290,
          291,
          292,
          293,
          294,
          295,
          296,
          297,
          298,
          299,
          300,
          301,
          302,
          303,
          304,
          305,
          306,
          307,
          308,
          309,
          310,
          311,
          312,
          313,
          314,
          315,
          316,
          317,
          318,
          319,
          320,
          321,
          322,
          323,
          324,
          325,
          326,
          327,
          328,
          329,
          330,
          331,
          332,
          333,
          334,
          335,
          336,
          337,
          338,
          339,
          340,
          341,
          342,
          343,
          344,
          345,
          346,
          347,
          348,
          349,
          350,
          351,
          352,
          353,
          354,
          355,
          356,
          357,
          358,
          359,
          360,
          361,
          362,
          363,
          364,
          365,
          366,
          367,
          368,
          369,
          370,
          371,
          372,
          373,
          374,
          375,
          376,
          377,
          378,
          379,
          380,
          381,
          382,
          383,
          384,
          385,
          386,
          387,
          388,
          389,
          390,
          391,
          392,
          393,
          394,
          395,
          396,
          397,
          398,
          399,
          400,
          401,
          402,
          403,
          404,
          405,
          406,
          407,
          408,
          409,
          410,
          411,
          412,
          413,
          414,
          415,
          416,
          417,
          418,
          419,
          420,
          421,
          422,
          423,
          424,
          425,
          426,
          427,
          428,
          429,
          430,
          431,
          432,
          433,
          434,
          435,
          436,
          437,
          438,
          439,
          440,
          441,
          442,
          443,
          444,
          445,
          446,
          447,
          448,
          449,
          450,
          451,
          452,
          453,
          454,
          455,
          456,
          457,
          458,
          459,
          460,
          461,
          462,
          463,
          464,
          465,
          466,
          467,
          468,
          469,
          470,
          471,
          472,
          473,
          474,
          475,
          476,
          477,
          478,
          479,
          480,
          481,
          482,
          483,
          484,
          485,
          486,
          487,
          488,
          489,
          490,
          491,
          492,
          493,
          494,
          495,
          496,
          497,
          498,
          499,
          500,
          501,
          502,
          503,
          504,
          505,
          506,
          507,
          508,
          509,
          510,
          511,
          512,
          513,
          514,
          515,
          516,
          517,
          518,
          519,
          520,
          521,
          522,
          523,
          524,
          525,
          526,
          527,
          528,
          529,
          530,
          531,
          532,
          533,
          534,
          535,
          536,
          537,
          538,
          539,
          540,
          541,
          542,
          543,
          544,
          545,
          546,
          547,
          548,
          549,
          550,
          551,
          552,
          553,
          554,
          555,
          556,
          557,
          558,
          559,
          560,
          561,
          562,
          563,
          564,
          565,
          566,
          567,
          568,
          569,
          570,
          571,
          572,
          573,
          574,
          575,
          576,
          577,
          578,
          579,
          580,
          581,
          582,
          583,
          584,
          585,
          586,
          587,
          588,
          589,
          590,
          591,
          592,
          593,
          594,
          595,
          596,
          597,
          598,
          599,
          600,
          601,
          602,
          603,
          604,
          605,
          606,
          607,
          608,
          609,
          610,
          611,
          612,
          613,
          614,
          615,
          616,
          617,
          618,
          619,
          620,
          621,
          622,
          623,
          624,
          625,
          626,
          627,
          628,
          629,
          630,
          631,
          632,
          633,
          634,
          635,
          636,
          637,
          638,
          639,
          640,
          641,
          642,
          643,
          644,
          645,
          646,
          647,
          648,
          649,
          650,
          651,
          652,
          653,
          654,
          655,
          656,
          657,
          658,
          659,
          660,
          661,
          662,
          663,
          664,
          665,
          666,
          667,
          668,
          669,
          670,
          671,
          672,
          673,
          674,
          675,
          676,
          677,
          678,
          679,
          680,
          681,
          682,
          683,
          684,
          685,
          686,
          687,
          688,
          689,
          690,
          691,
          692,
          693,
          694,
          695,
          696,
          697,
          698,
          699,
          700,
          701,
          702,
          703,
          704,
          705,
          706,
          707,
          708,
          709,
          710,
          711,
          712,
          713,
          714,
          715,
          716,
          717,
          718,
          719,
          720,
          721,
          722,
          723,
          724,
          725,
          726,
          727,
          728,
          729,
          730,
          731,
          732,
          733,
          734,
          735,
          736,
          737,
          738,
          739,
          740,
          741,
          742,
          743,
          744,
          745,
          746,
          747,
          748,
          749,
          750,
          751,
          752,
          753,
          754,
          755,
          756,
          757,
          758,
          759,
          760,
          761,
          762,
          763,
          764,
          765,
          766,
          767,
          768,
          769,
          770,
          771,
          772,
          773,
          774,
          775,
          776,
          777,
          778,
          779,
          780,
          781,
          782,
          783,
          784,
          785,
          786,
          787,
          788,
          789,
          790,
          791,
          792,
          793,
          794,
          795,
          796,
          797,
          798,
          799,
          800,
          801,
          802,
          803,
          804,
          805,
          806,
          807,
          808,
          809,
          810,
          811,
          812,
          813,
          814,
          815,
          816,
          817,
          818,
          819,
          820,
          821,
          822,
          823,
          824,
          825,
          826,
          827,
          828,
          829,
          830,
          831,
          832,
          833,
          834,
          835,
          836,
          837,
          838,
          839,
          840,
          841,
          842,
          843,
          844,
          845,
          846,
          847,
          848,
          849,
          850,
          851,
          852,
          853,
          854,
          855,
          856,
          857,
          858,
          859,
          860,
          861,
          862,
          863,
          864,
          865,
          866,
          867,
          868,
          869,
          870,
          871,
          872,
          873,
          874,
          875,
          876,
          877,
          878,
          879,
          880,
          881,
          882,
          883,
          884,
          885,
          886,
          887,
          888,
          889,
          890
         ],
         "y": [
          7.25,
          71.2833,
          7.925,
          53.1,
          8.05,
          8.4583,
          51.8625,
          21.075,
          11.1333,
          30.0708,
          16.7,
          26.55,
          8.05,
          31.275,
          7.8542,
          16,
          29.125,
          13,
          18,
          7.225,
          26,
          13,
          8.0292,
          35.5,
          21.075,
          31.3875,
          7.225,
          263,
          7.8792,
          7.8958,
          27.7208,
          146.5208,
          7.75,
          10.5,
          82.1708,
          52,
          7.2292,
          8.05,
          18,
          11.2417,
          9.475,
          21,
          7.8958,
          41.5792,
          7.8792,
          8.05,
          15.5,
          7.75,
          21.6792,
          17.8,
          39.6875,
          7.8,
          76.7292,
          26,
          61.9792,
          35.5,
          10.5,
          7.2292,
          27.75,
          46.9,
          7.2292,
          80,
          83.475,
          27.9,
          27.7208,
          15.2458,
          10.5,
          8.1583,
          7.925,
          8.6625,
          10.5,
          46.9,
          73.5,
          14.4542,
          56.4958,
          7.65,
          7.8958,
          8.05,
          29,
          12.475,
          9,
          9.5,
          7.7875,
          47.1,
          10.5,
          15.85,
          34.375,
          8.05,
          263,
          8.05,
          8.05,
          7.8542,
          61.175,
          20.575,
          7.25,
          8.05,
          34.6542,
          63.3583,
          23,
          26,
          7.8958,
          7.8958,
          77.2875,
          8.6542,
          7.925,
          7.8958,
          7.65,
          7.775,
          7.8958,
          24.15,
          52,
          14.4542,
          8.05,
          9.825,
          14.4583,
          7.925,
          7.75,
          21,
          247.5208,
          31.275,
          73.5,
          8.05,
          30.0708,
          13,
          77.2875,
          11.2417,
          7.75,
          7.1417,
          22.3583,
          6.975,
          7.8958,
          7.05,
          14.5,
          26,
          13,
          15.0458,
          26.2833,
          53.1,
          9.2167,
          79.2,
          15.2458,
          7.75,
          15.85,
          6.75,
          11.5,
          36.75,
          7.7958,
          34.375,
          26,
          13,
          12.525,
          66.6,
          8.05,
          14.5,
          7.3125,
          61.3792,
          7.7333,
          8.05,
          8.6625,
          69.55,
          16.1,
          15.75,
          7.775,
          8.6625,
          39.6875,
          20.525,
          55,
          27.9,
          25.925,
          56.4958,
          33.5,
          29.125,
          11.1333,
          7.925,
          30.6958,
          7.8542,
          25.4667,
          28.7125,
          13,
          0,
          69.55,
          15.05,
          31.3875,
          39,
          22.025,
          50,
          15.5,
          26.55,
          15.5,
          7.8958,
          13,
          13,
          7.8542,
          26,
          27.7208,
          146.5208,
          7.75,
          8.4042,
          7.75,
          13,
          9.5,
          69.55,
          6.4958,
          7.225,
          8.05,
          10.4625,
          15.85,
          18.7875,
          7.75,
          31,
          7.05,
          21,
          7.25,
          13,
          7.75,
          113.275,
          7.925,
          27,
          76.2917,
          10.5,
          8.05,
          13,
          8.05,
          7.8958,
          90,
          9.35,
          10.5,
          7.25,
          13,
          25.4667,
          83.475,
          7.775,
          13.5,
          31.3875,
          10.5,
          7.55,
          26,
          26.25,
          10.5,
          12.275,
          14.4542,
          15.5,
          10.5,
          7.125,
          7.225,
          90,
          7.775,
          14.5,
          52.5542,
          26,
          7.25,
          10.4625,
          26.55,
          16.1,
          20.2125,
          15.2458,
          79.2,
          86.5,
          512.3292,
          26,
          7.75,
          31.3875,
          79.65,
          0,
          7.75,
          10.5,
          39.6875,
          7.775,
          153.4625,
          135.6333,
          31,
          0,
          19.5,
          29.7,
          7.75,
          77.9583,
          7.75,
          0,
          29.125,
          20.25,
          7.75,
          7.8542,
          9.5,
          8.05,
          26,
          8.6625,
          9.5,
          7.8958,
          13,
          7.75,
          78.85,
          91.0792,
          12.875,
          8.85,
          7.8958,
          27.7208,
          7.2292,
          151.55,
          30.5,
          247.5208,
          7.75,
          23.25,
          0,
          12.35,
          8.05,
          151.55,
          110.8833,
          108.9,
          24,
          56.9292,
          83.1583,
          262.375,
          26,
          7.8958,
          26.25,
          7.8542,
          26,
          14,
          164.8667,
          134.5,
          7.25,
          7.8958,
          12.35,
          29,
          69.55,
          135.6333,
          6.2375,
          13,
          20.525,
          57.9792,
          23.25,
          28.5,
          153.4625,
          18,
          133.65,
          7.8958,
          66.6,
          134.5,
          8.05,
          35.5,
          26,
          263,
          13,
          13,
          13,
          13,
          13,
          16.1,
          15.9,
          8.6625,
          9.225,
          35,
          7.2292,
          17.8,
          7.225,
          9.5,
          55,
          13,
          7.8792,
          7.8792,
          27.9,
          27.7208,
          14.4542,
          7.05,
          15.5,
          7.25,
          75.25,
          7.2292,
          7.75,
          69.3,
          55.4417,
          6.4958,
          8.05,
          135.6333,
          21.075,
          82.1708,
          7.25,
          211.5,
          4.0125,
          7.775,
          227.525,
          15.7417,
          7.925,
          52,
          7.8958,
          73.5,
          46.9,
          13,
          7.7292,
          12,
          120,
          7.7958,
          7.925,
          113.275,
          16.7,
          7.7958,
          7.8542,
          26,
          10.5,
          12.65,
          7.925,
          8.05,
          9.825,
          15.85,
          8.6625,
          21,
          7.75,
          18.75,
          7.775,
          25.4667,
          7.8958,
          6.8583,
          90,
          0,
          7.925,
          8.05,
          32.5,
          13,
          13,
          24.15,
          7.8958,
          7.7333,
          7.875,
          14.4,
          20.2125,
          7.25,
          26,
          26,
          7.75,
          8.05,
          26.55,
          16.1,
          26,
          7.125,
          55.9,
          120,
          34.375,
          18.75,
          263,
          10.5,
          26.25,
          9.5,
          7.775,
          13,
          8.1125,
          81.8583,
          19.5,
          26.55,
          19.2583,
          30.5,
          27.75,
          19.9667,
          27.75,
          89.1042,
          8.05,
          7.8958,
          26.55,
          51.8625,
          10.5,
          7.75,
          26.55,
          8.05,
          38.5,
          13,
          8.05,
          7.05,
          0,
          26.55,
          7.725,
          19.2583,
          7.25,
          8.6625,
          27.75,
          13.7917,
          9.8375,
          52,
          21,
          7.0458,
          7.5208,
          12.2875,
          46.9,
          0,
          8.05,
          9.5875,
          91.0792,
          25.4667,
          90,
          29.7,
          8.05,
          15.9,
          19.9667,
          7.25,
          30.5,
          49.5042,
          8.05,
          14.4583,
          78.2667,
          15.1,
          151.55,
          7.7958,
          8.6625,
          7.75,
          7.6292,
          9.5875,
          86.5,
          108.9,
          26,
          26.55,
          22.525,
          56.4958,
          7.75,
          8.05,
          26.2875,
          59.4,
          7.4958,
          34.0208,
          10.5,
          24.15,
          26,
          7.8958,
          93.5,
          7.8958,
          7.225,
          57.9792,
          7.2292,
          7.75,
          10.5,
          221.7792,
          7.925,
          11.5,
          26,
          7.2292,
          7.2292,
          22.3583,
          8.6625,
          26.25,
          26.55,
          106.425,
          14.5,
          49.5,
          71,
          31.275,
          31.275,
          26,
          106.425,
          26,
          26,
          13.8625,
          20.525,
          36.75,
          110.8833,
          26,
          7.8292,
          7.225,
          7.775,
          26.55,
          39.6,
          227.525,
          79.65,
          17.4,
          7.75,
          7.8958,
          13.5,
          8.05,
          8.05,
          24.15,
          7.8958,
          21.075,
          7.2292,
          7.8542,
          10.5,
          51.4792,
          26.3875,
          7.75,
          8.05,
          14.5,
          13,
          55.9,
          14.4583,
          7.925,
          30,
          110.8833,
          26,
          40.125,
          8.7125,
          79.65,
          15,
          79.2,
          8.05,
          8.05,
          7.125,
          78.2667,
          7.25,
          7.75,
          26,
          24.15,
          33,
          0,
          7.225,
          56.9292,
          27,
          7.8958,
          42.4,
          8.05,
          26.55,
          15.55,
          7.8958,
          30.5,
          41.5792,
          153.4625,
          31.275,
          7.05,
          15.5,
          7.75,
          8.05,
          65,
          14.4,
          16.1,
          39,
          10.5,
          14.4542,
          52.5542,
          15.7417,
          7.8542,
          16.1,
          32.3208,
          12.35,
          77.9583,
          7.8958,
          7.7333,
          30,
          7.0542,
          30.5,
          0,
          27.9,
          13,
          7.925,
          26.25,
          39.6875,
          16.1,
          7.8542,
          69.3,
          27.9,
          56.4958,
          19.2583,
          76.7292,
          7.8958,
          35.5,
          7.55,
          7.55,
          7.8958,
          23,
          8.4333,
          7.8292,
          6.75,
          73.5,
          7.8958,
          15.5,
          13,
          113.275,
          133.65,
          7.225,
          25.5875,
          7.4958,
          7.925,
          73.5,
          13,
          7.775,
          8.05,
          52,
          39,
          52,
          10.5,
          13,
          0,
          7.775,
          8.05,
          9.8417,
          46.9,
          512.3292,
          8.1375,
          76.7292,
          9.225,
          46.9,
          39,
          41.5792,
          39.6875,
          10.1708,
          7.7958,
          211.3375,
          57,
          13.4167,
          56.4958,
          7.225,
          26.55,
          13.5,
          8.05,
          7.7333,
          110.8833,
          7.65,
          227.525,
          26.2875,
          14.4542,
          7.7417,
          7.8542,
          26,
          13.5,
          26.2875,
          151.55,
          15.2458,
          49.5042,
          26.55,
          52,
          9.4833,
          13,
          7.65,
          227.525,
          10.5,
          15.5,
          7.775,
          33,
          7.0542,
          13,
          13,
          53.1,
          8.6625,
          21,
          7.7375,
          26,
          7.925,
          211.3375,
          18.7875,
          0,
          13,
          13,
          16.1,
          34.375,
          512.3292,
          7.8958,
          7.8958,
          30,
          78.85,
          262.375,
          16.1,
          7.925,
          71,
          20.25,
          13,
          53.1,
          7.75,
          23,
          12.475,
          9.5,
          7.8958,
          65,
          14.5,
          7.7958,
          11.5,
          8.05,
          86.5,
          14.5,
          7.125,
          7.2292,
          120,
          7.775,
          77.9583,
          39.6,
          7.75,
          24.15,
          8.3625,
          9.5,
          7.8542,
          10.5,
          7.225,
          23,
          7.75,
          7.75,
          12.475,
          7.7375,
          211.3375,
          7.2292,
          57,
          30,
          23.45,
          7.05,
          7.25,
          7.4958,
          29.125,
          20.575,
          79.2,
          7.75,
          26,
          69.55,
          30.6958,
          7.8958,
          13,
          25.9292,
          8.6833,
          7.2292,
          24.15,
          13,
          26.25,
          120,
          8.5167,
          6.975,
          7.775,
          0,
          7.775,
          13,
          53.1,
          7.8875,
          24.15,
          10.5,
          31.275,
          8.05,
          0,
          7.925,
          37.0042,
          6.45,
          27.9,
          93.5,
          8.6625,
          0,
          12.475,
          39.6875,
          6.95,
          56.4958,
          37.0042,
          7.75,
          80,
          14.4542,
          18.75,
          7.2292,
          7.8542,
          8.3,
          83.1583,
          8.6625,
          8.05,
          56.4958,
          29.7,
          7.925,
          10.5,
          31,
          6.4375,
          8.6625,
          7.55,
          69.55,
          7.8958,
          33,
          89.1042,
          31.275,
          7.775,
          15.2458,
          39.4,
          26,
          9.35,
          164.8667,
          26.55,
          19.2583,
          7.2292,
          14.1083,
          11.5,
          25.9292,
          69.55,
          13,
          13,
          13.8583,
          50.4958,
          9.5,
          11.1333,
          7.8958,
          52.5542,
          5,
          9,
          24,
          7.225,
          9.8458,
          7.8958,
          7.8958,
          83.1583,
          26,
          7.8958,
          10.5167,
          10.5,
          7.05,
          29.125,
          13,
          30,
          23.45,
          30,
          7.75
         ]
        }
       ],
       "layout": {
        "legend": {
         "bgcolor": "#F5F6F9",
         "font": {
          "color": "#4D5663"
         }
        },
        "paper_bgcolor": "#F5F6F9",
        "plot_bgcolor": "#F5F6F9",
        "template": {
         "data": {
          "bar": [
           {
            "error_x": {
             "color": "#2a3f5f"
            },
            "error_y": {
             "color": "#2a3f5f"
            },
            "marker": {
             "line": {
              "color": "#E5ECF6",
              "width": 0.5
             },
             "pattern": {
              "fillmode": "overlay",
              "size": 10,
              "solidity": 0.2
             }
            },
            "type": "bar"
           }
          ],
          "barpolar": [
           {
            "marker": {
             "line": {
              "color": "#E5ECF6",
              "width": 0.5
             },
             "pattern": {
              "fillmode": "overlay",
              "size": 10,
              "solidity": 0.2
             }
            },
            "type": "barpolar"
           }
          ],
          "carpet": [
           {
            "aaxis": {
             "endlinecolor": "#2a3f5f",
             "gridcolor": "white",
             "linecolor": "white",
             "minorgridcolor": "white",
             "startlinecolor": "#2a3f5f"
            },
            "baxis": {
             "endlinecolor": "#2a3f5f",
             "gridcolor": "white",
             "linecolor": "white",
             "minorgridcolor": "white",
             "startlinecolor": "#2a3f5f"
            },
            "type": "carpet"
           }
          ],
          "choropleth": [
           {
            "colorbar": {
             "outlinewidth": 0,
             "ticks": ""
            },
            "type": "choropleth"
           }
          ],
          "contour": [
           {
            "colorbar": {
             "outlinewidth": 0,
             "ticks": ""
            },
            "colorscale": [
             [
              0,
              "#0d0887"
             ],
             [
              0.1111111111111111,
              "#46039f"
             ],
             [
              0.2222222222222222,
              "#7201a8"
             ],
             [
              0.3333333333333333,
              "#9c179e"
             ],
             [
              0.4444444444444444,
              "#bd3786"
             ],
             [
              0.5555555555555556,
              "#d8576b"
             ],
             [
              0.6666666666666666,
              "#ed7953"
             ],
             [
              0.7777777777777778,
              "#fb9f3a"
             ],
             [
              0.8888888888888888,
              "#fdca26"
             ],
             [
              1,
              "#f0f921"
             ]
            ],
            "type": "contour"
           }
          ],
          "contourcarpet": [
           {
            "colorbar": {
             "outlinewidth": 0,
             "ticks": ""
            },
            "type": "contourcarpet"
           }
          ],
          "heatmap": [
           {
            "colorbar": {
             "outlinewidth": 0,
             "ticks": ""
            },
            "colorscale": [
             [
              0,
              "#0d0887"
             ],
             [
              0.1111111111111111,
              "#46039f"
             ],
             [
              0.2222222222222222,
              "#7201a8"
             ],
             [
              0.3333333333333333,
              "#9c179e"
             ],
             [
              0.4444444444444444,
              "#bd3786"
             ],
             [
              0.5555555555555556,
              "#d8576b"
             ],
             [
              0.6666666666666666,
              "#ed7953"
             ],
             [
              0.7777777777777778,
              "#fb9f3a"
             ],
             [
              0.8888888888888888,
              "#fdca26"
             ],
             [
              1,
              "#f0f921"
             ]
            ],
            "type": "heatmap"
           }
          ],
          "heatmapgl": [
           {
            "colorbar": {
             "outlinewidth": 0,
             "ticks": ""
            },
            "colorscale": [
             [
              0,
              "#0d0887"
             ],
             [
              0.1111111111111111,
              "#46039f"
             ],
             [
              0.2222222222222222,
              "#7201a8"
             ],
             [
              0.3333333333333333,
              "#9c179e"
             ],
             [
              0.4444444444444444,
              "#bd3786"
             ],
             [
              0.5555555555555556,
              "#d8576b"
             ],
             [
              0.6666666666666666,
              "#ed7953"
             ],
             [
              0.7777777777777778,
              "#fb9f3a"
             ],
             [
              0.8888888888888888,
              "#fdca26"
             ],
             [
              1,
              "#f0f921"
             ]
            ],
            "type": "heatmapgl"
           }
          ],
          "histogram": [
           {
            "marker": {
             "pattern": {
              "fillmode": "overlay",
              "size": 10,
              "solidity": 0.2
             }
            },
            "type": "histogram"
           }
          ],
          "histogram2d": [
           {
            "colorbar": {
             "outlinewidth": 0,
             "ticks": ""
            },
            "colorscale": [
             [
              0,
              "#0d0887"
             ],
             [
              0.1111111111111111,
              "#46039f"
             ],
             [
              0.2222222222222222,
              "#7201a8"
             ],
             [
              0.3333333333333333,
              "#9c179e"
             ],
             [
              0.4444444444444444,
              "#bd3786"
             ],
             [
              0.5555555555555556,
              "#d8576b"
             ],
             [
              0.6666666666666666,
              "#ed7953"
             ],
             [
              0.7777777777777778,
              "#fb9f3a"
             ],
             [
              0.8888888888888888,
              "#fdca26"
             ],
             [
              1,
              "#f0f921"
             ]
            ],
            "type": "histogram2d"
           }
          ],
          "histogram2dcontour": [
           {
            "colorbar": {
             "outlinewidth": 0,
             "ticks": ""
            },
            "colorscale": [
             [
              0,
              "#0d0887"
             ],
             [
              0.1111111111111111,
              "#46039f"
             ],
             [
              0.2222222222222222,
              "#7201a8"
             ],
             [
              0.3333333333333333,
              "#9c179e"
             ],
             [
              0.4444444444444444,
              "#bd3786"
             ],
             [
              0.5555555555555556,
              "#d8576b"
             ],
             [
              0.6666666666666666,
              "#ed7953"
             ],
             [
              0.7777777777777778,
              "#fb9f3a"
             ],
             [
              0.8888888888888888,
              "#fdca26"
             ],
             [
              1,
              "#f0f921"
             ]
            ],
            "type": "histogram2dcontour"
           }
          ],
          "mesh3d": [
           {
            "colorbar": {
             "outlinewidth": 0,
             "ticks": ""
            },
            "type": "mesh3d"
           }
          ],
          "parcoords": [
           {
            "line": {
             "colorbar": {
              "outlinewidth": 0,
              "ticks": ""
             }
            },
            "type": "parcoords"
           }
          ],
          "pie": [
           {
            "automargin": true,
            "type": "pie"
           }
          ],
          "scatter": [
           {
            "fillpattern": {
             "fillmode": "overlay",
             "size": 10,
             "solidity": 0.2
            },
            "type": "scatter"
           }
          ],
          "scatter3d": [
           {
            "line": {
             "colorbar": {
              "outlinewidth": 0,
              "ticks": ""
             }
            },
            "marker": {
             "colorbar": {
              "outlinewidth": 0,
              "ticks": ""
             }
            },
            "type": "scatter3d"
           }
          ],
          "scattercarpet": [
           {
            "marker": {
             "colorbar": {
              "outlinewidth": 0,
              "ticks": ""
             }
            },
            "type": "scattercarpet"
           }
          ],
          "scattergeo": [
           {
            "marker": {
             "colorbar": {
              "outlinewidth": 0,
              "ticks": ""
             }
            },
            "type": "scattergeo"
           }
          ],
          "scattergl": [
           {
            "marker": {
             "colorbar": {
              "outlinewidth": 0,
              "ticks": ""
             }
            },
            "type": "scattergl"
           }
          ],
          "scattermapbox": [
           {
            "marker": {
             "colorbar": {
              "outlinewidth": 0,
              "ticks": ""
             }
            },
            "type": "scattermapbox"
           }
          ],
          "scatterpolar": [
           {
            "marker": {
             "colorbar": {
              "outlinewidth": 0,
              "ticks": ""
             }
            },
            "type": "scatterpolar"
           }
          ],
          "scatterpolargl": [
           {
            "marker": {
             "colorbar": {
              "outlinewidth": 0,
              "ticks": ""
             }
            },
            "type": "scatterpolargl"
           }
          ],
          "scatterternary": [
           {
            "marker": {
             "colorbar": {
              "outlinewidth": 0,
              "ticks": ""
             }
            },
            "type": "scatterternary"
           }
          ],
          "surface": [
           {
            "colorbar": {
             "outlinewidth": 0,
             "ticks": ""
            },
            "colorscale": [
             [
              0,
              "#0d0887"
             ],
             [
              0.1111111111111111,
              "#46039f"
             ],
             [
              0.2222222222222222,
              "#7201a8"
             ],
             [
              0.3333333333333333,
              "#9c179e"
             ],
             [
              0.4444444444444444,
              "#bd3786"
             ],
             [
              0.5555555555555556,
              "#d8576b"
             ],
             [
              0.6666666666666666,
              "#ed7953"
             ],
             [
              0.7777777777777778,
              "#fb9f3a"
             ],
             [
              0.8888888888888888,
              "#fdca26"
             ],
             [
              1,
              "#f0f921"
             ]
            ],
            "type": "surface"
           }
          ],
          "table": [
           {
            "cells": {
             "fill": {
              "color": "#EBF0F8"
             },
             "line": {
              "color": "white"
             }
            },
            "header": {
             "fill": {
              "color": "#C8D4E3"
             },
             "line": {
              "color": "white"
             }
            },
            "type": "table"
           }
          ]
         },
         "layout": {
          "annotationdefaults": {
           "arrowcolor": "#2a3f5f",
           "arrowhead": 0,
           "arrowwidth": 1
          },
          "autotypenumbers": "strict",
          "coloraxis": {
           "colorbar": {
            "outlinewidth": 0,
            "ticks": ""
           }
          },
          "colorscale": {
           "diverging": [
            [
             0,
             "#8e0152"
            ],
            [
             0.1,
             "#c51b7d"
            ],
            [
             0.2,
             "#de77ae"
            ],
            [
             0.3,
             "#f1b6da"
            ],
            [
             0.4,
             "#fde0ef"
            ],
            [
             0.5,
             "#f7f7f7"
            ],
            [
             0.6,
             "#e6f5d0"
            ],
            [
             0.7,
             "#b8e186"
            ],
            [
             0.8,
             "#7fbc41"
            ],
            [
             0.9,
             "#4d9221"
            ],
            [
             1,
             "#276419"
            ]
           ],
           "sequential": [
            [
             0,
             "#0d0887"
            ],
            [
             0.1111111111111111,
             "#46039f"
            ],
            [
             0.2222222222222222,
             "#7201a8"
            ],
            [
             0.3333333333333333,
             "#9c179e"
            ],
            [
             0.4444444444444444,
             "#bd3786"
            ],
            [
             0.5555555555555556,
             "#d8576b"
            ],
            [
             0.6666666666666666,
             "#ed7953"
            ],
            [
             0.7777777777777778,
             "#fb9f3a"
            ],
            [
             0.8888888888888888,
             "#fdca26"
            ],
            [
             1,
             "#f0f921"
            ]
           ],
           "sequentialminus": [
            [
             0,
             "#0d0887"
            ],
            [
             0.1111111111111111,
             "#46039f"
            ],
            [
             0.2222222222222222,
             "#7201a8"
            ],
            [
             0.3333333333333333,
             "#9c179e"
            ],
            [
             0.4444444444444444,
             "#bd3786"
            ],
            [
             0.5555555555555556,
             "#d8576b"
            ],
            [
             0.6666666666666666,
             "#ed7953"
            ],
            [
             0.7777777777777778,
             "#fb9f3a"
            ],
            [
             0.8888888888888888,
             "#fdca26"
            ],
            [
             1,
             "#f0f921"
            ]
           ]
          },
          "colorway": [
           "#636efa",
           "#EF553B",
           "#00cc96",
           "#ab63fa",
           "#FFA15A",
           "#19d3f3",
           "#FF6692",
           "#B6E880",
           "#FF97FF",
           "#FECB52"
          ],
          "font": {
           "color": "#2a3f5f"
          },
          "geo": {
           "bgcolor": "white",
           "lakecolor": "white",
           "landcolor": "#E5ECF6",
           "showlakes": true,
           "showland": true,
           "subunitcolor": "white"
          },
          "hoverlabel": {
           "align": "left"
          },
          "hovermode": "closest",
          "mapbox": {
           "style": "light"
          },
          "paper_bgcolor": "white",
          "plot_bgcolor": "#E5ECF6",
          "polar": {
           "angularaxis": {
            "gridcolor": "white",
            "linecolor": "white",
            "ticks": ""
           },
           "bgcolor": "#E5ECF6",
           "radialaxis": {
            "gridcolor": "white",
            "linecolor": "white",
            "ticks": ""
           }
          },
          "scene": {
           "xaxis": {
            "backgroundcolor": "#E5ECF6",
            "gridcolor": "white",
            "gridwidth": 2,
            "linecolor": "white",
            "showbackground": true,
            "ticks": "",
            "zerolinecolor": "white"
           },
           "yaxis": {
            "backgroundcolor": "#E5ECF6",
            "gridcolor": "white",
            "gridwidth": 2,
            "linecolor": "white",
            "showbackground": true,
            "ticks": "",
            "zerolinecolor": "white"
           },
           "zaxis": {
            "backgroundcolor": "#E5ECF6",
            "gridcolor": "white",
            "gridwidth": 2,
            "linecolor": "white",
            "showbackground": true,
            "ticks": "",
            "zerolinecolor": "white"
           }
          },
          "shapedefaults": {
           "line": {
            "color": "#2a3f5f"
           }
          },
          "ternary": {
           "aaxis": {
            "gridcolor": "white",
            "linecolor": "white",
            "ticks": ""
           },
           "baxis": {
            "gridcolor": "white",
            "linecolor": "white",
            "ticks": ""
           },
           "bgcolor": "#E5ECF6",
           "caxis": {
            "gridcolor": "white",
            "linecolor": "white",
            "ticks": ""
           }
          },
          "title": {
           "x": 0.05
          },
          "xaxis": {
           "automargin": true,
           "gridcolor": "white",
           "linecolor": "white",
           "ticks": "",
           "title": {
            "standoff": 15
           },
           "zerolinecolor": "white",
           "zerolinewidth": 2
          },
          "yaxis": {
           "automargin": true,
           "gridcolor": "white",
           "linecolor": "white",
           "ticks": "",
           "title": {
            "standoff": 15
           },
           "zerolinecolor": "white",
           "zerolinewidth": 2
          }
         }
        },
        "title": {
         "font": {
          "color": "#4D5663"
         }
        },
        "xaxis": {
         "gridcolor": "#E1E5ED",
         "showgrid": true,
         "tickfont": {
          "color": "#4D5663"
         },
         "title": {
          "font": {
           "color": "#4D5663"
          },
          "text": ""
         },
         "zerolinecolor": "#E1E5ED"
        },
        "yaxis": {
         "gridcolor": "#E1E5ED",
         "showgrid": true,
         "tickfont": {
          "color": "#4D5663"
         },
         "title": {
          "font": {
           "color": "#4D5663"
          },
          "text": ""
         },
         "zerolinecolor": "#E1E5ED"
        }
       }
      },
      "text/html": [
       "<div>                            <div id=\"fe4d64ff-2dd7-4733-9365-c25adec3a662\" class=\"plotly-graph-div\" style=\"height:525px; width:100%;\"></div>            <script type=\"text/javascript\">                require([\"plotly\"], function(Plotly) {                    window.PLOTLYENV=window.PLOTLYENV || {};\n",
       "                    window.PLOTLYENV.BASE_URL='https://plot.ly';                                    if (document.getElementById(\"fe4d64ff-2dd7-4733-9365-c25adec3a662\")) {                    Plotly.newPlot(                        \"fe4d64ff-2dd7-4733-9365-c25adec3a662\",                        [{\"line\":{\"color\":\"rgba(255, 153, 51, 1.0)\",\"dash\":\"solid\",\"shape\":\"linear\",\"width\":1.3},\"mode\":\"lines\",\"name\":\"age\",\"text\":\"\",\"x\":[0,1,2,3,4,5,6,7,8,9,10,11,12,13,14,15,16,17,18,19,20,21,22,23,24,25,26,27,28,29,30,31,32,33,34,35,36,37,38,39,40,41,42,43,44,45,46,47,48,49,50,51,52,53,54,55,56,57,58,59,60,61,62,63,64,65,66,67,68,69,70,71,72,73,74,75,76,77,78,79,80,81,82,83,84,85,86,87,88,89,90,91,92,93,94,95,96,97,98,99,100,101,102,103,104,105,106,107,108,109,110,111,112,113,114,115,116,117,118,119,120,121,122,123,124,125,126,127,128,129,130,131,132,133,134,135,136,137,138,139,140,141,142,143,144,145,146,147,148,149,150,151,152,153,154,155,156,157,158,159,160,161,162,163,164,165,166,167,168,169,170,171,172,173,174,175,176,177,178,179,180,181,182,183,184,185,186,187,188,189,190,191,192,193,194,195,196,197,198,199,200,201,202,203,204,205,206,207,208,209,210,211,212,213,214,215,216,217,218,219,220,221,222,223,224,225,226,227,228,229,230,231,232,233,234,235,236,237,238,239,240,241,242,243,244,245,246,247,248,249,250,251,252,253,254,255,256,257,258,259,260,261,262,263,264,265,266,267,268,269,270,271,272,273,274,275,276,277,278,279,280,281,282,283,284,285,286,287,288,289,290,291,292,293,294,295,296,297,298,299,300,301,302,303,304,305,306,307,308,309,310,311,312,313,314,315,316,317,318,319,320,321,322,323,324,325,326,327,328,329,330,331,332,333,334,335,336,337,338,339,340,341,342,343,344,345,346,347,348,349,350,351,352,353,354,355,356,357,358,359,360,361,362,363,364,365,366,367,368,369,370,371,372,373,374,375,376,377,378,379,380,381,382,383,384,385,386,387,388,389,390,391,392,393,394,395,396,397,398,399,400,401,402,403,404,405,406,407,408,409,410,411,412,413,414,415,416,417,418,419,420,421,422,423,424,425,426,427,428,429,430,431,432,433,434,435,436,437,438,439,440,441,442,443,444,445,446,447,448,449,450,451,452,453,454,455,456,457,458,459,460,461,462,463,464,465,466,467,468,469,470,471,472,473,474,475,476,477,478,479,480,481,482,483,484,485,486,487,488,489,490,491,492,493,494,495,496,497,498,499,500,501,502,503,504,505,506,507,508,509,510,511,512,513,514,515,516,517,518,519,520,521,522,523,524,525,526,527,528,529,530,531,532,533,534,535,536,537,538,539,540,541,542,543,544,545,546,547,548,549,550,551,552,553,554,555,556,557,558,559,560,561,562,563,564,565,566,567,568,569,570,571,572,573,574,575,576,577,578,579,580,581,582,583,584,585,586,587,588,589,590,591,592,593,594,595,596,597,598,599,600,601,602,603,604,605,606,607,608,609,610,611,612,613,614,615,616,617,618,619,620,621,622,623,624,625,626,627,628,629,630,631,632,633,634,635,636,637,638,639,640,641,642,643,644,645,646,647,648,649,650,651,652,653,654,655,656,657,658,659,660,661,662,663,664,665,666,667,668,669,670,671,672,673,674,675,676,677,678,679,680,681,682,683,684,685,686,687,688,689,690,691,692,693,694,695,696,697,698,699,700,701,702,703,704,705,706,707,708,709,710,711,712,713,714,715,716,717,718,719,720,721,722,723,724,725,726,727,728,729,730,731,732,733,734,735,736,737,738,739,740,741,742,743,744,745,746,747,748,749,750,751,752,753,754,755,756,757,758,759,760,761,762,763,764,765,766,767,768,769,770,771,772,773,774,775,776,777,778,779,780,781,782,783,784,785,786,787,788,789,790,791,792,793,794,795,796,797,798,799,800,801,802,803,804,805,806,807,808,809,810,811,812,813,814,815,816,817,818,819,820,821,822,823,824,825,826,827,828,829,830,831,832,833,834,835,836,837,838,839,840,841,842,843,844,845,846,847,848,849,850,851,852,853,854,855,856,857,858,859,860,861,862,863,864,865,866,867,868,869,870,871,872,873,874,875,876,877,878,879,880,881,882,883,884,885,886,887,888,889,890],\"y\":[22.0,38.0,26.0,35.0,35.0,\"\",54.0,2.0,27.0,14.0,4.0,58.0,20.0,39.0,14.0,55.0,2.0,\"\",31.0,\"\",35.0,34.0,15.0,28.0,8.0,38.0,\"\",19.0,\"\",\"\",40.0,\"\",\"\",66.0,28.0,42.0,\"\",21.0,18.0,14.0,40.0,27.0,\"\",3.0,19.0,\"\",\"\",\"\",\"\",18.0,7.0,21.0,49.0,29.0,65.0,\"\",21.0,28.5,5.0,11.0,22.0,38.0,45.0,4.0,\"\",\"\",29.0,19.0,17.0,26.0,32.0,16.0,21.0,26.0,32.0,25.0,\"\",\"\",0.83,30.0,22.0,29.0,\"\",28.0,17.0,33.0,16.0,\"\",23.0,24.0,29.0,20.0,46.0,26.0,59.0,\"\",71.0,23.0,34.0,34.0,28.0,\"\",21.0,33.0,37.0,28.0,21.0,\"\",38.0,\"\",47.0,14.5,22.0,20.0,17.0,21.0,70.5,29.0,24.0,2.0,21.0,\"\",32.5,32.5,54.0,12.0,\"\",24.0,\"\",45.0,33.0,20.0,47.0,29.0,25.0,23.0,19.0,37.0,16.0,24.0,\"\",22.0,24.0,19.0,18.0,19.0,27.0,9.0,36.5,42.0,51.0,22.0,55.5,40.5,\"\",51.0,16.0,30.0,\"\",\"\",44.0,40.0,26.0,17.0,1.0,9.0,\"\",45.0,\"\",28.0,61.0,4.0,1.0,21.0,56.0,18.0,\"\",50.0,30.0,36.0,\"\",\"\",9.0,1.0,4.0,\"\",\"\",45.0,40.0,36.0,32.0,19.0,19.0,3.0,44.0,58.0,\"\",42.0,\"\",24.0,28.0,\"\",34.0,45.5,18.0,2.0,32.0,26.0,16.0,40.0,24.0,35.0,22.0,30.0,\"\",31.0,27.0,42.0,32.0,30.0,16.0,27.0,51.0,\"\",38.0,22.0,19.0,20.5,18.0,\"\",35.0,29.0,59.0,5.0,24.0,\"\",44.0,8.0,19.0,33.0,\"\",\"\",29.0,22.0,30.0,44.0,25.0,24.0,37.0,54.0,\"\",29.0,62.0,30.0,41.0,29.0,\"\",30.0,35.0,50.0,\"\",3.0,52.0,40.0,\"\",36.0,16.0,25.0,58.0,35.0,\"\",25.0,41.0,37.0,\"\",63.0,45.0,\"\",7.0,35.0,65.0,28.0,16.0,19.0,\"\",33.0,30.0,22.0,42.0,22.0,26.0,19.0,36.0,24.0,24.0,\"\",23.5,2.0,\"\",50.0,\"\",\"\",19.0,\"\",\"\",0.92,\"\",17.0,30.0,30.0,24.0,18.0,26.0,28.0,43.0,26.0,24.0,54.0,31.0,40.0,22.0,27.0,30.0,22.0,\"\",36.0,61.0,36.0,31.0,16.0,\"\",45.5,38.0,16.0,\"\",\"\",29.0,41.0,45.0,45.0,2.0,24.0,28.0,25.0,36.0,24.0,40.0,\"\",3.0,42.0,23.0,\"\",15.0,25.0,\"\",28.0,22.0,38.0,\"\",\"\",40.0,29.0,45.0,35.0,\"\",30.0,60.0,\"\",\"\",24.0,25.0,18.0,19.0,22.0,3.0,\"\",22.0,27.0,20.0,19.0,42.0,1.0,32.0,35.0,\"\",18.0,1.0,36.0,\"\",17.0,36.0,21.0,28.0,23.0,24.0,22.0,31.0,46.0,23.0,28.0,39.0,26.0,21.0,28.0,20.0,34.0,51.0,3.0,21.0,\"\",\"\",\"\",33.0,\"\",44.0,\"\",34.0,18.0,30.0,10.0,\"\",21.0,29.0,28.0,18.0,\"\",28.0,19.0,\"\",32.0,28.0,\"\",42.0,17.0,50.0,14.0,21.0,24.0,64.0,31.0,45.0,20.0,25.0,28.0,\"\",4.0,13.0,34.0,5.0,52.0,36.0,\"\",30.0,49.0,\"\",29.0,65.0,\"\",50.0,\"\",48.0,34.0,47.0,48.0,\"\",38.0,\"\",56.0,\"\",0.75,\"\",38.0,33.0,23.0,22.0,\"\",34.0,29.0,22.0,2.0,9.0,\"\",50.0,63.0,25.0,\"\",35.0,58.0,30.0,9.0,\"\",21.0,55.0,71.0,21.0,\"\",54.0,\"\",25.0,24.0,17.0,21.0,\"\",37.0,16.0,18.0,33.0,\"\",28.0,26.0,29.0,\"\",36.0,54.0,24.0,47.0,34.0,\"\",36.0,32.0,30.0,22.0,\"\",44.0,\"\",40.5,50.0,\"\",39.0,23.0,2.0,\"\",17.0,\"\",30.0,7.0,45.0,30.0,\"\",22.0,36.0,9.0,11.0,32.0,50.0,64.0,19.0,\"\",33.0,8.0,17.0,27.0,\"\",22.0,22.0,62.0,48.0,\"\",39.0,36.0,\"\",40.0,28.0,\"\",\"\",24.0,19.0,29.0,\"\",32.0,62.0,53.0,36.0,\"\",16.0,19.0,34.0,39.0,\"\",32.0,25.0,39.0,54.0,36.0,\"\",18.0,47.0,60.0,22.0,\"\",35.0,52.0,47.0,\"\",37.0,36.0,\"\",49.0,\"\",49.0,24.0,\"\",\"\",44.0,35.0,36.0,30.0,27.0,22.0,40.0,39.0,\"\",\"\",\"\",35.0,24.0,34.0,26.0,4.0,26.0,27.0,42.0,20.0,21.0,21.0,61.0,57.0,21.0,26.0,\"\",80.0,51.0,32.0,\"\",9.0,28.0,32.0,31.0,41.0,\"\",20.0,24.0,2.0,\"\",0.75,48.0,19.0,56.0,\"\",23.0,\"\",18.0,21.0,\"\",18.0,24.0,\"\",32.0,23.0,58.0,50.0,40.0,47.0,36.0,20.0,32.0,25.0,\"\",43.0,\"\",40.0,31.0,70.0,31.0,\"\",18.0,24.5,18.0,43.0,36.0,\"\",27.0,20.0,14.0,60.0,25.0,14.0,19.0,18.0,15.0,31.0,4.0,\"\",25.0,60.0,52.0,44.0,\"\",49.0,42.0,18.0,35.0,18.0,25.0,26.0,39.0,45.0,42.0,22.0,\"\",24.0,\"\",48.0,29.0,52.0,19.0,38.0,27.0,\"\",33.0,6.0,17.0,34.0,50.0,27.0,20.0,30.0,\"\",25.0,25.0,29.0,11.0,\"\",23.0,23.0,28.5,48.0,35.0,\"\",\"\",\"\",36.0,21.0,24.0,31.0,70.0,16.0,30.0,19.0,31.0,4.0,6.0,33.0,23.0,48.0,0.67,28.0,18.0,34.0,33.0,\"\",41.0,20.0,36.0,16.0,51.0,\"\",30.5,\"\",32.0,24.0,48.0,57.0,\"\",54.0,18.0,\"\",5.0,\"\",43.0,13.0,17.0,29.0,\"\",25.0,25.0,18.0,8.0,1.0,46.0,\"\",16.0,\"\",\"\",25.0,39.0,49.0,31.0,30.0,30.0,34.0,31.0,11.0,0.42,27.0,31.0,39.0,18.0,39.0,33.0,26.0,39.0,35.0,6.0,30.5,\"\",23.0,31.0,43.0,10.0,52.0,27.0,38.0,27.0,2.0,\"\",\"\",1.0,\"\",62.0,15.0,0.83,\"\",23.0,18.0,39.0,21.0,\"\",32.0,\"\",20.0,16.0,30.0,34.5,17.0,42.0,\"\",35.0,28.0,\"\",4.0,74.0,9.0,16.0,44.0,18.0,45.0,51.0,24.0,\"\",41.0,21.0,48.0,\"\",24.0,42.0,27.0,31.0,\"\",4.0,26.0,47.0,33.0,47.0,28.0,15.0,20.0,19.0,\"\",56.0,25.0,33.0,22.0,28.0,25.0,39.0,27.0,19.0,\"\",26.0,32.0],\"type\":\"scatter\"},{\"line\":{\"color\":\"rgba(55, 128, 191, 1.0)\",\"dash\":\"solid\",\"shape\":\"linear\",\"width\":1.3},\"mode\":\"lines\",\"name\":\"fare\",\"text\":\"\",\"x\":[0,1,2,3,4,5,6,7,8,9,10,11,12,13,14,15,16,17,18,19,20,21,22,23,24,25,26,27,28,29,30,31,32,33,34,35,36,37,38,39,40,41,42,43,44,45,46,47,48,49,50,51,52,53,54,55,56,57,58,59,60,61,62,63,64,65,66,67,68,69,70,71,72,73,74,75,76,77,78,79,80,81,82,83,84,85,86,87,88,89,90,91,92,93,94,95,96,97,98,99,100,101,102,103,104,105,106,107,108,109,110,111,112,113,114,115,116,117,118,119,120,121,122,123,124,125,126,127,128,129,130,131,132,133,134,135,136,137,138,139,140,141,142,143,144,145,146,147,148,149,150,151,152,153,154,155,156,157,158,159,160,161,162,163,164,165,166,167,168,169,170,171,172,173,174,175,176,177,178,179,180,181,182,183,184,185,186,187,188,189,190,191,192,193,194,195,196,197,198,199,200,201,202,203,204,205,206,207,208,209,210,211,212,213,214,215,216,217,218,219,220,221,222,223,224,225,226,227,228,229,230,231,232,233,234,235,236,237,238,239,240,241,242,243,244,245,246,247,248,249,250,251,252,253,254,255,256,257,258,259,260,261,262,263,264,265,266,267,268,269,270,271,272,273,274,275,276,277,278,279,280,281,282,283,284,285,286,287,288,289,290,291,292,293,294,295,296,297,298,299,300,301,302,303,304,305,306,307,308,309,310,311,312,313,314,315,316,317,318,319,320,321,322,323,324,325,326,327,328,329,330,331,332,333,334,335,336,337,338,339,340,341,342,343,344,345,346,347,348,349,350,351,352,353,354,355,356,357,358,359,360,361,362,363,364,365,366,367,368,369,370,371,372,373,374,375,376,377,378,379,380,381,382,383,384,385,386,387,388,389,390,391,392,393,394,395,396,397,398,399,400,401,402,403,404,405,406,407,408,409,410,411,412,413,414,415,416,417,418,419,420,421,422,423,424,425,426,427,428,429,430,431,432,433,434,435,436,437,438,439,440,441,442,443,444,445,446,447,448,449,450,451,452,453,454,455,456,457,458,459,460,461,462,463,464,465,466,467,468,469,470,471,472,473,474,475,476,477,478,479,480,481,482,483,484,485,486,487,488,489,490,491,492,493,494,495,496,497,498,499,500,501,502,503,504,505,506,507,508,509,510,511,512,513,514,515,516,517,518,519,520,521,522,523,524,525,526,527,528,529,530,531,532,533,534,535,536,537,538,539,540,541,542,543,544,545,546,547,548,549,550,551,552,553,554,555,556,557,558,559,560,561,562,563,564,565,566,567,568,569,570,571,572,573,574,575,576,577,578,579,580,581,582,583,584,585,586,587,588,589,590,591,592,593,594,595,596,597,598,599,600,601,602,603,604,605,606,607,608,609,610,611,612,613,614,615,616,617,618,619,620,621,622,623,624,625,626,627,628,629,630,631,632,633,634,635,636,637,638,639,640,641,642,643,644,645,646,647,648,649,650,651,652,653,654,655,656,657,658,659,660,661,662,663,664,665,666,667,668,669,670,671,672,673,674,675,676,677,678,679,680,681,682,683,684,685,686,687,688,689,690,691,692,693,694,695,696,697,698,699,700,701,702,703,704,705,706,707,708,709,710,711,712,713,714,715,716,717,718,719,720,721,722,723,724,725,726,727,728,729,730,731,732,733,734,735,736,737,738,739,740,741,742,743,744,745,746,747,748,749,750,751,752,753,754,755,756,757,758,759,760,761,762,763,764,765,766,767,768,769,770,771,772,773,774,775,776,777,778,779,780,781,782,783,784,785,786,787,788,789,790,791,792,793,794,795,796,797,798,799,800,801,802,803,804,805,806,807,808,809,810,811,812,813,814,815,816,817,818,819,820,821,822,823,824,825,826,827,828,829,830,831,832,833,834,835,836,837,838,839,840,841,842,843,844,845,846,847,848,849,850,851,852,853,854,855,856,857,858,859,860,861,862,863,864,865,866,867,868,869,870,871,872,873,874,875,876,877,878,879,880,881,882,883,884,885,886,887,888,889,890],\"y\":[7.25,71.2833,7.925,53.1,8.05,8.4583,51.8625,21.075,11.1333,30.0708,16.7,26.55,8.05,31.275,7.8542,16.0,29.125,13.0,18.0,7.225,26.0,13.0,8.0292,35.5,21.075,31.3875,7.225,263.0,7.8792,7.8958,27.7208,146.5208,7.75,10.5,82.1708,52.0,7.2292,8.05,18.0,11.2417,9.475,21.0,7.8958,41.5792,7.8792,8.05,15.5,7.75,21.6792,17.8,39.6875,7.8,76.7292,26.0,61.9792,35.5,10.5,7.2292,27.75,46.9,7.2292,80.0,83.475,27.9,27.7208,15.2458,10.5,8.1583,7.925,8.6625,10.5,46.9,73.5,14.4542,56.4958,7.65,7.8958,8.05,29.0,12.475,9.0,9.5,7.7875,47.1,10.5,15.85,34.375,8.05,263.0,8.05,8.05,7.8542,61.175,20.575,7.25,8.05,34.6542,63.3583,23.0,26.0,7.8958,7.8958,77.2875,8.6542,7.925,7.8958,7.65,7.775,7.8958,24.15,52.0,14.4542,8.05,9.825,14.4583,7.925,7.75,21.0,247.5208,31.275,73.5,8.05,30.0708,13.0,77.2875,11.2417,7.75,7.1417,22.3583,6.975,7.8958,7.05,14.5,26.0,13.0,15.0458,26.2833,53.1,9.2167,79.2,15.2458,7.75,15.85,6.75,11.5,36.75,7.7958,34.375,26.0,13.0,12.525,66.6,8.05,14.5,7.3125,61.3792,7.7333,8.05,8.6625,69.55,16.1,15.75,7.775,8.6625,39.6875,20.525,55.0,27.9,25.925,56.4958,33.5,29.125,11.1333,7.925,30.6958,7.8542,25.4667,28.7125,13.0,0.0,69.55,15.05,31.3875,39.0,22.025,50.0,15.5,26.55,15.5,7.8958,13.0,13.0,7.8542,26.0,27.7208,146.5208,7.75,8.4042,7.75,13.0,9.5,69.55,6.4958,7.225,8.05,10.4625,15.85,18.7875,7.75,31.0,7.05,21.0,7.25,13.0,7.75,113.275,7.925,27.0,76.2917,10.5,8.05,13.0,8.05,7.8958,90.0,9.35,10.5,7.25,13.0,25.4667,83.475,7.775,13.5,31.3875,10.5,7.55,26.0,26.25,10.5,12.275,14.4542,15.5,10.5,7.125,7.225,90.0,7.775,14.5,52.5542,26.0,7.25,10.4625,26.55,16.1,20.2125,15.2458,79.2,86.5,512.3292,26.0,7.75,31.3875,79.65,0.0,7.75,10.5,39.6875,7.775,153.4625,135.6333,31.0,0.0,19.5,29.7,7.75,77.9583,7.75,0.0,29.125,20.25,7.75,7.8542,9.5,8.05,26.0,8.6625,9.5,7.8958,13.0,7.75,78.85,91.0792,12.875,8.85,7.8958,27.7208,7.2292,151.55,30.5,247.5208,7.75,23.25,0.0,12.35,8.05,151.55,110.8833,108.9,24.0,56.9292,83.1583,262.375,26.0,7.8958,26.25,7.8542,26.0,14.0,164.8667,134.5,7.25,7.8958,12.35,29.0,69.55,135.6333,6.2375,13.0,20.525,57.9792,23.25,28.5,153.4625,18.0,133.65,7.8958,66.6,134.5,8.05,35.5,26.0,263.0,13.0,13.0,13.0,13.0,13.0,16.1,15.9,8.6625,9.225,35.0,7.2292,17.8,7.225,9.5,55.0,13.0,7.8792,7.8792,27.9,27.7208,14.4542,7.05,15.5,7.25,75.25,7.2292,7.75,69.3,55.4417,6.4958,8.05,135.6333,21.075,82.1708,7.25,211.5,4.0125,7.775,227.525,15.7417,7.925,52.0,7.8958,73.5,46.9,13.0,7.7292,12.0,120.0,7.7958,7.925,113.275,16.7,7.7958,7.8542,26.0,10.5,12.65,7.925,8.05,9.825,15.85,8.6625,21.0,7.75,18.75,7.775,25.4667,7.8958,6.8583,90.0,0.0,7.925,8.05,32.5,13.0,13.0,24.15,7.8958,7.7333,7.875,14.4,20.2125,7.25,26.0,26.0,7.75,8.05,26.55,16.1,26.0,7.125,55.9,120.0,34.375,18.75,263.0,10.5,26.25,9.5,7.775,13.0,8.1125,81.8583,19.5,26.55,19.2583,30.5,27.75,19.9667,27.75,89.1042,8.05,7.8958,26.55,51.8625,10.5,7.75,26.55,8.05,38.5,13.0,8.05,7.05,0.0,26.55,7.725,19.2583,7.25,8.6625,27.75,13.7917,9.8375,52.0,21.0,7.0458,7.5208,12.2875,46.9,0.0,8.05,9.5875,91.0792,25.4667,90.0,29.7,8.05,15.9,19.9667,7.25,30.5,49.5042,8.05,14.4583,78.2667,15.1,151.55,7.7958,8.6625,7.75,7.6292,9.5875,86.5,108.9,26.0,26.55,22.525,56.4958,7.75,8.05,26.2875,59.4,7.4958,34.0208,10.5,24.15,26.0,7.8958,93.5,7.8958,7.225,57.9792,7.2292,7.75,10.5,221.7792,7.925,11.5,26.0,7.2292,7.2292,22.3583,8.6625,26.25,26.55,106.425,14.5,49.5,71.0,31.275,31.275,26.0,106.425,26.0,26.0,13.8625,20.525,36.75,110.8833,26.0,7.8292,7.225,7.775,26.55,39.6,227.525,79.65,17.4,7.75,7.8958,13.5,8.05,8.05,24.15,7.8958,21.075,7.2292,7.8542,10.5,51.4792,26.3875,7.75,8.05,14.5,13.0,55.9,14.4583,7.925,30.0,110.8833,26.0,40.125,8.7125,79.65,15.0,79.2,8.05,8.05,7.125,78.2667,7.25,7.75,26.0,24.15,33.0,0.0,7.225,56.9292,27.0,7.8958,42.4,8.05,26.55,15.55,7.8958,30.5,41.5792,153.4625,31.275,7.05,15.5,7.75,8.05,65.0,14.4,16.1,39.0,10.5,14.4542,52.5542,15.7417,7.8542,16.1,32.3208,12.35,77.9583,7.8958,7.7333,30.0,7.0542,30.5,0.0,27.9,13.0,7.925,26.25,39.6875,16.1,7.8542,69.3,27.9,56.4958,19.2583,76.7292,7.8958,35.5,7.55,7.55,7.8958,23.0,8.4333,7.8292,6.75,73.5,7.8958,15.5,13.0,113.275,133.65,7.225,25.5875,7.4958,7.925,73.5,13.0,7.775,8.05,52.0,39.0,52.0,10.5,13.0,0.0,7.775,8.05,9.8417,46.9,512.3292,8.1375,76.7292,9.225,46.9,39.0,41.5792,39.6875,10.1708,7.7958,211.3375,57.0,13.4167,56.4958,7.225,26.55,13.5,8.05,7.7333,110.8833,7.65,227.525,26.2875,14.4542,7.7417,7.8542,26.0,13.5,26.2875,151.55,15.2458,49.5042,26.55,52.0,9.4833,13.0,7.65,227.525,10.5,15.5,7.775,33.0,7.0542,13.0,13.0,53.1,8.6625,21.0,7.7375,26.0,7.925,211.3375,18.7875,0.0,13.0,13.0,16.1,34.375,512.3292,7.8958,7.8958,30.0,78.85,262.375,16.1,7.925,71.0,20.25,13.0,53.1,7.75,23.0,12.475,9.5,7.8958,65.0,14.5,7.7958,11.5,8.05,86.5,14.5,7.125,7.2292,120.0,7.775,77.9583,39.6,7.75,24.15,8.3625,9.5,7.8542,10.5,7.225,23.0,7.75,7.75,12.475,7.7375,211.3375,7.2292,57.0,30.0,23.45,7.05,7.25,7.4958,29.125,20.575,79.2,7.75,26.0,69.55,30.6958,7.8958,13.0,25.9292,8.6833,7.2292,24.15,13.0,26.25,120.0,8.5167,6.975,7.775,0.0,7.775,13.0,53.1,7.8875,24.15,10.5,31.275,8.05,0.0,7.925,37.0042,6.45,27.9,93.5,8.6625,0.0,12.475,39.6875,6.95,56.4958,37.0042,7.75,80.0,14.4542,18.75,7.2292,7.8542,8.3,83.1583,8.6625,8.05,56.4958,29.7,7.925,10.5,31.0,6.4375,8.6625,7.55,69.55,7.8958,33.0,89.1042,31.275,7.775,15.2458,39.4,26.0,9.35,164.8667,26.55,19.2583,7.2292,14.1083,11.5,25.9292,69.55,13.0,13.0,13.8583,50.4958,9.5,11.1333,7.8958,52.5542,5.0,9.0,24.0,7.225,9.8458,7.8958,7.8958,83.1583,26.0,7.8958,10.5167,10.5,7.05,29.125,13.0,30.0,23.45,30.0,7.75],\"type\":\"scatter\"}],                        {\"legend\":{\"bgcolor\":\"#F5F6F9\",\"font\":{\"color\":\"#4D5663\"}},\"paper_bgcolor\":\"#F5F6F9\",\"plot_bgcolor\":\"#F5F6F9\",\"template\":{\"data\":{\"barpolar\":[{\"marker\":{\"line\":{\"color\":\"#E5ECF6\",\"width\":0.5},\"pattern\":{\"fillmode\":\"overlay\",\"size\":10,\"solidity\":0.2}},\"type\":\"barpolar\"}],\"bar\":[{\"error_x\":{\"color\":\"#2a3f5f\"},\"error_y\":{\"color\":\"#2a3f5f\"},\"marker\":{\"line\":{\"color\":\"#E5ECF6\",\"width\":0.5},\"pattern\":{\"fillmode\":\"overlay\",\"size\":10,\"solidity\":0.2}},\"type\":\"bar\"}],\"carpet\":[{\"aaxis\":{\"endlinecolor\":\"#2a3f5f\",\"gridcolor\":\"white\",\"linecolor\":\"white\",\"minorgridcolor\":\"white\",\"startlinecolor\":\"#2a3f5f\"},\"baxis\":{\"endlinecolor\":\"#2a3f5f\",\"gridcolor\":\"white\",\"linecolor\":\"white\",\"minorgridcolor\":\"white\",\"startlinecolor\":\"#2a3f5f\"},\"type\":\"carpet\"}],\"choropleth\":[{\"colorbar\":{\"outlinewidth\":0,\"ticks\":\"\"},\"type\":\"choropleth\"}],\"contourcarpet\":[{\"colorbar\":{\"outlinewidth\":0,\"ticks\":\"\"},\"type\":\"contourcarpet\"}],\"contour\":[{\"colorbar\":{\"outlinewidth\":0,\"ticks\":\"\"},\"colorscale\":[[0.0,\"#0d0887\"],[0.1111111111111111,\"#46039f\"],[0.2222222222222222,\"#7201a8\"],[0.3333333333333333,\"#9c179e\"],[0.4444444444444444,\"#bd3786\"],[0.5555555555555556,\"#d8576b\"],[0.6666666666666666,\"#ed7953\"],[0.7777777777777778,\"#fb9f3a\"],[0.8888888888888888,\"#fdca26\"],[1.0,\"#f0f921\"]],\"type\":\"contour\"}],\"heatmapgl\":[{\"colorbar\":{\"outlinewidth\":0,\"ticks\":\"\"},\"colorscale\":[[0.0,\"#0d0887\"],[0.1111111111111111,\"#46039f\"],[0.2222222222222222,\"#7201a8\"],[0.3333333333333333,\"#9c179e\"],[0.4444444444444444,\"#bd3786\"],[0.5555555555555556,\"#d8576b\"],[0.6666666666666666,\"#ed7953\"],[0.7777777777777778,\"#fb9f3a\"],[0.8888888888888888,\"#fdca26\"],[1.0,\"#f0f921\"]],\"type\":\"heatmapgl\"}],\"heatmap\":[{\"colorbar\":{\"outlinewidth\":0,\"ticks\":\"\"},\"colorscale\":[[0.0,\"#0d0887\"],[0.1111111111111111,\"#46039f\"],[0.2222222222222222,\"#7201a8\"],[0.3333333333333333,\"#9c179e\"],[0.4444444444444444,\"#bd3786\"],[0.5555555555555556,\"#d8576b\"],[0.6666666666666666,\"#ed7953\"],[0.7777777777777778,\"#fb9f3a\"],[0.8888888888888888,\"#fdca26\"],[1.0,\"#f0f921\"]],\"type\":\"heatmap\"}],\"histogram2dcontour\":[{\"colorbar\":{\"outlinewidth\":0,\"ticks\":\"\"},\"colorscale\":[[0.0,\"#0d0887\"],[0.1111111111111111,\"#46039f\"],[0.2222222222222222,\"#7201a8\"],[0.3333333333333333,\"#9c179e\"],[0.4444444444444444,\"#bd3786\"],[0.5555555555555556,\"#d8576b\"],[0.6666666666666666,\"#ed7953\"],[0.7777777777777778,\"#fb9f3a\"],[0.8888888888888888,\"#fdca26\"],[1.0,\"#f0f921\"]],\"type\":\"histogram2dcontour\"}],\"histogram2d\":[{\"colorbar\":{\"outlinewidth\":0,\"ticks\":\"\"},\"colorscale\":[[0.0,\"#0d0887\"],[0.1111111111111111,\"#46039f\"],[0.2222222222222222,\"#7201a8\"],[0.3333333333333333,\"#9c179e\"],[0.4444444444444444,\"#bd3786\"],[0.5555555555555556,\"#d8576b\"],[0.6666666666666666,\"#ed7953\"],[0.7777777777777778,\"#fb9f3a\"],[0.8888888888888888,\"#fdca26\"],[1.0,\"#f0f921\"]],\"type\":\"histogram2d\"}],\"histogram\":[{\"marker\":{\"pattern\":{\"fillmode\":\"overlay\",\"size\":10,\"solidity\":0.2}},\"type\":\"histogram\"}],\"mesh3d\":[{\"colorbar\":{\"outlinewidth\":0,\"ticks\":\"\"},\"type\":\"mesh3d\"}],\"parcoords\":[{\"line\":{\"colorbar\":{\"outlinewidth\":0,\"ticks\":\"\"}},\"type\":\"parcoords\"}],\"pie\":[{\"automargin\":true,\"type\":\"pie\"}],\"scatter3d\":[{\"line\":{\"colorbar\":{\"outlinewidth\":0,\"ticks\":\"\"}},\"marker\":{\"colorbar\":{\"outlinewidth\":0,\"ticks\":\"\"}},\"type\":\"scatter3d\"}],\"scattercarpet\":[{\"marker\":{\"colorbar\":{\"outlinewidth\":0,\"ticks\":\"\"}},\"type\":\"scattercarpet\"}],\"scattergeo\":[{\"marker\":{\"colorbar\":{\"outlinewidth\":0,\"ticks\":\"\"}},\"type\":\"scattergeo\"}],\"scattergl\":[{\"marker\":{\"colorbar\":{\"outlinewidth\":0,\"ticks\":\"\"}},\"type\":\"scattergl\"}],\"scattermapbox\":[{\"marker\":{\"colorbar\":{\"outlinewidth\":0,\"ticks\":\"\"}},\"type\":\"scattermapbox\"}],\"scatterpolargl\":[{\"marker\":{\"colorbar\":{\"outlinewidth\":0,\"ticks\":\"\"}},\"type\":\"scatterpolargl\"}],\"scatterpolar\":[{\"marker\":{\"colorbar\":{\"outlinewidth\":0,\"ticks\":\"\"}},\"type\":\"scatterpolar\"}],\"scatter\":[{\"fillpattern\":{\"fillmode\":\"overlay\",\"size\":10,\"solidity\":0.2},\"type\":\"scatter\"}],\"scatterternary\":[{\"marker\":{\"colorbar\":{\"outlinewidth\":0,\"ticks\":\"\"}},\"type\":\"scatterternary\"}],\"surface\":[{\"colorbar\":{\"outlinewidth\":0,\"ticks\":\"\"},\"colorscale\":[[0.0,\"#0d0887\"],[0.1111111111111111,\"#46039f\"],[0.2222222222222222,\"#7201a8\"],[0.3333333333333333,\"#9c179e\"],[0.4444444444444444,\"#bd3786\"],[0.5555555555555556,\"#d8576b\"],[0.6666666666666666,\"#ed7953\"],[0.7777777777777778,\"#fb9f3a\"],[0.8888888888888888,\"#fdca26\"],[1.0,\"#f0f921\"]],\"type\":\"surface\"}],\"table\":[{\"cells\":{\"fill\":{\"color\":\"#EBF0F8\"},\"line\":{\"color\":\"white\"}},\"header\":{\"fill\":{\"color\":\"#C8D4E3\"},\"line\":{\"color\":\"white\"}},\"type\":\"table\"}]},\"layout\":{\"annotationdefaults\":{\"arrowcolor\":\"#2a3f5f\",\"arrowhead\":0,\"arrowwidth\":1},\"autotypenumbers\":\"strict\",\"coloraxis\":{\"colorbar\":{\"outlinewidth\":0,\"ticks\":\"\"}},\"colorscale\":{\"diverging\":[[0,\"#8e0152\"],[0.1,\"#c51b7d\"],[0.2,\"#de77ae\"],[0.3,\"#f1b6da\"],[0.4,\"#fde0ef\"],[0.5,\"#f7f7f7\"],[0.6,\"#e6f5d0\"],[0.7,\"#b8e186\"],[0.8,\"#7fbc41\"],[0.9,\"#4d9221\"],[1,\"#276419\"]],\"sequential\":[[0.0,\"#0d0887\"],[0.1111111111111111,\"#46039f\"],[0.2222222222222222,\"#7201a8\"],[0.3333333333333333,\"#9c179e\"],[0.4444444444444444,\"#bd3786\"],[0.5555555555555556,\"#d8576b\"],[0.6666666666666666,\"#ed7953\"],[0.7777777777777778,\"#fb9f3a\"],[0.8888888888888888,\"#fdca26\"],[1.0,\"#f0f921\"]],\"sequentialminus\":[[0.0,\"#0d0887\"],[0.1111111111111111,\"#46039f\"],[0.2222222222222222,\"#7201a8\"],[0.3333333333333333,\"#9c179e\"],[0.4444444444444444,\"#bd3786\"],[0.5555555555555556,\"#d8576b\"],[0.6666666666666666,\"#ed7953\"],[0.7777777777777778,\"#fb9f3a\"],[0.8888888888888888,\"#fdca26\"],[1.0,\"#f0f921\"]]},\"colorway\":[\"#636efa\",\"#EF553B\",\"#00cc96\",\"#ab63fa\",\"#FFA15A\",\"#19d3f3\",\"#FF6692\",\"#B6E880\",\"#FF97FF\",\"#FECB52\"],\"font\":{\"color\":\"#2a3f5f\"},\"geo\":{\"bgcolor\":\"white\",\"lakecolor\":\"white\",\"landcolor\":\"#E5ECF6\",\"showlakes\":true,\"showland\":true,\"subunitcolor\":\"white\"},\"hoverlabel\":{\"align\":\"left\"},\"hovermode\":\"closest\",\"mapbox\":{\"style\":\"light\"},\"paper_bgcolor\":\"white\",\"plot_bgcolor\":\"#E5ECF6\",\"polar\":{\"angularaxis\":{\"gridcolor\":\"white\",\"linecolor\":\"white\",\"ticks\":\"\"},\"bgcolor\":\"#E5ECF6\",\"radialaxis\":{\"gridcolor\":\"white\",\"linecolor\":\"white\",\"ticks\":\"\"}},\"scene\":{\"xaxis\":{\"backgroundcolor\":\"#E5ECF6\",\"gridcolor\":\"white\",\"gridwidth\":2,\"linecolor\":\"white\",\"showbackground\":true,\"ticks\":\"\",\"zerolinecolor\":\"white\"},\"yaxis\":{\"backgroundcolor\":\"#E5ECF6\",\"gridcolor\":\"white\",\"gridwidth\":2,\"linecolor\":\"white\",\"showbackground\":true,\"ticks\":\"\",\"zerolinecolor\":\"white\"},\"zaxis\":{\"backgroundcolor\":\"#E5ECF6\",\"gridcolor\":\"white\",\"gridwidth\":2,\"linecolor\":\"white\",\"showbackground\":true,\"ticks\":\"\",\"zerolinecolor\":\"white\"}},\"shapedefaults\":{\"line\":{\"color\":\"#2a3f5f\"}},\"ternary\":{\"aaxis\":{\"gridcolor\":\"white\",\"linecolor\":\"white\",\"ticks\":\"\"},\"baxis\":{\"gridcolor\":\"white\",\"linecolor\":\"white\",\"ticks\":\"\"},\"bgcolor\":\"#E5ECF6\",\"caxis\":{\"gridcolor\":\"white\",\"linecolor\":\"white\",\"ticks\":\"\"}},\"title\":{\"x\":0.05},\"xaxis\":{\"automargin\":true,\"gridcolor\":\"white\",\"linecolor\":\"white\",\"ticks\":\"\",\"title\":{\"standoff\":15},\"zerolinecolor\":\"white\",\"zerolinewidth\":2},\"yaxis\":{\"automargin\":true,\"gridcolor\":\"white\",\"linecolor\":\"white\",\"ticks\":\"\",\"title\":{\"standoff\":15},\"zerolinecolor\":\"white\",\"zerolinewidth\":2}}},\"title\":{\"font\":{\"color\":\"#4D5663\"}},\"xaxis\":{\"gridcolor\":\"#E1E5ED\",\"showgrid\":true,\"tickfont\":{\"color\":\"#4D5663\"},\"title\":{\"font\":{\"color\":\"#4D5663\"},\"text\":\"\"},\"zerolinecolor\":\"#E1E5ED\"},\"yaxis\":{\"gridcolor\":\"#E1E5ED\",\"showgrid\":true,\"tickfont\":{\"color\":\"#4D5663\"},\"title\":{\"font\":{\"color\":\"#4D5663\"},\"text\":\"\"},\"zerolinecolor\":\"#E1E5ED\"}},                        {\"showLink\": true, \"linkText\": \"Export to plot.ly\", \"plotlyServerURL\": \"https://plot.ly\", \"responsive\": true}                    ).then(function(){\n",
       "                            \n",
       "var gd = document.getElementById('fe4d64ff-2dd7-4733-9365-c25adec3a662');\n",
       "var x = new MutationObserver(function (mutations, observer) {{\n",
       "        var display = window.getComputedStyle(gd).display;\n",
       "        if (!display || display === 'none') {{\n",
       "            console.log([gd, 'removed!']);\n",
       "            Plotly.purge(gd);\n",
       "            observer.disconnect();\n",
       "        }}\n",
       "}});\n",
       "\n",
       "// Listen for the removal of the full notebook cells\n",
       "var notebookContainer = gd.closest('#notebook-container');\n",
       "if (notebookContainer) {{\n",
       "    x.observe(notebookContainer, {childList: true});\n",
       "}}\n",
       "\n",
       "// Listen for the clearing of the current output cell\n",
       "var outputEl = gd.closest('.output');\n",
       "if (outputEl) {{\n",
       "    x.observe(outputEl, {childList: true});\n",
       "}}\n",
       "\n",
       "                        })                };                });            </script>        </div>"
      ]
     },
     "metadata": {},
     "output_type": "display_data"
    }
   ],
   "source": [
    "df1[['age','fare']].iplot()"
   ]
  },
  {
   "cell_type": "code",
   "execution_count": null,
   "metadata": {},
   "outputs": [],
   "source": [
    "tip=sns.load_dataset('tips')"
   ]
  },
  {
   "cell_type": "code",
   "execution_count": null,
   "metadata": {},
   "outputs": [
    {
     "data": {
      "text/html": [
       "<div>\n",
       "<style scoped>\n",
       "    .dataframe tbody tr th:only-of-type {\n",
       "        vertical-align: middle;\n",
       "    }\n",
       "\n",
       "    .dataframe tbody tr th {\n",
       "        vertical-align: top;\n",
       "    }\n",
       "\n",
       "    .dataframe thead th {\n",
       "        text-align: right;\n",
       "    }\n",
       "</style>\n",
       "<table border=\"1\" class=\"dataframe\">\n",
       "  <thead>\n",
       "    <tr style=\"text-align: right;\">\n",
       "      <th></th>\n",
       "      <th>total_bill</th>\n",
       "      <th>tip</th>\n",
       "      <th>sex</th>\n",
       "      <th>smoker</th>\n",
       "      <th>day</th>\n",
       "      <th>time</th>\n",
       "      <th>size</th>\n",
       "    </tr>\n",
       "  </thead>\n",
       "  <tbody>\n",
       "    <tr>\n",
       "      <th>0</th>\n",
       "      <td>16.99</td>\n",
       "      <td>1.01</td>\n",
       "      <td>Female</td>\n",
       "      <td>No</td>\n",
       "      <td>Sun</td>\n",
       "      <td>Dinner</td>\n",
       "      <td>2</td>\n",
       "    </tr>\n",
       "    <tr>\n",
       "      <th>1</th>\n",
       "      <td>10.34</td>\n",
       "      <td>1.66</td>\n",
       "      <td>Male</td>\n",
       "      <td>No</td>\n",
       "      <td>Sun</td>\n",
       "      <td>Dinner</td>\n",
       "      <td>3</td>\n",
       "    </tr>\n",
       "    <tr>\n",
       "      <th>2</th>\n",
       "      <td>21.01</td>\n",
       "      <td>3.50</td>\n",
       "      <td>Male</td>\n",
       "      <td>No</td>\n",
       "      <td>Sun</td>\n",
       "      <td>Dinner</td>\n",
       "      <td>3</td>\n",
       "    </tr>\n",
       "    <tr>\n",
       "      <th>3</th>\n",
       "      <td>23.68</td>\n",
       "      <td>3.31</td>\n",
       "      <td>Male</td>\n",
       "      <td>No</td>\n",
       "      <td>Sun</td>\n",
       "      <td>Dinner</td>\n",
       "      <td>2</td>\n",
       "    </tr>\n",
       "    <tr>\n",
       "      <th>4</th>\n",
       "      <td>24.59</td>\n",
       "      <td>3.61</td>\n",
       "      <td>Female</td>\n",
       "      <td>No</td>\n",
       "      <td>Sun</td>\n",
       "      <td>Dinner</td>\n",
       "      <td>4</td>\n",
       "    </tr>\n",
       "    <tr>\n",
       "      <th>...</th>\n",
       "      <td>...</td>\n",
       "      <td>...</td>\n",
       "      <td>...</td>\n",
       "      <td>...</td>\n",
       "      <td>...</td>\n",
       "      <td>...</td>\n",
       "      <td>...</td>\n",
       "    </tr>\n",
       "    <tr>\n",
       "      <th>239</th>\n",
       "      <td>29.03</td>\n",
       "      <td>5.92</td>\n",
       "      <td>Male</td>\n",
       "      <td>No</td>\n",
       "      <td>Sat</td>\n",
       "      <td>Dinner</td>\n",
       "      <td>3</td>\n",
       "    </tr>\n",
       "    <tr>\n",
       "      <th>240</th>\n",
       "      <td>27.18</td>\n",
       "      <td>2.00</td>\n",
       "      <td>Female</td>\n",
       "      <td>Yes</td>\n",
       "      <td>Sat</td>\n",
       "      <td>Dinner</td>\n",
       "      <td>2</td>\n",
       "    </tr>\n",
       "    <tr>\n",
       "      <th>241</th>\n",
       "      <td>22.67</td>\n",
       "      <td>2.00</td>\n",
       "      <td>Male</td>\n",
       "      <td>Yes</td>\n",
       "      <td>Sat</td>\n",
       "      <td>Dinner</td>\n",
       "      <td>2</td>\n",
       "    </tr>\n",
       "    <tr>\n",
       "      <th>242</th>\n",
       "      <td>17.82</td>\n",
       "      <td>1.75</td>\n",
       "      <td>Male</td>\n",
       "      <td>No</td>\n",
       "      <td>Sat</td>\n",
       "      <td>Dinner</td>\n",
       "      <td>2</td>\n",
       "    </tr>\n",
       "    <tr>\n",
       "      <th>243</th>\n",
       "      <td>18.78</td>\n",
       "      <td>3.00</td>\n",
       "      <td>Female</td>\n",
       "      <td>No</td>\n",
       "      <td>Thur</td>\n",
       "      <td>Dinner</td>\n",
       "      <td>2</td>\n",
       "    </tr>\n",
       "  </tbody>\n",
       "</table>\n",
       "<p>244 rows × 7 columns</p>\n",
       "</div>"
      ],
      "text/plain": [
       "     total_bill   tip     sex smoker   day    time  size\n",
       "0         16.99  1.01  Female     No   Sun  Dinner     2\n",
       "1         10.34  1.66    Male     No   Sun  Dinner     3\n",
       "2         21.01  3.50    Male     No   Sun  Dinner     3\n",
       "3         23.68  3.31    Male     No   Sun  Dinner     2\n",
       "4         24.59  3.61  Female     No   Sun  Dinner     4\n",
       "..          ...   ...     ...    ...   ...     ...   ...\n",
       "239       29.03  5.92    Male     No   Sat  Dinner     3\n",
       "240       27.18  2.00  Female    Yes   Sat  Dinner     2\n",
       "241       22.67  2.00    Male    Yes   Sat  Dinner     2\n",
       "242       17.82  1.75    Male     No   Sat  Dinner     2\n",
       "243       18.78  3.00  Female     No  Thur  Dinner     2\n",
       "\n",
       "[244 rows x 7 columns]"
      ]
     },
     "execution_count": 19,
     "metadata": {},
     "output_type": "execute_result"
    }
   ],
   "source": [
    "tip"
   ]
  },
  {
   "cell_type": "code",
   "execution_count": null,
   "metadata": {},
   "outputs": [
    {
     "data": {
      "application/vnd.plotly.v1+json": {
       "config": {
        "linkText": "Export to plot.ly",
        "plotlyServerURL": "https://plot.ly",
        "showLink": true
       },
       "data": [
        {
         "line": {
          "color": "rgba(255, 153, 51, 1.0)",
          "dash": "solid",
          "shape": "linear",
          "width": 1.3
         },
         "marker": {
          "size": 5,
          "symbol": "circle"
         },
         "mode": "markers",
         "name": "tip",
         "text": "",
         "type": "scatter",
         "x": [
          16.99,
          10.34,
          21.01,
          23.68,
          24.59,
          25.29,
          8.77,
          26.88,
          15.04,
          14.78,
          10.27,
          35.26,
          15.42,
          18.43,
          14.83,
          21.58,
          10.33,
          16.29,
          16.97,
          20.65,
          17.92,
          20.29,
          15.77,
          39.42,
          19.82,
          17.81,
          13.37,
          12.69,
          21.7,
          19.65,
          9.55,
          18.35,
          15.06,
          20.69,
          17.78,
          24.06,
          16.31,
          16.93,
          18.69,
          31.27,
          16.04,
          17.46,
          13.94,
          9.68,
          30.4,
          18.29,
          22.23,
          32.4,
          28.55,
          18.04,
          12.54,
          10.29,
          34.81,
          9.94,
          25.56,
          19.49,
          38.01,
          26.41,
          11.24,
          48.27,
          20.29,
          13.81,
          11.02,
          18.29,
          17.59,
          20.08,
          16.45,
          3.07,
          20.23,
          15.01,
          12.02,
          17.07,
          26.86,
          25.28,
          14.73,
          10.51,
          17.92,
          27.2,
          22.76,
          17.29,
          19.44,
          16.66,
          10.07,
          32.68,
          15.98,
          34.83,
          13.03,
          18.28,
          24.71,
          21.16,
          28.97,
          22.49,
          5.75,
          16.32,
          22.75,
          40.17,
          27.28,
          12.03,
          21.01,
          12.46,
          11.35,
          15.38,
          44.3,
          22.42,
          20.92,
          15.36,
          20.49,
          25.21,
          18.24,
          14.31,
          14,
          7.25,
          38.07,
          23.95,
          25.71,
          17.31,
          29.93,
          10.65,
          12.43,
          24.08,
          11.69,
          13.42,
          14.26,
          15.95,
          12.48,
          29.8,
          8.52,
          14.52,
          11.38,
          22.82,
          19.08,
          20.27,
          11.17,
          12.26,
          18.26,
          8.51,
          10.33,
          14.15,
          16,
          13.16,
          17.47,
          34.3,
          41.19,
          27.05,
          16.43,
          8.35,
          18.64,
          11.87,
          9.78,
          7.51,
          14.07,
          13.13,
          17.26,
          24.55,
          19.77,
          29.85,
          48.17,
          25,
          13.39,
          16.49,
          21.5,
          12.66,
          16.21,
          13.81,
          17.51,
          24.52,
          20.76,
          31.71,
          10.59,
          10.63,
          50.81,
          15.81,
          7.25,
          31.85,
          16.82,
          32.9,
          17.89,
          14.48,
          9.6,
          34.63,
          34.65,
          23.33,
          45.35,
          23.17,
          40.55,
          20.69,
          20.9,
          30.46,
          18.15,
          23.1,
          15.69,
          19.81,
          28.44,
          15.48,
          16.58,
          7.56,
          10.34,
          43.11,
          13,
          13.51,
          18.71,
          12.74,
          13,
          16.4,
          20.53,
          16.47,
          26.59,
          38.73,
          24.27,
          12.76,
          30.06,
          25.89,
          48.33,
          13.27,
          28.17,
          12.9,
          28.15,
          11.59,
          7.74,
          30.14,
          12.16,
          13.42,
          8.58,
          15.98,
          13.42,
          16.27,
          10.09,
          20.45,
          13.28,
          22.12,
          24.01,
          15.69,
          11.61,
          10.77,
          15.53,
          10.07,
          12.6,
          32.83,
          35.83,
          29.03,
          27.18,
          22.67,
          17.82,
          18.78
         ],
         "y": [
          1.01,
          1.66,
          3.5,
          3.31,
          3.61,
          4.71,
          2,
          3.12,
          1.96,
          3.23,
          1.71,
          5,
          1.57,
          3,
          3.02,
          3.92,
          1.67,
          3.71,
          3.5,
          3.35,
          4.08,
          2.75,
          2.23,
          7.58,
          3.18,
          2.34,
          2,
          2,
          4.3,
          3,
          1.45,
          2.5,
          3,
          2.45,
          3.27,
          3.6,
          2,
          3.07,
          2.31,
          5,
          2.24,
          2.54,
          3.06,
          1.32,
          5.6,
          3,
          5,
          6,
          2.05,
          3,
          2.5,
          2.6,
          5.2,
          1.56,
          4.34,
          3.51,
          3,
          1.5,
          1.76,
          6.73,
          3.21,
          2,
          1.98,
          3.76,
          2.64,
          3.15,
          2.47,
          1,
          2.01,
          2.09,
          1.97,
          3,
          3.14,
          5,
          2.2,
          1.25,
          3.08,
          4,
          3,
          2.71,
          3,
          3.4,
          1.83,
          5,
          2.03,
          5.17,
          2,
          4,
          5.85,
          3,
          3,
          3.5,
          1,
          4.3,
          3.25,
          4.73,
          4,
          1.5,
          3,
          1.5,
          2.5,
          3,
          2.5,
          3.48,
          4.08,
          1.64,
          4.06,
          4.29,
          3.76,
          4,
          3,
          1,
          4,
          2.55,
          4,
          3.5,
          5.07,
          1.5,
          1.8,
          2.92,
          2.31,
          1.68,
          2.5,
          2,
          2.52,
          4.2,
          1.48,
          2,
          2,
          2.18,
          1.5,
          2.83,
          1.5,
          2,
          3.25,
          1.25,
          2,
          2,
          2,
          2.75,
          3.5,
          6.7,
          5,
          5,
          2.3,
          1.5,
          1.36,
          1.63,
          1.73,
          2,
          2.5,
          2,
          2.74,
          2,
          2,
          5.14,
          5,
          3.75,
          2.61,
          2,
          3.5,
          2.5,
          2,
          2,
          3,
          3.48,
          2.24,
          4.5,
          1.61,
          2,
          10,
          3.16,
          5.15,
          3.18,
          4,
          3.11,
          2,
          2,
          4,
          3.55,
          3.68,
          5.65,
          3.5,
          6.5,
          3,
          5,
          3.5,
          2,
          3.5,
          4,
          1.5,
          4.19,
          2.56,
          2.02,
          4,
          1.44,
          2,
          5,
          2,
          2,
          4,
          2.01,
          2,
          2.5,
          4,
          3.23,
          3.41,
          3,
          2.03,
          2.23,
          2,
          5.16,
          9,
          2.5,
          6.5,
          1.1,
          3,
          1.5,
          1.44,
          3.09,
          2.2,
          3.48,
          1.92,
          3,
          1.58,
          2.5,
          2,
          3,
          2.72,
          2.88,
          2,
          3,
          3.39,
          1.47,
          3,
          1.25,
          1,
          1.17,
          4.67,
          5.92,
          2,
          2,
          1.75,
          3
         ]
        }
       ],
       "layout": {
        "legend": {
         "bgcolor": "#F5F6F9",
         "font": {
          "color": "#4D5663"
         }
        },
        "paper_bgcolor": "#F5F6F9",
        "plot_bgcolor": "#F5F6F9",
        "template": {
         "data": {
          "bar": [
           {
            "error_x": {
             "color": "#2a3f5f"
            },
            "error_y": {
             "color": "#2a3f5f"
            },
            "marker": {
             "line": {
              "color": "#E5ECF6",
              "width": 0.5
             },
             "pattern": {
              "fillmode": "overlay",
              "size": 10,
              "solidity": 0.2
             }
            },
            "type": "bar"
           }
          ],
          "barpolar": [
           {
            "marker": {
             "line": {
              "color": "#E5ECF6",
              "width": 0.5
             },
             "pattern": {
              "fillmode": "overlay",
              "size": 10,
              "solidity": 0.2
             }
            },
            "type": "barpolar"
           }
          ],
          "carpet": [
           {
            "aaxis": {
             "endlinecolor": "#2a3f5f",
             "gridcolor": "white",
             "linecolor": "white",
             "minorgridcolor": "white",
             "startlinecolor": "#2a3f5f"
            },
            "baxis": {
             "endlinecolor": "#2a3f5f",
             "gridcolor": "white",
             "linecolor": "white",
             "minorgridcolor": "white",
             "startlinecolor": "#2a3f5f"
            },
            "type": "carpet"
           }
          ],
          "choropleth": [
           {
            "colorbar": {
             "outlinewidth": 0,
             "ticks": ""
            },
            "type": "choropleth"
           }
          ],
          "contour": [
           {
            "colorbar": {
             "outlinewidth": 0,
             "ticks": ""
            },
            "colorscale": [
             [
              0,
              "#0d0887"
             ],
             [
              0.1111111111111111,
              "#46039f"
             ],
             [
              0.2222222222222222,
              "#7201a8"
             ],
             [
              0.3333333333333333,
              "#9c179e"
             ],
             [
              0.4444444444444444,
              "#bd3786"
             ],
             [
              0.5555555555555556,
              "#d8576b"
             ],
             [
              0.6666666666666666,
              "#ed7953"
             ],
             [
              0.7777777777777778,
              "#fb9f3a"
             ],
             [
              0.8888888888888888,
              "#fdca26"
             ],
             [
              1,
              "#f0f921"
             ]
            ],
            "type": "contour"
           }
          ],
          "contourcarpet": [
           {
            "colorbar": {
             "outlinewidth": 0,
             "ticks": ""
            },
            "type": "contourcarpet"
           }
          ],
          "heatmap": [
           {
            "colorbar": {
             "outlinewidth": 0,
             "ticks": ""
            },
            "colorscale": [
             [
              0,
              "#0d0887"
             ],
             [
              0.1111111111111111,
              "#46039f"
             ],
             [
              0.2222222222222222,
              "#7201a8"
             ],
             [
              0.3333333333333333,
              "#9c179e"
             ],
             [
              0.4444444444444444,
              "#bd3786"
             ],
             [
              0.5555555555555556,
              "#d8576b"
             ],
             [
              0.6666666666666666,
              "#ed7953"
             ],
             [
              0.7777777777777778,
              "#fb9f3a"
             ],
             [
              0.8888888888888888,
              "#fdca26"
             ],
             [
              1,
              "#f0f921"
             ]
            ],
            "type": "heatmap"
           }
          ],
          "heatmapgl": [
           {
            "colorbar": {
             "outlinewidth": 0,
             "ticks": ""
            },
            "colorscale": [
             [
              0,
              "#0d0887"
             ],
             [
              0.1111111111111111,
              "#46039f"
             ],
             [
              0.2222222222222222,
              "#7201a8"
             ],
             [
              0.3333333333333333,
              "#9c179e"
             ],
             [
              0.4444444444444444,
              "#bd3786"
             ],
             [
              0.5555555555555556,
              "#d8576b"
             ],
             [
              0.6666666666666666,
              "#ed7953"
             ],
             [
              0.7777777777777778,
              "#fb9f3a"
             ],
             [
              0.8888888888888888,
              "#fdca26"
             ],
             [
              1,
              "#f0f921"
             ]
            ],
            "type": "heatmapgl"
           }
          ],
          "histogram": [
           {
            "marker": {
             "pattern": {
              "fillmode": "overlay",
              "size": 10,
              "solidity": 0.2
             }
            },
            "type": "histogram"
           }
          ],
          "histogram2d": [
           {
            "colorbar": {
             "outlinewidth": 0,
             "ticks": ""
            },
            "colorscale": [
             [
              0,
              "#0d0887"
             ],
             [
              0.1111111111111111,
              "#46039f"
             ],
             [
              0.2222222222222222,
              "#7201a8"
             ],
             [
              0.3333333333333333,
              "#9c179e"
             ],
             [
              0.4444444444444444,
              "#bd3786"
             ],
             [
              0.5555555555555556,
              "#d8576b"
             ],
             [
              0.6666666666666666,
              "#ed7953"
             ],
             [
              0.7777777777777778,
              "#fb9f3a"
             ],
             [
              0.8888888888888888,
              "#fdca26"
             ],
             [
              1,
              "#f0f921"
             ]
            ],
            "type": "histogram2d"
           }
          ],
          "histogram2dcontour": [
           {
            "colorbar": {
             "outlinewidth": 0,
             "ticks": ""
            },
            "colorscale": [
             [
              0,
              "#0d0887"
             ],
             [
              0.1111111111111111,
              "#46039f"
             ],
             [
              0.2222222222222222,
              "#7201a8"
             ],
             [
              0.3333333333333333,
              "#9c179e"
             ],
             [
              0.4444444444444444,
              "#bd3786"
             ],
             [
              0.5555555555555556,
              "#d8576b"
             ],
             [
              0.6666666666666666,
              "#ed7953"
             ],
             [
              0.7777777777777778,
              "#fb9f3a"
             ],
             [
              0.8888888888888888,
              "#fdca26"
             ],
             [
              1,
              "#f0f921"
             ]
            ],
            "type": "histogram2dcontour"
           }
          ],
          "mesh3d": [
           {
            "colorbar": {
             "outlinewidth": 0,
             "ticks": ""
            },
            "type": "mesh3d"
           }
          ],
          "parcoords": [
           {
            "line": {
             "colorbar": {
              "outlinewidth": 0,
              "ticks": ""
             }
            },
            "type": "parcoords"
           }
          ],
          "pie": [
           {
            "automargin": true,
            "type": "pie"
           }
          ],
          "scatter": [
           {
            "fillpattern": {
             "fillmode": "overlay",
             "size": 10,
             "solidity": 0.2
            },
            "type": "scatter"
           }
          ],
          "scatter3d": [
           {
            "line": {
             "colorbar": {
              "outlinewidth": 0,
              "ticks": ""
             }
            },
            "marker": {
             "colorbar": {
              "outlinewidth": 0,
              "ticks": ""
             }
            },
            "type": "scatter3d"
           }
          ],
          "scattercarpet": [
           {
            "marker": {
             "colorbar": {
              "outlinewidth": 0,
              "ticks": ""
             }
            },
            "type": "scattercarpet"
           }
          ],
          "scattergeo": [
           {
            "marker": {
             "colorbar": {
              "outlinewidth": 0,
              "ticks": ""
             }
            },
            "type": "scattergeo"
           }
          ],
          "scattergl": [
           {
            "marker": {
             "colorbar": {
              "outlinewidth": 0,
              "ticks": ""
             }
            },
            "type": "scattergl"
           }
          ],
          "scattermapbox": [
           {
            "marker": {
             "colorbar": {
              "outlinewidth": 0,
              "ticks": ""
             }
            },
            "type": "scattermapbox"
           }
          ],
          "scatterpolar": [
           {
            "marker": {
             "colorbar": {
              "outlinewidth": 0,
              "ticks": ""
             }
            },
            "type": "scatterpolar"
           }
          ],
          "scatterpolargl": [
           {
            "marker": {
             "colorbar": {
              "outlinewidth": 0,
              "ticks": ""
             }
            },
            "type": "scatterpolargl"
           }
          ],
          "scatterternary": [
           {
            "marker": {
             "colorbar": {
              "outlinewidth": 0,
              "ticks": ""
             }
            },
            "type": "scatterternary"
           }
          ],
          "surface": [
           {
            "colorbar": {
             "outlinewidth": 0,
             "ticks": ""
            },
            "colorscale": [
             [
              0,
              "#0d0887"
             ],
             [
              0.1111111111111111,
              "#46039f"
             ],
             [
              0.2222222222222222,
              "#7201a8"
             ],
             [
              0.3333333333333333,
              "#9c179e"
             ],
             [
              0.4444444444444444,
              "#bd3786"
             ],
             [
              0.5555555555555556,
              "#d8576b"
             ],
             [
              0.6666666666666666,
              "#ed7953"
             ],
             [
              0.7777777777777778,
              "#fb9f3a"
             ],
             [
              0.8888888888888888,
              "#fdca26"
             ],
             [
              1,
              "#f0f921"
             ]
            ],
            "type": "surface"
           }
          ],
          "table": [
           {
            "cells": {
             "fill": {
              "color": "#EBF0F8"
             },
             "line": {
              "color": "white"
             }
            },
            "header": {
             "fill": {
              "color": "#C8D4E3"
             },
             "line": {
              "color": "white"
             }
            },
            "type": "table"
           }
          ]
         },
         "layout": {
          "annotationdefaults": {
           "arrowcolor": "#2a3f5f",
           "arrowhead": 0,
           "arrowwidth": 1
          },
          "autotypenumbers": "strict",
          "coloraxis": {
           "colorbar": {
            "outlinewidth": 0,
            "ticks": ""
           }
          },
          "colorscale": {
           "diverging": [
            [
             0,
             "#8e0152"
            ],
            [
             0.1,
             "#c51b7d"
            ],
            [
             0.2,
             "#de77ae"
            ],
            [
             0.3,
             "#f1b6da"
            ],
            [
             0.4,
             "#fde0ef"
            ],
            [
             0.5,
             "#f7f7f7"
            ],
            [
             0.6,
             "#e6f5d0"
            ],
            [
             0.7,
             "#b8e186"
            ],
            [
             0.8,
             "#7fbc41"
            ],
            [
             0.9,
             "#4d9221"
            ],
            [
             1,
             "#276419"
            ]
           ],
           "sequential": [
            [
             0,
             "#0d0887"
            ],
            [
             0.1111111111111111,
             "#46039f"
            ],
            [
             0.2222222222222222,
             "#7201a8"
            ],
            [
             0.3333333333333333,
             "#9c179e"
            ],
            [
             0.4444444444444444,
             "#bd3786"
            ],
            [
             0.5555555555555556,
             "#d8576b"
            ],
            [
             0.6666666666666666,
             "#ed7953"
            ],
            [
             0.7777777777777778,
             "#fb9f3a"
            ],
            [
             0.8888888888888888,
             "#fdca26"
            ],
            [
             1,
             "#f0f921"
            ]
           ],
           "sequentialminus": [
            [
             0,
             "#0d0887"
            ],
            [
             0.1111111111111111,
             "#46039f"
            ],
            [
             0.2222222222222222,
             "#7201a8"
            ],
            [
             0.3333333333333333,
             "#9c179e"
            ],
            [
             0.4444444444444444,
             "#bd3786"
            ],
            [
             0.5555555555555556,
             "#d8576b"
            ],
            [
             0.6666666666666666,
             "#ed7953"
            ],
            [
             0.7777777777777778,
             "#fb9f3a"
            ],
            [
             0.8888888888888888,
             "#fdca26"
            ],
            [
             1,
             "#f0f921"
            ]
           ]
          },
          "colorway": [
           "#636efa",
           "#EF553B",
           "#00cc96",
           "#ab63fa",
           "#FFA15A",
           "#19d3f3",
           "#FF6692",
           "#B6E880",
           "#FF97FF",
           "#FECB52"
          ],
          "font": {
           "color": "#2a3f5f"
          },
          "geo": {
           "bgcolor": "white",
           "lakecolor": "white",
           "landcolor": "#E5ECF6",
           "showlakes": true,
           "showland": true,
           "subunitcolor": "white"
          },
          "hoverlabel": {
           "align": "left"
          },
          "hovermode": "closest",
          "mapbox": {
           "style": "light"
          },
          "paper_bgcolor": "white",
          "plot_bgcolor": "#E5ECF6",
          "polar": {
           "angularaxis": {
            "gridcolor": "white",
            "linecolor": "white",
            "ticks": ""
           },
           "bgcolor": "#E5ECF6",
           "radialaxis": {
            "gridcolor": "white",
            "linecolor": "white",
            "ticks": ""
           }
          },
          "scene": {
           "xaxis": {
            "backgroundcolor": "#E5ECF6",
            "gridcolor": "white",
            "gridwidth": 2,
            "linecolor": "white",
            "showbackground": true,
            "ticks": "",
            "zerolinecolor": "white"
           },
           "yaxis": {
            "backgroundcolor": "#E5ECF6",
            "gridcolor": "white",
            "gridwidth": 2,
            "linecolor": "white",
            "showbackground": true,
            "ticks": "",
            "zerolinecolor": "white"
           },
           "zaxis": {
            "backgroundcolor": "#E5ECF6",
            "gridcolor": "white",
            "gridwidth": 2,
            "linecolor": "white",
            "showbackground": true,
            "ticks": "",
            "zerolinecolor": "white"
           }
          },
          "shapedefaults": {
           "line": {
            "color": "#2a3f5f"
           }
          },
          "ternary": {
           "aaxis": {
            "gridcolor": "white",
            "linecolor": "white",
            "ticks": ""
           },
           "baxis": {
            "gridcolor": "white",
            "linecolor": "white",
            "ticks": ""
           },
           "bgcolor": "#E5ECF6",
           "caxis": {
            "gridcolor": "white",
            "linecolor": "white",
            "ticks": ""
           }
          },
          "title": {
           "x": 0.05
          },
          "xaxis": {
           "automargin": true,
           "gridcolor": "white",
           "linecolor": "white",
           "ticks": "",
           "title": {
            "standoff": 15
           },
           "zerolinecolor": "white",
           "zerolinewidth": 2
          },
          "yaxis": {
           "automargin": true,
           "gridcolor": "white",
           "linecolor": "white",
           "ticks": "",
           "title": {
            "standoff": 15
           },
           "zerolinecolor": "white",
           "zerolinewidth": 2
          }
         }
        },
        "title": {
         "font": {
          "color": "#4D5663"
         }
        },
        "xaxis": {
         "gridcolor": "#E1E5ED",
         "showgrid": true,
         "tickfont": {
          "color": "#4D5663"
         },
         "title": {
          "font": {
           "color": "#4D5663"
          },
          "text": ""
         },
         "zerolinecolor": "#E1E5ED"
        },
        "yaxis": {
         "gridcolor": "#E1E5ED",
         "showgrid": true,
         "tickfont": {
          "color": "#4D5663"
         },
         "title": {
          "font": {
           "color": "#4D5663"
          },
          "text": ""
         },
         "zerolinecolor": "#E1E5ED"
        }
       }
      },
      "text/html": [
       "<div>                            <div id=\"543d902f-ae06-4c4a-9017-847f626248c6\" class=\"plotly-graph-div\" style=\"height:525px; width:100%;\"></div>            <script type=\"text/javascript\">                require([\"plotly\"], function(Plotly) {                    window.PLOTLYENV=window.PLOTLYENV || {};\n",
       "                    window.PLOTLYENV.BASE_URL='https://plot.ly';                                    if (document.getElementById(\"543d902f-ae06-4c4a-9017-847f626248c6\")) {                    Plotly.newPlot(                        \"543d902f-ae06-4c4a-9017-847f626248c6\",                        [{\"line\":{\"color\":\"rgba(255, 153, 51, 1.0)\",\"dash\":\"solid\",\"shape\":\"linear\",\"width\":1.3},\"marker\":{\"size\":5,\"symbol\":\"circle\"},\"mode\":\"markers\",\"name\":\"tip\",\"text\":\"\",\"x\":[16.99,10.34,21.01,23.68,24.59,25.29,8.77,26.88,15.04,14.78,10.27,35.26,15.42,18.43,14.83,21.58,10.33,16.29,16.97,20.65,17.92,20.29,15.77,39.42,19.82,17.81,13.37,12.69,21.7,19.65,9.55,18.35,15.06,20.69,17.78,24.06,16.31,16.93,18.69,31.27,16.04,17.46,13.94,9.68,30.4,18.29,22.23,32.4,28.55,18.04,12.54,10.29,34.81,9.94,25.56,19.49,38.01,26.41,11.24,48.27,20.29,13.81,11.02,18.29,17.59,20.08,16.45,3.07,20.23,15.01,12.02,17.07,26.86,25.28,14.73,10.51,17.92,27.2,22.76,17.29,19.44,16.66,10.07,32.68,15.98,34.83,13.03,18.28,24.71,21.16,28.97,22.49,5.75,16.32,22.75,40.17,27.28,12.03,21.01,12.46,11.35,15.38,44.3,22.42,20.92,15.36,20.49,25.21,18.24,14.31,14.0,7.25,38.07,23.95,25.71,17.31,29.93,10.65,12.43,24.08,11.69,13.42,14.26,15.95,12.48,29.8,8.52,14.52,11.38,22.82,19.08,20.27,11.17,12.26,18.26,8.51,10.33,14.15,16.0,13.16,17.47,34.3,41.19,27.05,16.43,8.35,18.64,11.87,9.78,7.51,14.07,13.13,17.26,24.55,19.77,29.85,48.17,25.0,13.39,16.49,21.5,12.66,16.21,13.81,17.51,24.52,20.76,31.71,10.59,10.63,50.81,15.81,7.25,31.85,16.82,32.9,17.89,14.48,9.6,34.63,34.65,23.33,45.35,23.17,40.55,20.69,20.9,30.46,18.15,23.1,15.69,19.81,28.44,15.48,16.58,7.56,10.34,43.11,13.0,13.51,18.71,12.74,13.0,16.4,20.53,16.47,26.59,38.73,24.27,12.76,30.06,25.89,48.33,13.27,28.17,12.9,28.15,11.59,7.74,30.14,12.16,13.42,8.58,15.98,13.42,16.27,10.09,20.45,13.28,22.12,24.01,15.69,11.61,10.77,15.53,10.07,12.6,32.83,35.83,29.03,27.18,22.67,17.82,18.78],\"y\":[1.01,1.66,3.5,3.31,3.61,4.71,2.0,3.12,1.96,3.23,1.71,5.0,1.57,3.0,3.02,3.92,1.67,3.71,3.5,3.35,4.08,2.75,2.23,7.58,3.18,2.34,2.0,2.0,4.3,3.0,1.45,2.5,3.0,2.45,3.27,3.6,2.0,3.07,2.31,5.0,2.24,2.54,3.06,1.32,5.6,3.0,5.0,6.0,2.05,3.0,2.5,2.6,5.2,1.56,4.34,3.51,3.0,1.5,1.76,6.73,3.21,2.0,1.98,3.76,2.64,3.15,2.47,1.0,2.01,2.09,1.97,3.0,3.14,5.0,2.2,1.25,3.08,4.0,3.0,2.71,3.0,3.4,1.83,5.0,2.03,5.17,2.0,4.0,5.85,3.0,3.0,3.5,1.0,4.3,3.25,4.73,4.0,1.5,3.0,1.5,2.5,3.0,2.5,3.48,4.08,1.64,4.06,4.29,3.76,4.0,3.0,1.0,4.0,2.55,4.0,3.5,5.07,1.5,1.8,2.92,2.31,1.68,2.5,2.0,2.52,4.2,1.48,2.0,2.0,2.18,1.5,2.83,1.5,2.0,3.25,1.25,2.0,2.0,2.0,2.75,3.5,6.7,5.0,5.0,2.3,1.5,1.36,1.63,1.73,2.0,2.5,2.0,2.74,2.0,2.0,5.14,5.0,3.75,2.61,2.0,3.5,2.5,2.0,2.0,3.0,3.48,2.24,4.5,1.61,2.0,10.0,3.16,5.15,3.18,4.0,3.11,2.0,2.0,4.0,3.55,3.68,5.65,3.5,6.5,3.0,5.0,3.5,2.0,3.5,4.0,1.5,4.19,2.56,2.02,4.0,1.44,2.0,5.0,2.0,2.0,4.0,2.01,2.0,2.5,4.0,3.23,3.41,3.0,2.03,2.23,2.0,5.16,9.0,2.5,6.5,1.1,3.0,1.5,1.44,3.09,2.2,3.48,1.92,3.0,1.58,2.5,2.0,3.0,2.72,2.88,2.0,3.0,3.39,1.47,3.0,1.25,1.0,1.17,4.67,5.92,2.0,2.0,1.75,3.0],\"type\":\"scatter\"}],                        {\"legend\":{\"bgcolor\":\"#F5F6F9\",\"font\":{\"color\":\"#4D5663\"}},\"paper_bgcolor\":\"#F5F6F9\",\"plot_bgcolor\":\"#F5F6F9\",\"template\":{\"data\":{\"barpolar\":[{\"marker\":{\"line\":{\"color\":\"#E5ECF6\",\"width\":0.5},\"pattern\":{\"fillmode\":\"overlay\",\"size\":10,\"solidity\":0.2}},\"type\":\"barpolar\"}],\"bar\":[{\"error_x\":{\"color\":\"#2a3f5f\"},\"error_y\":{\"color\":\"#2a3f5f\"},\"marker\":{\"line\":{\"color\":\"#E5ECF6\",\"width\":0.5},\"pattern\":{\"fillmode\":\"overlay\",\"size\":10,\"solidity\":0.2}},\"type\":\"bar\"}],\"carpet\":[{\"aaxis\":{\"endlinecolor\":\"#2a3f5f\",\"gridcolor\":\"white\",\"linecolor\":\"white\",\"minorgridcolor\":\"white\",\"startlinecolor\":\"#2a3f5f\"},\"baxis\":{\"endlinecolor\":\"#2a3f5f\",\"gridcolor\":\"white\",\"linecolor\":\"white\",\"minorgridcolor\":\"white\",\"startlinecolor\":\"#2a3f5f\"},\"type\":\"carpet\"}],\"choropleth\":[{\"colorbar\":{\"outlinewidth\":0,\"ticks\":\"\"},\"type\":\"choropleth\"}],\"contourcarpet\":[{\"colorbar\":{\"outlinewidth\":0,\"ticks\":\"\"},\"type\":\"contourcarpet\"}],\"contour\":[{\"colorbar\":{\"outlinewidth\":0,\"ticks\":\"\"},\"colorscale\":[[0.0,\"#0d0887\"],[0.1111111111111111,\"#46039f\"],[0.2222222222222222,\"#7201a8\"],[0.3333333333333333,\"#9c179e\"],[0.4444444444444444,\"#bd3786\"],[0.5555555555555556,\"#d8576b\"],[0.6666666666666666,\"#ed7953\"],[0.7777777777777778,\"#fb9f3a\"],[0.8888888888888888,\"#fdca26\"],[1.0,\"#f0f921\"]],\"type\":\"contour\"}],\"heatmapgl\":[{\"colorbar\":{\"outlinewidth\":0,\"ticks\":\"\"},\"colorscale\":[[0.0,\"#0d0887\"],[0.1111111111111111,\"#46039f\"],[0.2222222222222222,\"#7201a8\"],[0.3333333333333333,\"#9c179e\"],[0.4444444444444444,\"#bd3786\"],[0.5555555555555556,\"#d8576b\"],[0.6666666666666666,\"#ed7953\"],[0.7777777777777778,\"#fb9f3a\"],[0.8888888888888888,\"#fdca26\"],[1.0,\"#f0f921\"]],\"type\":\"heatmapgl\"}],\"heatmap\":[{\"colorbar\":{\"outlinewidth\":0,\"ticks\":\"\"},\"colorscale\":[[0.0,\"#0d0887\"],[0.1111111111111111,\"#46039f\"],[0.2222222222222222,\"#7201a8\"],[0.3333333333333333,\"#9c179e\"],[0.4444444444444444,\"#bd3786\"],[0.5555555555555556,\"#d8576b\"],[0.6666666666666666,\"#ed7953\"],[0.7777777777777778,\"#fb9f3a\"],[0.8888888888888888,\"#fdca26\"],[1.0,\"#f0f921\"]],\"type\":\"heatmap\"}],\"histogram2dcontour\":[{\"colorbar\":{\"outlinewidth\":0,\"ticks\":\"\"},\"colorscale\":[[0.0,\"#0d0887\"],[0.1111111111111111,\"#46039f\"],[0.2222222222222222,\"#7201a8\"],[0.3333333333333333,\"#9c179e\"],[0.4444444444444444,\"#bd3786\"],[0.5555555555555556,\"#d8576b\"],[0.6666666666666666,\"#ed7953\"],[0.7777777777777778,\"#fb9f3a\"],[0.8888888888888888,\"#fdca26\"],[1.0,\"#f0f921\"]],\"type\":\"histogram2dcontour\"}],\"histogram2d\":[{\"colorbar\":{\"outlinewidth\":0,\"ticks\":\"\"},\"colorscale\":[[0.0,\"#0d0887\"],[0.1111111111111111,\"#46039f\"],[0.2222222222222222,\"#7201a8\"],[0.3333333333333333,\"#9c179e\"],[0.4444444444444444,\"#bd3786\"],[0.5555555555555556,\"#d8576b\"],[0.6666666666666666,\"#ed7953\"],[0.7777777777777778,\"#fb9f3a\"],[0.8888888888888888,\"#fdca26\"],[1.0,\"#f0f921\"]],\"type\":\"histogram2d\"}],\"histogram\":[{\"marker\":{\"pattern\":{\"fillmode\":\"overlay\",\"size\":10,\"solidity\":0.2}},\"type\":\"histogram\"}],\"mesh3d\":[{\"colorbar\":{\"outlinewidth\":0,\"ticks\":\"\"},\"type\":\"mesh3d\"}],\"parcoords\":[{\"line\":{\"colorbar\":{\"outlinewidth\":0,\"ticks\":\"\"}},\"type\":\"parcoords\"}],\"pie\":[{\"automargin\":true,\"type\":\"pie\"}],\"scatter3d\":[{\"line\":{\"colorbar\":{\"outlinewidth\":0,\"ticks\":\"\"}},\"marker\":{\"colorbar\":{\"outlinewidth\":0,\"ticks\":\"\"}},\"type\":\"scatter3d\"}],\"scattercarpet\":[{\"marker\":{\"colorbar\":{\"outlinewidth\":0,\"ticks\":\"\"}},\"type\":\"scattercarpet\"}],\"scattergeo\":[{\"marker\":{\"colorbar\":{\"outlinewidth\":0,\"ticks\":\"\"}},\"type\":\"scattergeo\"}],\"scattergl\":[{\"marker\":{\"colorbar\":{\"outlinewidth\":0,\"ticks\":\"\"}},\"type\":\"scattergl\"}],\"scattermapbox\":[{\"marker\":{\"colorbar\":{\"outlinewidth\":0,\"ticks\":\"\"}},\"type\":\"scattermapbox\"}],\"scatterpolargl\":[{\"marker\":{\"colorbar\":{\"outlinewidth\":0,\"ticks\":\"\"}},\"type\":\"scatterpolargl\"}],\"scatterpolar\":[{\"marker\":{\"colorbar\":{\"outlinewidth\":0,\"ticks\":\"\"}},\"type\":\"scatterpolar\"}],\"scatter\":[{\"fillpattern\":{\"fillmode\":\"overlay\",\"size\":10,\"solidity\":0.2},\"type\":\"scatter\"}],\"scatterternary\":[{\"marker\":{\"colorbar\":{\"outlinewidth\":0,\"ticks\":\"\"}},\"type\":\"scatterternary\"}],\"surface\":[{\"colorbar\":{\"outlinewidth\":0,\"ticks\":\"\"},\"colorscale\":[[0.0,\"#0d0887\"],[0.1111111111111111,\"#46039f\"],[0.2222222222222222,\"#7201a8\"],[0.3333333333333333,\"#9c179e\"],[0.4444444444444444,\"#bd3786\"],[0.5555555555555556,\"#d8576b\"],[0.6666666666666666,\"#ed7953\"],[0.7777777777777778,\"#fb9f3a\"],[0.8888888888888888,\"#fdca26\"],[1.0,\"#f0f921\"]],\"type\":\"surface\"}],\"table\":[{\"cells\":{\"fill\":{\"color\":\"#EBF0F8\"},\"line\":{\"color\":\"white\"}},\"header\":{\"fill\":{\"color\":\"#C8D4E3\"},\"line\":{\"color\":\"white\"}},\"type\":\"table\"}]},\"layout\":{\"annotationdefaults\":{\"arrowcolor\":\"#2a3f5f\",\"arrowhead\":0,\"arrowwidth\":1},\"autotypenumbers\":\"strict\",\"coloraxis\":{\"colorbar\":{\"outlinewidth\":0,\"ticks\":\"\"}},\"colorscale\":{\"diverging\":[[0,\"#8e0152\"],[0.1,\"#c51b7d\"],[0.2,\"#de77ae\"],[0.3,\"#f1b6da\"],[0.4,\"#fde0ef\"],[0.5,\"#f7f7f7\"],[0.6,\"#e6f5d0\"],[0.7,\"#b8e186\"],[0.8,\"#7fbc41\"],[0.9,\"#4d9221\"],[1,\"#276419\"]],\"sequential\":[[0.0,\"#0d0887\"],[0.1111111111111111,\"#46039f\"],[0.2222222222222222,\"#7201a8\"],[0.3333333333333333,\"#9c179e\"],[0.4444444444444444,\"#bd3786\"],[0.5555555555555556,\"#d8576b\"],[0.6666666666666666,\"#ed7953\"],[0.7777777777777778,\"#fb9f3a\"],[0.8888888888888888,\"#fdca26\"],[1.0,\"#f0f921\"]],\"sequentialminus\":[[0.0,\"#0d0887\"],[0.1111111111111111,\"#46039f\"],[0.2222222222222222,\"#7201a8\"],[0.3333333333333333,\"#9c179e\"],[0.4444444444444444,\"#bd3786\"],[0.5555555555555556,\"#d8576b\"],[0.6666666666666666,\"#ed7953\"],[0.7777777777777778,\"#fb9f3a\"],[0.8888888888888888,\"#fdca26\"],[1.0,\"#f0f921\"]]},\"colorway\":[\"#636efa\",\"#EF553B\",\"#00cc96\",\"#ab63fa\",\"#FFA15A\",\"#19d3f3\",\"#FF6692\",\"#B6E880\",\"#FF97FF\",\"#FECB52\"],\"font\":{\"color\":\"#2a3f5f\"},\"geo\":{\"bgcolor\":\"white\",\"lakecolor\":\"white\",\"landcolor\":\"#E5ECF6\",\"showlakes\":true,\"showland\":true,\"subunitcolor\":\"white\"},\"hoverlabel\":{\"align\":\"left\"},\"hovermode\":\"closest\",\"mapbox\":{\"style\":\"light\"},\"paper_bgcolor\":\"white\",\"plot_bgcolor\":\"#E5ECF6\",\"polar\":{\"angularaxis\":{\"gridcolor\":\"white\",\"linecolor\":\"white\",\"ticks\":\"\"},\"bgcolor\":\"#E5ECF6\",\"radialaxis\":{\"gridcolor\":\"white\",\"linecolor\":\"white\",\"ticks\":\"\"}},\"scene\":{\"xaxis\":{\"backgroundcolor\":\"#E5ECF6\",\"gridcolor\":\"white\",\"gridwidth\":2,\"linecolor\":\"white\",\"showbackground\":true,\"ticks\":\"\",\"zerolinecolor\":\"white\"},\"yaxis\":{\"backgroundcolor\":\"#E5ECF6\",\"gridcolor\":\"white\",\"gridwidth\":2,\"linecolor\":\"white\",\"showbackground\":true,\"ticks\":\"\",\"zerolinecolor\":\"white\"},\"zaxis\":{\"backgroundcolor\":\"#E5ECF6\",\"gridcolor\":\"white\",\"gridwidth\":2,\"linecolor\":\"white\",\"showbackground\":true,\"ticks\":\"\",\"zerolinecolor\":\"white\"}},\"shapedefaults\":{\"line\":{\"color\":\"#2a3f5f\"}},\"ternary\":{\"aaxis\":{\"gridcolor\":\"white\",\"linecolor\":\"white\",\"ticks\":\"\"},\"baxis\":{\"gridcolor\":\"white\",\"linecolor\":\"white\",\"ticks\":\"\"},\"bgcolor\":\"#E5ECF6\",\"caxis\":{\"gridcolor\":\"white\",\"linecolor\":\"white\",\"ticks\":\"\"}},\"title\":{\"x\":0.05},\"xaxis\":{\"automargin\":true,\"gridcolor\":\"white\",\"linecolor\":\"white\",\"ticks\":\"\",\"title\":{\"standoff\":15},\"zerolinecolor\":\"white\",\"zerolinewidth\":2},\"yaxis\":{\"automargin\":true,\"gridcolor\":\"white\",\"linecolor\":\"white\",\"ticks\":\"\",\"title\":{\"standoff\":15},\"zerolinecolor\":\"white\",\"zerolinewidth\":2}}},\"title\":{\"font\":{\"color\":\"#4D5663\"}},\"xaxis\":{\"gridcolor\":\"#E1E5ED\",\"showgrid\":true,\"tickfont\":{\"color\":\"#4D5663\"},\"title\":{\"font\":{\"color\":\"#4D5663\"},\"text\":\"\"},\"zerolinecolor\":\"#E1E5ED\"},\"yaxis\":{\"gridcolor\":\"#E1E5ED\",\"showgrid\":true,\"tickfont\":{\"color\":\"#4D5663\"},\"title\":{\"font\":{\"color\":\"#4D5663\"},\"text\":\"\"},\"zerolinecolor\":\"#E1E5ED\"}},                        {\"showLink\": true, \"linkText\": \"Export to plot.ly\", \"plotlyServerURL\": \"https://plot.ly\", \"responsive\": true}                    ).then(function(){\n",
       "                            \n",
       "var gd = document.getElementById('543d902f-ae06-4c4a-9017-847f626248c6');\n",
       "var x = new MutationObserver(function (mutations, observer) {{\n",
       "        var display = window.getComputedStyle(gd).display;\n",
       "        if (!display || display === 'none') {{\n",
       "            console.log([gd, 'removed!']);\n",
       "            Plotly.purge(gd);\n",
       "            observer.disconnect();\n",
       "        }}\n",
       "}});\n",
       "\n",
       "// Listen for the removal of the full notebook cells\n",
       "var notebookContainer = gd.closest('#notebook-container');\n",
       "if (notebookContainer) {{\n",
       "    x.observe(notebookContainer, {childList: true});\n",
       "}}\n",
       "\n",
       "// Listen for the clearing of the current output cell\n",
       "var outputEl = gd.closest('.output');\n",
       "if (outputEl) {{\n",
       "    x.observe(outputEl, {childList: true});\n",
       "}}\n",
       "\n",
       "                        })                };                });            </script>        </div>"
      ]
     },
     "metadata": {},
     "output_type": "display_data"
    }
   ],
   "source": [
    "tip[['total_bill','tip']].iplot(x = 'total_bill',y = 'tip',mode = \"markers\",size = 5)"
   ]
  },
  {
   "cell_type": "code",
   "execution_count": null,
   "metadata": {},
   "outputs": [
    {
     "data": {
      "application/vnd.plotly.v1+json": {
       "config": {
        "linkText": "Export to plot.ly",
        "plotlyServerURL": "https://plot.ly",
        "showLink": true
       },
       "data": [
        {
         "marker": {
          "color": [
           "rgba(255, 153, 51, 1.0)",
           "rgba(55, 128, 191, 1.0)",
           "rgba(50, 171, 96, 1.0)",
           "rgba(128, 0, 128, 1.0)",
           "rgba(219, 64, 82, 1.0)",
           "rgba(0, 128, 128, 1.0)",
           "rgba(255, 255, 51, 1.0)",
           "rgba(128, 128, 0, 1.0)",
           "rgba(251, 128, 114, 1.0)",
           "rgba(128, 177, 211, 1.0)",
           "rgba(128, 177, 211, 0.9672131147540983)",
           "rgba(255, 153, 51, 0.9672131147540983)",
           "rgba(55, 128, 191, 0.9672131147540983)",
           "rgba(50, 171, 96, 0.9672131147540983)",
           "rgba(128, 0, 128, 0.9672131147540983)",
           "rgba(219, 64, 82, 0.9672131147540983)",
           "rgba(0, 128, 128, 0.9672131147540983)",
           "rgba(255, 255, 51, 0.9672131147540983)",
           "rgba(128, 128, 0, 0.9672131147540983)",
           "rgba(251, 128, 114, 0.9672131147540983)",
           "rgba(251, 128, 114, 0.9344262295081966)",
           "rgba(128, 177, 211, 0.9344262295081966)",
           "rgba(255, 153, 51, 0.9344262295081966)",
           "rgba(55, 128, 191, 0.9344262295081966)",
           "rgba(50, 171, 96, 0.9344262295081966)",
           "rgba(128, 0, 128, 0.9344262295081966)",
           "rgba(219, 64, 82, 0.9344262295081966)",
           "rgba(0, 128, 128, 0.9344262295081966)",
           "rgba(255, 255, 51, 0.9344262295081966)",
           "rgba(128, 128, 0, 0.9344262295081966)",
           "rgba(128, 128, 0, 0.901639344262295)",
           "rgba(251, 128, 114, 0.901639344262295)",
           "rgba(128, 177, 211, 0.901639344262295)",
           "rgba(255, 153, 51, 0.901639344262295)",
           "rgba(55, 128, 191, 0.901639344262295)",
           "rgba(50, 171, 96, 0.901639344262295)",
           "rgba(128, 0, 128, 0.901639344262295)",
           "rgba(219, 64, 82, 0.901639344262295)",
           "rgba(0, 128, 128, 0.901639344262295)",
           "rgba(255, 255, 51, 0.901639344262295)",
           "rgba(255, 255, 51, 0.8688524590163933)",
           "rgba(128, 128, 0, 0.8688524590163933)",
           "rgba(251, 128, 114, 0.8688524590163933)",
           "rgba(128, 177, 211, 0.8688524590163933)",
           "rgba(255, 153, 51, 0.8688524590163933)",
           "rgba(55, 128, 191, 0.8688524590163933)",
           "rgba(50, 171, 96, 0.8688524590163933)",
           "rgba(128, 0, 128, 0.8688524590163933)",
           "rgba(219, 64, 82, 0.8688524590163933)",
           "rgba(0, 128, 128, 0.8688524590163933)",
           "rgba(0, 128, 128, 0.8360655737704918)",
           "rgba(255, 255, 51, 0.8360655737704918)",
           "rgba(128, 128, 0, 0.8360655737704918)",
           "rgba(251, 128, 114, 0.8360655737704918)",
           "rgba(128, 177, 211, 0.8360655737704918)",
           "rgba(255, 153, 51, 0.8360655737704918)",
           "rgba(55, 128, 191, 0.8360655737704918)",
           "rgba(50, 171, 96, 0.8360655737704918)",
           "rgba(128, 0, 128, 0.8360655737704918)",
           "rgba(219, 64, 82, 0.8360655737704918)",
           "rgba(219, 64, 82, 0.8032786885245902)",
           "rgba(0, 128, 128, 0.8032786885245902)",
           "rgba(255, 255, 51, 0.8032786885245902)",
           "rgba(128, 128, 0, 0.8032786885245902)",
           "rgba(251, 128, 114, 0.8032786885245902)",
           "rgba(128, 177, 211, 0.8032786885245902)",
           "rgba(255, 153, 51, 0.8032786885245902)",
           "rgba(55, 128, 191, 0.8032786885245902)",
           "rgba(50, 171, 96, 0.8032786885245902)",
           "rgba(128, 0, 128, 0.8032786885245902)",
           "rgba(128, 0, 128, 0.7704918032786885)",
           "rgba(219, 64, 82, 0.7704918032786885)",
           "rgba(0, 128, 128, 0.7704918032786885)",
           "rgba(255, 255, 51, 0.7704918032786885)",
           "rgba(128, 128, 0, 0.7704918032786885)",
           "rgba(251, 128, 114, 0.7704918032786885)",
           "rgba(128, 177, 211, 0.7704918032786885)",
           "rgba(255, 153, 51, 0.7704918032786885)",
           "rgba(55, 128, 191, 0.7704918032786885)",
           "rgba(50, 171, 96, 0.7704918032786885)",
           "rgba(50, 171, 96, 0.7377049180327868)",
           "rgba(128, 0, 128, 0.7377049180327868)",
           "rgba(219, 64, 82, 0.7377049180327868)",
           "rgba(0, 128, 128, 0.7377049180327868)",
           "rgba(255, 255, 51, 0.7377049180327868)",
           "rgba(128, 128, 0, 0.7377049180327868)",
           "rgba(251, 128, 114, 0.7377049180327868)",
           "rgba(128, 177, 211, 0.7377049180327868)",
           "rgba(255, 153, 51, 0.7377049180327868)",
           "rgba(55, 128, 191, 0.7377049180327868)",
           "rgba(55, 128, 191, 0.7049180327868851)",
           "rgba(50, 171, 96, 0.7049180327868851)",
           "rgba(128, 0, 128, 0.7049180327868851)",
           "rgba(219, 64, 82, 0.7049180327868851)",
           "rgba(0, 128, 128, 0.7049180327868851)",
           "rgba(255, 255, 51, 0.7049180327868851)",
           "rgba(128, 128, 0, 0.7049180327868851)",
           "rgba(251, 128, 114, 0.7049180327868851)",
           "rgba(128, 177, 211, 0.7049180327868851)",
           "rgba(255, 153, 51, 0.7049180327868851)",
           "rgba(255, 153, 51, 0.6721311475409835)",
           "rgba(55, 128, 191, 0.6721311475409835)",
           "rgba(50, 171, 96, 0.6721311475409835)",
           "rgba(128, 0, 128, 0.6721311475409835)",
           "rgba(219, 64, 82, 0.6721311475409835)",
           "rgba(0, 128, 128, 0.6721311475409835)",
           "rgba(255, 255, 51, 0.6721311475409835)",
           "rgba(128, 128, 0, 0.6721311475409835)",
           "rgba(251, 128, 114, 0.6721311475409835)",
           "rgba(128, 177, 211, 0.6721311475409835)",
           "rgba(128, 177, 211, 0.6393442622950818)",
           "rgba(255, 153, 51, 0.6393442622950818)",
           "rgba(55, 128, 191, 0.6393442622950818)",
           "rgba(50, 171, 96, 0.6393442622950818)",
           "rgba(128, 0, 128, 0.6393442622950818)",
           "rgba(219, 64, 82, 0.6393442622950818)",
           "rgba(0, 128, 128, 0.6393442622950818)",
           "rgba(255, 255, 51, 0.6393442622950818)",
           "rgba(128, 128, 0, 0.6393442622950818)",
           "rgba(251, 128, 114, 0.6393442622950818)",
           "rgba(251, 128, 114, 0.6065573770491801)",
           "rgba(128, 177, 211, 0.6065573770491801)",
           "rgba(255, 153, 51, 0.6065573770491801)",
           "rgba(55, 128, 191, 0.6065573770491801)",
           "rgba(50, 171, 96, 0.6065573770491801)",
           "rgba(128, 0, 128, 0.6065573770491801)",
           "rgba(219, 64, 82, 0.6065573770491801)",
           "rgba(0, 128, 128, 0.6065573770491801)",
           "rgba(255, 255, 51, 0.6065573770491801)",
           "rgba(128, 128, 0, 0.6065573770491801)",
           "rgba(128, 128, 0, 0.5737704918032784)",
           "rgba(251, 128, 114, 0.5737704918032784)",
           "rgba(128, 177, 211, 0.5737704918032784)",
           "rgba(255, 153, 51, 0.5737704918032784)",
           "rgba(55, 128, 191, 0.5737704918032784)",
           "rgba(50, 171, 96, 0.5737704918032784)",
           "rgba(128, 0, 128, 0.5737704918032784)",
           "rgba(219, 64, 82, 0.5737704918032784)",
           "rgba(0, 128, 128, 0.5737704918032784)",
           "rgba(255, 255, 51, 0.5737704918032784)",
           "rgba(255, 255, 51, 0.540983606557377)",
           "rgba(128, 128, 0, 0.540983606557377)",
           "rgba(251, 128, 114, 0.540983606557377)",
           "rgba(128, 177, 211, 0.540983606557377)",
           "rgba(255, 153, 51, 0.540983606557377)",
           "rgba(55, 128, 191, 0.540983606557377)",
           "rgba(50, 171, 96, 0.540983606557377)",
           "rgba(128, 0, 128, 0.540983606557377)",
           "rgba(219, 64, 82, 0.540983606557377)",
           "rgba(0, 128, 128, 0.540983606557377)",
           "rgba(0, 128, 128, 0.5081967213114753)",
           "rgba(255, 255, 51, 0.5081967213114753)",
           "rgba(128, 128, 0, 0.5081967213114753)",
           "rgba(251, 128, 114, 0.5081967213114753)",
           "rgba(128, 177, 211, 0.5081967213114753)",
           "rgba(255, 153, 51, 0.5081967213114753)",
           "rgba(55, 128, 191, 0.5081967213114753)",
           "rgba(50, 171, 96, 0.5081967213114753)",
           "rgba(128, 0, 128, 0.5081967213114753)",
           "rgba(219, 64, 82, 0.5081967213114753)",
           "rgba(219, 64, 82, 0.4754098360655737)",
           "rgba(0, 128, 128, 0.4754098360655737)",
           "rgba(255, 255, 51, 0.4754098360655737)",
           "rgba(128, 128, 0, 0.4754098360655737)",
           "rgba(251, 128, 114, 0.4754098360655737)",
           "rgba(128, 177, 211, 0.4754098360655737)",
           "rgba(255, 153, 51, 0.4754098360655737)",
           "rgba(55, 128, 191, 0.4754098360655737)",
           "rgba(50, 171, 96, 0.4754098360655737)",
           "rgba(128, 0, 128, 0.4754098360655737)",
           "rgba(128, 0, 128, 0.442622950819672)",
           "rgba(219, 64, 82, 0.442622950819672)",
           "rgba(0, 128, 128, 0.442622950819672)",
           "rgba(255, 255, 51, 0.442622950819672)",
           "rgba(128, 128, 0, 0.442622950819672)",
           "rgba(251, 128, 114, 0.442622950819672)",
           "rgba(128, 177, 211, 0.442622950819672)",
           "rgba(255, 153, 51, 0.442622950819672)",
           "rgba(55, 128, 191, 0.442622950819672)",
           "rgba(50, 171, 96, 0.442622950819672)",
           "rgba(50, 171, 96, 0.40983606557377034)",
           "rgba(128, 0, 128, 0.40983606557377034)",
           "rgba(219, 64, 82, 0.40983606557377034)",
           "rgba(0, 128, 128, 0.40983606557377034)",
           "rgba(255, 255, 51, 0.40983606557377034)",
           "rgba(128, 128, 0, 0.40983606557377034)",
           "rgba(251, 128, 114, 0.40983606557377034)",
           "rgba(128, 177, 211, 0.40983606557377034)",
           "rgba(255, 153, 51, 0.40983606557377034)",
           "rgba(55, 128, 191, 0.40983606557377034)",
           "rgba(55, 128, 191, 0.37704918032786866)",
           "rgba(50, 171, 96, 0.37704918032786866)",
           "rgba(128, 0, 128, 0.37704918032786866)",
           "rgba(219, 64, 82, 0.37704918032786866)",
           "rgba(0, 128, 128, 0.37704918032786866)",
           "rgba(255, 255, 51, 0.37704918032786866)",
           "rgba(128, 128, 0, 0.37704918032786866)",
           "rgba(251, 128, 114, 0.37704918032786866)",
           "rgba(128, 177, 211, 0.37704918032786866)",
           "rgba(255, 153, 51, 0.37704918032786866)",
           "rgba(255, 153, 51, 0.344262295081967)",
           "rgba(55, 128, 191, 0.344262295081967)",
           "rgba(50, 171, 96, 0.344262295081967)",
           "rgba(128, 0, 128, 0.344262295081967)",
           "rgba(219, 64, 82, 0.344262295081967)",
           "rgba(0, 128, 128, 0.344262295081967)",
           "rgba(255, 255, 51, 0.344262295081967)",
           "rgba(128, 128, 0, 0.344262295081967)",
           "rgba(251, 128, 114, 0.344262295081967)",
           "rgba(128, 177, 211, 0.344262295081967)",
           "rgba(128, 177, 211, 0.3114754098360653)",
           "rgba(255, 153, 51, 0.3114754098360653)",
           "rgba(55, 128, 191, 0.3114754098360653)",
           "rgba(50, 171, 96, 0.3114754098360653)",
           "rgba(128, 0, 128, 0.3114754098360653)",
           "rgba(219, 64, 82, 0.3114754098360653)",
           "rgba(0, 128, 128, 0.3114754098360653)",
           "rgba(255, 255, 51, 0.3114754098360653)",
           "rgba(128, 128, 0, 0.3114754098360653)",
           "rgba(251, 128, 114, 0.3114754098360653)",
           "rgba(251, 128, 114, 0.27868852459016386)",
           "rgba(128, 177, 211, 0.27868852459016386)",
           "rgba(255, 153, 51, 0.27868852459016386)",
           "rgba(55, 128, 191, 0.27868852459016386)",
           "rgba(50, 171, 96, 0.27868852459016386)",
           "rgba(128, 0, 128, 0.27868852459016386)",
           "rgba(219, 64, 82, 0.27868852459016386)",
           "rgba(0, 128, 128, 0.27868852459016386)",
           "rgba(255, 255, 51, 0.27868852459016386)",
           "rgba(128, 128, 0, 0.27868852459016386)",
           "rgba(128, 128, 0, 0.24590163934426218)",
           "rgba(251, 128, 114, 0.24590163934426218)",
           "rgba(128, 177, 211, 0.24590163934426218)",
           "rgba(255, 153, 51, 0.24590163934426218)",
           "rgba(55, 128, 191, 0.24590163934426218)",
           "rgba(50, 171, 96, 0.24590163934426218)",
           "rgba(128, 0, 128, 0.24590163934426218)",
           "rgba(219, 64, 82, 0.24590163934426218)",
           "rgba(0, 128, 128, 0.24590163934426218)",
           "rgba(255, 255, 51, 0.24590163934426218)",
           "rgba(255, 255, 51, 0.2131147540983605)",
           "rgba(128, 128, 0, 0.2131147540983605)",
           "rgba(251, 128, 114, 0.2131147540983605)",
           "rgba(128, 177, 211, 0.2131147540983605)"
          ],
          "opacity": 0.8,
          "size": [
           12,
           12,
           12,
           12,
           12,
           12,
           12,
           12,
           12,
           12,
           12,
           12,
           12,
           12,
           12,
           12,
           12,
           12,
           12,
           12,
           12,
           12,
           12,
           12,
           12,
           12,
           12,
           12,
           12,
           12,
           12,
           12,
           12,
           12,
           12,
           12,
           12,
           12,
           12,
           12,
           12,
           12,
           12,
           12,
           12,
           12,
           12,
           12,
           12,
           12,
           12,
           12,
           12,
           12,
           12,
           12,
           12,
           12,
           12,
           12,
           12,
           12,
           12,
           12,
           12,
           12,
           12,
           12,
           12,
           12,
           12,
           12,
           12,
           12,
           12,
           12,
           12,
           12,
           12,
           12,
           12,
           12,
           12,
           12,
           12,
           12,
           12,
           12,
           12,
           12,
           12,
           12,
           12,
           12,
           12,
           12,
           12,
           12,
           12,
           12,
           12,
           12,
           12,
           12,
           12,
           12,
           12,
           12,
           12,
           12,
           12,
           12,
           12,
           12,
           12,
           12,
           12,
           12,
           12,
           12,
           12,
           12,
           12,
           12,
           12,
           12,
           12,
           12,
           12,
           12,
           12,
           12,
           12,
           12,
           12,
           12,
           12,
           12,
           12,
           12,
           12,
           12,
           12,
           12,
           12,
           12,
           12,
           12,
           12,
           12,
           12,
           12,
           12,
           12,
           12,
           12,
           12,
           12,
           12,
           12,
           12,
           12,
           12,
           12,
           12,
           12,
           12,
           12,
           12,
           12,
           12,
           12,
           12,
           12,
           12,
           12,
           12,
           12,
           12,
           12,
           12,
           12,
           12,
           12,
           12,
           12,
           12,
           12,
           12,
           12,
           12,
           12,
           12,
           12,
           12,
           12,
           12,
           12,
           12,
           12,
           12,
           12,
           12,
           12,
           12,
           12,
           12,
           12,
           12,
           12,
           12,
           12,
           12,
           12,
           12,
           12,
           12,
           12,
           12,
           12,
           12,
           12,
           12,
           12,
           12,
           12,
           12,
           12,
           12,
           12,
           12,
           12,
           12,
           12,
           12,
           12,
           12,
           12,
           12,
           12,
           12,
           12,
           12,
           12
          ],
          "symbol": "circle"
         },
         "mode": "markers",
         "text": [
          "0",
          "1",
          "2",
          "3",
          "4",
          "5",
          "6",
          "7",
          "8",
          "9",
          "10",
          "11",
          "12",
          "13",
          "14",
          "15",
          "16",
          "17",
          "18",
          "19",
          "20",
          "21",
          "22",
          "23",
          "24",
          "25",
          "26",
          "27",
          "28",
          "29",
          "30",
          "31",
          "32",
          "33",
          "34",
          "35",
          "36",
          "37",
          "38",
          "39",
          "40",
          "41",
          "42",
          "43",
          "44",
          "45",
          "46",
          "47",
          "48",
          "49",
          "50",
          "51",
          "52",
          "53",
          "54",
          "55",
          "56",
          "57",
          "58",
          "59",
          "60",
          "61",
          "62",
          "63",
          "64",
          "65",
          "66",
          "67",
          "68",
          "69",
          "70",
          "71",
          "72",
          "73",
          "74",
          "75",
          "76",
          "77",
          "78",
          "79",
          "80",
          "81",
          "82",
          "83",
          "84",
          "85",
          "86",
          "87",
          "88",
          "89",
          "90",
          "91",
          "92",
          "93",
          "94",
          "95",
          "96",
          "97",
          "98",
          "99",
          "100",
          "101",
          "102",
          "103",
          "104",
          "105",
          "106",
          "107",
          "108",
          "109",
          "110",
          "111",
          "112",
          "113",
          "114",
          "115",
          "116",
          "117",
          "118",
          "119",
          "120",
          "121",
          "122",
          "123",
          "124",
          "125",
          "126",
          "127",
          "128",
          "129",
          "130",
          "131",
          "132",
          "133",
          "134",
          "135",
          "136",
          "137",
          "138",
          "139",
          "140",
          "141",
          "142",
          "143",
          "144",
          "145",
          "146",
          "147",
          "148",
          "149",
          "150",
          "151",
          "152",
          "153",
          "154",
          "155",
          "156",
          "157",
          "158",
          "159",
          "160",
          "161",
          "162",
          "163",
          "164",
          "165",
          "166",
          "167",
          "168",
          "169",
          "170",
          "171",
          "172",
          "173",
          "174",
          "175",
          "176",
          "177",
          "178",
          "179",
          "180",
          "181",
          "182",
          "183",
          "184",
          "185",
          "186",
          "187",
          "188",
          "189",
          "190",
          "191",
          "192",
          "193",
          "194",
          "195",
          "196",
          "197",
          "198",
          "199",
          "200",
          "201",
          "202",
          "203",
          "204",
          "205",
          "206",
          "207",
          "208",
          "209",
          "210",
          "211",
          "212",
          "213",
          "214",
          "215",
          "216",
          "217",
          "218",
          "219",
          "220",
          "221",
          "222",
          "223",
          "224",
          "225",
          "226",
          "227",
          "228",
          "229",
          "230",
          "231",
          "232",
          "233",
          "234",
          "235",
          "236",
          "237",
          "238",
          "239",
          "240",
          "241",
          "242",
          "243"
         ],
         "type": "scatter3d",
         "x": [
          16.99,
          10.34,
          21.01,
          23.68,
          24.59,
          25.29,
          8.77,
          26.88,
          15.04,
          14.78,
          10.27,
          35.26,
          15.42,
          18.43,
          14.83,
          21.58,
          10.33,
          16.29,
          16.97,
          20.65,
          17.92,
          20.29,
          15.77,
          39.42,
          19.82,
          17.81,
          13.37,
          12.69,
          21.7,
          19.65,
          9.55,
          18.35,
          15.06,
          20.69,
          17.78,
          24.06,
          16.31,
          16.93,
          18.69,
          31.27,
          16.04,
          17.46,
          13.94,
          9.68,
          30.4,
          18.29,
          22.23,
          32.4,
          28.55,
          18.04,
          12.54,
          10.29,
          34.81,
          9.94,
          25.56,
          19.49,
          38.01,
          26.41,
          11.24,
          48.27,
          20.29,
          13.81,
          11.02,
          18.29,
          17.59,
          20.08,
          16.45,
          3.07,
          20.23,
          15.01,
          12.02,
          17.07,
          26.86,
          25.28,
          14.73,
          10.51,
          17.92,
          27.2,
          22.76,
          17.29,
          19.44,
          16.66,
          10.07,
          32.68,
          15.98,
          34.83,
          13.03,
          18.28,
          24.71,
          21.16,
          28.97,
          22.49,
          5.75,
          16.32,
          22.75,
          40.17,
          27.28,
          12.03,
          21.01,
          12.46,
          11.35,
          15.38,
          44.3,
          22.42,
          20.92,
          15.36,
          20.49,
          25.21,
          18.24,
          14.31,
          14,
          7.25,
          38.07,
          23.95,
          25.71,
          17.31,
          29.93,
          10.65,
          12.43,
          24.08,
          11.69,
          13.42,
          14.26,
          15.95,
          12.48,
          29.8,
          8.52,
          14.52,
          11.38,
          22.82,
          19.08,
          20.27,
          11.17,
          12.26,
          18.26,
          8.51,
          10.33,
          14.15,
          16,
          13.16,
          17.47,
          34.3,
          41.19,
          27.05,
          16.43,
          8.35,
          18.64,
          11.87,
          9.78,
          7.51,
          14.07,
          13.13,
          17.26,
          24.55,
          19.77,
          29.85,
          48.17,
          25,
          13.39,
          16.49,
          21.5,
          12.66,
          16.21,
          13.81,
          17.51,
          24.52,
          20.76,
          31.71,
          10.59,
          10.63,
          50.81,
          15.81,
          7.25,
          31.85,
          16.82,
          32.9,
          17.89,
          14.48,
          9.6,
          34.63,
          34.65,
          23.33,
          45.35,
          23.17,
          40.55,
          20.69,
          20.9,
          30.46,
          18.15,
          23.1,
          15.69,
          19.81,
          28.44,
          15.48,
          16.58,
          7.56,
          10.34,
          43.11,
          13,
          13.51,
          18.71,
          12.74,
          13,
          16.4,
          20.53,
          16.47,
          26.59,
          38.73,
          24.27,
          12.76,
          30.06,
          25.89,
          48.33,
          13.27,
          28.17,
          12.9,
          28.15,
          11.59,
          7.74,
          30.14,
          12.16,
          13.42,
          8.58,
          15.98,
          13.42,
          16.27,
          10.09,
          20.45,
          13.28,
          22.12,
          24.01,
          15.69,
          11.61,
          10.77,
          15.53,
          10.07,
          12.6,
          32.83,
          35.83,
          29.03,
          27.18,
          22.67,
          17.82,
          18.78
         ],
         "y": [
          1.01,
          1.66,
          3.5,
          3.31,
          3.61,
          4.71,
          2,
          3.12,
          1.96,
          3.23,
          1.71,
          5,
          1.57,
          3,
          3.02,
          3.92,
          1.67,
          3.71,
          3.5,
          3.35,
          4.08,
          2.75,
          2.23,
          7.58,
          3.18,
          2.34,
          2,
          2,
          4.3,
          3,
          1.45,
          2.5,
          3,
          2.45,
          3.27,
          3.6,
          2,
          3.07,
          2.31,
          5,
          2.24,
          2.54,
          3.06,
          1.32,
          5.6,
          3,
          5,
          6,
          2.05,
          3,
          2.5,
          2.6,
          5.2,
          1.56,
          4.34,
          3.51,
          3,
          1.5,
          1.76,
          6.73,
          3.21,
          2,
          1.98,
          3.76,
          2.64,
          3.15,
          2.47,
          1,
          2.01,
          2.09,
          1.97,
          3,
          3.14,
          5,
          2.2,
          1.25,
          3.08,
          4,
          3,
          2.71,
          3,
          3.4,
          1.83,
          5,
          2.03,
          5.17,
          2,
          4,
          5.85,
          3,
          3,
          3.5,
          1,
          4.3,
          3.25,
          4.73,
          4,
          1.5,
          3,
          1.5,
          2.5,
          3,
          2.5,
          3.48,
          4.08,
          1.64,
          4.06,
          4.29,
          3.76,
          4,
          3,
          1,
          4,
          2.55,
          4,
          3.5,
          5.07,
          1.5,
          1.8,
          2.92,
          2.31,
          1.68,
          2.5,
          2,
          2.52,
          4.2,
          1.48,
          2,
          2,
          2.18,
          1.5,
          2.83,
          1.5,
          2,
          3.25,
          1.25,
          2,
          2,
          2,
          2.75,
          3.5,
          6.7,
          5,
          5,
          2.3,
          1.5,
          1.36,
          1.63,
          1.73,
          2,
          2.5,
          2,
          2.74,
          2,
          2,
          5.14,
          5,
          3.75,
          2.61,
          2,
          3.5,
          2.5,
          2,
          2,
          3,
          3.48,
          2.24,
          4.5,
          1.61,
          2,
          10,
          3.16,
          5.15,
          3.18,
          4,
          3.11,
          2,
          2,
          4,
          3.55,
          3.68,
          5.65,
          3.5,
          6.5,
          3,
          5,
          3.5,
          2,
          3.5,
          4,
          1.5,
          4.19,
          2.56,
          2.02,
          4,
          1.44,
          2,
          5,
          2,
          2,
          4,
          2.01,
          2,
          2.5,
          4,
          3.23,
          3.41,
          3,
          2.03,
          2.23,
          2,
          5.16,
          9,
          2.5,
          6.5,
          1.1,
          3,
          1.5,
          1.44,
          3.09,
          2.2,
          3.48,
          1.92,
          3,
          1.58,
          2.5,
          2,
          3,
          2.72,
          2.88,
          2,
          3,
          3.39,
          1.47,
          3,
          1.25,
          1,
          1.17,
          4.67,
          5.92,
          2,
          2,
          1.75,
          3
         ],
         "z": [
          2,
          3,
          3,
          2,
          4,
          4,
          2,
          4,
          2,
          2,
          2,
          4,
          2,
          4,
          2,
          2,
          3,
          3,
          3,
          3,
          2,
          2,
          2,
          4,
          2,
          4,
          2,
          2,
          2,
          2,
          2,
          4,
          2,
          4,
          2,
          3,
          3,
          3,
          3,
          3,
          3,
          2,
          2,
          2,
          4,
          2,
          2,
          4,
          3,
          2,
          2,
          2,
          4,
          2,
          4,
          2,
          4,
          2,
          2,
          4,
          2,
          2,
          2,
          4,
          3,
          3,
          2,
          1,
          2,
          2,
          2,
          3,
          2,
          2,
          2,
          2,
          2,
          4,
          2,
          2,
          2,
          2,
          1,
          2,
          2,
          4,
          2,
          2,
          2,
          2,
          2,
          2,
          2,
          2,
          2,
          4,
          2,
          2,
          2,
          2,
          2,
          2,
          3,
          2,
          2,
          2,
          2,
          2,
          2,
          2,
          2,
          1,
          3,
          2,
          3,
          2,
          4,
          2,
          2,
          4,
          2,
          2,
          2,
          2,
          2,
          6,
          2,
          2,
          2,
          3,
          2,
          2,
          2,
          2,
          2,
          2,
          2,
          2,
          2,
          2,
          2,
          6,
          5,
          6,
          2,
          2,
          3,
          2,
          2,
          2,
          2,
          2,
          3,
          4,
          4,
          5,
          6,
          4,
          2,
          4,
          4,
          2,
          3,
          2,
          2,
          3,
          2,
          4,
          2,
          2,
          3,
          2,
          2,
          2,
          2,
          2,
          2,
          2,
          2,
          2,
          4,
          2,
          3,
          4,
          2,
          5,
          3,
          5,
          3,
          3,
          2,
          2,
          2,
          2,
          2,
          2,
          2,
          4,
          2,
          2,
          3,
          2,
          2,
          2,
          4,
          3,
          3,
          4,
          2,
          2,
          3,
          4,
          4,
          2,
          3,
          2,
          5,
          2,
          2,
          4,
          2,
          2,
          1,
          3,
          2,
          2,
          2,
          4,
          2,
          2,
          4,
          3,
          2,
          2,
          2,
          2,
          2,
          2,
          3,
          3,
          2,
          2,
          2,
          2
         ]
        }
       ],
       "layout": {
        "legend": {
         "bgcolor": "#F5F6F9",
         "font": {
          "color": "#4D5663"
         }
        },
        "paper_bgcolor": "#F5F6F9",
        "plot_bgcolor": "#F5F6F9",
        "scene": {
         "xaxis": {
          "gridcolor": "#9499A3",
          "showgrid": true,
          "tickfont": {
           "color": "#4D5663"
          },
          "title": {
           "font": {
            "color": "#4D5663"
           },
           "text": ""
          },
          "zerolinecolor": "#9499A3"
         },
         "yaxis": {
          "gridcolor": "#9499A3",
          "showgrid": true,
          "tickfont": {
           "color": "#4D5663"
          },
          "title": {
           "font": {
            "color": "#4D5663"
           },
           "text": ""
          },
          "zerolinecolor": "#9499A3"
         },
         "zaxis": {
          "gridcolor": "#9499A3",
          "showgrid": true,
          "tickfont": {
           "color": "#4D5663"
          },
          "title": {
           "font": {
            "color": "#4D5663"
           },
           "text": ""
          },
          "zerolinecolor": "#9499A3"
         }
        },
        "template": {
         "data": {
          "bar": [
           {
            "error_x": {
             "color": "#2a3f5f"
            },
            "error_y": {
             "color": "#2a3f5f"
            },
            "marker": {
             "line": {
              "color": "#E5ECF6",
              "width": 0.5
             },
             "pattern": {
              "fillmode": "overlay",
              "size": 10,
              "solidity": 0.2
             }
            },
            "type": "bar"
           }
          ],
          "barpolar": [
           {
            "marker": {
             "line": {
              "color": "#E5ECF6",
              "width": 0.5
             },
             "pattern": {
              "fillmode": "overlay",
              "size": 10,
              "solidity": 0.2
             }
            },
            "type": "barpolar"
           }
          ],
          "carpet": [
           {
            "aaxis": {
             "endlinecolor": "#2a3f5f",
             "gridcolor": "white",
             "linecolor": "white",
             "minorgridcolor": "white",
             "startlinecolor": "#2a3f5f"
            },
            "baxis": {
             "endlinecolor": "#2a3f5f",
             "gridcolor": "white",
             "linecolor": "white",
             "minorgridcolor": "white",
             "startlinecolor": "#2a3f5f"
            },
            "type": "carpet"
           }
          ],
          "choropleth": [
           {
            "colorbar": {
             "outlinewidth": 0,
             "ticks": ""
            },
            "type": "choropleth"
           }
          ],
          "contour": [
           {
            "colorbar": {
             "outlinewidth": 0,
             "ticks": ""
            },
            "colorscale": [
             [
              0,
              "#0d0887"
             ],
             [
              0.1111111111111111,
              "#46039f"
             ],
             [
              0.2222222222222222,
              "#7201a8"
             ],
             [
              0.3333333333333333,
              "#9c179e"
             ],
             [
              0.4444444444444444,
              "#bd3786"
             ],
             [
              0.5555555555555556,
              "#d8576b"
             ],
             [
              0.6666666666666666,
              "#ed7953"
             ],
             [
              0.7777777777777778,
              "#fb9f3a"
             ],
             [
              0.8888888888888888,
              "#fdca26"
             ],
             [
              1,
              "#f0f921"
             ]
            ],
            "type": "contour"
           }
          ],
          "contourcarpet": [
           {
            "colorbar": {
             "outlinewidth": 0,
             "ticks": ""
            },
            "type": "contourcarpet"
           }
          ],
          "heatmap": [
           {
            "colorbar": {
             "outlinewidth": 0,
             "ticks": ""
            },
            "colorscale": [
             [
              0,
              "#0d0887"
             ],
             [
              0.1111111111111111,
              "#46039f"
             ],
             [
              0.2222222222222222,
              "#7201a8"
             ],
             [
              0.3333333333333333,
              "#9c179e"
             ],
             [
              0.4444444444444444,
              "#bd3786"
             ],
             [
              0.5555555555555556,
              "#d8576b"
             ],
             [
              0.6666666666666666,
              "#ed7953"
             ],
             [
              0.7777777777777778,
              "#fb9f3a"
             ],
             [
              0.8888888888888888,
              "#fdca26"
             ],
             [
              1,
              "#f0f921"
             ]
            ],
            "type": "heatmap"
           }
          ],
          "heatmapgl": [
           {
            "colorbar": {
             "outlinewidth": 0,
             "ticks": ""
            },
            "colorscale": [
             [
              0,
              "#0d0887"
             ],
             [
              0.1111111111111111,
              "#46039f"
             ],
             [
              0.2222222222222222,
              "#7201a8"
             ],
             [
              0.3333333333333333,
              "#9c179e"
             ],
             [
              0.4444444444444444,
              "#bd3786"
             ],
             [
              0.5555555555555556,
              "#d8576b"
             ],
             [
              0.6666666666666666,
              "#ed7953"
             ],
             [
              0.7777777777777778,
              "#fb9f3a"
             ],
             [
              0.8888888888888888,
              "#fdca26"
             ],
             [
              1,
              "#f0f921"
             ]
            ],
            "type": "heatmapgl"
           }
          ],
          "histogram": [
           {
            "marker": {
             "pattern": {
              "fillmode": "overlay",
              "size": 10,
              "solidity": 0.2
             }
            },
            "type": "histogram"
           }
          ],
          "histogram2d": [
           {
            "colorbar": {
             "outlinewidth": 0,
             "ticks": ""
            },
            "colorscale": [
             [
              0,
              "#0d0887"
             ],
             [
              0.1111111111111111,
              "#46039f"
             ],
             [
              0.2222222222222222,
              "#7201a8"
             ],
             [
              0.3333333333333333,
              "#9c179e"
             ],
             [
              0.4444444444444444,
              "#bd3786"
             ],
             [
              0.5555555555555556,
              "#d8576b"
             ],
             [
              0.6666666666666666,
              "#ed7953"
             ],
             [
              0.7777777777777778,
              "#fb9f3a"
             ],
             [
              0.8888888888888888,
              "#fdca26"
             ],
             [
              1,
              "#f0f921"
             ]
            ],
            "type": "histogram2d"
           }
          ],
          "histogram2dcontour": [
           {
            "colorbar": {
             "outlinewidth": 0,
             "ticks": ""
            },
            "colorscale": [
             [
              0,
              "#0d0887"
             ],
             [
              0.1111111111111111,
              "#46039f"
             ],
             [
              0.2222222222222222,
              "#7201a8"
             ],
             [
              0.3333333333333333,
              "#9c179e"
             ],
             [
              0.4444444444444444,
              "#bd3786"
             ],
             [
              0.5555555555555556,
              "#d8576b"
             ],
             [
              0.6666666666666666,
              "#ed7953"
             ],
             [
              0.7777777777777778,
              "#fb9f3a"
             ],
             [
              0.8888888888888888,
              "#fdca26"
             ],
             [
              1,
              "#f0f921"
             ]
            ],
            "type": "histogram2dcontour"
           }
          ],
          "mesh3d": [
           {
            "colorbar": {
             "outlinewidth": 0,
             "ticks": ""
            },
            "type": "mesh3d"
           }
          ],
          "parcoords": [
           {
            "line": {
             "colorbar": {
              "outlinewidth": 0,
              "ticks": ""
             }
            },
            "type": "parcoords"
           }
          ],
          "pie": [
           {
            "automargin": true,
            "type": "pie"
           }
          ],
          "scatter": [
           {
            "fillpattern": {
             "fillmode": "overlay",
             "size": 10,
             "solidity": 0.2
            },
            "type": "scatter"
           }
          ],
          "scatter3d": [
           {
            "line": {
             "colorbar": {
              "outlinewidth": 0,
              "ticks": ""
             }
            },
            "marker": {
             "colorbar": {
              "outlinewidth": 0,
              "ticks": ""
             }
            },
            "type": "scatter3d"
           }
          ],
          "scattercarpet": [
           {
            "marker": {
             "colorbar": {
              "outlinewidth": 0,
              "ticks": ""
             }
            },
            "type": "scattercarpet"
           }
          ],
          "scattergeo": [
           {
            "marker": {
             "colorbar": {
              "outlinewidth": 0,
              "ticks": ""
             }
            },
            "type": "scattergeo"
           }
          ],
          "scattergl": [
           {
            "marker": {
             "colorbar": {
              "outlinewidth": 0,
              "ticks": ""
             }
            },
            "type": "scattergl"
           }
          ],
          "scattermapbox": [
           {
            "marker": {
             "colorbar": {
              "outlinewidth": 0,
              "ticks": ""
             }
            },
            "type": "scattermapbox"
           }
          ],
          "scatterpolar": [
           {
            "marker": {
             "colorbar": {
              "outlinewidth": 0,
              "ticks": ""
             }
            },
            "type": "scatterpolar"
           }
          ],
          "scatterpolargl": [
           {
            "marker": {
             "colorbar": {
              "outlinewidth": 0,
              "ticks": ""
             }
            },
            "type": "scatterpolargl"
           }
          ],
          "scatterternary": [
           {
            "marker": {
             "colorbar": {
              "outlinewidth": 0,
              "ticks": ""
             }
            },
            "type": "scatterternary"
           }
          ],
          "surface": [
           {
            "colorbar": {
             "outlinewidth": 0,
             "ticks": ""
            },
            "colorscale": [
             [
              0,
              "#0d0887"
             ],
             [
              0.1111111111111111,
              "#46039f"
             ],
             [
              0.2222222222222222,
              "#7201a8"
             ],
             [
              0.3333333333333333,
              "#9c179e"
             ],
             [
              0.4444444444444444,
              "#bd3786"
             ],
             [
              0.5555555555555556,
              "#d8576b"
             ],
             [
              0.6666666666666666,
              "#ed7953"
             ],
             [
              0.7777777777777778,
              "#fb9f3a"
             ],
             [
              0.8888888888888888,
              "#fdca26"
             ],
             [
              1,
              "#f0f921"
             ]
            ],
            "type": "surface"
           }
          ],
          "table": [
           {
            "cells": {
             "fill": {
              "color": "#EBF0F8"
             },
             "line": {
              "color": "white"
             }
            },
            "header": {
             "fill": {
              "color": "#C8D4E3"
             },
             "line": {
              "color": "white"
             }
            },
            "type": "table"
           }
          ]
         },
         "layout": {
          "annotationdefaults": {
           "arrowcolor": "#2a3f5f",
           "arrowhead": 0,
           "arrowwidth": 1
          },
          "autotypenumbers": "strict",
          "coloraxis": {
           "colorbar": {
            "outlinewidth": 0,
            "ticks": ""
           }
          },
          "colorscale": {
           "diverging": [
            [
             0,
             "#8e0152"
            ],
            [
             0.1,
             "#c51b7d"
            ],
            [
             0.2,
             "#de77ae"
            ],
            [
             0.3,
             "#f1b6da"
            ],
            [
             0.4,
             "#fde0ef"
            ],
            [
             0.5,
             "#f7f7f7"
            ],
            [
             0.6,
             "#e6f5d0"
            ],
            [
             0.7,
             "#b8e186"
            ],
            [
             0.8,
             "#7fbc41"
            ],
            [
             0.9,
             "#4d9221"
            ],
            [
             1,
             "#276419"
            ]
           ],
           "sequential": [
            [
             0,
             "#0d0887"
            ],
            [
             0.1111111111111111,
             "#46039f"
            ],
            [
             0.2222222222222222,
             "#7201a8"
            ],
            [
             0.3333333333333333,
             "#9c179e"
            ],
            [
             0.4444444444444444,
             "#bd3786"
            ],
            [
             0.5555555555555556,
             "#d8576b"
            ],
            [
             0.6666666666666666,
             "#ed7953"
            ],
            [
             0.7777777777777778,
             "#fb9f3a"
            ],
            [
             0.8888888888888888,
             "#fdca26"
            ],
            [
             1,
             "#f0f921"
            ]
           ],
           "sequentialminus": [
            [
             0,
             "#0d0887"
            ],
            [
             0.1111111111111111,
             "#46039f"
            ],
            [
             0.2222222222222222,
             "#7201a8"
            ],
            [
             0.3333333333333333,
             "#9c179e"
            ],
            [
             0.4444444444444444,
             "#bd3786"
            ],
            [
             0.5555555555555556,
             "#d8576b"
            ],
            [
             0.6666666666666666,
             "#ed7953"
            ],
            [
             0.7777777777777778,
             "#fb9f3a"
            ],
            [
             0.8888888888888888,
             "#fdca26"
            ],
            [
             1,
             "#f0f921"
            ]
           ]
          },
          "colorway": [
           "#636efa",
           "#EF553B",
           "#00cc96",
           "#ab63fa",
           "#FFA15A",
           "#19d3f3",
           "#FF6692",
           "#B6E880",
           "#FF97FF",
           "#FECB52"
          ],
          "font": {
           "color": "#2a3f5f"
          },
          "geo": {
           "bgcolor": "white",
           "lakecolor": "white",
           "landcolor": "#E5ECF6",
           "showlakes": true,
           "showland": true,
           "subunitcolor": "white"
          },
          "hoverlabel": {
           "align": "left"
          },
          "hovermode": "closest",
          "mapbox": {
           "style": "light"
          },
          "paper_bgcolor": "white",
          "plot_bgcolor": "#E5ECF6",
          "polar": {
           "angularaxis": {
            "gridcolor": "white",
            "linecolor": "white",
            "ticks": ""
           },
           "bgcolor": "#E5ECF6",
           "radialaxis": {
            "gridcolor": "white",
            "linecolor": "white",
            "ticks": ""
           }
          },
          "scene": {
           "xaxis": {
            "backgroundcolor": "#E5ECF6",
            "gridcolor": "white",
            "gridwidth": 2,
            "linecolor": "white",
            "showbackground": true,
            "ticks": "",
            "zerolinecolor": "white"
           },
           "yaxis": {
            "backgroundcolor": "#E5ECF6",
            "gridcolor": "white",
            "gridwidth": 2,
            "linecolor": "white",
            "showbackground": true,
            "ticks": "",
            "zerolinecolor": "white"
           },
           "zaxis": {
            "backgroundcolor": "#E5ECF6",
            "gridcolor": "white",
            "gridwidth": 2,
            "linecolor": "white",
            "showbackground": true,
            "ticks": "",
            "zerolinecolor": "white"
           }
          },
          "shapedefaults": {
           "line": {
            "color": "#2a3f5f"
           }
          },
          "ternary": {
           "aaxis": {
            "gridcolor": "white",
            "linecolor": "white",
            "ticks": ""
           },
           "baxis": {
            "gridcolor": "white",
            "linecolor": "white",
            "ticks": ""
           },
           "bgcolor": "#E5ECF6",
           "caxis": {
            "gridcolor": "white",
            "linecolor": "white",
            "ticks": ""
           }
          },
          "title": {
           "x": 0.05
          },
          "xaxis": {
           "automargin": true,
           "gridcolor": "white",
           "linecolor": "white",
           "ticks": "",
           "title": {
            "standoff": 15
           },
           "zerolinecolor": "white",
           "zerolinewidth": 2
          },
          "yaxis": {
           "automargin": true,
           "gridcolor": "white",
           "linecolor": "white",
           "ticks": "",
           "title": {
            "standoff": 15
           },
           "zerolinecolor": "white",
           "zerolinewidth": 2
          }
         }
        },
        "title": {
         "font": {
          "color": "#4D5663"
         }
        }
       }
      },
      "text/html": [
       "<div>                            <div id=\"40097a85-a7e7-401f-8561-dd58b9af9e45\" class=\"plotly-graph-div\" style=\"height:525px; width:100%;\"></div>            <script type=\"text/javascript\">                require([\"plotly\"], function(Plotly) {                    window.PLOTLYENV=window.PLOTLYENV || {};\n",
       "                    window.PLOTLYENV.BASE_URL='https://plot.ly';                                    if (document.getElementById(\"40097a85-a7e7-401f-8561-dd58b9af9e45\")) {                    Plotly.newPlot(                        \"40097a85-a7e7-401f-8561-dd58b9af9e45\",                        [{\"marker\":{\"color\":[\"rgba(255, 153, 51, 1.0)\",\"rgba(55, 128, 191, 1.0)\",\"rgba(50, 171, 96, 1.0)\",\"rgba(128, 0, 128, 1.0)\",\"rgba(219, 64, 82, 1.0)\",\"rgba(0, 128, 128, 1.0)\",\"rgba(255, 255, 51, 1.0)\",\"rgba(128, 128, 0, 1.0)\",\"rgba(251, 128, 114, 1.0)\",\"rgba(128, 177, 211, 1.0)\",\"rgba(128, 177, 211, 0.9672131147540983)\",\"rgba(255, 153, 51, 0.9672131147540983)\",\"rgba(55, 128, 191, 0.9672131147540983)\",\"rgba(50, 171, 96, 0.9672131147540983)\",\"rgba(128, 0, 128, 0.9672131147540983)\",\"rgba(219, 64, 82, 0.9672131147540983)\",\"rgba(0, 128, 128, 0.9672131147540983)\",\"rgba(255, 255, 51, 0.9672131147540983)\",\"rgba(128, 128, 0, 0.9672131147540983)\",\"rgba(251, 128, 114, 0.9672131147540983)\",\"rgba(251, 128, 114, 0.9344262295081966)\",\"rgba(128, 177, 211, 0.9344262295081966)\",\"rgba(255, 153, 51, 0.9344262295081966)\",\"rgba(55, 128, 191, 0.9344262295081966)\",\"rgba(50, 171, 96, 0.9344262295081966)\",\"rgba(128, 0, 128, 0.9344262295081966)\",\"rgba(219, 64, 82, 0.9344262295081966)\",\"rgba(0, 128, 128, 0.9344262295081966)\",\"rgba(255, 255, 51, 0.9344262295081966)\",\"rgba(128, 128, 0, 0.9344262295081966)\",\"rgba(128, 128, 0, 0.901639344262295)\",\"rgba(251, 128, 114, 0.901639344262295)\",\"rgba(128, 177, 211, 0.901639344262295)\",\"rgba(255, 153, 51, 0.901639344262295)\",\"rgba(55, 128, 191, 0.901639344262295)\",\"rgba(50, 171, 96, 0.901639344262295)\",\"rgba(128, 0, 128, 0.901639344262295)\",\"rgba(219, 64, 82, 0.901639344262295)\",\"rgba(0, 128, 128, 0.901639344262295)\",\"rgba(255, 255, 51, 0.901639344262295)\",\"rgba(255, 255, 51, 0.8688524590163933)\",\"rgba(128, 128, 0, 0.8688524590163933)\",\"rgba(251, 128, 114, 0.8688524590163933)\",\"rgba(128, 177, 211, 0.8688524590163933)\",\"rgba(255, 153, 51, 0.8688524590163933)\",\"rgba(55, 128, 191, 0.8688524590163933)\",\"rgba(50, 171, 96, 0.8688524590163933)\",\"rgba(128, 0, 128, 0.8688524590163933)\",\"rgba(219, 64, 82, 0.8688524590163933)\",\"rgba(0, 128, 128, 0.8688524590163933)\",\"rgba(0, 128, 128, 0.8360655737704918)\",\"rgba(255, 255, 51, 0.8360655737704918)\",\"rgba(128, 128, 0, 0.8360655737704918)\",\"rgba(251, 128, 114, 0.8360655737704918)\",\"rgba(128, 177, 211, 0.8360655737704918)\",\"rgba(255, 153, 51, 0.8360655737704918)\",\"rgba(55, 128, 191, 0.8360655737704918)\",\"rgba(50, 171, 96, 0.8360655737704918)\",\"rgba(128, 0, 128, 0.8360655737704918)\",\"rgba(219, 64, 82, 0.8360655737704918)\",\"rgba(219, 64, 82, 0.8032786885245902)\",\"rgba(0, 128, 128, 0.8032786885245902)\",\"rgba(255, 255, 51, 0.8032786885245902)\",\"rgba(128, 128, 0, 0.8032786885245902)\",\"rgba(251, 128, 114, 0.8032786885245902)\",\"rgba(128, 177, 211, 0.8032786885245902)\",\"rgba(255, 153, 51, 0.8032786885245902)\",\"rgba(55, 128, 191, 0.8032786885245902)\",\"rgba(50, 171, 96, 0.8032786885245902)\",\"rgba(128, 0, 128, 0.8032786885245902)\",\"rgba(128, 0, 128, 0.7704918032786885)\",\"rgba(219, 64, 82, 0.7704918032786885)\",\"rgba(0, 128, 128, 0.7704918032786885)\",\"rgba(255, 255, 51, 0.7704918032786885)\",\"rgba(128, 128, 0, 0.7704918032786885)\",\"rgba(251, 128, 114, 0.7704918032786885)\",\"rgba(128, 177, 211, 0.7704918032786885)\",\"rgba(255, 153, 51, 0.7704918032786885)\",\"rgba(55, 128, 191, 0.7704918032786885)\",\"rgba(50, 171, 96, 0.7704918032786885)\",\"rgba(50, 171, 96, 0.7377049180327868)\",\"rgba(128, 0, 128, 0.7377049180327868)\",\"rgba(219, 64, 82, 0.7377049180327868)\",\"rgba(0, 128, 128, 0.7377049180327868)\",\"rgba(255, 255, 51, 0.7377049180327868)\",\"rgba(128, 128, 0, 0.7377049180327868)\",\"rgba(251, 128, 114, 0.7377049180327868)\",\"rgba(128, 177, 211, 0.7377049180327868)\",\"rgba(255, 153, 51, 0.7377049180327868)\",\"rgba(55, 128, 191, 0.7377049180327868)\",\"rgba(55, 128, 191, 0.7049180327868851)\",\"rgba(50, 171, 96, 0.7049180327868851)\",\"rgba(128, 0, 128, 0.7049180327868851)\",\"rgba(219, 64, 82, 0.7049180327868851)\",\"rgba(0, 128, 128, 0.7049180327868851)\",\"rgba(255, 255, 51, 0.7049180327868851)\",\"rgba(128, 128, 0, 0.7049180327868851)\",\"rgba(251, 128, 114, 0.7049180327868851)\",\"rgba(128, 177, 211, 0.7049180327868851)\",\"rgba(255, 153, 51, 0.7049180327868851)\",\"rgba(255, 153, 51, 0.6721311475409835)\",\"rgba(55, 128, 191, 0.6721311475409835)\",\"rgba(50, 171, 96, 0.6721311475409835)\",\"rgba(128, 0, 128, 0.6721311475409835)\",\"rgba(219, 64, 82, 0.6721311475409835)\",\"rgba(0, 128, 128, 0.6721311475409835)\",\"rgba(255, 255, 51, 0.6721311475409835)\",\"rgba(128, 128, 0, 0.6721311475409835)\",\"rgba(251, 128, 114, 0.6721311475409835)\",\"rgba(128, 177, 211, 0.6721311475409835)\",\"rgba(128, 177, 211, 0.6393442622950818)\",\"rgba(255, 153, 51, 0.6393442622950818)\",\"rgba(55, 128, 191, 0.6393442622950818)\",\"rgba(50, 171, 96, 0.6393442622950818)\",\"rgba(128, 0, 128, 0.6393442622950818)\",\"rgba(219, 64, 82, 0.6393442622950818)\",\"rgba(0, 128, 128, 0.6393442622950818)\",\"rgba(255, 255, 51, 0.6393442622950818)\",\"rgba(128, 128, 0, 0.6393442622950818)\",\"rgba(251, 128, 114, 0.6393442622950818)\",\"rgba(251, 128, 114, 0.6065573770491801)\",\"rgba(128, 177, 211, 0.6065573770491801)\",\"rgba(255, 153, 51, 0.6065573770491801)\",\"rgba(55, 128, 191, 0.6065573770491801)\",\"rgba(50, 171, 96, 0.6065573770491801)\",\"rgba(128, 0, 128, 0.6065573770491801)\",\"rgba(219, 64, 82, 0.6065573770491801)\",\"rgba(0, 128, 128, 0.6065573770491801)\",\"rgba(255, 255, 51, 0.6065573770491801)\",\"rgba(128, 128, 0, 0.6065573770491801)\",\"rgba(128, 128, 0, 0.5737704918032784)\",\"rgba(251, 128, 114, 0.5737704918032784)\",\"rgba(128, 177, 211, 0.5737704918032784)\",\"rgba(255, 153, 51, 0.5737704918032784)\",\"rgba(55, 128, 191, 0.5737704918032784)\",\"rgba(50, 171, 96, 0.5737704918032784)\",\"rgba(128, 0, 128, 0.5737704918032784)\",\"rgba(219, 64, 82, 0.5737704918032784)\",\"rgba(0, 128, 128, 0.5737704918032784)\",\"rgba(255, 255, 51, 0.5737704918032784)\",\"rgba(255, 255, 51, 0.540983606557377)\",\"rgba(128, 128, 0, 0.540983606557377)\",\"rgba(251, 128, 114, 0.540983606557377)\",\"rgba(128, 177, 211, 0.540983606557377)\",\"rgba(255, 153, 51, 0.540983606557377)\",\"rgba(55, 128, 191, 0.540983606557377)\",\"rgba(50, 171, 96, 0.540983606557377)\",\"rgba(128, 0, 128, 0.540983606557377)\",\"rgba(219, 64, 82, 0.540983606557377)\",\"rgba(0, 128, 128, 0.540983606557377)\",\"rgba(0, 128, 128, 0.5081967213114753)\",\"rgba(255, 255, 51, 0.5081967213114753)\",\"rgba(128, 128, 0, 0.5081967213114753)\",\"rgba(251, 128, 114, 0.5081967213114753)\",\"rgba(128, 177, 211, 0.5081967213114753)\",\"rgba(255, 153, 51, 0.5081967213114753)\",\"rgba(55, 128, 191, 0.5081967213114753)\",\"rgba(50, 171, 96, 0.5081967213114753)\",\"rgba(128, 0, 128, 0.5081967213114753)\",\"rgba(219, 64, 82, 0.5081967213114753)\",\"rgba(219, 64, 82, 0.4754098360655737)\",\"rgba(0, 128, 128, 0.4754098360655737)\",\"rgba(255, 255, 51, 0.4754098360655737)\",\"rgba(128, 128, 0, 0.4754098360655737)\",\"rgba(251, 128, 114, 0.4754098360655737)\",\"rgba(128, 177, 211, 0.4754098360655737)\",\"rgba(255, 153, 51, 0.4754098360655737)\",\"rgba(55, 128, 191, 0.4754098360655737)\",\"rgba(50, 171, 96, 0.4754098360655737)\",\"rgba(128, 0, 128, 0.4754098360655737)\",\"rgba(128, 0, 128, 0.442622950819672)\",\"rgba(219, 64, 82, 0.442622950819672)\",\"rgba(0, 128, 128, 0.442622950819672)\",\"rgba(255, 255, 51, 0.442622950819672)\",\"rgba(128, 128, 0, 0.442622950819672)\",\"rgba(251, 128, 114, 0.442622950819672)\",\"rgba(128, 177, 211, 0.442622950819672)\",\"rgba(255, 153, 51, 0.442622950819672)\",\"rgba(55, 128, 191, 0.442622950819672)\",\"rgba(50, 171, 96, 0.442622950819672)\",\"rgba(50, 171, 96, 0.40983606557377034)\",\"rgba(128, 0, 128, 0.40983606557377034)\",\"rgba(219, 64, 82, 0.40983606557377034)\",\"rgba(0, 128, 128, 0.40983606557377034)\",\"rgba(255, 255, 51, 0.40983606557377034)\",\"rgba(128, 128, 0, 0.40983606557377034)\",\"rgba(251, 128, 114, 0.40983606557377034)\",\"rgba(128, 177, 211, 0.40983606557377034)\",\"rgba(255, 153, 51, 0.40983606557377034)\",\"rgba(55, 128, 191, 0.40983606557377034)\",\"rgba(55, 128, 191, 0.37704918032786866)\",\"rgba(50, 171, 96, 0.37704918032786866)\",\"rgba(128, 0, 128, 0.37704918032786866)\",\"rgba(219, 64, 82, 0.37704918032786866)\",\"rgba(0, 128, 128, 0.37704918032786866)\",\"rgba(255, 255, 51, 0.37704918032786866)\",\"rgba(128, 128, 0, 0.37704918032786866)\",\"rgba(251, 128, 114, 0.37704918032786866)\",\"rgba(128, 177, 211, 0.37704918032786866)\",\"rgba(255, 153, 51, 0.37704918032786866)\",\"rgba(255, 153, 51, 0.344262295081967)\",\"rgba(55, 128, 191, 0.344262295081967)\",\"rgba(50, 171, 96, 0.344262295081967)\",\"rgba(128, 0, 128, 0.344262295081967)\",\"rgba(219, 64, 82, 0.344262295081967)\",\"rgba(0, 128, 128, 0.344262295081967)\",\"rgba(255, 255, 51, 0.344262295081967)\",\"rgba(128, 128, 0, 0.344262295081967)\",\"rgba(251, 128, 114, 0.344262295081967)\",\"rgba(128, 177, 211, 0.344262295081967)\",\"rgba(128, 177, 211, 0.3114754098360653)\",\"rgba(255, 153, 51, 0.3114754098360653)\",\"rgba(55, 128, 191, 0.3114754098360653)\",\"rgba(50, 171, 96, 0.3114754098360653)\",\"rgba(128, 0, 128, 0.3114754098360653)\",\"rgba(219, 64, 82, 0.3114754098360653)\",\"rgba(0, 128, 128, 0.3114754098360653)\",\"rgba(255, 255, 51, 0.3114754098360653)\",\"rgba(128, 128, 0, 0.3114754098360653)\",\"rgba(251, 128, 114, 0.3114754098360653)\",\"rgba(251, 128, 114, 0.27868852459016386)\",\"rgba(128, 177, 211, 0.27868852459016386)\",\"rgba(255, 153, 51, 0.27868852459016386)\",\"rgba(55, 128, 191, 0.27868852459016386)\",\"rgba(50, 171, 96, 0.27868852459016386)\",\"rgba(128, 0, 128, 0.27868852459016386)\",\"rgba(219, 64, 82, 0.27868852459016386)\",\"rgba(0, 128, 128, 0.27868852459016386)\",\"rgba(255, 255, 51, 0.27868852459016386)\",\"rgba(128, 128, 0, 0.27868852459016386)\",\"rgba(128, 128, 0, 0.24590163934426218)\",\"rgba(251, 128, 114, 0.24590163934426218)\",\"rgba(128, 177, 211, 0.24590163934426218)\",\"rgba(255, 153, 51, 0.24590163934426218)\",\"rgba(55, 128, 191, 0.24590163934426218)\",\"rgba(50, 171, 96, 0.24590163934426218)\",\"rgba(128, 0, 128, 0.24590163934426218)\",\"rgba(219, 64, 82, 0.24590163934426218)\",\"rgba(0, 128, 128, 0.24590163934426218)\",\"rgba(255, 255, 51, 0.24590163934426218)\",\"rgba(255, 255, 51, 0.2131147540983605)\",\"rgba(128, 128, 0, 0.2131147540983605)\",\"rgba(251, 128, 114, 0.2131147540983605)\",\"rgba(128, 177, 211, 0.2131147540983605)\"],\"opacity\":0.8,\"size\":[12,12,12,12,12,12,12,12,12,12,12,12,12,12,12,12,12,12,12,12,12,12,12,12,12,12,12,12,12,12,12,12,12,12,12,12,12,12,12,12,12,12,12,12,12,12,12,12,12,12,12,12,12,12,12,12,12,12,12,12,12,12,12,12,12,12,12,12,12,12,12,12,12,12,12,12,12,12,12,12,12,12,12,12,12,12,12,12,12,12,12,12,12,12,12,12,12,12,12,12,12,12,12,12,12,12,12,12,12,12,12,12,12,12,12,12,12,12,12,12,12,12,12,12,12,12,12,12,12,12,12,12,12,12,12,12,12,12,12,12,12,12,12,12,12,12,12,12,12,12,12,12,12,12,12,12,12,12,12,12,12,12,12,12,12,12,12,12,12,12,12,12,12,12,12,12,12,12,12,12,12,12,12,12,12,12,12,12,12,12,12,12,12,12,12,12,12,12,12,12,12,12,12,12,12,12,12,12,12,12,12,12,12,12,12,12,12,12,12,12,12,12,12,12,12,12,12,12,12,12,12,12,12,12,12,12,12,12,12,12,12,12,12,12],\"symbol\":\"circle\"},\"mode\":\"markers\",\"text\":[\"0\",\"1\",\"2\",\"3\",\"4\",\"5\",\"6\",\"7\",\"8\",\"9\",\"10\",\"11\",\"12\",\"13\",\"14\",\"15\",\"16\",\"17\",\"18\",\"19\",\"20\",\"21\",\"22\",\"23\",\"24\",\"25\",\"26\",\"27\",\"28\",\"29\",\"30\",\"31\",\"32\",\"33\",\"34\",\"35\",\"36\",\"37\",\"38\",\"39\",\"40\",\"41\",\"42\",\"43\",\"44\",\"45\",\"46\",\"47\",\"48\",\"49\",\"50\",\"51\",\"52\",\"53\",\"54\",\"55\",\"56\",\"57\",\"58\",\"59\",\"60\",\"61\",\"62\",\"63\",\"64\",\"65\",\"66\",\"67\",\"68\",\"69\",\"70\",\"71\",\"72\",\"73\",\"74\",\"75\",\"76\",\"77\",\"78\",\"79\",\"80\",\"81\",\"82\",\"83\",\"84\",\"85\",\"86\",\"87\",\"88\",\"89\",\"90\",\"91\",\"92\",\"93\",\"94\",\"95\",\"96\",\"97\",\"98\",\"99\",\"100\",\"101\",\"102\",\"103\",\"104\",\"105\",\"106\",\"107\",\"108\",\"109\",\"110\",\"111\",\"112\",\"113\",\"114\",\"115\",\"116\",\"117\",\"118\",\"119\",\"120\",\"121\",\"122\",\"123\",\"124\",\"125\",\"126\",\"127\",\"128\",\"129\",\"130\",\"131\",\"132\",\"133\",\"134\",\"135\",\"136\",\"137\",\"138\",\"139\",\"140\",\"141\",\"142\",\"143\",\"144\",\"145\",\"146\",\"147\",\"148\",\"149\",\"150\",\"151\",\"152\",\"153\",\"154\",\"155\",\"156\",\"157\",\"158\",\"159\",\"160\",\"161\",\"162\",\"163\",\"164\",\"165\",\"166\",\"167\",\"168\",\"169\",\"170\",\"171\",\"172\",\"173\",\"174\",\"175\",\"176\",\"177\",\"178\",\"179\",\"180\",\"181\",\"182\",\"183\",\"184\",\"185\",\"186\",\"187\",\"188\",\"189\",\"190\",\"191\",\"192\",\"193\",\"194\",\"195\",\"196\",\"197\",\"198\",\"199\",\"200\",\"201\",\"202\",\"203\",\"204\",\"205\",\"206\",\"207\",\"208\",\"209\",\"210\",\"211\",\"212\",\"213\",\"214\",\"215\",\"216\",\"217\",\"218\",\"219\",\"220\",\"221\",\"222\",\"223\",\"224\",\"225\",\"226\",\"227\",\"228\",\"229\",\"230\",\"231\",\"232\",\"233\",\"234\",\"235\",\"236\",\"237\",\"238\",\"239\",\"240\",\"241\",\"242\",\"243\"],\"x\":[16.99,10.34,21.01,23.68,24.59,25.29,8.77,26.88,15.04,14.78,10.27,35.26,15.42,18.43,14.83,21.58,10.33,16.29,16.97,20.65,17.92,20.29,15.77,39.42,19.82,17.81,13.37,12.69,21.7,19.65,9.55,18.35,15.06,20.69,17.78,24.06,16.31,16.93,18.69,31.27,16.04,17.46,13.94,9.68,30.4,18.29,22.23,32.4,28.55,18.04,12.54,10.29,34.81,9.94,25.56,19.49,38.01,26.41,11.24,48.27,20.29,13.81,11.02,18.29,17.59,20.08,16.45,3.07,20.23,15.01,12.02,17.07,26.86,25.28,14.73,10.51,17.92,27.2,22.76,17.29,19.44,16.66,10.07,32.68,15.98,34.83,13.03,18.28,24.71,21.16,28.97,22.49,5.75,16.32,22.75,40.17,27.28,12.03,21.01,12.46,11.35,15.38,44.3,22.42,20.92,15.36,20.49,25.21,18.24,14.31,14.0,7.25,38.07,23.95,25.71,17.31,29.93,10.65,12.43,24.08,11.69,13.42,14.26,15.95,12.48,29.8,8.52,14.52,11.38,22.82,19.08,20.27,11.17,12.26,18.26,8.51,10.33,14.15,16.0,13.16,17.47,34.3,41.19,27.05,16.43,8.35,18.64,11.87,9.78,7.51,14.07,13.13,17.26,24.55,19.77,29.85,48.17,25.0,13.39,16.49,21.5,12.66,16.21,13.81,17.51,24.52,20.76,31.71,10.59,10.63,50.81,15.81,7.25,31.85,16.82,32.9,17.89,14.48,9.6,34.63,34.65,23.33,45.35,23.17,40.55,20.69,20.9,30.46,18.15,23.1,15.69,19.81,28.44,15.48,16.58,7.56,10.34,43.11,13.0,13.51,18.71,12.74,13.0,16.4,20.53,16.47,26.59,38.73,24.27,12.76,30.06,25.89,48.33,13.27,28.17,12.9,28.15,11.59,7.74,30.14,12.16,13.42,8.58,15.98,13.42,16.27,10.09,20.45,13.28,22.12,24.01,15.69,11.61,10.77,15.53,10.07,12.6,32.83,35.83,29.03,27.18,22.67,17.82,18.78],\"y\":[1.01,1.66,3.5,3.31,3.61,4.71,2.0,3.12,1.96,3.23,1.71,5.0,1.57,3.0,3.02,3.92,1.67,3.71,3.5,3.35,4.08,2.75,2.23,7.58,3.18,2.34,2.0,2.0,4.3,3.0,1.45,2.5,3.0,2.45,3.27,3.6,2.0,3.07,2.31,5.0,2.24,2.54,3.06,1.32,5.6,3.0,5.0,6.0,2.05,3.0,2.5,2.6,5.2,1.56,4.34,3.51,3.0,1.5,1.76,6.73,3.21,2.0,1.98,3.76,2.64,3.15,2.47,1.0,2.01,2.09,1.97,3.0,3.14,5.0,2.2,1.25,3.08,4.0,3.0,2.71,3.0,3.4,1.83,5.0,2.03,5.17,2.0,4.0,5.85,3.0,3.0,3.5,1.0,4.3,3.25,4.73,4.0,1.5,3.0,1.5,2.5,3.0,2.5,3.48,4.08,1.64,4.06,4.29,3.76,4.0,3.0,1.0,4.0,2.55,4.0,3.5,5.07,1.5,1.8,2.92,2.31,1.68,2.5,2.0,2.52,4.2,1.48,2.0,2.0,2.18,1.5,2.83,1.5,2.0,3.25,1.25,2.0,2.0,2.0,2.75,3.5,6.7,5.0,5.0,2.3,1.5,1.36,1.63,1.73,2.0,2.5,2.0,2.74,2.0,2.0,5.14,5.0,3.75,2.61,2.0,3.5,2.5,2.0,2.0,3.0,3.48,2.24,4.5,1.61,2.0,10.0,3.16,5.15,3.18,4.0,3.11,2.0,2.0,4.0,3.55,3.68,5.65,3.5,6.5,3.0,5.0,3.5,2.0,3.5,4.0,1.5,4.19,2.56,2.02,4.0,1.44,2.0,5.0,2.0,2.0,4.0,2.01,2.0,2.5,4.0,3.23,3.41,3.0,2.03,2.23,2.0,5.16,9.0,2.5,6.5,1.1,3.0,1.5,1.44,3.09,2.2,3.48,1.92,3.0,1.58,2.5,2.0,3.0,2.72,2.88,2.0,3.0,3.39,1.47,3.0,1.25,1.0,1.17,4.67,5.92,2.0,2.0,1.75,3.0],\"z\":[2,3,3,2,4,4,2,4,2,2,2,4,2,4,2,2,3,3,3,3,2,2,2,4,2,4,2,2,2,2,2,4,2,4,2,3,3,3,3,3,3,2,2,2,4,2,2,4,3,2,2,2,4,2,4,2,4,2,2,4,2,2,2,4,3,3,2,1,2,2,2,3,2,2,2,2,2,4,2,2,2,2,1,2,2,4,2,2,2,2,2,2,2,2,2,4,2,2,2,2,2,2,3,2,2,2,2,2,2,2,2,1,3,2,3,2,4,2,2,4,2,2,2,2,2,6,2,2,2,3,2,2,2,2,2,2,2,2,2,2,2,6,5,6,2,2,3,2,2,2,2,2,3,4,4,5,6,4,2,4,4,2,3,2,2,3,2,4,2,2,3,2,2,2,2,2,2,2,2,2,4,2,3,4,2,5,3,5,3,3,2,2,2,2,2,2,2,4,2,2,3,2,2,2,4,3,3,4,2,2,3,4,4,2,3,2,5,2,2,4,2,2,1,3,2,2,2,4,2,2,4,3,2,2,2,2,2,2,3,3,2,2,2,2],\"type\":\"scatter3d\"}],                        {\"legend\":{\"bgcolor\":\"#F5F6F9\",\"font\":{\"color\":\"#4D5663\"}},\"paper_bgcolor\":\"#F5F6F9\",\"plot_bgcolor\":\"#F5F6F9\",\"scene\":{\"xaxis\":{\"gridcolor\":\"#9499A3\",\"showgrid\":true,\"tickfont\":{\"color\":\"#4D5663\"},\"title\":{\"font\":{\"color\":\"#4D5663\"},\"text\":\"\"},\"zerolinecolor\":\"#9499A3\"},\"yaxis\":{\"gridcolor\":\"#9499A3\",\"showgrid\":true,\"tickfont\":{\"color\":\"#4D5663\"},\"title\":{\"font\":{\"color\":\"#4D5663\"},\"text\":\"\"},\"zerolinecolor\":\"#9499A3\"},\"zaxis\":{\"gridcolor\":\"#9499A3\",\"showgrid\":true,\"tickfont\":{\"color\":\"#4D5663\"},\"title\":{\"font\":{\"color\":\"#4D5663\"},\"text\":\"\"},\"zerolinecolor\":\"#9499A3\"}},\"template\":{\"data\":{\"barpolar\":[{\"marker\":{\"line\":{\"color\":\"#E5ECF6\",\"width\":0.5},\"pattern\":{\"fillmode\":\"overlay\",\"size\":10,\"solidity\":0.2}},\"type\":\"barpolar\"}],\"bar\":[{\"error_x\":{\"color\":\"#2a3f5f\"},\"error_y\":{\"color\":\"#2a3f5f\"},\"marker\":{\"line\":{\"color\":\"#E5ECF6\",\"width\":0.5},\"pattern\":{\"fillmode\":\"overlay\",\"size\":10,\"solidity\":0.2}},\"type\":\"bar\"}],\"carpet\":[{\"aaxis\":{\"endlinecolor\":\"#2a3f5f\",\"gridcolor\":\"white\",\"linecolor\":\"white\",\"minorgridcolor\":\"white\",\"startlinecolor\":\"#2a3f5f\"},\"baxis\":{\"endlinecolor\":\"#2a3f5f\",\"gridcolor\":\"white\",\"linecolor\":\"white\",\"minorgridcolor\":\"white\",\"startlinecolor\":\"#2a3f5f\"},\"type\":\"carpet\"}],\"choropleth\":[{\"colorbar\":{\"outlinewidth\":0,\"ticks\":\"\"},\"type\":\"choropleth\"}],\"contourcarpet\":[{\"colorbar\":{\"outlinewidth\":0,\"ticks\":\"\"},\"type\":\"contourcarpet\"}],\"contour\":[{\"colorbar\":{\"outlinewidth\":0,\"ticks\":\"\"},\"colorscale\":[[0.0,\"#0d0887\"],[0.1111111111111111,\"#46039f\"],[0.2222222222222222,\"#7201a8\"],[0.3333333333333333,\"#9c179e\"],[0.4444444444444444,\"#bd3786\"],[0.5555555555555556,\"#d8576b\"],[0.6666666666666666,\"#ed7953\"],[0.7777777777777778,\"#fb9f3a\"],[0.8888888888888888,\"#fdca26\"],[1.0,\"#f0f921\"]],\"type\":\"contour\"}],\"heatmapgl\":[{\"colorbar\":{\"outlinewidth\":0,\"ticks\":\"\"},\"colorscale\":[[0.0,\"#0d0887\"],[0.1111111111111111,\"#46039f\"],[0.2222222222222222,\"#7201a8\"],[0.3333333333333333,\"#9c179e\"],[0.4444444444444444,\"#bd3786\"],[0.5555555555555556,\"#d8576b\"],[0.6666666666666666,\"#ed7953\"],[0.7777777777777778,\"#fb9f3a\"],[0.8888888888888888,\"#fdca26\"],[1.0,\"#f0f921\"]],\"type\":\"heatmapgl\"}],\"heatmap\":[{\"colorbar\":{\"outlinewidth\":0,\"ticks\":\"\"},\"colorscale\":[[0.0,\"#0d0887\"],[0.1111111111111111,\"#46039f\"],[0.2222222222222222,\"#7201a8\"],[0.3333333333333333,\"#9c179e\"],[0.4444444444444444,\"#bd3786\"],[0.5555555555555556,\"#d8576b\"],[0.6666666666666666,\"#ed7953\"],[0.7777777777777778,\"#fb9f3a\"],[0.8888888888888888,\"#fdca26\"],[1.0,\"#f0f921\"]],\"type\":\"heatmap\"}],\"histogram2dcontour\":[{\"colorbar\":{\"outlinewidth\":0,\"ticks\":\"\"},\"colorscale\":[[0.0,\"#0d0887\"],[0.1111111111111111,\"#46039f\"],[0.2222222222222222,\"#7201a8\"],[0.3333333333333333,\"#9c179e\"],[0.4444444444444444,\"#bd3786\"],[0.5555555555555556,\"#d8576b\"],[0.6666666666666666,\"#ed7953\"],[0.7777777777777778,\"#fb9f3a\"],[0.8888888888888888,\"#fdca26\"],[1.0,\"#f0f921\"]],\"type\":\"histogram2dcontour\"}],\"histogram2d\":[{\"colorbar\":{\"outlinewidth\":0,\"ticks\":\"\"},\"colorscale\":[[0.0,\"#0d0887\"],[0.1111111111111111,\"#46039f\"],[0.2222222222222222,\"#7201a8\"],[0.3333333333333333,\"#9c179e\"],[0.4444444444444444,\"#bd3786\"],[0.5555555555555556,\"#d8576b\"],[0.6666666666666666,\"#ed7953\"],[0.7777777777777778,\"#fb9f3a\"],[0.8888888888888888,\"#fdca26\"],[1.0,\"#f0f921\"]],\"type\":\"histogram2d\"}],\"histogram\":[{\"marker\":{\"pattern\":{\"fillmode\":\"overlay\",\"size\":10,\"solidity\":0.2}},\"type\":\"histogram\"}],\"mesh3d\":[{\"colorbar\":{\"outlinewidth\":0,\"ticks\":\"\"},\"type\":\"mesh3d\"}],\"parcoords\":[{\"line\":{\"colorbar\":{\"outlinewidth\":0,\"ticks\":\"\"}},\"type\":\"parcoords\"}],\"pie\":[{\"automargin\":true,\"type\":\"pie\"}],\"scatter3d\":[{\"line\":{\"colorbar\":{\"outlinewidth\":0,\"ticks\":\"\"}},\"marker\":{\"colorbar\":{\"outlinewidth\":0,\"ticks\":\"\"}},\"type\":\"scatter3d\"}],\"scattercarpet\":[{\"marker\":{\"colorbar\":{\"outlinewidth\":0,\"ticks\":\"\"}},\"type\":\"scattercarpet\"}],\"scattergeo\":[{\"marker\":{\"colorbar\":{\"outlinewidth\":0,\"ticks\":\"\"}},\"type\":\"scattergeo\"}],\"scattergl\":[{\"marker\":{\"colorbar\":{\"outlinewidth\":0,\"ticks\":\"\"}},\"type\":\"scattergl\"}],\"scattermapbox\":[{\"marker\":{\"colorbar\":{\"outlinewidth\":0,\"ticks\":\"\"}},\"type\":\"scattermapbox\"}],\"scatterpolargl\":[{\"marker\":{\"colorbar\":{\"outlinewidth\":0,\"ticks\":\"\"}},\"type\":\"scatterpolargl\"}],\"scatterpolar\":[{\"marker\":{\"colorbar\":{\"outlinewidth\":0,\"ticks\":\"\"}},\"type\":\"scatterpolar\"}],\"scatter\":[{\"fillpattern\":{\"fillmode\":\"overlay\",\"size\":10,\"solidity\":0.2},\"type\":\"scatter\"}],\"scatterternary\":[{\"marker\":{\"colorbar\":{\"outlinewidth\":0,\"ticks\":\"\"}},\"type\":\"scatterternary\"}],\"surface\":[{\"colorbar\":{\"outlinewidth\":0,\"ticks\":\"\"},\"colorscale\":[[0.0,\"#0d0887\"],[0.1111111111111111,\"#46039f\"],[0.2222222222222222,\"#7201a8\"],[0.3333333333333333,\"#9c179e\"],[0.4444444444444444,\"#bd3786\"],[0.5555555555555556,\"#d8576b\"],[0.6666666666666666,\"#ed7953\"],[0.7777777777777778,\"#fb9f3a\"],[0.8888888888888888,\"#fdca26\"],[1.0,\"#f0f921\"]],\"type\":\"surface\"}],\"table\":[{\"cells\":{\"fill\":{\"color\":\"#EBF0F8\"},\"line\":{\"color\":\"white\"}},\"header\":{\"fill\":{\"color\":\"#C8D4E3\"},\"line\":{\"color\":\"white\"}},\"type\":\"table\"}]},\"layout\":{\"annotationdefaults\":{\"arrowcolor\":\"#2a3f5f\",\"arrowhead\":0,\"arrowwidth\":1},\"autotypenumbers\":\"strict\",\"coloraxis\":{\"colorbar\":{\"outlinewidth\":0,\"ticks\":\"\"}},\"colorscale\":{\"diverging\":[[0,\"#8e0152\"],[0.1,\"#c51b7d\"],[0.2,\"#de77ae\"],[0.3,\"#f1b6da\"],[0.4,\"#fde0ef\"],[0.5,\"#f7f7f7\"],[0.6,\"#e6f5d0\"],[0.7,\"#b8e186\"],[0.8,\"#7fbc41\"],[0.9,\"#4d9221\"],[1,\"#276419\"]],\"sequential\":[[0.0,\"#0d0887\"],[0.1111111111111111,\"#46039f\"],[0.2222222222222222,\"#7201a8\"],[0.3333333333333333,\"#9c179e\"],[0.4444444444444444,\"#bd3786\"],[0.5555555555555556,\"#d8576b\"],[0.6666666666666666,\"#ed7953\"],[0.7777777777777778,\"#fb9f3a\"],[0.8888888888888888,\"#fdca26\"],[1.0,\"#f0f921\"]],\"sequentialminus\":[[0.0,\"#0d0887\"],[0.1111111111111111,\"#46039f\"],[0.2222222222222222,\"#7201a8\"],[0.3333333333333333,\"#9c179e\"],[0.4444444444444444,\"#bd3786\"],[0.5555555555555556,\"#d8576b\"],[0.6666666666666666,\"#ed7953\"],[0.7777777777777778,\"#fb9f3a\"],[0.8888888888888888,\"#fdca26\"],[1.0,\"#f0f921\"]]},\"colorway\":[\"#636efa\",\"#EF553B\",\"#00cc96\",\"#ab63fa\",\"#FFA15A\",\"#19d3f3\",\"#FF6692\",\"#B6E880\",\"#FF97FF\",\"#FECB52\"],\"font\":{\"color\":\"#2a3f5f\"},\"geo\":{\"bgcolor\":\"white\",\"lakecolor\":\"white\",\"landcolor\":\"#E5ECF6\",\"showlakes\":true,\"showland\":true,\"subunitcolor\":\"white\"},\"hoverlabel\":{\"align\":\"left\"},\"hovermode\":\"closest\",\"mapbox\":{\"style\":\"light\"},\"paper_bgcolor\":\"white\",\"plot_bgcolor\":\"#E5ECF6\",\"polar\":{\"angularaxis\":{\"gridcolor\":\"white\",\"linecolor\":\"white\",\"ticks\":\"\"},\"bgcolor\":\"#E5ECF6\",\"radialaxis\":{\"gridcolor\":\"white\",\"linecolor\":\"white\",\"ticks\":\"\"}},\"scene\":{\"xaxis\":{\"backgroundcolor\":\"#E5ECF6\",\"gridcolor\":\"white\",\"gridwidth\":2,\"linecolor\":\"white\",\"showbackground\":true,\"ticks\":\"\",\"zerolinecolor\":\"white\"},\"yaxis\":{\"backgroundcolor\":\"#E5ECF6\",\"gridcolor\":\"white\",\"gridwidth\":2,\"linecolor\":\"white\",\"showbackground\":true,\"ticks\":\"\",\"zerolinecolor\":\"white\"},\"zaxis\":{\"backgroundcolor\":\"#E5ECF6\",\"gridcolor\":\"white\",\"gridwidth\":2,\"linecolor\":\"white\",\"showbackground\":true,\"ticks\":\"\",\"zerolinecolor\":\"white\"}},\"shapedefaults\":{\"line\":{\"color\":\"#2a3f5f\"}},\"ternary\":{\"aaxis\":{\"gridcolor\":\"white\",\"linecolor\":\"white\",\"ticks\":\"\"},\"baxis\":{\"gridcolor\":\"white\",\"linecolor\":\"white\",\"ticks\":\"\"},\"bgcolor\":\"#E5ECF6\",\"caxis\":{\"gridcolor\":\"white\",\"linecolor\":\"white\",\"ticks\":\"\"}},\"title\":{\"x\":0.05},\"xaxis\":{\"automargin\":true,\"gridcolor\":\"white\",\"linecolor\":\"white\",\"ticks\":\"\",\"title\":{\"standoff\":15},\"zerolinecolor\":\"white\",\"zerolinewidth\":2},\"yaxis\":{\"automargin\":true,\"gridcolor\":\"white\",\"linecolor\":\"white\",\"ticks\":\"\",\"title\":{\"standoff\":15},\"zerolinecolor\":\"white\",\"zerolinewidth\":2}}},\"title\":{\"font\":{\"color\":\"#4D5663\"}}},                        {\"showLink\": true, \"linkText\": \"Export to plot.ly\", \"plotlyServerURL\": \"https://plot.ly\", \"responsive\": true}                    ).then(function(){\n",
       "                            \n",
       "var gd = document.getElementById('40097a85-a7e7-401f-8561-dd58b9af9e45');\n",
       "var x = new MutationObserver(function (mutations, observer) {{\n",
       "        var display = window.getComputedStyle(gd).display;\n",
       "        if (!display || display === 'none') {{\n",
       "            console.log([gd, 'removed!']);\n",
       "            Plotly.purge(gd);\n",
       "            observer.disconnect();\n",
       "        }}\n",
       "}});\n",
       "\n",
       "// Listen for the removal of the full notebook cells\n",
       "var notebookContainer = gd.closest('#notebook-container');\n",
       "if (notebookContainer) {{\n",
       "    x.observe(notebookContainer, {childList: true});\n",
       "}}\n",
       "\n",
       "// Listen for the clearing of the current output cell\n",
       "var outputEl = gd.closest('.output');\n",
       "if (outputEl) {{\n",
       "    x.observe(outputEl, {childList: true});\n",
       "}}\n",
       "\n",
       "                        })                };                });            </script>        </div>"
      ]
     },
     "metadata": {},
     "output_type": "display_data"
    }
   ],
   "source": [
    "tip.iplot(kind='scatter3d',x ='total_bill',y = 'tip',z='size')"
   ]
  },
  {
   "cell_type": "code",
   "execution_count": null,
   "metadata": {},
   "outputs": [
    {
     "data": {
      "application/vnd.plotly.v1+json": {
       "config": {
        "linkText": "Export to plot.ly",
        "plotlyServerURL": "https://plot.ly",
        "showLink": true
       },
       "data": [
        {
         "marker": {
          "color": [
           "rgba(255, 153, 51, 1.0)",
           "rgba(55, 128, 191, 1.0)",
           "rgba(50, 171, 96, 1.0)",
           "rgba(128, 0, 128, 1.0)",
           "rgba(219, 64, 82, 1.0)",
           "rgba(0, 128, 128, 1.0)",
           "rgba(255, 255, 51, 1.0)",
           "rgba(128, 128, 0, 1.0)",
           "rgba(251, 128, 114, 1.0)",
           "rgba(128, 177, 211, 1.0)",
           "rgba(128, 177, 211, 0.9672131147540983)",
           "rgba(255, 153, 51, 0.9672131147540983)",
           "rgba(55, 128, 191, 0.9672131147540983)",
           "rgba(50, 171, 96, 0.9672131147540983)",
           "rgba(128, 0, 128, 0.9672131147540983)",
           "rgba(219, 64, 82, 0.9672131147540983)",
           "rgba(0, 128, 128, 0.9672131147540983)",
           "rgba(255, 255, 51, 0.9672131147540983)",
           "rgba(128, 128, 0, 0.9672131147540983)",
           "rgba(251, 128, 114, 0.9672131147540983)",
           "rgba(251, 128, 114, 0.9344262295081966)",
           "rgba(128, 177, 211, 0.9344262295081966)",
           "rgba(255, 153, 51, 0.9344262295081966)",
           "rgba(55, 128, 191, 0.9344262295081966)",
           "rgba(50, 171, 96, 0.9344262295081966)",
           "rgba(128, 0, 128, 0.9344262295081966)",
           "rgba(219, 64, 82, 0.9344262295081966)",
           "rgba(0, 128, 128, 0.9344262295081966)",
           "rgba(255, 255, 51, 0.9344262295081966)",
           "rgba(128, 128, 0, 0.9344262295081966)",
           "rgba(128, 128, 0, 0.901639344262295)",
           "rgba(251, 128, 114, 0.901639344262295)",
           "rgba(128, 177, 211, 0.901639344262295)",
           "rgba(255, 153, 51, 0.901639344262295)",
           "rgba(55, 128, 191, 0.901639344262295)",
           "rgba(50, 171, 96, 0.901639344262295)",
           "rgba(128, 0, 128, 0.901639344262295)",
           "rgba(219, 64, 82, 0.901639344262295)",
           "rgba(0, 128, 128, 0.901639344262295)",
           "rgba(255, 255, 51, 0.901639344262295)",
           "rgba(255, 255, 51, 0.8688524590163933)",
           "rgba(128, 128, 0, 0.8688524590163933)",
           "rgba(251, 128, 114, 0.8688524590163933)",
           "rgba(128, 177, 211, 0.8688524590163933)",
           "rgba(255, 153, 51, 0.8688524590163933)",
           "rgba(55, 128, 191, 0.8688524590163933)",
           "rgba(50, 171, 96, 0.8688524590163933)",
           "rgba(128, 0, 128, 0.8688524590163933)",
           "rgba(219, 64, 82, 0.8688524590163933)",
           "rgba(0, 128, 128, 0.8688524590163933)",
           "rgba(0, 128, 128, 0.8360655737704918)",
           "rgba(255, 255, 51, 0.8360655737704918)",
           "rgba(128, 128, 0, 0.8360655737704918)",
           "rgba(251, 128, 114, 0.8360655737704918)",
           "rgba(128, 177, 211, 0.8360655737704918)",
           "rgba(255, 153, 51, 0.8360655737704918)",
           "rgba(55, 128, 191, 0.8360655737704918)",
           "rgba(50, 171, 96, 0.8360655737704918)",
           "rgba(128, 0, 128, 0.8360655737704918)",
           "rgba(219, 64, 82, 0.8360655737704918)",
           "rgba(219, 64, 82, 0.8032786885245902)",
           "rgba(0, 128, 128, 0.8032786885245902)",
           "rgba(255, 255, 51, 0.8032786885245902)",
           "rgba(128, 128, 0, 0.8032786885245902)",
           "rgba(251, 128, 114, 0.8032786885245902)",
           "rgba(128, 177, 211, 0.8032786885245902)",
           "rgba(255, 153, 51, 0.8032786885245902)",
           "rgba(55, 128, 191, 0.8032786885245902)",
           "rgba(50, 171, 96, 0.8032786885245902)",
           "rgba(128, 0, 128, 0.8032786885245902)",
           "rgba(128, 0, 128, 0.7704918032786885)",
           "rgba(219, 64, 82, 0.7704918032786885)",
           "rgba(0, 128, 128, 0.7704918032786885)",
           "rgba(255, 255, 51, 0.7704918032786885)",
           "rgba(128, 128, 0, 0.7704918032786885)",
           "rgba(251, 128, 114, 0.7704918032786885)",
           "rgba(128, 177, 211, 0.7704918032786885)",
           "rgba(255, 153, 51, 0.7704918032786885)",
           "rgba(55, 128, 191, 0.7704918032786885)",
           "rgba(50, 171, 96, 0.7704918032786885)",
           "rgba(50, 171, 96, 0.7377049180327868)",
           "rgba(128, 0, 128, 0.7377049180327868)",
           "rgba(219, 64, 82, 0.7377049180327868)",
           "rgba(0, 128, 128, 0.7377049180327868)",
           "rgba(255, 255, 51, 0.7377049180327868)",
           "rgba(128, 128, 0, 0.7377049180327868)",
           "rgba(251, 128, 114, 0.7377049180327868)",
           "rgba(128, 177, 211, 0.7377049180327868)",
           "rgba(255, 153, 51, 0.7377049180327868)",
           "rgba(55, 128, 191, 0.7377049180327868)",
           "rgba(55, 128, 191, 0.7049180327868851)",
           "rgba(50, 171, 96, 0.7049180327868851)",
           "rgba(128, 0, 128, 0.7049180327868851)",
           "rgba(219, 64, 82, 0.7049180327868851)",
           "rgba(0, 128, 128, 0.7049180327868851)",
           "rgba(255, 255, 51, 0.7049180327868851)",
           "rgba(128, 128, 0, 0.7049180327868851)",
           "rgba(251, 128, 114, 0.7049180327868851)",
           "rgba(128, 177, 211, 0.7049180327868851)",
           "rgba(255, 153, 51, 0.7049180327868851)",
           "rgba(255, 153, 51, 0.6721311475409835)",
           "rgba(55, 128, 191, 0.6721311475409835)",
           "rgba(50, 171, 96, 0.6721311475409835)",
           "rgba(128, 0, 128, 0.6721311475409835)",
           "rgba(219, 64, 82, 0.6721311475409835)",
           "rgba(0, 128, 128, 0.6721311475409835)",
           "rgba(255, 255, 51, 0.6721311475409835)",
           "rgba(128, 128, 0, 0.6721311475409835)",
           "rgba(251, 128, 114, 0.6721311475409835)",
           "rgba(128, 177, 211, 0.6721311475409835)",
           "rgba(128, 177, 211, 0.6393442622950818)",
           "rgba(255, 153, 51, 0.6393442622950818)",
           "rgba(55, 128, 191, 0.6393442622950818)",
           "rgba(50, 171, 96, 0.6393442622950818)",
           "rgba(128, 0, 128, 0.6393442622950818)",
           "rgba(219, 64, 82, 0.6393442622950818)",
           "rgba(0, 128, 128, 0.6393442622950818)",
           "rgba(255, 255, 51, 0.6393442622950818)",
           "rgba(128, 128, 0, 0.6393442622950818)",
           "rgba(251, 128, 114, 0.6393442622950818)",
           "rgba(251, 128, 114, 0.6065573770491801)",
           "rgba(128, 177, 211, 0.6065573770491801)",
           "rgba(255, 153, 51, 0.6065573770491801)",
           "rgba(55, 128, 191, 0.6065573770491801)",
           "rgba(50, 171, 96, 0.6065573770491801)",
           "rgba(128, 0, 128, 0.6065573770491801)",
           "rgba(219, 64, 82, 0.6065573770491801)",
           "rgba(0, 128, 128, 0.6065573770491801)",
           "rgba(255, 255, 51, 0.6065573770491801)",
           "rgba(128, 128, 0, 0.6065573770491801)",
           "rgba(128, 128, 0, 0.5737704918032784)",
           "rgba(251, 128, 114, 0.5737704918032784)",
           "rgba(128, 177, 211, 0.5737704918032784)",
           "rgba(255, 153, 51, 0.5737704918032784)",
           "rgba(55, 128, 191, 0.5737704918032784)",
           "rgba(50, 171, 96, 0.5737704918032784)",
           "rgba(128, 0, 128, 0.5737704918032784)",
           "rgba(219, 64, 82, 0.5737704918032784)",
           "rgba(0, 128, 128, 0.5737704918032784)",
           "rgba(255, 255, 51, 0.5737704918032784)",
           "rgba(255, 255, 51, 0.540983606557377)",
           "rgba(128, 128, 0, 0.540983606557377)",
           "rgba(251, 128, 114, 0.540983606557377)",
           "rgba(128, 177, 211, 0.540983606557377)",
           "rgba(255, 153, 51, 0.540983606557377)",
           "rgba(55, 128, 191, 0.540983606557377)",
           "rgba(50, 171, 96, 0.540983606557377)",
           "rgba(128, 0, 128, 0.540983606557377)",
           "rgba(219, 64, 82, 0.540983606557377)",
           "rgba(0, 128, 128, 0.540983606557377)",
           "rgba(0, 128, 128, 0.5081967213114753)",
           "rgba(255, 255, 51, 0.5081967213114753)",
           "rgba(128, 128, 0, 0.5081967213114753)",
           "rgba(251, 128, 114, 0.5081967213114753)",
           "rgba(128, 177, 211, 0.5081967213114753)",
           "rgba(255, 153, 51, 0.5081967213114753)",
           "rgba(55, 128, 191, 0.5081967213114753)",
           "rgba(50, 171, 96, 0.5081967213114753)",
           "rgba(128, 0, 128, 0.5081967213114753)",
           "rgba(219, 64, 82, 0.5081967213114753)",
           "rgba(219, 64, 82, 0.4754098360655737)",
           "rgba(0, 128, 128, 0.4754098360655737)",
           "rgba(255, 255, 51, 0.4754098360655737)",
           "rgba(128, 128, 0, 0.4754098360655737)",
           "rgba(251, 128, 114, 0.4754098360655737)",
           "rgba(128, 177, 211, 0.4754098360655737)",
           "rgba(255, 153, 51, 0.4754098360655737)",
           "rgba(55, 128, 191, 0.4754098360655737)",
           "rgba(50, 171, 96, 0.4754098360655737)",
           "rgba(128, 0, 128, 0.4754098360655737)",
           "rgba(128, 0, 128, 0.442622950819672)",
           "rgba(219, 64, 82, 0.442622950819672)",
           "rgba(0, 128, 128, 0.442622950819672)",
           "rgba(255, 255, 51, 0.442622950819672)",
           "rgba(128, 128, 0, 0.442622950819672)",
           "rgba(251, 128, 114, 0.442622950819672)",
           "rgba(128, 177, 211, 0.442622950819672)",
           "rgba(255, 153, 51, 0.442622950819672)",
           "rgba(55, 128, 191, 0.442622950819672)",
           "rgba(50, 171, 96, 0.442622950819672)",
           "rgba(50, 171, 96, 0.40983606557377034)",
           "rgba(128, 0, 128, 0.40983606557377034)",
           "rgba(219, 64, 82, 0.40983606557377034)",
           "rgba(0, 128, 128, 0.40983606557377034)",
           "rgba(255, 255, 51, 0.40983606557377034)",
           "rgba(128, 128, 0, 0.40983606557377034)",
           "rgba(251, 128, 114, 0.40983606557377034)",
           "rgba(128, 177, 211, 0.40983606557377034)",
           "rgba(255, 153, 51, 0.40983606557377034)",
           "rgba(55, 128, 191, 0.40983606557377034)",
           "rgba(55, 128, 191, 0.37704918032786866)",
           "rgba(50, 171, 96, 0.37704918032786866)",
           "rgba(128, 0, 128, 0.37704918032786866)",
           "rgba(219, 64, 82, 0.37704918032786866)",
           "rgba(0, 128, 128, 0.37704918032786866)",
           "rgba(255, 255, 51, 0.37704918032786866)",
           "rgba(128, 128, 0, 0.37704918032786866)",
           "rgba(251, 128, 114, 0.37704918032786866)",
           "rgba(128, 177, 211, 0.37704918032786866)",
           "rgba(255, 153, 51, 0.37704918032786866)",
           "rgba(255, 153, 51, 0.344262295081967)",
           "rgba(55, 128, 191, 0.344262295081967)",
           "rgba(50, 171, 96, 0.344262295081967)",
           "rgba(128, 0, 128, 0.344262295081967)",
           "rgba(219, 64, 82, 0.344262295081967)",
           "rgba(0, 128, 128, 0.344262295081967)",
           "rgba(255, 255, 51, 0.344262295081967)",
           "rgba(128, 128, 0, 0.344262295081967)",
           "rgba(251, 128, 114, 0.344262295081967)",
           "rgba(128, 177, 211, 0.344262295081967)",
           "rgba(128, 177, 211, 0.3114754098360653)",
           "rgba(255, 153, 51, 0.3114754098360653)",
           "rgba(55, 128, 191, 0.3114754098360653)",
           "rgba(50, 171, 96, 0.3114754098360653)",
           "rgba(128, 0, 128, 0.3114754098360653)",
           "rgba(219, 64, 82, 0.3114754098360653)",
           "rgba(0, 128, 128, 0.3114754098360653)",
           "rgba(255, 255, 51, 0.3114754098360653)",
           "rgba(128, 128, 0, 0.3114754098360653)",
           "rgba(251, 128, 114, 0.3114754098360653)",
           "rgba(251, 128, 114, 0.27868852459016386)",
           "rgba(128, 177, 211, 0.27868852459016386)",
           "rgba(255, 153, 51, 0.27868852459016386)",
           "rgba(55, 128, 191, 0.27868852459016386)",
           "rgba(50, 171, 96, 0.27868852459016386)",
           "rgba(128, 0, 128, 0.27868852459016386)",
           "rgba(219, 64, 82, 0.27868852459016386)",
           "rgba(0, 128, 128, 0.27868852459016386)",
           "rgba(255, 255, 51, 0.27868852459016386)",
           "rgba(128, 128, 0, 0.27868852459016386)",
           "rgba(128, 128, 0, 0.24590163934426218)",
           "rgba(251, 128, 114, 0.24590163934426218)",
           "rgba(128, 177, 211, 0.24590163934426218)",
           "rgba(255, 153, 51, 0.24590163934426218)",
           "rgba(55, 128, 191, 0.24590163934426218)",
           "rgba(50, 171, 96, 0.24590163934426218)",
           "rgba(128, 0, 128, 0.24590163934426218)",
           "rgba(219, 64, 82, 0.24590163934426218)",
           "rgba(0, 128, 128, 0.24590163934426218)",
           "rgba(255, 255, 51, 0.24590163934426218)",
           "rgba(255, 255, 51, 0.2131147540983605)",
           "rgba(128, 128, 0, 0.2131147540983605)",
           "rgba(251, 128, 114, 0.2131147540983605)",
           "rgba(128, 177, 211, 0.2131147540983605)"
          ],
          "opacity": 0.8,
          "size": [
           12,
           19,
           39,
           37,
           41,
           53,
           23,
           35,
           22,
           36,
           19,
           56,
           18,
           34,
           34,
           44,
           19,
           42,
           39,
           38,
           46,
           31,
           25,
           85,
           36,
           26,
           23,
           23,
           48,
           34,
           16,
           28,
           34,
           28,
           37,
           40,
           23,
           34,
           26,
           56,
           25,
           29,
           34,
           15,
           63,
           34,
           56,
           67,
           23,
           34,
           28,
           29,
           58,
           18,
           49,
           39,
           34,
           17,
           20,
           75,
           36,
           23,
           22,
           42,
           30,
           35,
           28,
           12,
           23,
           24,
           22,
           34,
           35,
           56,
           25,
           14,
           35,
           45,
           34,
           31,
           34,
           38,
           21,
           56,
           23,
           58,
           23,
           45,
           65,
           34,
           34,
           39,
           12,
           48,
           37,
           53,
           45,
           17,
           34,
           17,
           28,
           34,
           28,
           39,
           46,
           19,
           45,
           48,
           42,
           45,
           34,
           12,
           45,
           29,
           45,
           39,
           57,
           17,
           20,
           33,
           26,
           19,
           28,
           23,
           28,
           47,
           17,
           23,
           23,
           25,
           17,
           32,
           17,
           23,
           37,
           14,
           23,
           23,
           23,
           31,
           39,
           75,
           56,
           56,
           26,
           17,
           16,
           18,
           20,
           23,
           28,
           23,
           31,
           23,
           23,
           57,
           56,
           42,
           29,
           23,
           39,
           28,
           23,
           23,
           34,
           39,
           25,
           50,
           18,
           23,
           112,
           36,
           58,
           36,
           45,
           35,
           23,
           23,
           45,
           40,
           41,
           63,
           39,
           73,
           34,
           56,
           39,
           23,
           39,
           45,
           17,
           47,
           29,
           23,
           45,
           16,
           23,
           56,
           23,
           23,
           45,
           23,
           23,
           28,
           45,
           36,
           38,
           34,
           23,
           25,
           23,
           58,
           100,
           28,
           73,
           13,
           34,
           17,
           16,
           35,
           25,
           39,
           22,
           34,
           18,
           28,
           23,
           34,
           31,
           32,
           23,
           34,
           38,
           17,
           34,
           14,
           12,
           13,
           52,
           66,
           23,
           23,
           20,
           34
          ],
          "symbol": "circle"
         },
         "mode": "markers",
         "text": [
          "0",
          "1",
          "2",
          "3",
          "4",
          "5",
          "6",
          "7",
          "8",
          "9",
          "10",
          "11",
          "12",
          "13",
          "14",
          "15",
          "16",
          "17",
          "18",
          "19",
          "20",
          "21",
          "22",
          "23",
          "24",
          "25",
          "26",
          "27",
          "28",
          "29",
          "30",
          "31",
          "32",
          "33",
          "34",
          "35",
          "36",
          "37",
          "38",
          "39",
          "40",
          "41",
          "42",
          "43",
          "44",
          "45",
          "46",
          "47",
          "48",
          "49",
          "50",
          "51",
          "52",
          "53",
          "54",
          "55",
          "56",
          "57",
          "58",
          "59",
          "60",
          "61",
          "62",
          "63",
          "64",
          "65",
          "66",
          "67",
          "68",
          "69",
          "70",
          "71",
          "72",
          "73",
          "74",
          "75",
          "76",
          "77",
          "78",
          "79",
          "80",
          "81",
          "82",
          "83",
          "84",
          "85",
          "86",
          "87",
          "88",
          "89",
          "90",
          "91",
          "92",
          "93",
          "94",
          "95",
          "96",
          "97",
          "98",
          "99",
          "100",
          "101",
          "102",
          "103",
          "104",
          "105",
          "106",
          "107",
          "108",
          "109",
          "110",
          "111",
          "112",
          "113",
          "114",
          "115",
          "116",
          "117",
          "118",
          "119",
          "120",
          "121",
          "122",
          "123",
          "124",
          "125",
          "126",
          "127",
          "128",
          "129",
          "130",
          "131",
          "132",
          "133",
          "134",
          "135",
          "136",
          "137",
          "138",
          "139",
          "140",
          "141",
          "142",
          "143",
          "144",
          "145",
          "146",
          "147",
          "148",
          "149",
          "150",
          "151",
          "152",
          "153",
          "154",
          "155",
          "156",
          "157",
          "158",
          "159",
          "160",
          "161",
          "162",
          "163",
          "164",
          "165",
          "166",
          "167",
          "168",
          "169",
          "170",
          "171",
          "172",
          "173",
          "174",
          "175",
          "176",
          "177",
          "178",
          "179",
          "180",
          "181",
          "182",
          "183",
          "184",
          "185",
          "186",
          "187",
          "188",
          "189",
          "190",
          "191",
          "192",
          "193",
          "194",
          "195",
          "196",
          "197",
          "198",
          "199",
          "200",
          "201",
          "202",
          "203",
          "204",
          "205",
          "206",
          "207",
          "208",
          "209",
          "210",
          "211",
          "212",
          "213",
          "214",
          "215",
          "216",
          "217",
          "218",
          "219",
          "220",
          "221",
          "222",
          "223",
          "224",
          "225",
          "226",
          "227",
          "228",
          "229",
          "230",
          "231",
          "232",
          "233",
          "234",
          "235",
          "236",
          "237",
          "238",
          "239",
          "240",
          "241",
          "242",
          "243"
         ],
         "type": "scatter3d",
         "x": [
          16.99,
          10.34,
          21.01,
          23.68,
          24.59,
          25.29,
          8.77,
          26.88,
          15.04,
          14.78,
          10.27,
          35.26,
          15.42,
          18.43,
          14.83,
          21.58,
          10.33,
          16.29,
          16.97,
          20.65,
          17.92,
          20.29,
          15.77,
          39.42,
          19.82,
          17.81,
          13.37,
          12.69,
          21.7,
          19.65,
          9.55,
          18.35,
          15.06,
          20.69,
          17.78,
          24.06,
          16.31,
          16.93,
          18.69,
          31.27,
          16.04,
          17.46,
          13.94,
          9.68,
          30.4,
          18.29,
          22.23,
          32.4,
          28.55,
          18.04,
          12.54,
          10.29,
          34.81,
          9.94,
          25.56,
          19.49,
          38.01,
          26.41,
          11.24,
          48.27,
          20.29,
          13.81,
          11.02,
          18.29,
          17.59,
          20.08,
          16.45,
          3.07,
          20.23,
          15.01,
          12.02,
          17.07,
          26.86,
          25.28,
          14.73,
          10.51,
          17.92,
          27.2,
          22.76,
          17.29,
          19.44,
          16.66,
          10.07,
          32.68,
          15.98,
          34.83,
          13.03,
          18.28,
          24.71,
          21.16,
          28.97,
          22.49,
          5.75,
          16.32,
          22.75,
          40.17,
          27.28,
          12.03,
          21.01,
          12.46,
          11.35,
          15.38,
          44.3,
          22.42,
          20.92,
          15.36,
          20.49,
          25.21,
          18.24,
          14.31,
          14,
          7.25,
          38.07,
          23.95,
          25.71,
          17.31,
          29.93,
          10.65,
          12.43,
          24.08,
          11.69,
          13.42,
          14.26,
          15.95,
          12.48,
          29.8,
          8.52,
          14.52,
          11.38,
          22.82,
          19.08,
          20.27,
          11.17,
          12.26,
          18.26,
          8.51,
          10.33,
          14.15,
          16,
          13.16,
          17.47,
          34.3,
          41.19,
          27.05,
          16.43,
          8.35,
          18.64,
          11.87,
          9.78,
          7.51,
          14.07,
          13.13,
          17.26,
          24.55,
          19.77,
          29.85,
          48.17,
          25,
          13.39,
          16.49,
          21.5,
          12.66,
          16.21,
          13.81,
          17.51,
          24.52,
          20.76,
          31.71,
          10.59,
          10.63,
          50.81,
          15.81,
          7.25,
          31.85,
          16.82,
          32.9,
          17.89,
          14.48,
          9.6,
          34.63,
          34.65,
          23.33,
          45.35,
          23.17,
          40.55,
          20.69,
          20.9,
          30.46,
          18.15,
          23.1,
          15.69,
          19.81,
          28.44,
          15.48,
          16.58,
          7.56,
          10.34,
          43.11,
          13,
          13.51,
          18.71,
          12.74,
          13,
          16.4,
          20.53,
          16.47,
          26.59,
          38.73,
          24.27,
          12.76,
          30.06,
          25.89,
          48.33,
          13.27,
          28.17,
          12.9,
          28.15,
          11.59,
          7.74,
          30.14,
          12.16,
          13.42,
          8.58,
          15.98,
          13.42,
          16.27,
          10.09,
          20.45,
          13.28,
          22.12,
          24.01,
          15.69,
          11.61,
          10.77,
          15.53,
          10.07,
          12.6,
          32.83,
          35.83,
          29.03,
          27.18,
          22.67,
          17.82,
          18.78
         ],
         "y": [
          1.01,
          1.66,
          3.5,
          3.31,
          3.61,
          4.71,
          2,
          3.12,
          1.96,
          3.23,
          1.71,
          5,
          1.57,
          3,
          3.02,
          3.92,
          1.67,
          3.71,
          3.5,
          3.35,
          4.08,
          2.75,
          2.23,
          7.58,
          3.18,
          2.34,
          2,
          2,
          4.3,
          3,
          1.45,
          2.5,
          3,
          2.45,
          3.27,
          3.6,
          2,
          3.07,
          2.31,
          5,
          2.24,
          2.54,
          3.06,
          1.32,
          5.6,
          3,
          5,
          6,
          2.05,
          3,
          2.5,
          2.6,
          5.2,
          1.56,
          4.34,
          3.51,
          3,
          1.5,
          1.76,
          6.73,
          3.21,
          2,
          1.98,
          3.76,
          2.64,
          3.15,
          2.47,
          1,
          2.01,
          2.09,
          1.97,
          3,
          3.14,
          5,
          2.2,
          1.25,
          3.08,
          4,
          3,
          2.71,
          3,
          3.4,
          1.83,
          5,
          2.03,
          5.17,
          2,
          4,
          5.85,
          3,
          3,
          3.5,
          1,
          4.3,
          3.25,
          4.73,
          4,
          1.5,
          3,
          1.5,
          2.5,
          3,
          2.5,
          3.48,
          4.08,
          1.64,
          4.06,
          4.29,
          3.76,
          4,
          3,
          1,
          4,
          2.55,
          4,
          3.5,
          5.07,
          1.5,
          1.8,
          2.92,
          2.31,
          1.68,
          2.5,
          2,
          2.52,
          4.2,
          1.48,
          2,
          2,
          2.18,
          1.5,
          2.83,
          1.5,
          2,
          3.25,
          1.25,
          2,
          2,
          2,
          2.75,
          3.5,
          6.7,
          5,
          5,
          2.3,
          1.5,
          1.36,
          1.63,
          1.73,
          2,
          2.5,
          2,
          2.74,
          2,
          2,
          5.14,
          5,
          3.75,
          2.61,
          2,
          3.5,
          2.5,
          2,
          2,
          3,
          3.48,
          2.24,
          4.5,
          1.61,
          2,
          10,
          3.16,
          5.15,
          3.18,
          4,
          3.11,
          2,
          2,
          4,
          3.55,
          3.68,
          5.65,
          3.5,
          6.5,
          3,
          5,
          3.5,
          2,
          3.5,
          4,
          1.5,
          4.19,
          2.56,
          2.02,
          4,
          1.44,
          2,
          5,
          2,
          2,
          4,
          2.01,
          2,
          2.5,
          4,
          3.23,
          3.41,
          3,
          2.03,
          2.23,
          2,
          5.16,
          9,
          2.5,
          6.5,
          1.1,
          3,
          1.5,
          1.44,
          3.09,
          2.2,
          3.48,
          1.92,
          3,
          1.58,
          2.5,
          2,
          3,
          2.72,
          2.88,
          2,
          3,
          3.39,
          1.47,
          3,
          1.25,
          1,
          1.17,
          4.67,
          5.92,
          2,
          2,
          1.75,
          3
         ],
         "z": [
          2,
          3,
          3,
          2,
          4,
          4,
          2,
          4,
          2,
          2,
          2,
          4,
          2,
          4,
          2,
          2,
          3,
          3,
          3,
          3,
          2,
          2,
          2,
          4,
          2,
          4,
          2,
          2,
          2,
          2,
          2,
          4,
          2,
          4,
          2,
          3,
          3,
          3,
          3,
          3,
          3,
          2,
          2,
          2,
          4,
          2,
          2,
          4,
          3,
          2,
          2,
          2,
          4,
          2,
          4,
          2,
          4,
          2,
          2,
          4,
          2,
          2,
          2,
          4,
          3,
          3,
          2,
          1,
          2,
          2,
          2,
          3,
          2,
          2,
          2,
          2,
          2,
          4,
          2,
          2,
          2,
          2,
          1,
          2,
          2,
          4,
          2,
          2,
          2,
          2,
          2,
          2,
          2,
          2,
          2,
          4,
          2,
          2,
          2,
          2,
          2,
          2,
          3,
          2,
          2,
          2,
          2,
          2,
          2,
          2,
          2,
          1,
          3,
          2,
          3,
          2,
          4,
          2,
          2,
          4,
          2,
          2,
          2,
          2,
          2,
          6,
          2,
          2,
          2,
          3,
          2,
          2,
          2,
          2,
          2,
          2,
          2,
          2,
          2,
          2,
          2,
          6,
          5,
          6,
          2,
          2,
          3,
          2,
          2,
          2,
          2,
          2,
          3,
          4,
          4,
          5,
          6,
          4,
          2,
          4,
          4,
          2,
          3,
          2,
          2,
          3,
          2,
          4,
          2,
          2,
          3,
          2,
          2,
          2,
          2,
          2,
          2,
          2,
          2,
          2,
          4,
          2,
          3,
          4,
          2,
          5,
          3,
          5,
          3,
          3,
          2,
          2,
          2,
          2,
          2,
          2,
          2,
          4,
          2,
          2,
          3,
          2,
          2,
          2,
          4,
          3,
          3,
          4,
          2,
          2,
          3,
          4,
          4,
          2,
          3,
          2,
          5,
          2,
          2,
          4,
          2,
          2,
          1,
          3,
          2,
          2,
          2,
          4,
          2,
          2,
          4,
          3,
          2,
          2,
          2,
          2,
          2,
          2,
          3,
          3,
          2,
          2,
          2,
          2
         ]
        }
       ],
       "layout": {
        "legend": {
         "bgcolor": "#F5F6F9",
         "font": {
          "color": "#4D5663"
         }
        },
        "paper_bgcolor": "#F5F6F9",
        "plot_bgcolor": "#F5F6F9",
        "scene": {
         "xaxis": {
          "gridcolor": "#9499A3",
          "showgrid": true,
          "tickfont": {
           "color": "#4D5663"
          },
          "title": {
           "font": {
            "color": "#4D5663"
           },
           "text": ""
          },
          "zerolinecolor": "#9499A3"
         },
         "yaxis": {
          "gridcolor": "#9499A3",
          "showgrid": true,
          "tickfont": {
           "color": "#4D5663"
          },
          "title": {
           "font": {
            "color": "#4D5663"
           },
           "text": ""
          },
          "zerolinecolor": "#9499A3"
         },
         "zaxis": {
          "gridcolor": "#9499A3",
          "showgrid": true,
          "tickfont": {
           "color": "#4D5663"
          },
          "title": {
           "font": {
            "color": "#4D5663"
           },
           "text": ""
          },
          "zerolinecolor": "#9499A3"
         }
        },
        "template": {
         "data": {
          "bar": [
           {
            "error_x": {
             "color": "#2a3f5f"
            },
            "error_y": {
             "color": "#2a3f5f"
            },
            "marker": {
             "line": {
              "color": "#E5ECF6",
              "width": 0.5
             },
             "pattern": {
              "fillmode": "overlay",
              "size": 10,
              "solidity": 0.2
             }
            },
            "type": "bar"
           }
          ],
          "barpolar": [
           {
            "marker": {
             "line": {
              "color": "#E5ECF6",
              "width": 0.5
             },
             "pattern": {
              "fillmode": "overlay",
              "size": 10,
              "solidity": 0.2
             }
            },
            "type": "barpolar"
           }
          ],
          "carpet": [
           {
            "aaxis": {
             "endlinecolor": "#2a3f5f",
             "gridcolor": "white",
             "linecolor": "white",
             "minorgridcolor": "white",
             "startlinecolor": "#2a3f5f"
            },
            "baxis": {
             "endlinecolor": "#2a3f5f",
             "gridcolor": "white",
             "linecolor": "white",
             "minorgridcolor": "white",
             "startlinecolor": "#2a3f5f"
            },
            "type": "carpet"
           }
          ],
          "choropleth": [
           {
            "colorbar": {
             "outlinewidth": 0,
             "ticks": ""
            },
            "type": "choropleth"
           }
          ],
          "contour": [
           {
            "colorbar": {
             "outlinewidth": 0,
             "ticks": ""
            },
            "colorscale": [
             [
              0,
              "#0d0887"
             ],
             [
              0.1111111111111111,
              "#46039f"
             ],
             [
              0.2222222222222222,
              "#7201a8"
             ],
             [
              0.3333333333333333,
              "#9c179e"
             ],
             [
              0.4444444444444444,
              "#bd3786"
             ],
             [
              0.5555555555555556,
              "#d8576b"
             ],
             [
              0.6666666666666666,
              "#ed7953"
             ],
             [
              0.7777777777777778,
              "#fb9f3a"
             ],
             [
              0.8888888888888888,
              "#fdca26"
             ],
             [
              1,
              "#f0f921"
             ]
            ],
            "type": "contour"
           }
          ],
          "contourcarpet": [
           {
            "colorbar": {
             "outlinewidth": 0,
             "ticks": ""
            },
            "type": "contourcarpet"
           }
          ],
          "heatmap": [
           {
            "colorbar": {
             "outlinewidth": 0,
             "ticks": ""
            },
            "colorscale": [
             [
              0,
              "#0d0887"
             ],
             [
              0.1111111111111111,
              "#46039f"
             ],
             [
              0.2222222222222222,
              "#7201a8"
             ],
             [
              0.3333333333333333,
              "#9c179e"
             ],
             [
              0.4444444444444444,
              "#bd3786"
             ],
             [
              0.5555555555555556,
              "#d8576b"
             ],
             [
              0.6666666666666666,
              "#ed7953"
             ],
             [
              0.7777777777777778,
              "#fb9f3a"
             ],
             [
              0.8888888888888888,
              "#fdca26"
             ],
             [
              1,
              "#f0f921"
             ]
            ],
            "type": "heatmap"
           }
          ],
          "heatmapgl": [
           {
            "colorbar": {
             "outlinewidth": 0,
             "ticks": ""
            },
            "colorscale": [
             [
              0,
              "#0d0887"
             ],
             [
              0.1111111111111111,
              "#46039f"
             ],
             [
              0.2222222222222222,
              "#7201a8"
             ],
             [
              0.3333333333333333,
              "#9c179e"
             ],
             [
              0.4444444444444444,
              "#bd3786"
             ],
             [
              0.5555555555555556,
              "#d8576b"
             ],
             [
              0.6666666666666666,
              "#ed7953"
             ],
             [
              0.7777777777777778,
              "#fb9f3a"
             ],
             [
              0.8888888888888888,
              "#fdca26"
             ],
             [
              1,
              "#f0f921"
             ]
            ],
            "type": "heatmapgl"
           }
          ],
          "histogram": [
           {
            "marker": {
             "pattern": {
              "fillmode": "overlay",
              "size": 10,
              "solidity": 0.2
             }
            },
            "type": "histogram"
           }
          ],
          "histogram2d": [
           {
            "colorbar": {
             "outlinewidth": 0,
             "ticks": ""
            },
            "colorscale": [
             [
              0,
              "#0d0887"
             ],
             [
              0.1111111111111111,
              "#46039f"
             ],
             [
              0.2222222222222222,
              "#7201a8"
             ],
             [
              0.3333333333333333,
              "#9c179e"
             ],
             [
              0.4444444444444444,
              "#bd3786"
             ],
             [
              0.5555555555555556,
              "#d8576b"
             ],
             [
              0.6666666666666666,
              "#ed7953"
             ],
             [
              0.7777777777777778,
              "#fb9f3a"
             ],
             [
              0.8888888888888888,
              "#fdca26"
             ],
             [
              1,
              "#f0f921"
             ]
            ],
            "type": "histogram2d"
           }
          ],
          "histogram2dcontour": [
           {
            "colorbar": {
             "outlinewidth": 0,
             "ticks": ""
            },
            "colorscale": [
             [
              0,
              "#0d0887"
             ],
             [
              0.1111111111111111,
              "#46039f"
             ],
             [
              0.2222222222222222,
              "#7201a8"
             ],
             [
              0.3333333333333333,
              "#9c179e"
             ],
             [
              0.4444444444444444,
              "#bd3786"
             ],
             [
              0.5555555555555556,
              "#d8576b"
             ],
             [
              0.6666666666666666,
              "#ed7953"
             ],
             [
              0.7777777777777778,
              "#fb9f3a"
             ],
             [
              0.8888888888888888,
              "#fdca26"
             ],
             [
              1,
              "#f0f921"
             ]
            ],
            "type": "histogram2dcontour"
           }
          ],
          "mesh3d": [
           {
            "colorbar": {
             "outlinewidth": 0,
             "ticks": ""
            },
            "type": "mesh3d"
           }
          ],
          "parcoords": [
           {
            "line": {
             "colorbar": {
              "outlinewidth": 0,
              "ticks": ""
             }
            },
            "type": "parcoords"
           }
          ],
          "pie": [
           {
            "automargin": true,
            "type": "pie"
           }
          ],
          "scatter": [
           {
            "fillpattern": {
             "fillmode": "overlay",
             "size": 10,
             "solidity": 0.2
            },
            "type": "scatter"
           }
          ],
          "scatter3d": [
           {
            "line": {
             "colorbar": {
              "outlinewidth": 0,
              "ticks": ""
             }
            },
            "marker": {
             "colorbar": {
              "outlinewidth": 0,
              "ticks": ""
             }
            },
            "type": "scatter3d"
           }
          ],
          "scattercarpet": [
           {
            "marker": {
             "colorbar": {
              "outlinewidth": 0,
              "ticks": ""
             }
            },
            "type": "scattercarpet"
           }
          ],
          "scattergeo": [
           {
            "marker": {
             "colorbar": {
              "outlinewidth": 0,
              "ticks": ""
             }
            },
            "type": "scattergeo"
           }
          ],
          "scattergl": [
           {
            "marker": {
             "colorbar": {
              "outlinewidth": 0,
              "ticks": ""
             }
            },
            "type": "scattergl"
           }
          ],
          "scattermapbox": [
           {
            "marker": {
             "colorbar": {
              "outlinewidth": 0,
              "ticks": ""
             }
            },
            "type": "scattermapbox"
           }
          ],
          "scatterpolar": [
           {
            "marker": {
             "colorbar": {
              "outlinewidth": 0,
              "ticks": ""
             }
            },
            "type": "scatterpolar"
           }
          ],
          "scatterpolargl": [
           {
            "marker": {
             "colorbar": {
              "outlinewidth": 0,
              "ticks": ""
             }
            },
            "type": "scatterpolargl"
           }
          ],
          "scatterternary": [
           {
            "marker": {
             "colorbar": {
              "outlinewidth": 0,
              "ticks": ""
             }
            },
            "type": "scatterternary"
           }
          ],
          "surface": [
           {
            "colorbar": {
             "outlinewidth": 0,
             "ticks": ""
            },
            "colorscale": [
             [
              0,
              "#0d0887"
             ],
             [
              0.1111111111111111,
              "#46039f"
             ],
             [
              0.2222222222222222,
              "#7201a8"
             ],
             [
              0.3333333333333333,
              "#9c179e"
             ],
             [
              0.4444444444444444,
              "#bd3786"
             ],
             [
              0.5555555555555556,
              "#d8576b"
             ],
             [
              0.6666666666666666,
              "#ed7953"
             ],
             [
              0.7777777777777778,
              "#fb9f3a"
             ],
             [
              0.8888888888888888,
              "#fdca26"
             ],
             [
              1,
              "#f0f921"
             ]
            ],
            "type": "surface"
           }
          ],
          "table": [
           {
            "cells": {
             "fill": {
              "color": "#EBF0F8"
             },
             "line": {
              "color": "white"
             }
            },
            "header": {
             "fill": {
              "color": "#C8D4E3"
             },
             "line": {
              "color": "white"
             }
            },
            "type": "table"
           }
          ]
         },
         "layout": {
          "annotationdefaults": {
           "arrowcolor": "#2a3f5f",
           "arrowhead": 0,
           "arrowwidth": 1
          },
          "autotypenumbers": "strict",
          "coloraxis": {
           "colorbar": {
            "outlinewidth": 0,
            "ticks": ""
           }
          },
          "colorscale": {
           "diverging": [
            [
             0,
             "#8e0152"
            ],
            [
             0.1,
             "#c51b7d"
            ],
            [
             0.2,
             "#de77ae"
            ],
            [
             0.3,
             "#f1b6da"
            ],
            [
             0.4,
             "#fde0ef"
            ],
            [
             0.5,
             "#f7f7f7"
            ],
            [
             0.6,
             "#e6f5d0"
            ],
            [
             0.7,
             "#b8e186"
            ],
            [
             0.8,
             "#7fbc41"
            ],
            [
             0.9,
             "#4d9221"
            ],
            [
             1,
             "#276419"
            ]
           ],
           "sequential": [
            [
             0,
             "#0d0887"
            ],
            [
             0.1111111111111111,
             "#46039f"
            ],
            [
             0.2222222222222222,
             "#7201a8"
            ],
            [
             0.3333333333333333,
             "#9c179e"
            ],
            [
             0.4444444444444444,
             "#bd3786"
            ],
            [
             0.5555555555555556,
             "#d8576b"
            ],
            [
             0.6666666666666666,
             "#ed7953"
            ],
            [
             0.7777777777777778,
             "#fb9f3a"
            ],
            [
             0.8888888888888888,
             "#fdca26"
            ],
            [
             1,
             "#f0f921"
            ]
           ],
           "sequentialminus": [
            [
             0,
             "#0d0887"
            ],
            [
             0.1111111111111111,
             "#46039f"
            ],
            [
             0.2222222222222222,
             "#7201a8"
            ],
            [
             0.3333333333333333,
             "#9c179e"
            ],
            [
             0.4444444444444444,
             "#bd3786"
            ],
            [
             0.5555555555555556,
             "#d8576b"
            ],
            [
             0.6666666666666666,
             "#ed7953"
            ],
            [
             0.7777777777777778,
             "#fb9f3a"
            ],
            [
             0.8888888888888888,
             "#fdca26"
            ],
            [
             1,
             "#f0f921"
            ]
           ]
          },
          "colorway": [
           "#636efa",
           "#EF553B",
           "#00cc96",
           "#ab63fa",
           "#FFA15A",
           "#19d3f3",
           "#FF6692",
           "#B6E880",
           "#FF97FF",
           "#FECB52"
          ],
          "font": {
           "color": "#2a3f5f"
          },
          "geo": {
           "bgcolor": "white",
           "lakecolor": "white",
           "landcolor": "#E5ECF6",
           "showlakes": true,
           "showland": true,
           "subunitcolor": "white"
          },
          "hoverlabel": {
           "align": "left"
          },
          "hovermode": "closest",
          "mapbox": {
           "style": "light"
          },
          "paper_bgcolor": "white",
          "plot_bgcolor": "#E5ECF6",
          "polar": {
           "angularaxis": {
            "gridcolor": "white",
            "linecolor": "white",
            "ticks": ""
           },
           "bgcolor": "#E5ECF6",
           "radialaxis": {
            "gridcolor": "white",
            "linecolor": "white",
            "ticks": ""
           }
          },
          "scene": {
           "xaxis": {
            "backgroundcolor": "#E5ECF6",
            "gridcolor": "white",
            "gridwidth": 2,
            "linecolor": "white",
            "showbackground": true,
            "ticks": "",
            "zerolinecolor": "white"
           },
           "yaxis": {
            "backgroundcolor": "#E5ECF6",
            "gridcolor": "white",
            "gridwidth": 2,
            "linecolor": "white",
            "showbackground": true,
            "ticks": "",
            "zerolinecolor": "white"
           },
           "zaxis": {
            "backgroundcolor": "#E5ECF6",
            "gridcolor": "white",
            "gridwidth": 2,
            "linecolor": "white",
            "showbackground": true,
            "ticks": "",
            "zerolinecolor": "white"
           }
          },
          "shapedefaults": {
           "line": {
            "color": "#2a3f5f"
           }
          },
          "ternary": {
           "aaxis": {
            "gridcolor": "white",
            "linecolor": "white",
            "ticks": ""
           },
           "baxis": {
            "gridcolor": "white",
            "linecolor": "white",
            "ticks": ""
           },
           "bgcolor": "#E5ECF6",
           "caxis": {
            "gridcolor": "white",
            "linecolor": "white",
            "ticks": ""
           }
          },
          "title": {
           "x": 0.05
          },
          "xaxis": {
           "automargin": true,
           "gridcolor": "white",
           "linecolor": "white",
           "ticks": "",
           "title": {
            "standoff": 15
           },
           "zerolinecolor": "white",
           "zerolinewidth": 2
          },
          "yaxis": {
           "automargin": true,
           "gridcolor": "white",
           "linecolor": "white",
           "ticks": "",
           "title": {
            "standoff": 15
           },
           "zerolinecolor": "white",
           "zerolinewidth": 2
          }
         }
        },
        "title": {
         "font": {
          "color": "#4D5663"
         }
        }
       }
      },
      "text/html": [
       "<div>                            <div id=\"6133194e-f0e2-4ab7-919c-951ee797f20a\" class=\"plotly-graph-div\" style=\"height:525px; width:100%;\"></div>            <script type=\"text/javascript\">                require([\"plotly\"], function(Plotly) {                    window.PLOTLYENV=window.PLOTLYENV || {};\n",
       "                    window.PLOTLYENV.BASE_URL='https://plot.ly';                                    if (document.getElementById(\"6133194e-f0e2-4ab7-919c-951ee797f20a\")) {                    Plotly.newPlot(                        \"6133194e-f0e2-4ab7-919c-951ee797f20a\",                        [{\"marker\":{\"color\":[\"rgba(255, 153, 51, 1.0)\",\"rgba(55, 128, 191, 1.0)\",\"rgba(50, 171, 96, 1.0)\",\"rgba(128, 0, 128, 1.0)\",\"rgba(219, 64, 82, 1.0)\",\"rgba(0, 128, 128, 1.0)\",\"rgba(255, 255, 51, 1.0)\",\"rgba(128, 128, 0, 1.0)\",\"rgba(251, 128, 114, 1.0)\",\"rgba(128, 177, 211, 1.0)\",\"rgba(128, 177, 211, 0.9672131147540983)\",\"rgba(255, 153, 51, 0.9672131147540983)\",\"rgba(55, 128, 191, 0.9672131147540983)\",\"rgba(50, 171, 96, 0.9672131147540983)\",\"rgba(128, 0, 128, 0.9672131147540983)\",\"rgba(219, 64, 82, 0.9672131147540983)\",\"rgba(0, 128, 128, 0.9672131147540983)\",\"rgba(255, 255, 51, 0.9672131147540983)\",\"rgba(128, 128, 0, 0.9672131147540983)\",\"rgba(251, 128, 114, 0.9672131147540983)\",\"rgba(251, 128, 114, 0.9344262295081966)\",\"rgba(128, 177, 211, 0.9344262295081966)\",\"rgba(255, 153, 51, 0.9344262295081966)\",\"rgba(55, 128, 191, 0.9344262295081966)\",\"rgba(50, 171, 96, 0.9344262295081966)\",\"rgba(128, 0, 128, 0.9344262295081966)\",\"rgba(219, 64, 82, 0.9344262295081966)\",\"rgba(0, 128, 128, 0.9344262295081966)\",\"rgba(255, 255, 51, 0.9344262295081966)\",\"rgba(128, 128, 0, 0.9344262295081966)\",\"rgba(128, 128, 0, 0.901639344262295)\",\"rgba(251, 128, 114, 0.901639344262295)\",\"rgba(128, 177, 211, 0.901639344262295)\",\"rgba(255, 153, 51, 0.901639344262295)\",\"rgba(55, 128, 191, 0.901639344262295)\",\"rgba(50, 171, 96, 0.901639344262295)\",\"rgba(128, 0, 128, 0.901639344262295)\",\"rgba(219, 64, 82, 0.901639344262295)\",\"rgba(0, 128, 128, 0.901639344262295)\",\"rgba(255, 255, 51, 0.901639344262295)\",\"rgba(255, 255, 51, 0.8688524590163933)\",\"rgba(128, 128, 0, 0.8688524590163933)\",\"rgba(251, 128, 114, 0.8688524590163933)\",\"rgba(128, 177, 211, 0.8688524590163933)\",\"rgba(255, 153, 51, 0.8688524590163933)\",\"rgba(55, 128, 191, 0.8688524590163933)\",\"rgba(50, 171, 96, 0.8688524590163933)\",\"rgba(128, 0, 128, 0.8688524590163933)\",\"rgba(219, 64, 82, 0.8688524590163933)\",\"rgba(0, 128, 128, 0.8688524590163933)\",\"rgba(0, 128, 128, 0.8360655737704918)\",\"rgba(255, 255, 51, 0.8360655737704918)\",\"rgba(128, 128, 0, 0.8360655737704918)\",\"rgba(251, 128, 114, 0.8360655737704918)\",\"rgba(128, 177, 211, 0.8360655737704918)\",\"rgba(255, 153, 51, 0.8360655737704918)\",\"rgba(55, 128, 191, 0.8360655737704918)\",\"rgba(50, 171, 96, 0.8360655737704918)\",\"rgba(128, 0, 128, 0.8360655737704918)\",\"rgba(219, 64, 82, 0.8360655737704918)\",\"rgba(219, 64, 82, 0.8032786885245902)\",\"rgba(0, 128, 128, 0.8032786885245902)\",\"rgba(255, 255, 51, 0.8032786885245902)\",\"rgba(128, 128, 0, 0.8032786885245902)\",\"rgba(251, 128, 114, 0.8032786885245902)\",\"rgba(128, 177, 211, 0.8032786885245902)\",\"rgba(255, 153, 51, 0.8032786885245902)\",\"rgba(55, 128, 191, 0.8032786885245902)\",\"rgba(50, 171, 96, 0.8032786885245902)\",\"rgba(128, 0, 128, 0.8032786885245902)\",\"rgba(128, 0, 128, 0.7704918032786885)\",\"rgba(219, 64, 82, 0.7704918032786885)\",\"rgba(0, 128, 128, 0.7704918032786885)\",\"rgba(255, 255, 51, 0.7704918032786885)\",\"rgba(128, 128, 0, 0.7704918032786885)\",\"rgba(251, 128, 114, 0.7704918032786885)\",\"rgba(128, 177, 211, 0.7704918032786885)\",\"rgba(255, 153, 51, 0.7704918032786885)\",\"rgba(55, 128, 191, 0.7704918032786885)\",\"rgba(50, 171, 96, 0.7704918032786885)\",\"rgba(50, 171, 96, 0.7377049180327868)\",\"rgba(128, 0, 128, 0.7377049180327868)\",\"rgba(219, 64, 82, 0.7377049180327868)\",\"rgba(0, 128, 128, 0.7377049180327868)\",\"rgba(255, 255, 51, 0.7377049180327868)\",\"rgba(128, 128, 0, 0.7377049180327868)\",\"rgba(251, 128, 114, 0.7377049180327868)\",\"rgba(128, 177, 211, 0.7377049180327868)\",\"rgba(255, 153, 51, 0.7377049180327868)\",\"rgba(55, 128, 191, 0.7377049180327868)\",\"rgba(55, 128, 191, 0.7049180327868851)\",\"rgba(50, 171, 96, 0.7049180327868851)\",\"rgba(128, 0, 128, 0.7049180327868851)\",\"rgba(219, 64, 82, 0.7049180327868851)\",\"rgba(0, 128, 128, 0.7049180327868851)\",\"rgba(255, 255, 51, 0.7049180327868851)\",\"rgba(128, 128, 0, 0.7049180327868851)\",\"rgba(251, 128, 114, 0.7049180327868851)\",\"rgba(128, 177, 211, 0.7049180327868851)\",\"rgba(255, 153, 51, 0.7049180327868851)\",\"rgba(255, 153, 51, 0.6721311475409835)\",\"rgba(55, 128, 191, 0.6721311475409835)\",\"rgba(50, 171, 96, 0.6721311475409835)\",\"rgba(128, 0, 128, 0.6721311475409835)\",\"rgba(219, 64, 82, 0.6721311475409835)\",\"rgba(0, 128, 128, 0.6721311475409835)\",\"rgba(255, 255, 51, 0.6721311475409835)\",\"rgba(128, 128, 0, 0.6721311475409835)\",\"rgba(251, 128, 114, 0.6721311475409835)\",\"rgba(128, 177, 211, 0.6721311475409835)\",\"rgba(128, 177, 211, 0.6393442622950818)\",\"rgba(255, 153, 51, 0.6393442622950818)\",\"rgba(55, 128, 191, 0.6393442622950818)\",\"rgba(50, 171, 96, 0.6393442622950818)\",\"rgba(128, 0, 128, 0.6393442622950818)\",\"rgba(219, 64, 82, 0.6393442622950818)\",\"rgba(0, 128, 128, 0.6393442622950818)\",\"rgba(255, 255, 51, 0.6393442622950818)\",\"rgba(128, 128, 0, 0.6393442622950818)\",\"rgba(251, 128, 114, 0.6393442622950818)\",\"rgba(251, 128, 114, 0.6065573770491801)\",\"rgba(128, 177, 211, 0.6065573770491801)\",\"rgba(255, 153, 51, 0.6065573770491801)\",\"rgba(55, 128, 191, 0.6065573770491801)\",\"rgba(50, 171, 96, 0.6065573770491801)\",\"rgba(128, 0, 128, 0.6065573770491801)\",\"rgba(219, 64, 82, 0.6065573770491801)\",\"rgba(0, 128, 128, 0.6065573770491801)\",\"rgba(255, 255, 51, 0.6065573770491801)\",\"rgba(128, 128, 0, 0.6065573770491801)\",\"rgba(128, 128, 0, 0.5737704918032784)\",\"rgba(251, 128, 114, 0.5737704918032784)\",\"rgba(128, 177, 211, 0.5737704918032784)\",\"rgba(255, 153, 51, 0.5737704918032784)\",\"rgba(55, 128, 191, 0.5737704918032784)\",\"rgba(50, 171, 96, 0.5737704918032784)\",\"rgba(128, 0, 128, 0.5737704918032784)\",\"rgba(219, 64, 82, 0.5737704918032784)\",\"rgba(0, 128, 128, 0.5737704918032784)\",\"rgba(255, 255, 51, 0.5737704918032784)\",\"rgba(255, 255, 51, 0.540983606557377)\",\"rgba(128, 128, 0, 0.540983606557377)\",\"rgba(251, 128, 114, 0.540983606557377)\",\"rgba(128, 177, 211, 0.540983606557377)\",\"rgba(255, 153, 51, 0.540983606557377)\",\"rgba(55, 128, 191, 0.540983606557377)\",\"rgba(50, 171, 96, 0.540983606557377)\",\"rgba(128, 0, 128, 0.540983606557377)\",\"rgba(219, 64, 82, 0.540983606557377)\",\"rgba(0, 128, 128, 0.540983606557377)\",\"rgba(0, 128, 128, 0.5081967213114753)\",\"rgba(255, 255, 51, 0.5081967213114753)\",\"rgba(128, 128, 0, 0.5081967213114753)\",\"rgba(251, 128, 114, 0.5081967213114753)\",\"rgba(128, 177, 211, 0.5081967213114753)\",\"rgba(255, 153, 51, 0.5081967213114753)\",\"rgba(55, 128, 191, 0.5081967213114753)\",\"rgba(50, 171, 96, 0.5081967213114753)\",\"rgba(128, 0, 128, 0.5081967213114753)\",\"rgba(219, 64, 82, 0.5081967213114753)\",\"rgba(219, 64, 82, 0.4754098360655737)\",\"rgba(0, 128, 128, 0.4754098360655737)\",\"rgba(255, 255, 51, 0.4754098360655737)\",\"rgba(128, 128, 0, 0.4754098360655737)\",\"rgba(251, 128, 114, 0.4754098360655737)\",\"rgba(128, 177, 211, 0.4754098360655737)\",\"rgba(255, 153, 51, 0.4754098360655737)\",\"rgba(55, 128, 191, 0.4754098360655737)\",\"rgba(50, 171, 96, 0.4754098360655737)\",\"rgba(128, 0, 128, 0.4754098360655737)\",\"rgba(128, 0, 128, 0.442622950819672)\",\"rgba(219, 64, 82, 0.442622950819672)\",\"rgba(0, 128, 128, 0.442622950819672)\",\"rgba(255, 255, 51, 0.442622950819672)\",\"rgba(128, 128, 0, 0.442622950819672)\",\"rgba(251, 128, 114, 0.442622950819672)\",\"rgba(128, 177, 211, 0.442622950819672)\",\"rgba(255, 153, 51, 0.442622950819672)\",\"rgba(55, 128, 191, 0.442622950819672)\",\"rgba(50, 171, 96, 0.442622950819672)\",\"rgba(50, 171, 96, 0.40983606557377034)\",\"rgba(128, 0, 128, 0.40983606557377034)\",\"rgba(219, 64, 82, 0.40983606557377034)\",\"rgba(0, 128, 128, 0.40983606557377034)\",\"rgba(255, 255, 51, 0.40983606557377034)\",\"rgba(128, 128, 0, 0.40983606557377034)\",\"rgba(251, 128, 114, 0.40983606557377034)\",\"rgba(128, 177, 211, 0.40983606557377034)\",\"rgba(255, 153, 51, 0.40983606557377034)\",\"rgba(55, 128, 191, 0.40983606557377034)\",\"rgba(55, 128, 191, 0.37704918032786866)\",\"rgba(50, 171, 96, 0.37704918032786866)\",\"rgba(128, 0, 128, 0.37704918032786866)\",\"rgba(219, 64, 82, 0.37704918032786866)\",\"rgba(0, 128, 128, 0.37704918032786866)\",\"rgba(255, 255, 51, 0.37704918032786866)\",\"rgba(128, 128, 0, 0.37704918032786866)\",\"rgba(251, 128, 114, 0.37704918032786866)\",\"rgba(128, 177, 211, 0.37704918032786866)\",\"rgba(255, 153, 51, 0.37704918032786866)\",\"rgba(255, 153, 51, 0.344262295081967)\",\"rgba(55, 128, 191, 0.344262295081967)\",\"rgba(50, 171, 96, 0.344262295081967)\",\"rgba(128, 0, 128, 0.344262295081967)\",\"rgba(219, 64, 82, 0.344262295081967)\",\"rgba(0, 128, 128, 0.344262295081967)\",\"rgba(255, 255, 51, 0.344262295081967)\",\"rgba(128, 128, 0, 0.344262295081967)\",\"rgba(251, 128, 114, 0.344262295081967)\",\"rgba(128, 177, 211, 0.344262295081967)\",\"rgba(128, 177, 211, 0.3114754098360653)\",\"rgba(255, 153, 51, 0.3114754098360653)\",\"rgba(55, 128, 191, 0.3114754098360653)\",\"rgba(50, 171, 96, 0.3114754098360653)\",\"rgba(128, 0, 128, 0.3114754098360653)\",\"rgba(219, 64, 82, 0.3114754098360653)\",\"rgba(0, 128, 128, 0.3114754098360653)\",\"rgba(255, 255, 51, 0.3114754098360653)\",\"rgba(128, 128, 0, 0.3114754098360653)\",\"rgba(251, 128, 114, 0.3114754098360653)\",\"rgba(251, 128, 114, 0.27868852459016386)\",\"rgba(128, 177, 211, 0.27868852459016386)\",\"rgba(255, 153, 51, 0.27868852459016386)\",\"rgba(55, 128, 191, 0.27868852459016386)\",\"rgba(50, 171, 96, 0.27868852459016386)\",\"rgba(128, 0, 128, 0.27868852459016386)\",\"rgba(219, 64, 82, 0.27868852459016386)\",\"rgba(0, 128, 128, 0.27868852459016386)\",\"rgba(255, 255, 51, 0.27868852459016386)\",\"rgba(128, 128, 0, 0.27868852459016386)\",\"rgba(128, 128, 0, 0.24590163934426218)\",\"rgba(251, 128, 114, 0.24590163934426218)\",\"rgba(128, 177, 211, 0.24590163934426218)\",\"rgba(255, 153, 51, 0.24590163934426218)\",\"rgba(55, 128, 191, 0.24590163934426218)\",\"rgba(50, 171, 96, 0.24590163934426218)\",\"rgba(128, 0, 128, 0.24590163934426218)\",\"rgba(219, 64, 82, 0.24590163934426218)\",\"rgba(0, 128, 128, 0.24590163934426218)\",\"rgba(255, 255, 51, 0.24590163934426218)\",\"rgba(255, 255, 51, 0.2131147540983605)\",\"rgba(128, 128, 0, 0.2131147540983605)\",\"rgba(251, 128, 114, 0.2131147540983605)\",\"rgba(128, 177, 211, 0.2131147540983605)\"],\"opacity\":0.8,\"size\":[12,19,39,37,41,53,23,35,22,36,19,56,18,34,34,44,19,42,39,38,46,31,25,85,36,26,23,23,48,34,16,28,34,28,37,40,23,34,26,56,25,29,34,15,63,34,56,67,23,34,28,29,58,18,49,39,34,17,20,75,36,23,22,42,30,35,28,12,23,24,22,34,35,56,25,14,35,45,34,31,34,38,21,56,23,58,23,45,65,34,34,39,12,48,37,53,45,17,34,17,28,34,28,39,46,19,45,48,42,45,34,12,45,29,45,39,57,17,20,33,26,19,28,23,28,47,17,23,23,25,17,32,17,23,37,14,23,23,23,31,39,75,56,56,26,17,16,18,20,23,28,23,31,23,23,57,56,42,29,23,39,28,23,23,34,39,25,50,18,23,112,36,58,36,45,35,23,23,45,40,41,63,39,73,34,56,39,23,39,45,17,47,29,23,45,16,23,56,23,23,45,23,23,28,45,36,38,34,23,25,23,58,100,28,73,13,34,17,16,35,25,39,22,34,18,28,23,34,31,32,23,34,38,17,34,14,12,13,52,66,23,23,20,34],\"symbol\":\"circle\"},\"mode\":\"markers\",\"text\":[\"0\",\"1\",\"2\",\"3\",\"4\",\"5\",\"6\",\"7\",\"8\",\"9\",\"10\",\"11\",\"12\",\"13\",\"14\",\"15\",\"16\",\"17\",\"18\",\"19\",\"20\",\"21\",\"22\",\"23\",\"24\",\"25\",\"26\",\"27\",\"28\",\"29\",\"30\",\"31\",\"32\",\"33\",\"34\",\"35\",\"36\",\"37\",\"38\",\"39\",\"40\",\"41\",\"42\",\"43\",\"44\",\"45\",\"46\",\"47\",\"48\",\"49\",\"50\",\"51\",\"52\",\"53\",\"54\",\"55\",\"56\",\"57\",\"58\",\"59\",\"60\",\"61\",\"62\",\"63\",\"64\",\"65\",\"66\",\"67\",\"68\",\"69\",\"70\",\"71\",\"72\",\"73\",\"74\",\"75\",\"76\",\"77\",\"78\",\"79\",\"80\",\"81\",\"82\",\"83\",\"84\",\"85\",\"86\",\"87\",\"88\",\"89\",\"90\",\"91\",\"92\",\"93\",\"94\",\"95\",\"96\",\"97\",\"98\",\"99\",\"100\",\"101\",\"102\",\"103\",\"104\",\"105\",\"106\",\"107\",\"108\",\"109\",\"110\",\"111\",\"112\",\"113\",\"114\",\"115\",\"116\",\"117\",\"118\",\"119\",\"120\",\"121\",\"122\",\"123\",\"124\",\"125\",\"126\",\"127\",\"128\",\"129\",\"130\",\"131\",\"132\",\"133\",\"134\",\"135\",\"136\",\"137\",\"138\",\"139\",\"140\",\"141\",\"142\",\"143\",\"144\",\"145\",\"146\",\"147\",\"148\",\"149\",\"150\",\"151\",\"152\",\"153\",\"154\",\"155\",\"156\",\"157\",\"158\",\"159\",\"160\",\"161\",\"162\",\"163\",\"164\",\"165\",\"166\",\"167\",\"168\",\"169\",\"170\",\"171\",\"172\",\"173\",\"174\",\"175\",\"176\",\"177\",\"178\",\"179\",\"180\",\"181\",\"182\",\"183\",\"184\",\"185\",\"186\",\"187\",\"188\",\"189\",\"190\",\"191\",\"192\",\"193\",\"194\",\"195\",\"196\",\"197\",\"198\",\"199\",\"200\",\"201\",\"202\",\"203\",\"204\",\"205\",\"206\",\"207\",\"208\",\"209\",\"210\",\"211\",\"212\",\"213\",\"214\",\"215\",\"216\",\"217\",\"218\",\"219\",\"220\",\"221\",\"222\",\"223\",\"224\",\"225\",\"226\",\"227\",\"228\",\"229\",\"230\",\"231\",\"232\",\"233\",\"234\",\"235\",\"236\",\"237\",\"238\",\"239\",\"240\",\"241\",\"242\",\"243\"],\"x\":[16.99,10.34,21.01,23.68,24.59,25.29,8.77,26.88,15.04,14.78,10.27,35.26,15.42,18.43,14.83,21.58,10.33,16.29,16.97,20.65,17.92,20.29,15.77,39.42,19.82,17.81,13.37,12.69,21.7,19.65,9.55,18.35,15.06,20.69,17.78,24.06,16.31,16.93,18.69,31.27,16.04,17.46,13.94,9.68,30.4,18.29,22.23,32.4,28.55,18.04,12.54,10.29,34.81,9.94,25.56,19.49,38.01,26.41,11.24,48.27,20.29,13.81,11.02,18.29,17.59,20.08,16.45,3.07,20.23,15.01,12.02,17.07,26.86,25.28,14.73,10.51,17.92,27.2,22.76,17.29,19.44,16.66,10.07,32.68,15.98,34.83,13.03,18.28,24.71,21.16,28.97,22.49,5.75,16.32,22.75,40.17,27.28,12.03,21.01,12.46,11.35,15.38,44.3,22.42,20.92,15.36,20.49,25.21,18.24,14.31,14.0,7.25,38.07,23.95,25.71,17.31,29.93,10.65,12.43,24.08,11.69,13.42,14.26,15.95,12.48,29.8,8.52,14.52,11.38,22.82,19.08,20.27,11.17,12.26,18.26,8.51,10.33,14.15,16.0,13.16,17.47,34.3,41.19,27.05,16.43,8.35,18.64,11.87,9.78,7.51,14.07,13.13,17.26,24.55,19.77,29.85,48.17,25.0,13.39,16.49,21.5,12.66,16.21,13.81,17.51,24.52,20.76,31.71,10.59,10.63,50.81,15.81,7.25,31.85,16.82,32.9,17.89,14.48,9.6,34.63,34.65,23.33,45.35,23.17,40.55,20.69,20.9,30.46,18.15,23.1,15.69,19.81,28.44,15.48,16.58,7.56,10.34,43.11,13.0,13.51,18.71,12.74,13.0,16.4,20.53,16.47,26.59,38.73,24.27,12.76,30.06,25.89,48.33,13.27,28.17,12.9,28.15,11.59,7.74,30.14,12.16,13.42,8.58,15.98,13.42,16.27,10.09,20.45,13.28,22.12,24.01,15.69,11.61,10.77,15.53,10.07,12.6,32.83,35.83,29.03,27.18,22.67,17.82,18.78],\"y\":[1.01,1.66,3.5,3.31,3.61,4.71,2.0,3.12,1.96,3.23,1.71,5.0,1.57,3.0,3.02,3.92,1.67,3.71,3.5,3.35,4.08,2.75,2.23,7.58,3.18,2.34,2.0,2.0,4.3,3.0,1.45,2.5,3.0,2.45,3.27,3.6,2.0,3.07,2.31,5.0,2.24,2.54,3.06,1.32,5.6,3.0,5.0,6.0,2.05,3.0,2.5,2.6,5.2,1.56,4.34,3.51,3.0,1.5,1.76,6.73,3.21,2.0,1.98,3.76,2.64,3.15,2.47,1.0,2.01,2.09,1.97,3.0,3.14,5.0,2.2,1.25,3.08,4.0,3.0,2.71,3.0,3.4,1.83,5.0,2.03,5.17,2.0,4.0,5.85,3.0,3.0,3.5,1.0,4.3,3.25,4.73,4.0,1.5,3.0,1.5,2.5,3.0,2.5,3.48,4.08,1.64,4.06,4.29,3.76,4.0,3.0,1.0,4.0,2.55,4.0,3.5,5.07,1.5,1.8,2.92,2.31,1.68,2.5,2.0,2.52,4.2,1.48,2.0,2.0,2.18,1.5,2.83,1.5,2.0,3.25,1.25,2.0,2.0,2.0,2.75,3.5,6.7,5.0,5.0,2.3,1.5,1.36,1.63,1.73,2.0,2.5,2.0,2.74,2.0,2.0,5.14,5.0,3.75,2.61,2.0,3.5,2.5,2.0,2.0,3.0,3.48,2.24,4.5,1.61,2.0,10.0,3.16,5.15,3.18,4.0,3.11,2.0,2.0,4.0,3.55,3.68,5.65,3.5,6.5,3.0,5.0,3.5,2.0,3.5,4.0,1.5,4.19,2.56,2.02,4.0,1.44,2.0,5.0,2.0,2.0,4.0,2.01,2.0,2.5,4.0,3.23,3.41,3.0,2.03,2.23,2.0,5.16,9.0,2.5,6.5,1.1,3.0,1.5,1.44,3.09,2.2,3.48,1.92,3.0,1.58,2.5,2.0,3.0,2.72,2.88,2.0,3.0,3.39,1.47,3.0,1.25,1.0,1.17,4.67,5.92,2.0,2.0,1.75,3.0],\"z\":[2,3,3,2,4,4,2,4,2,2,2,4,2,4,2,2,3,3,3,3,2,2,2,4,2,4,2,2,2,2,2,4,2,4,2,3,3,3,3,3,3,2,2,2,4,2,2,4,3,2,2,2,4,2,4,2,4,2,2,4,2,2,2,4,3,3,2,1,2,2,2,3,2,2,2,2,2,4,2,2,2,2,1,2,2,4,2,2,2,2,2,2,2,2,2,4,2,2,2,2,2,2,3,2,2,2,2,2,2,2,2,1,3,2,3,2,4,2,2,4,2,2,2,2,2,6,2,2,2,3,2,2,2,2,2,2,2,2,2,2,2,6,5,6,2,2,3,2,2,2,2,2,3,4,4,5,6,4,2,4,4,2,3,2,2,3,2,4,2,2,3,2,2,2,2,2,2,2,2,2,4,2,3,4,2,5,3,5,3,3,2,2,2,2,2,2,2,4,2,2,3,2,2,2,4,3,3,4,2,2,3,4,4,2,3,2,5,2,2,4,2,2,1,3,2,2,2,4,2,2,4,3,2,2,2,2,2,2,3,3,2,2,2,2],\"type\":\"scatter3d\"}],                        {\"legend\":{\"bgcolor\":\"#F5F6F9\",\"font\":{\"color\":\"#4D5663\"}},\"paper_bgcolor\":\"#F5F6F9\",\"plot_bgcolor\":\"#F5F6F9\",\"scene\":{\"xaxis\":{\"gridcolor\":\"#9499A3\",\"showgrid\":true,\"tickfont\":{\"color\":\"#4D5663\"},\"title\":{\"font\":{\"color\":\"#4D5663\"},\"text\":\"\"},\"zerolinecolor\":\"#9499A3\"},\"yaxis\":{\"gridcolor\":\"#9499A3\",\"showgrid\":true,\"tickfont\":{\"color\":\"#4D5663\"},\"title\":{\"font\":{\"color\":\"#4D5663\"},\"text\":\"\"},\"zerolinecolor\":\"#9499A3\"},\"zaxis\":{\"gridcolor\":\"#9499A3\",\"showgrid\":true,\"tickfont\":{\"color\":\"#4D5663\"},\"title\":{\"font\":{\"color\":\"#4D5663\"},\"text\":\"\"},\"zerolinecolor\":\"#9499A3\"}},\"template\":{\"data\":{\"barpolar\":[{\"marker\":{\"line\":{\"color\":\"#E5ECF6\",\"width\":0.5},\"pattern\":{\"fillmode\":\"overlay\",\"size\":10,\"solidity\":0.2}},\"type\":\"barpolar\"}],\"bar\":[{\"error_x\":{\"color\":\"#2a3f5f\"},\"error_y\":{\"color\":\"#2a3f5f\"},\"marker\":{\"line\":{\"color\":\"#E5ECF6\",\"width\":0.5},\"pattern\":{\"fillmode\":\"overlay\",\"size\":10,\"solidity\":0.2}},\"type\":\"bar\"}],\"carpet\":[{\"aaxis\":{\"endlinecolor\":\"#2a3f5f\",\"gridcolor\":\"white\",\"linecolor\":\"white\",\"minorgridcolor\":\"white\",\"startlinecolor\":\"#2a3f5f\"},\"baxis\":{\"endlinecolor\":\"#2a3f5f\",\"gridcolor\":\"white\",\"linecolor\":\"white\",\"minorgridcolor\":\"white\",\"startlinecolor\":\"#2a3f5f\"},\"type\":\"carpet\"}],\"choropleth\":[{\"colorbar\":{\"outlinewidth\":0,\"ticks\":\"\"},\"type\":\"choropleth\"}],\"contourcarpet\":[{\"colorbar\":{\"outlinewidth\":0,\"ticks\":\"\"},\"type\":\"contourcarpet\"}],\"contour\":[{\"colorbar\":{\"outlinewidth\":0,\"ticks\":\"\"},\"colorscale\":[[0.0,\"#0d0887\"],[0.1111111111111111,\"#46039f\"],[0.2222222222222222,\"#7201a8\"],[0.3333333333333333,\"#9c179e\"],[0.4444444444444444,\"#bd3786\"],[0.5555555555555556,\"#d8576b\"],[0.6666666666666666,\"#ed7953\"],[0.7777777777777778,\"#fb9f3a\"],[0.8888888888888888,\"#fdca26\"],[1.0,\"#f0f921\"]],\"type\":\"contour\"}],\"heatmapgl\":[{\"colorbar\":{\"outlinewidth\":0,\"ticks\":\"\"},\"colorscale\":[[0.0,\"#0d0887\"],[0.1111111111111111,\"#46039f\"],[0.2222222222222222,\"#7201a8\"],[0.3333333333333333,\"#9c179e\"],[0.4444444444444444,\"#bd3786\"],[0.5555555555555556,\"#d8576b\"],[0.6666666666666666,\"#ed7953\"],[0.7777777777777778,\"#fb9f3a\"],[0.8888888888888888,\"#fdca26\"],[1.0,\"#f0f921\"]],\"type\":\"heatmapgl\"}],\"heatmap\":[{\"colorbar\":{\"outlinewidth\":0,\"ticks\":\"\"},\"colorscale\":[[0.0,\"#0d0887\"],[0.1111111111111111,\"#46039f\"],[0.2222222222222222,\"#7201a8\"],[0.3333333333333333,\"#9c179e\"],[0.4444444444444444,\"#bd3786\"],[0.5555555555555556,\"#d8576b\"],[0.6666666666666666,\"#ed7953\"],[0.7777777777777778,\"#fb9f3a\"],[0.8888888888888888,\"#fdca26\"],[1.0,\"#f0f921\"]],\"type\":\"heatmap\"}],\"histogram2dcontour\":[{\"colorbar\":{\"outlinewidth\":0,\"ticks\":\"\"},\"colorscale\":[[0.0,\"#0d0887\"],[0.1111111111111111,\"#46039f\"],[0.2222222222222222,\"#7201a8\"],[0.3333333333333333,\"#9c179e\"],[0.4444444444444444,\"#bd3786\"],[0.5555555555555556,\"#d8576b\"],[0.6666666666666666,\"#ed7953\"],[0.7777777777777778,\"#fb9f3a\"],[0.8888888888888888,\"#fdca26\"],[1.0,\"#f0f921\"]],\"type\":\"histogram2dcontour\"}],\"histogram2d\":[{\"colorbar\":{\"outlinewidth\":0,\"ticks\":\"\"},\"colorscale\":[[0.0,\"#0d0887\"],[0.1111111111111111,\"#46039f\"],[0.2222222222222222,\"#7201a8\"],[0.3333333333333333,\"#9c179e\"],[0.4444444444444444,\"#bd3786\"],[0.5555555555555556,\"#d8576b\"],[0.6666666666666666,\"#ed7953\"],[0.7777777777777778,\"#fb9f3a\"],[0.8888888888888888,\"#fdca26\"],[1.0,\"#f0f921\"]],\"type\":\"histogram2d\"}],\"histogram\":[{\"marker\":{\"pattern\":{\"fillmode\":\"overlay\",\"size\":10,\"solidity\":0.2}},\"type\":\"histogram\"}],\"mesh3d\":[{\"colorbar\":{\"outlinewidth\":0,\"ticks\":\"\"},\"type\":\"mesh3d\"}],\"parcoords\":[{\"line\":{\"colorbar\":{\"outlinewidth\":0,\"ticks\":\"\"}},\"type\":\"parcoords\"}],\"pie\":[{\"automargin\":true,\"type\":\"pie\"}],\"scatter3d\":[{\"line\":{\"colorbar\":{\"outlinewidth\":0,\"ticks\":\"\"}},\"marker\":{\"colorbar\":{\"outlinewidth\":0,\"ticks\":\"\"}},\"type\":\"scatter3d\"}],\"scattercarpet\":[{\"marker\":{\"colorbar\":{\"outlinewidth\":0,\"ticks\":\"\"}},\"type\":\"scattercarpet\"}],\"scattergeo\":[{\"marker\":{\"colorbar\":{\"outlinewidth\":0,\"ticks\":\"\"}},\"type\":\"scattergeo\"}],\"scattergl\":[{\"marker\":{\"colorbar\":{\"outlinewidth\":0,\"ticks\":\"\"}},\"type\":\"scattergl\"}],\"scattermapbox\":[{\"marker\":{\"colorbar\":{\"outlinewidth\":0,\"ticks\":\"\"}},\"type\":\"scattermapbox\"}],\"scatterpolargl\":[{\"marker\":{\"colorbar\":{\"outlinewidth\":0,\"ticks\":\"\"}},\"type\":\"scatterpolargl\"}],\"scatterpolar\":[{\"marker\":{\"colorbar\":{\"outlinewidth\":0,\"ticks\":\"\"}},\"type\":\"scatterpolar\"}],\"scatter\":[{\"fillpattern\":{\"fillmode\":\"overlay\",\"size\":10,\"solidity\":0.2},\"type\":\"scatter\"}],\"scatterternary\":[{\"marker\":{\"colorbar\":{\"outlinewidth\":0,\"ticks\":\"\"}},\"type\":\"scatterternary\"}],\"surface\":[{\"colorbar\":{\"outlinewidth\":0,\"ticks\":\"\"},\"colorscale\":[[0.0,\"#0d0887\"],[0.1111111111111111,\"#46039f\"],[0.2222222222222222,\"#7201a8\"],[0.3333333333333333,\"#9c179e\"],[0.4444444444444444,\"#bd3786\"],[0.5555555555555556,\"#d8576b\"],[0.6666666666666666,\"#ed7953\"],[0.7777777777777778,\"#fb9f3a\"],[0.8888888888888888,\"#fdca26\"],[1.0,\"#f0f921\"]],\"type\":\"surface\"}],\"table\":[{\"cells\":{\"fill\":{\"color\":\"#EBF0F8\"},\"line\":{\"color\":\"white\"}},\"header\":{\"fill\":{\"color\":\"#C8D4E3\"},\"line\":{\"color\":\"white\"}},\"type\":\"table\"}]},\"layout\":{\"annotationdefaults\":{\"arrowcolor\":\"#2a3f5f\",\"arrowhead\":0,\"arrowwidth\":1},\"autotypenumbers\":\"strict\",\"coloraxis\":{\"colorbar\":{\"outlinewidth\":0,\"ticks\":\"\"}},\"colorscale\":{\"diverging\":[[0,\"#8e0152\"],[0.1,\"#c51b7d\"],[0.2,\"#de77ae\"],[0.3,\"#f1b6da\"],[0.4,\"#fde0ef\"],[0.5,\"#f7f7f7\"],[0.6,\"#e6f5d0\"],[0.7,\"#b8e186\"],[0.8,\"#7fbc41\"],[0.9,\"#4d9221\"],[1,\"#276419\"]],\"sequential\":[[0.0,\"#0d0887\"],[0.1111111111111111,\"#46039f\"],[0.2222222222222222,\"#7201a8\"],[0.3333333333333333,\"#9c179e\"],[0.4444444444444444,\"#bd3786\"],[0.5555555555555556,\"#d8576b\"],[0.6666666666666666,\"#ed7953\"],[0.7777777777777778,\"#fb9f3a\"],[0.8888888888888888,\"#fdca26\"],[1.0,\"#f0f921\"]],\"sequentialminus\":[[0.0,\"#0d0887\"],[0.1111111111111111,\"#46039f\"],[0.2222222222222222,\"#7201a8\"],[0.3333333333333333,\"#9c179e\"],[0.4444444444444444,\"#bd3786\"],[0.5555555555555556,\"#d8576b\"],[0.6666666666666666,\"#ed7953\"],[0.7777777777777778,\"#fb9f3a\"],[0.8888888888888888,\"#fdca26\"],[1.0,\"#f0f921\"]]},\"colorway\":[\"#636efa\",\"#EF553B\",\"#00cc96\",\"#ab63fa\",\"#FFA15A\",\"#19d3f3\",\"#FF6692\",\"#B6E880\",\"#FF97FF\",\"#FECB52\"],\"font\":{\"color\":\"#2a3f5f\"},\"geo\":{\"bgcolor\":\"white\",\"lakecolor\":\"white\",\"landcolor\":\"#E5ECF6\",\"showlakes\":true,\"showland\":true,\"subunitcolor\":\"white\"},\"hoverlabel\":{\"align\":\"left\"},\"hovermode\":\"closest\",\"mapbox\":{\"style\":\"light\"},\"paper_bgcolor\":\"white\",\"plot_bgcolor\":\"#E5ECF6\",\"polar\":{\"angularaxis\":{\"gridcolor\":\"white\",\"linecolor\":\"white\",\"ticks\":\"\"},\"bgcolor\":\"#E5ECF6\",\"radialaxis\":{\"gridcolor\":\"white\",\"linecolor\":\"white\",\"ticks\":\"\"}},\"scene\":{\"xaxis\":{\"backgroundcolor\":\"#E5ECF6\",\"gridcolor\":\"white\",\"gridwidth\":2,\"linecolor\":\"white\",\"showbackground\":true,\"ticks\":\"\",\"zerolinecolor\":\"white\"},\"yaxis\":{\"backgroundcolor\":\"#E5ECF6\",\"gridcolor\":\"white\",\"gridwidth\":2,\"linecolor\":\"white\",\"showbackground\":true,\"ticks\":\"\",\"zerolinecolor\":\"white\"},\"zaxis\":{\"backgroundcolor\":\"#E5ECF6\",\"gridcolor\":\"white\",\"gridwidth\":2,\"linecolor\":\"white\",\"showbackground\":true,\"ticks\":\"\",\"zerolinecolor\":\"white\"}},\"shapedefaults\":{\"line\":{\"color\":\"#2a3f5f\"}},\"ternary\":{\"aaxis\":{\"gridcolor\":\"white\",\"linecolor\":\"white\",\"ticks\":\"\"},\"baxis\":{\"gridcolor\":\"white\",\"linecolor\":\"white\",\"ticks\":\"\"},\"bgcolor\":\"#E5ECF6\",\"caxis\":{\"gridcolor\":\"white\",\"linecolor\":\"white\",\"ticks\":\"\"}},\"title\":{\"x\":0.05},\"xaxis\":{\"automargin\":true,\"gridcolor\":\"white\",\"linecolor\":\"white\",\"ticks\":\"\",\"title\":{\"standoff\":15},\"zerolinecolor\":\"white\",\"zerolinewidth\":2},\"yaxis\":{\"automargin\":true,\"gridcolor\":\"white\",\"linecolor\":\"white\",\"ticks\":\"\",\"title\":{\"standoff\":15},\"zerolinecolor\":\"white\",\"zerolinewidth\":2}}},\"title\":{\"font\":{\"color\":\"#4D5663\"}}},                        {\"showLink\": true, \"linkText\": \"Export to plot.ly\", \"plotlyServerURL\": \"https://plot.ly\", \"responsive\": true}                    ).then(function(){\n",
       "                            \n",
       "var gd = document.getElementById('6133194e-f0e2-4ab7-919c-951ee797f20a');\n",
       "var x = new MutationObserver(function (mutations, observer) {{\n",
       "        var display = window.getComputedStyle(gd).display;\n",
       "        if (!display || display === 'none') {{\n",
       "            console.log([gd, 'removed!']);\n",
       "            Plotly.purge(gd);\n",
       "            observer.disconnect();\n",
       "        }}\n",
       "}});\n",
       "\n",
       "// Listen for the removal of the full notebook cells\n",
       "var notebookContainer = gd.closest('#notebook-container');\n",
       "if (notebookContainer) {{\n",
       "    x.observe(notebookContainer, {childList: true});\n",
       "}}\n",
       "\n",
       "// Listen for the clearing of the current output cell\n",
       "var outputEl = gd.closest('.output');\n",
       "if (outputEl) {{\n",
       "    x.observe(outputEl, {childList: true});\n",
       "}}\n",
       "\n",
       "                        })                };                });            </script>        </div>"
      ]
     },
     "metadata": {},
     "output_type": "display_data"
    }
   ],
   "source": [
    "tip.iplot(kind='bubble3d',x ='total_bill',y = 'tip',z='size',size= 'tip')"
   ]
  },
  {
   "cell_type": "code",
   "execution_count": null,
   "metadata": {},
   "outputs": [
    {
     "data": {
      "text/html": [
       "<div>\n",
       "<style scoped>\n",
       "    .dataframe tbody tr th:only-of-type {\n",
       "        vertical-align: middle;\n",
       "    }\n",
       "\n",
       "    .dataframe tbody tr th {\n",
       "        vertical-align: top;\n",
       "    }\n",
       "\n",
       "    .dataframe thead th {\n",
       "        text-align: right;\n",
       "    }\n",
       "</style>\n",
       "<table border=\"1\" class=\"dataframe\">\n",
       "  <thead>\n",
       "    <tr style=\"text-align: right;\">\n",
       "      <th></th>\n",
       "      <th>total_bill</th>\n",
       "      <th>tip</th>\n",
       "      <th>sex</th>\n",
       "      <th>smoker</th>\n",
       "      <th>day</th>\n",
       "      <th>time</th>\n",
       "      <th>size</th>\n",
       "    </tr>\n",
       "  </thead>\n",
       "  <tbody>\n",
       "    <tr>\n",
       "      <th>0</th>\n",
       "      <td>16.99</td>\n",
       "      <td>1.01</td>\n",
       "      <td>Female</td>\n",
       "      <td>No</td>\n",
       "      <td>Sun</td>\n",
       "      <td>Dinner</td>\n",
       "      <td>2</td>\n",
       "    </tr>\n",
       "    <tr>\n",
       "      <th>1</th>\n",
       "      <td>10.34</td>\n",
       "      <td>1.66</td>\n",
       "      <td>Male</td>\n",
       "      <td>No</td>\n",
       "      <td>Sun</td>\n",
       "      <td>Dinner</td>\n",
       "      <td>3</td>\n",
       "    </tr>\n",
       "    <tr>\n",
       "      <th>2</th>\n",
       "      <td>21.01</td>\n",
       "      <td>3.50</td>\n",
       "      <td>Male</td>\n",
       "      <td>No</td>\n",
       "      <td>Sun</td>\n",
       "      <td>Dinner</td>\n",
       "      <td>3</td>\n",
       "    </tr>\n",
       "    <tr>\n",
       "      <th>3</th>\n",
       "      <td>23.68</td>\n",
       "      <td>3.31</td>\n",
       "      <td>Male</td>\n",
       "      <td>No</td>\n",
       "      <td>Sun</td>\n",
       "      <td>Dinner</td>\n",
       "      <td>2</td>\n",
       "    </tr>\n",
       "    <tr>\n",
       "      <th>4</th>\n",
       "      <td>24.59</td>\n",
       "      <td>3.61</td>\n",
       "      <td>Female</td>\n",
       "      <td>No</td>\n",
       "      <td>Sun</td>\n",
       "      <td>Dinner</td>\n",
       "      <td>4</td>\n",
       "    </tr>\n",
       "    <tr>\n",
       "      <th>...</th>\n",
       "      <td>...</td>\n",
       "      <td>...</td>\n",
       "      <td>...</td>\n",
       "      <td>...</td>\n",
       "      <td>...</td>\n",
       "      <td>...</td>\n",
       "      <td>...</td>\n",
       "    </tr>\n",
       "    <tr>\n",
       "      <th>239</th>\n",
       "      <td>29.03</td>\n",
       "      <td>5.92</td>\n",
       "      <td>Male</td>\n",
       "      <td>No</td>\n",
       "      <td>Sat</td>\n",
       "      <td>Dinner</td>\n",
       "      <td>3</td>\n",
       "    </tr>\n",
       "    <tr>\n",
       "      <th>240</th>\n",
       "      <td>27.18</td>\n",
       "      <td>2.00</td>\n",
       "      <td>Female</td>\n",
       "      <td>Yes</td>\n",
       "      <td>Sat</td>\n",
       "      <td>Dinner</td>\n",
       "      <td>2</td>\n",
       "    </tr>\n",
       "    <tr>\n",
       "      <th>241</th>\n",
       "      <td>22.67</td>\n",
       "      <td>2.00</td>\n",
       "      <td>Male</td>\n",
       "      <td>Yes</td>\n",
       "      <td>Sat</td>\n",
       "      <td>Dinner</td>\n",
       "      <td>2</td>\n",
       "    </tr>\n",
       "    <tr>\n",
       "      <th>242</th>\n",
       "      <td>17.82</td>\n",
       "      <td>1.75</td>\n",
       "      <td>Male</td>\n",
       "      <td>No</td>\n",
       "      <td>Sat</td>\n",
       "      <td>Dinner</td>\n",
       "      <td>2</td>\n",
       "    </tr>\n",
       "    <tr>\n",
       "      <th>243</th>\n",
       "      <td>18.78</td>\n",
       "      <td>3.00</td>\n",
       "      <td>Female</td>\n",
       "      <td>No</td>\n",
       "      <td>Thur</td>\n",
       "      <td>Dinner</td>\n",
       "      <td>2</td>\n",
       "    </tr>\n",
       "  </tbody>\n",
       "</table>\n",
       "<p>244 rows × 7 columns</p>\n",
       "</div>"
      ],
      "text/plain": [
       "     total_bill   tip     sex smoker   day    time  size\n",
       "0         16.99  1.01  Female     No   Sun  Dinner     2\n",
       "1         10.34  1.66    Male     No   Sun  Dinner     3\n",
       "2         21.01  3.50    Male     No   Sun  Dinner     3\n",
       "3         23.68  3.31    Male     No   Sun  Dinner     2\n",
       "4         24.59  3.61  Female     No   Sun  Dinner     4\n",
       "..          ...   ...     ...    ...   ...     ...   ...\n",
       "239       29.03  5.92    Male     No   Sat  Dinner     3\n",
       "240       27.18  2.00  Female    Yes   Sat  Dinner     2\n",
       "241       22.67  2.00    Male    Yes   Sat  Dinner     2\n",
       "242       17.82  1.75    Male     No   Sat  Dinner     2\n",
       "243       18.78  3.00  Female     No  Thur  Dinner     2\n",
       "\n",
       "[244 rows x 7 columns]"
      ]
     },
     "execution_count": 27,
     "metadata": {},
     "output_type": "execute_result"
    }
   ],
   "source": [
    "tip"
   ]
  },
  {
   "cell_type": "code",
   "execution_count": null,
   "metadata": {},
   "outputs": [
    {
     "data": {
      "text/plain": [
       "<seaborn.axisgrid.FacetGrid at 0x25771630580>"
      ]
     },
     "execution_count": 28,
     "metadata": {},
     "output_type": "execute_result"
    },
    {
     "data": {
      "image/png": "[encoded data removed]",
      "text/plain": [
       "<Figure size 500x500 with 1 Axes>"
      ]
     },
     "metadata": {},
     "output_type": "display_data"
    }
   ],
   "source": [
    "sns.relplot(x='total_bill',y = 'tip',data= tip)"
   ]
  },
  {
   "cell_type": "code",
   "execution_count": null,
   "metadata": {},
   "outputs": [
    {
     "data": {
      "text/plain": [
       "<seaborn.axisgrid.FacetGrid at 0x2576e786f50>"
      ]
     },
     "execution_count": 29,
     "metadata": {},
     "output_type": "execute_result"
    },
    {
     "data": {
      "image/png": "[encoded data removed]",
      "text/plain": [
       "<Figure size 572.125x500 with 1 Axes>"
      ]
     },
     "metadata": {},
     "output_type": "display_data"
    }
   ],
   "source": [
    "sns.relplot(x='total_bill',y = 'tip',data= tip,hue='smoker')"
   ]
  },
  {
   "cell_type": "code",
   "execution_count": null,
   "metadata": {},
   "outputs": [
    {
     "data": {
      "text/plain": [
       "<seaborn.axisgrid.FacetGrid at 0x257686b78b0>"
      ]
     },
     "execution_count": 30,
     "metadata": {},
     "output_type": "execute_result"
    },
    {
     "data": {
      "image/png": "[encoded data removed]",
      "text/plain": [
       "<Figure size 558.875x500 with 1 Axes>"
      ]
     },
     "metadata": {},
     "output_type": "display_data"
    }
   ],
   "source": [
    "sns.relplot(x='total_bill',y = 'tip',data= tip,style='size')\n"
   ]
  },
  {
   "cell_type": "code",
   "execution_count": null,
   "metadata": {},
   "outputs": [
    {
     "data": {
      "text/plain": [
       "<seaborn.axisgrid.FacetGrid at 0x25773a7ead0>"
      ]
     },
     "execution_count": 31,
     "metadata": {},
     "output_type": "execute_result"
    },
    {
     "data": {
      "image/png": "[encoded data removed]",
      "text/plain": [
       "<Figure size 596.375x500 with 1 Axes>"
      ]
     },
     "metadata": {},
     "output_type": "display_data"
    }
   ],
   "source": [
    "sns.relplot(x='total_bill',y = 'tip',data= tip,hue='smoker',style='time')\n"
   ]
  },
  {
   "cell_type": "code",
   "execution_count": null,
   "metadata": {},
   "outputs": [
    {
     "ename": "NameError",
     "evalue": "name 'iris' is not defined",
     "output_type": "error",
     "traceback": [
      "\u001b[1;31m---------------------------------------------------------------------------\u001b[0m",
      "\u001b[1;31mNameError\u001b[0m                                 Traceback (most recent call last)",
      "Cell \u001b[1;32mIn [35], line 1\u001b[0m\n\u001b[1;32m----> 1\u001b[0m iris\u001b[39m.\u001b[39mplot(figsize \u001b[39m=\u001b[39m (\u001b[39m20\u001b[39m,\u001b[39m10\u001b[39m),title \u001b[39m=\u001b[39m \u001b[39m\"\u001b[39m\u001b[39miris plot graph\u001b[39m\u001b[39m\"\u001b[39m)\n",
      "\u001b[1;31mNameError\u001b[0m: name 'iris' is not defined"
     ]
    }
   ],
   "source": [
    "iris.plot(figsize = (20,10),title = \"iris plot graph\")"
   ]
  },
  {
   "cell_type": "code",
   "execution_count": null,
   "metadata": {},
   "outputs": [
    {
     "ename": "NameError",
     "evalue": "name 'iris' is not defined",
     "output_type": "error",
     "traceback": [
      "\u001b[1;31m---------------------------------------------------------------------------\u001b[0m",
      "\u001b[1;31mNameError\u001b[0m                                 Traceback (most recent call last)",
      "Cell \u001b[1;32mIn [37], line 1\u001b[0m\n\u001b[1;32m----> 1\u001b[0m iris\u001b[39m.\u001b[39miloc[\u001b[39m0\u001b[39m,[\u001b[39m0\u001b[39m,\u001b[39m1\u001b[39m,\u001b[39m2\u001b[39m,\u001b[39m3\u001b[39m]]\u001b[39m.\u001b[39mplot(kind\u001b[39m=\u001b[39m\u001b[39m'\u001b[39m\u001b[39mbar\u001b[39m\u001b[39m'\u001b[39m)\n",
      "\u001b[1;31mNameError\u001b[0m: name 'iris' is not defined"
     ]
    }
   ],
   "source": [
    "iris.iloc[0,[0,1,2,3]].plot(kind='bar')"
   ]
  },
  {
   "cell_type": "code",
   "execution_count": null,
   "metadata": {},
   "outputs": [
    {
     "ename": "NameError",
     "evalue": "name 'iris' is not defined",
     "output_type": "error",
     "traceback": [
      "\u001b[1;31m---------------------------------------------------------------------------\u001b[0m",
      "\u001b[1;31mNameError\u001b[0m                                 Traceback (most recent call last)",
      "Cell \u001b[1;32mIn [38], line 1\u001b[0m\n\u001b[1;32m----> 1\u001b[0m iris[\u001b[39m'\u001b[39m\u001b[39msepal_lenght\u001b[39m\u001b[39m'\u001b[39m]\u001b[39m.\u001b[39mhist()\n",
      "\u001b[1;31mNameError\u001b[0m: name 'iris' is not defined"
     ]
    }
   ],
   "source": [
    "iris['sepal_lenght'].hist()"
   ]
  },
  {
   "cell_type": "code",
   "execution_count": null,
   "metadata": {},
   "outputs": [
    {
     "ename": "NameError",
     "evalue": "name 'data' is not defined",
     "output_type": "error",
     "traceback": [
      "\u001b[1;31m---------------------------------------------------------------------------\u001b[0m",
      "\u001b[1;31mNameError\u001b[0m                                 Traceback (most recent call last)",
      "Cell \u001b[1;32mIn [39], line 1\u001b[0m\n\u001b[1;32m----> 1\u001b[0m data\n",
      "\u001b[1;31mNameError\u001b[0m: name 'data' is not defined"
     ]
    }
   ],
   "source": [
    "data = iris.iloc[0,[1,2,3]]"
   ]
  },
  {
   "cell_type": "code",
   "execution_count": null,
   "metadata": {},
   "outputs": [
    {
     "ename": "NameError",
     "evalue": "name 'data' is not defined",
     "output_type": "error",
     "traceback": [
      "\u001b[1;31m---------------------------------------------------------------------------\u001b[0m",
      "\u001b[1;31mNameError\u001b[0m                                 Traceback (most recent call last)",
      "Cell \u001b[1;32mIn [40], line 1\u001b[0m\n\u001b[1;32m----> 1\u001b[0m data\n",
      "\u001b[1;31mNameError\u001b[0m: name 'data' is not defined"
     ]
    }
   ],
   "source": [
    "data"
   ]
  },
  {
   "cell_type": "code",
   "execution_count": null,
   "metadata": {},
   "outputs": [
    {
     "ename": "NameError",
     "evalue": "name 'data' is not defined",
     "output_type": "error",
     "traceback": [
      "\u001b[1;31m---------------------------------------------------------------------------\u001b[0m",
      "\u001b[1;31mNameError\u001b[0m                                 Traceback (most recent call last)",
      "Cell \u001b[1;32mIn [41], line 1\u001b[0m\n\u001b[1;32m----> 1\u001b[0m data\u001b[39m.\u001b[39mplot\u001b[39m.\u001b[39mpie()\n",
      "\u001b[1;31mNameError\u001b[0m: name 'data' is not defined"
     ]
    }
   ],
   "source": [
    "data.plot.pie()"
   ]
  },
  {
   "attachments": {},
   "cell_type": "markdown",
   "metadata": {},
   "source": [
    "#### https://seaborn.pydata.org/       (for seaborn docuentation)"
   ]
  },
  {
   "cell_type": "markdown",
   "metadata": {},
   "source": []
  },
  {
   "cell_type": "code",
   "execution_count": null,
   "metadata": {},
   "outputs": [],
   "source": [
    "a = data.plot.pie()   # to save this graph\n",
    "b = a.get_figure()\n",
    "b.savefig('test9.png')\n"
   ]
  },
  {
   "cell_type": "code",
   "execution_count": null,
   "metadata": {},
   "outputs": [],
   "source": [
    "ls"
   ]
  },
  {
   "cell_type": "code",
   "execution_count": null,
   "metadata": {},
   "outputs": [
    {
     "ename": "NameError",
     "evalue": "name 'iris' is not defined",
     "output_type": "error",
     "traceback": [
      "\u001b[1;31m---------------------------------------------------------------------------\u001b[0m",
      "\u001b[1;31mNameError\u001b[0m                                 Traceback (most recent call last)",
      "Cell \u001b[1;32mIn [42], line 1\u001b[0m\n\u001b[1;32m----> 1\u001b[0m iris\u001b[39m.\u001b[39mplot\u001b[39m.\u001b[39mhexbin(x\u001b[39m=\u001b[39m\u001b[39m'\u001b[39m\u001b[39msepal_lenght\u001b[39m\u001b[39m'\u001b[39m,y \u001b[39m=\u001b[39m \u001b[39m'\u001b[39m\u001b[39msepal_width\u001b[39m\u001b[39m'\u001b[39m,gridsize\u001b[39m=\u001b[39m\u001b[39m5\u001b[39m)\n",
      "\u001b[1;31mNameError\u001b[0m: name 'iris' is not defined"
     ]
    }
   ],
   "source": [
    "iris.plot.hexbin(x='sepal_lenght',y = 'sepal_width',gridsize=5)"
   ]
  },
  {
   "cell_type": "code",
   "execution_count": null,
   "metadata": {},
   "outputs": [
    {
     "ename": "NameError",
     "evalue": "name 'iris' is not defined",
     "output_type": "error",
     "traceback": [
      "\u001b[1;31m---------------------------------------------------------------------------\u001b[0m",
      "\u001b[1;31mNameError\u001b[0m                                 Traceback (most recent call last)",
      "Cell \u001b[1;32mIn [43], line 1\u001b[0m\n\u001b[1;32m----> 1\u001b[0m iris\u001b[39m.\u001b[39mplot\u001b[39m.\u001b[39mscatter(x\u001b[39m=\u001b[39m\u001b[39m'\u001b[39m\u001b[39msepal_lenght\u001b[39m\u001b[39m'\u001b[39m,y \u001b[39m=\u001b[39m \u001b[39m'\u001b[39m\u001b[39msepal_width\u001b[39m\u001b[39m'\u001b[39m,s \u001b[39m=\u001b[39m \u001b[39m300\u001b[39m)\n",
      "\u001b[1;31mNameError\u001b[0m: name 'iris' is not defined"
     ]
    }
   ],
   "source": [
    "iris.plot.scatter(x='sepal_lenght',y = 'sepal_width',s = 300)"
   ]
  },
  {
   "attachments": {},
   "cell_type": "markdown",
   "metadata": {},
   "source": [
    "#### https://plotly.com/python/plotly-express/      # for graph\n",
    "#### https://docs.bokeh.org/en/latest/"
   ]
  },
  {
   "cell_type": "code",
   "execution_count": null,
   "metadata": {},
   "outputs": [
    {
     "name": "stdout",
     "output_type": "stream",
     "text": [
      "Collecting bokehNote: you may need to restart the kernel to use updated packages.\n"
     ]
    },
    {
     "name": "stderr",
     "output_type": "stream",
     "text": [
      "  WARNING: The script bokeh.exe is installed in 'c:\\Users\\Admin\\AppData\\Local\\Programs\\Python\\Python310\\Scripts' which is not on PATH.\n",
      "  Consider adding this directory to PATH or, if you prefer to suppress this warning, use --no-warn-script-location.\n"
     ]
    },
    {
     "name": "stdout",
     "output_type": "stream",
     "text": [
      "\n",
      "  Downloading bokeh-3.0.3-py3-none-any.whl (16.5 MB)\n",
      "     ---------------------------------------- 16.5/16.5 MB 2.5 MB/s eta 0:00:00\n",
      "Requirement already satisfied: Jinja2>=2.9 in c:\\users\\admin\\appdata\\local\\programs\\python\\python310\\lib\\site-packages (from bokeh) (3.1.2)\n",
      "Requirement already satisfied: pandas>=1.2 in c:\\users\\admin\\appdata\\local\\programs\\python\\python310\\lib\\site-packages (from bokeh) (1.5.3)\n",
      "Requirement already satisfied: numpy>=1.11.3 in c:\\users\\admin\\appdata\\local\\programs\\python\\python310\\lib\\site-packages (from bokeh) (1.24.1)\n",
      "Requirement already satisfied: tornado>=5.1 in c:\\users\\admin\\appdata\\local\\programs\\python\\python310\\lib\\site-packages (from bokeh) (6.2)\n",
      "Collecting xyzservices>=2021.09.1\n",
      "  Downloading xyzservices-2022.9.0-py3-none-any.whl (55 kB)\n",
      "     -------------------------------------- 55.9/55.9 kB 724.1 kB/s eta 0:00:00\n",
      "Requirement already satisfied: PyYAML>=3.10 in c:\\users\\admin\\appdata\\local\\programs\\python\\python310\\lib\\site-packages (from bokeh) (6.0)\n",
      "Requirement already satisfied: contourpy>=1 in c:\\users\\admin\\appdata\\local\\programs\\python\\python310\\lib\\site-packages (from bokeh) (1.0.7)\n",
      "Requirement already satisfied: packaging>=16.8 in c:\\users\\admin\\appdata\\local\\programs\\python\\python310\\lib\\site-packages (from bokeh) (21.3)\n",
      "Requirement already satisfied: pillow>=7.1.0 in c:\\users\\admin\\appdata\\local\\programs\\python\\python310\\lib\\site-packages (from bokeh) (9.4.0)\n",
      "Requirement already satisfied: MarkupSafe>=2.0 in c:\\users\\admin\\appdata\\local\\programs\\python\\python310\\lib\\site-packages (from Jinja2>=2.9->bokeh) (2.1.2)\n",
      "Requirement already satisfied: pyparsing!=3.0.5,>=2.0.2 in c:\\users\\admin\\appdata\\local\\programs\\python\\python310\\lib\\site-packages (from packaging>=16.8->bokeh) (3.0.9)\n",
      "Requirement already satisfied: pytz>=2020.1 in c:\\users\\admin\\appdata\\local\\programs\\python\\python310\\lib\\site-packages (from pandas>=1.2->bokeh) (2022.7.1)\n",
      "Requirement already satisfied: python-dateutil>=2.8.1 in c:\\users\\admin\\appdata\\local\\programs\\python\\python310\\lib\\site-packages (from pandas>=1.2->bokeh) (2.8.2)\n",
      "Requirement already satisfied: six>=1.5 in c:\\users\\admin\\appdata\\local\\programs\\python\\python310\\lib\\site-packages (from python-dateutil>=2.8.1->pandas>=1.2->bokeh) (1.16.0)\n",
      "Installing collected packages: xyzservices, bokeh\n",
      "Successfully installed bokeh-3.0.3 xyzservices-2022.9.0\n"
     ]
    }
   ],
   "source": [
    "pip install bokeh"
   ]
  },
  {
   "cell_type": "code",
   "execution_count": null,
   "metadata": {},
   "outputs": [
    {
     "name": "stdout",
     "output_type": "stream",
     "text": [
      "Collecting geopandasNote: you may need to restart the kernel to use updated packages.\n",
      "\n",
      "  Downloading geopandas-0.12.2-py3-none-any.whl (1.1 MB)\n",
      "     ---------------------------------------- 1.1/1.1 MB 2.7 MB/s eta 0:00:00\n",
      "Collecting fiona>=1.8\n",
      "  Downloading Fiona-1.9.0-cp310-cp310-win_amd64.whl (21.9 MB)\n",
      "     ---------------------------------------- 21.9/21.9 MB 4.5 MB/s eta 0:00:00\n",
      "Requirement already satisfied: pandas>=1.0.0 in c:\\users\\admin\\appdata\\local\\programs\\python\\python310\\lib\\site-packages (from geopandas) (1.5.3)\n",
      "Collecting shapely>=1.7\n",
      "  Downloading shapely-2.0.1-cp310-cp310-win_amd64.whl (1.4 MB)\n",
      "     ---------------------------------------- 1.4/1.4 MB 3.9 MB/s eta 0:00:00\n",
      "Requirement already satisfied: packaging in c:\\users\\admin\\appdata\\local\\programs\\python\\python310\\lib\\site-packages (from geopandas) (21.3)\n",
      "Collecting pyproj>=2.6.1.post1\n",
      "  Downloading pyproj-3.4.1-cp310-cp310-win_amd64.whl (4.8 MB)\n",
      "     ---------------------------------------- 4.8/4.8 MB 4.5 MB/s eta 0:00:00\n",
      "Requirement already satisfied: certifi in c:\\users\\admin\\appdata\\local\\programs\\python\\python310\\lib\\site-packages (from fiona>=1.8->geopandas) (2022.12.7)\n",
      "Collecting click~=8.0\n",
      "  Downloading click-8.1.3-py3-none-any.whl (96 kB)\n",
      "     -------------------------------------- 96.6/96.6 kB 690.8 kB/s eta 0:00:00\n",
      "Collecting click-plugins>=1.0\n",
      "  Downloading click_plugins-1.1.1-py2.py3-none-any.whl (7.5 kB)\n",
      "Collecting cligj>=0.5\n",
      "  Downloading cligj-0.7.2-py3-none-any.whl (7.1 kB)\n",
      "Collecting munch>=2.3.2\n",
      "  Downloading munch-2.5.0-py2.py3-none-any.whl (10 kB)\n",
      "Requirement already satisfied: attrs>=19.2.0 in c:\\users\\admin\\appdata\\local\\programs\\python\\python310\\lib\\site-packages (from fiona>=1.8->geopandas) (22.2.0)\n",
      "Requirement already satisfied: python-dateutil>=2.8.1 in c:\\users\\admin\\appdata\\local\\programs\\python\\python310\\lib\\site-packages (from pandas>=1.0.0->geopandas) (2.8.2)\n",
      "Requirement already satisfied: numpy>=1.21.0 in c:\\users\\admin\\appdata\\local\\programs\\python\\python310\\lib\\site-packages (from pandas>=1.0.0->geopandas) (1.24.1)\n",
      "Requirement already satisfied: pytz>=2020.1 in c:\\users\\admin\\appdata\\local\\programs\\python\\python310\\lib\\site-packages (from pandas>=1.0.0->geopandas) (2022.7.1)\n",
      "Requirement already satisfied: pyparsing!=3.0.5,>=2.0.2 in c:\\users\\admin\\appdata\\local\\programs\\python\\python310\\lib\\site-packages (from packaging->geopandas) (3.0.9)\n",
      "Requirement already satisfied: colorama in c:\\users\\admin\\appdata\\local\\programs\\python\\python310\\lib\\site-packages (from click~=8.0->fiona>=1.8->geopandas) (0.4.5)\n",
      "Requirement already satisfied: six in c:\\users\\admin\\appdata\\local\\programs\\python\\python310\\lib\\site-packages (from munch>=2.3.2->fiona>=1.8->geopandas) (1.16.0)\n",
      "Installing collected packages: shapely, pyproj, munch, click, cligj, click-plugins, fiona, geopandas\n",
      "Successfully installed click-8.1.3 click-plugins-1.1.1 cligj-0.7.2 fiona-1.9.0 geopandas-0.12.2 munch-2.5.0 pyproj-3.4.1 shapely-2.0.1\n"
     ]
    },
    {
     "name": "stderr",
     "output_type": "stream",
     "text": [
      "  WARNING: The script pyproj.exe is installed in 'c:\\Users\\Admin\\AppData\\Local\\Programs\\Python\\Python310\\Scripts' which is not on PATH.\n",
      "  Consider adding this directory to PATH or, if you prefer to suppress this warning, use --no-warn-script-location.\n",
      "  WARNING: The script fio.exe is installed in 'c:\\Users\\Admin\\AppData\\Local\\Programs\\Python\\Python310\\Scripts' which is not on PATH.\n",
      "  Consider adding this directory to PATH or, if you prefer to suppress this warning, use --no-warn-script-location.\n"
     ]
    }
   ],
   "source": [
    "pip install geopandas"
   ]
  },
  {
   "cell_type": "code",
   "execution_count": null,
   "metadata": {},
   "outputs": [],
   "source": [
    "px.data.gapminder"
   ]
  }
 ],
 "metadata": {
  "kernelspec": {
   "display_name": "Python 3",
   "language": "python",
   "name": "python3"
  },
  "language_info": {
   "codemirror_mode": {
    "name": "ipython",
    "version": 3
   },
   "file_extension": ".py",
   "mimetype": "text/x-python",
   "name": "python",
   "nbconvert_exporter": "python",
   "pygments_lexer": "ipython3",
   "version": "3.10.6"
  },
  "orig_nbformat": 4,
  "vscode": {
   "interpreter": {
    "hash": "a42ccb73e7d9bfdf27e036f1d2b8b681e55fc0743cc5586bc2474d4a60f4b886"
   }
  }
 },
 "nbformat": 4,
 "nbformat_minor": 2
}
